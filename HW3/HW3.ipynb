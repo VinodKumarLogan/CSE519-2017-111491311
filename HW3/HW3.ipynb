{
 "cells": [
  {
   "cell_type": "code",
   "execution_count": 1,
   "metadata": {
    "collapsed": true
   },
   "outputs": [],
   "source": [
    "# Importing the required libraries for analysis\n",
    "import pandas as pd\n",
    "import numpy as np\n",
    "import scipy as sp\n",
    "import matplotlib.pyplot as plt\n",
    "import seaborn as sns\n",
    "\n",
    "\n"
   ]
  },
  {
   "cell_type": "code",
   "execution_count": 2,
   "metadata": {},
   "outputs": [
    {
     "data": {
      "text/html": [
       "<div>\n",
       "<style>\n",
       "    .dataframe thead tr:only-child th {\n",
       "        text-align: right;\n",
       "    }\n",
       "\n",
       "    .dataframe thead th {\n",
       "        text-align: left;\n",
       "    }\n",
       "\n",
       "    .dataframe tbody tr th {\n",
       "        vertical-align: top;\n",
       "    }\n",
       "</style>\n",
       "<table border=\"1\" class=\"dataframe\">\n",
       "  <thead>\n",
       "    <tr style=\"text-align: right;\">\n",
       "      <th></th>\n",
       "      <th>parcelid</th>\n",
       "      <th>airconditioningtypeid</th>\n",
       "      <th>architecturalstyletypeid</th>\n",
       "      <th>basementsqft</th>\n",
       "      <th>bathroomcnt</th>\n",
       "      <th>bedroomcnt</th>\n",
       "      <th>buildingclasstypeid</th>\n",
       "      <th>buildingqualitytypeid</th>\n",
       "      <th>calculatedbathnbr</th>\n",
       "      <th>decktypeid</th>\n",
       "      <th>...</th>\n",
       "      <th>numberofstories</th>\n",
       "      <th>fireplaceflag</th>\n",
       "      <th>structuretaxvaluedollarcnt</th>\n",
       "      <th>taxvaluedollarcnt</th>\n",
       "      <th>assessmentyear</th>\n",
       "      <th>landtaxvaluedollarcnt</th>\n",
       "      <th>taxamount</th>\n",
       "      <th>taxdelinquencyflag</th>\n",
       "      <th>taxdelinquencyyear</th>\n",
       "      <th>censustractandblock</th>\n",
       "    </tr>\n",
       "  </thead>\n",
       "  <tbody>\n",
       "    <tr>\n",
       "      <th>0</th>\n",
       "      <td>10754147</td>\n",
       "      <td>NaN</td>\n",
       "      <td>NaN</td>\n",
       "      <td>NaN</td>\n",
       "      <td>0.0</td>\n",
       "      <td>0.0</td>\n",
       "      <td>NaN</td>\n",
       "      <td>NaN</td>\n",
       "      <td>NaN</td>\n",
       "      <td>NaN</td>\n",
       "      <td>...</td>\n",
       "      <td>NaN</td>\n",
       "      <td>NaN</td>\n",
       "      <td>NaN</td>\n",
       "      <td>9.0</td>\n",
       "      <td>2015.0</td>\n",
       "      <td>9.0</td>\n",
       "      <td>NaN</td>\n",
       "      <td>NaN</td>\n",
       "      <td>NaN</td>\n",
       "      <td>NaN</td>\n",
       "    </tr>\n",
       "    <tr>\n",
       "      <th>1</th>\n",
       "      <td>10759547</td>\n",
       "      <td>NaN</td>\n",
       "      <td>NaN</td>\n",
       "      <td>NaN</td>\n",
       "      <td>0.0</td>\n",
       "      <td>0.0</td>\n",
       "      <td>NaN</td>\n",
       "      <td>NaN</td>\n",
       "      <td>NaN</td>\n",
       "      <td>NaN</td>\n",
       "      <td>...</td>\n",
       "      <td>NaN</td>\n",
       "      <td>NaN</td>\n",
       "      <td>NaN</td>\n",
       "      <td>27516.0</td>\n",
       "      <td>2015.0</td>\n",
       "      <td>27516.0</td>\n",
       "      <td>NaN</td>\n",
       "      <td>NaN</td>\n",
       "      <td>NaN</td>\n",
       "      <td>NaN</td>\n",
       "    </tr>\n",
       "    <tr>\n",
       "      <th>2</th>\n",
       "      <td>10843547</td>\n",
       "      <td>NaN</td>\n",
       "      <td>NaN</td>\n",
       "      <td>NaN</td>\n",
       "      <td>0.0</td>\n",
       "      <td>0.0</td>\n",
       "      <td>NaN</td>\n",
       "      <td>NaN</td>\n",
       "      <td>NaN</td>\n",
       "      <td>NaN</td>\n",
       "      <td>...</td>\n",
       "      <td>NaN</td>\n",
       "      <td>NaN</td>\n",
       "      <td>650756.0</td>\n",
       "      <td>1413387.0</td>\n",
       "      <td>2015.0</td>\n",
       "      <td>762631.0</td>\n",
       "      <td>20800.37</td>\n",
       "      <td>NaN</td>\n",
       "      <td>NaN</td>\n",
       "      <td>NaN</td>\n",
       "    </tr>\n",
       "    <tr>\n",
       "      <th>3</th>\n",
       "      <td>10859147</td>\n",
       "      <td>NaN</td>\n",
       "      <td>NaN</td>\n",
       "      <td>NaN</td>\n",
       "      <td>0.0</td>\n",
       "      <td>0.0</td>\n",
       "      <td>3.0</td>\n",
       "      <td>7.0</td>\n",
       "      <td>NaN</td>\n",
       "      <td>NaN</td>\n",
       "      <td>...</td>\n",
       "      <td>1.0</td>\n",
       "      <td>NaN</td>\n",
       "      <td>571346.0</td>\n",
       "      <td>1156834.0</td>\n",
       "      <td>2015.0</td>\n",
       "      <td>585488.0</td>\n",
       "      <td>14557.57</td>\n",
       "      <td>NaN</td>\n",
       "      <td>NaN</td>\n",
       "      <td>NaN</td>\n",
       "    </tr>\n",
       "    <tr>\n",
       "      <th>4</th>\n",
       "      <td>10879947</td>\n",
       "      <td>NaN</td>\n",
       "      <td>NaN</td>\n",
       "      <td>NaN</td>\n",
       "      <td>0.0</td>\n",
       "      <td>0.0</td>\n",
       "      <td>4.0</td>\n",
       "      <td>NaN</td>\n",
       "      <td>NaN</td>\n",
       "      <td>NaN</td>\n",
       "      <td>...</td>\n",
       "      <td>NaN</td>\n",
       "      <td>NaN</td>\n",
       "      <td>193796.0</td>\n",
       "      <td>433491.0</td>\n",
       "      <td>2015.0</td>\n",
       "      <td>239695.0</td>\n",
       "      <td>5725.17</td>\n",
       "      <td>NaN</td>\n",
       "      <td>NaN</td>\n",
       "      <td>NaN</td>\n",
       "    </tr>\n",
       "  </tbody>\n",
       "</table>\n",
       "<p>5 rows × 58 columns</p>\n",
       "</div>"
      ],
      "text/plain": [
       "   parcelid  airconditioningtypeid  architecturalstyletypeid  basementsqft  \\\n",
       "0  10754147                    NaN                       NaN           NaN   \n",
       "1  10759547                    NaN                       NaN           NaN   \n",
       "2  10843547                    NaN                       NaN           NaN   \n",
       "3  10859147                    NaN                       NaN           NaN   \n",
       "4  10879947                    NaN                       NaN           NaN   \n",
       "\n",
       "   bathroomcnt  bedroomcnt  buildingclasstypeid  buildingqualitytypeid  \\\n",
       "0          0.0         0.0                  NaN                    NaN   \n",
       "1          0.0         0.0                  NaN                    NaN   \n",
       "2          0.0         0.0                  NaN                    NaN   \n",
       "3          0.0         0.0                  3.0                    7.0   \n",
       "4          0.0         0.0                  4.0                    NaN   \n",
       "\n",
       "   calculatedbathnbr  decktypeid         ...           numberofstories  \\\n",
       "0                NaN         NaN         ...                       NaN   \n",
       "1                NaN         NaN         ...                       NaN   \n",
       "2                NaN         NaN         ...                       NaN   \n",
       "3                NaN         NaN         ...                       1.0   \n",
       "4                NaN         NaN         ...                       NaN   \n",
       "\n",
       "   fireplaceflag  structuretaxvaluedollarcnt  taxvaluedollarcnt  \\\n",
       "0            NaN                         NaN                9.0   \n",
       "1            NaN                         NaN            27516.0   \n",
       "2            NaN                    650756.0          1413387.0   \n",
       "3            NaN                    571346.0          1156834.0   \n",
       "4            NaN                    193796.0           433491.0   \n",
       "\n",
       "   assessmentyear  landtaxvaluedollarcnt  taxamount  taxdelinquencyflag  \\\n",
       "0          2015.0                    9.0        NaN                 NaN   \n",
       "1          2015.0                27516.0        NaN                 NaN   \n",
       "2          2015.0               762631.0   20800.37                 NaN   \n",
       "3          2015.0               585488.0   14557.57                 NaN   \n",
       "4          2015.0               239695.0    5725.17                 NaN   \n",
       "\n",
       "   taxdelinquencyyear  censustractandblock  \n",
       "0                 NaN                  NaN  \n",
       "1                 NaN                  NaN  \n",
       "2                 NaN                  NaN  \n",
       "3                 NaN                  NaN  \n",
       "4                 NaN                  NaN  \n",
       "\n",
       "[5 rows x 58 columns]"
      ]
     },
     "execution_count": 2,
     "metadata": {},
     "output_type": "execute_result"
    }
   ],
   "source": [
    "# Reading the properties, train and sample submission dataset\n",
    "zillow_properties_data_2016 = pd.read_csv(\"properties_2016.csv\", low_memory=False)\n"
   ]
  },
  {
   "cell_type": "code",
   "execution_count": 3,
   "metadata": {},
   "outputs": [
    {
     "data": {
      "text/html": [
       "<div>\n",
       "<style>\n",
       "    .dataframe thead tr:only-child th {\n",
       "        text-align: right;\n",
       "    }\n",
       "\n",
       "    .dataframe thead th {\n",
       "        text-align: left;\n",
       "    }\n",
       "\n",
       "    .dataframe tbody tr th {\n",
       "        vertical-align: top;\n",
       "    }\n",
       "</style>\n",
       "<table border=\"1\" class=\"dataframe\">\n",
       "  <thead>\n",
       "    <tr style=\"text-align: right;\">\n",
       "      <th></th>\n",
       "      <th>parcelid</th>\n",
       "      <th>airconditioningtypeid</th>\n",
       "      <th>architecturalstyletypeid</th>\n",
       "      <th>basementsqft</th>\n",
       "      <th>bathroomcnt</th>\n",
       "      <th>bedroomcnt</th>\n",
       "      <th>buildingclasstypeid</th>\n",
       "      <th>buildingqualitytypeid</th>\n",
       "      <th>calculatedbathnbr</th>\n",
       "      <th>decktypeid</th>\n",
       "      <th>...</th>\n",
       "      <th>numberofstories</th>\n",
       "      <th>fireplaceflag</th>\n",
       "      <th>structuretaxvaluedollarcnt</th>\n",
       "      <th>taxvaluedollarcnt</th>\n",
       "      <th>assessmentyear</th>\n",
       "      <th>landtaxvaluedollarcnt</th>\n",
       "      <th>taxamount</th>\n",
       "      <th>taxdelinquencyflag</th>\n",
       "      <th>taxdelinquencyyear</th>\n",
       "      <th>censustractandblock</th>\n",
       "    </tr>\n",
       "  </thead>\n",
       "  <tbody>\n",
       "    <tr>\n",
       "      <th>0</th>\n",
       "      <td>10754147</td>\n",
       "      <td>NaN</td>\n",
       "      <td>NaN</td>\n",
       "      <td>NaN</td>\n",
       "      <td>0.0</td>\n",
       "      <td>0.0</td>\n",
       "      <td>NaN</td>\n",
       "      <td>NaN</td>\n",
       "      <td>NaN</td>\n",
       "      <td>NaN</td>\n",
       "      <td>...</td>\n",
       "      <td>NaN</td>\n",
       "      <td>NaN</td>\n",
       "      <td>NaN</td>\n",
       "      <td>9.0</td>\n",
       "      <td>2016.0</td>\n",
       "      <td>9.0</td>\n",
       "      <td>NaN</td>\n",
       "      <td>NaN</td>\n",
       "      <td>NaN</td>\n",
       "      <td>NaN</td>\n",
       "    </tr>\n",
       "    <tr>\n",
       "      <th>1</th>\n",
       "      <td>10759547</td>\n",
       "      <td>NaN</td>\n",
       "      <td>NaN</td>\n",
       "      <td>NaN</td>\n",
       "      <td>0.0</td>\n",
       "      <td>0.0</td>\n",
       "      <td>NaN</td>\n",
       "      <td>NaN</td>\n",
       "      <td>NaN</td>\n",
       "      <td>NaN</td>\n",
       "      <td>...</td>\n",
       "      <td>NaN</td>\n",
       "      <td>NaN</td>\n",
       "      <td>NaN</td>\n",
       "      <td>27516.0</td>\n",
       "      <td>2015.0</td>\n",
       "      <td>27516.0</td>\n",
       "      <td>NaN</td>\n",
       "      <td>NaN</td>\n",
       "      <td>NaN</td>\n",
       "      <td>NaN</td>\n",
       "    </tr>\n",
       "    <tr>\n",
       "      <th>2</th>\n",
       "      <td>10843547</td>\n",
       "      <td>NaN</td>\n",
       "      <td>NaN</td>\n",
       "      <td>NaN</td>\n",
       "      <td>0.0</td>\n",
       "      <td>0.0</td>\n",
       "      <td>5.0</td>\n",
       "      <td>NaN</td>\n",
       "      <td>NaN</td>\n",
       "      <td>NaN</td>\n",
       "      <td>...</td>\n",
       "      <td>1.0</td>\n",
       "      <td>NaN</td>\n",
       "      <td>660680.0</td>\n",
       "      <td>1434941.0</td>\n",
       "      <td>2016.0</td>\n",
       "      <td>774261.0</td>\n",
       "      <td>20800.37</td>\n",
       "      <td>NaN</td>\n",
       "      <td>NaN</td>\n",
       "      <td>NaN</td>\n",
       "    </tr>\n",
       "    <tr>\n",
       "      <th>3</th>\n",
       "      <td>10859147</td>\n",
       "      <td>NaN</td>\n",
       "      <td>NaN</td>\n",
       "      <td>NaN</td>\n",
       "      <td>0.0</td>\n",
       "      <td>0.0</td>\n",
       "      <td>3.0</td>\n",
       "      <td>6.0</td>\n",
       "      <td>NaN</td>\n",
       "      <td>NaN</td>\n",
       "      <td>...</td>\n",
       "      <td>1.0</td>\n",
       "      <td>NaN</td>\n",
       "      <td>580059.0</td>\n",
       "      <td>1174475.0</td>\n",
       "      <td>2016.0</td>\n",
       "      <td>594416.0</td>\n",
       "      <td>14557.57</td>\n",
       "      <td>NaN</td>\n",
       "      <td>NaN</td>\n",
       "      <td>NaN</td>\n",
       "    </tr>\n",
       "    <tr>\n",
       "      <th>4</th>\n",
       "      <td>10879947</td>\n",
       "      <td>NaN</td>\n",
       "      <td>NaN</td>\n",
       "      <td>NaN</td>\n",
       "      <td>0.0</td>\n",
       "      <td>0.0</td>\n",
       "      <td>4.0</td>\n",
       "      <td>NaN</td>\n",
       "      <td>NaN</td>\n",
       "      <td>NaN</td>\n",
       "      <td>...</td>\n",
       "      <td>1.0</td>\n",
       "      <td>NaN</td>\n",
       "      <td>196751.0</td>\n",
       "      <td>440101.0</td>\n",
       "      <td>2016.0</td>\n",
       "      <td>243350.0</td>\n",
       "      <td>5725.17</td>\n",
       "      <td>NaN</td>\n",
       "      <td>NaN</td>\n",
       "      <td>NaN</td>\n",
       "    </tr>\n",
       "  </tbody>\n",
       "</table>\n",
       "<p>5 rows × 58 columns</p>\n",
       "</div>"
      ],
      "text/plain": [
       "   parcelid  airconditioningtypeid  architecturalstyletypeid  basementsqft  \\\n",
       "0  10754147                    NaN                       NaN           NaN   \n",
       "1  10759547                    NaN                       NaN           NaN   \n",
       "2  10843547                    NaN                       NaN           NaN   \n",
       "3  10859147                    NaN                       NaN           NaN   \n",
       "4  10879947                    NaN                       NaN           NaN   \n",
       "\n",
       "   bathroomcnt  bedroomcnt  buildingclasstypeid  buildingqualitytypeid  \\\n",
       "0          0.0         0.0                  NaN                    NaN   \n",
       "1          0.0         0.0                  NaN                    NaN   \n",
       "2          0.0         0.0                  5.0                    NaN   \n",
       "3          0.0         0.0                  3.0                    6.0   \n",
       "4          0.0         0.0                  4.0                    NaN   \n",
       "\n",
       "   calculatedbathnbr  decktypeid         ...           numberofstories  \\\n",
       "0                NaN         NaN         ...                       NaN   \n",
       "1                NaN         NaN         ...                       NaN   \n",
       "2                NaN         NaN         ...                       1.0   \n",
       "3                NaN         NaN         ...                       1.0   \n",
       "4                NaN         NaN         ...                       1.0   \n",
       "\n",
       "   fireplaceflag  structuretaxvaluedollarcnt  taxvaluedollarcnt  \\\n",
       "0            NaN                         NaN                9.0   \n",
       "1            NaN                         NaN            27516.0   \n",
       "2            NaN                    660680.0          1434941.0   \n",
       "3            NaN                    580059.0          1174475.0   \n",
       "4            NaN                    196751.0           440101.0   \n",
       "\n",
       "   assessmentyear  landtaxvaluedollarcnt  taxamount  taxdelinquencyflag  \\\n",
       "0          2016.0                    9.0        NaN                 NaN   \n",
       "1          2015.0                27516.0        NaN                 NaN   \n",
       "2          2016.0               774261.0   20800.37                 NaN   \n",
       "3          2016.0               594416.0   14557.57                 NaN   \n",
       "4          2016.0               243350.0    5725.17                 NaN   \n",
       "\n",
       "   taxdelinquencyyear  censustractandblock  \n",
       "0                 NaN                  NaN  \n",
       "1                 NaN                  NaN  \n",
       "2                 NaN                  NaN  \n",
       "3                 NaN                  NaN  \n",
       "4                 NaN                  NaN  \n",
       "\n",
       "[5 rows x 58 columns]"
      ]
     },
     "execution_count": 3,
     "metadata": {},
     "output_type": "execute_result"
    }
   ],
   "source": [
    "# Reading the properties, train and sample submission dataset\n",
    "zillow_properties_data_2017 = pd.read_csv(\"properties_2017.csv\", low_memory=False)\n",
    "\n"
   ]
  },
  {
   "cell_type": "code",
   "execution_count": 9,
   "metadata": {
    "scrolled": true
   },
   "outputs": [
    {
     "data": {
      "text/html": [
       "<div>\n",
       "<style>\n",
       "    .dataframe thead tr:only-child th {\n",
       "        text-align: right;\n",
       "    }\n",
       "\n",
       "    .dataframe thead th {\n",
       "        text-align: left;\n",
       "    }\n",
       "\n",
       "    .dataframe tbody tr th {\n",
       "        vertical-align: top;\n",
       "    }\n",
       "</style>\n",
       "<table border=\"1\" class=\"dataframe\">\n",
       "  <thead>\n",
       "    <tr style=\"text-align: right;\">\n",
       "      <th></th>\n",
       "      <th>count</th>\n",
       "      <th>mean</th>\n",
       "      <th>std</th>\n",
       "      <th>min</th>\n",
       "      <th>25%</th>\n",
       "      <th>50%</th>\n",
       "      <th>75%</th>\n",
       "      <th>max</th>\n",
       "    </tr>\n",
       "  </thead>\n",
       "  <tbody>\n",
       "    <tr>\n",
       "      <th>parcelid</th>\n",
       "      <td>2985217.0</td>\n",
       "      <td>1.332586e+07</td>\n",
       "      <td>7.909966e+06</td>\n",
       "      <td>1.071172e+07</td>\n",
       "      <td>1.164371e+07</td>\n",
       "      <td>1.254509e+07</td>\n",
       "      <td>1.409712e+07</td>\n",
       "      <td>1.696019e+08</td>\n",
       "    </tr>\n",
       "    <tr>\n",
       "      <th>bathroomcnt</th>\n",
       "      <td>2973755.0</td>\n",
       "      <td>2.209143e+00</td>\n",
       "      <td>1.077754e+00</td>\n",
       "      <td>0.000000e+00</td>\n",
       "      <td>2.000000e+00</td>\n",
       "      <td>2.000000e+00</td>\n",
       "      <td>3.000000e+00</td>\n",
       "      <td>2.000000e+01</td>\n",
       "    </tr>\n",
       "    <tr>\n",
       "      <th>bedroomcnt</th>\n",
       "      <td>2973767.0</td>\n",
       "      <td>3.088949e+00</td>\n",
       "      <td>1.275859e+00</td>\n",
       "      <td>0.000000e+00</td>\n",
       "      <td>2.000000e+00</td>\n",
       "      <td>3.000000e+00</td>\n",
       "      <td>4.000000e+00</td>\n",
       "      <td>2.000000e+01</td>\n",
       "    </tr>\n",
       "    <tr>\n",
       "      <th>calculatedbathnbr</th>\n",
       "      <td>2856305.0</td>\n",
       "      <td>2.299263e+00</td>\n",
       "      <td>1.000736e+00</td>\n",
       "      <td>1.000000e+00</td>\n",
       "      <td>2.000000e+00</td>\n",
       "      <td>2.000000e+00</td>\n",
       "      <td>3.000000e+00</td>\n",
       "      <td>2.000000e+01</td>\n",
       "    </tr>\n",
       "    <tr>\n",
       "      <th>calculatedfinishedsquarefeet</th>\n",
       "      <td>2929652.0</td>\n",
       "      <td>1.827162e+03</td>\n",
       "      <td>1.819780e+03</td>\n",
       "      <td>1.000000e+00</td>\n",
       "      <td>1.213000e+03</td>\n",
       "      <td>1.572000e+03</td>\n",
       "      <td>2.136000e+03</td>\n",
       "      <td>9.525760e+05</td>\n",
       "    </tr>\n",
       "    <tr>\n",
       "      <th>finishedsquarefeet12</th>\n",
       "      <td>2709184.0</td>\n",
       "      <td>1.760001e+03</td>\n",
       "      <td>9.710610e+02</td>\n",
       "      <td>1.000000e+00</td>\n",
       "      <td>1.196000e+03</td>\n",
       "      <td>1.539000e+03</td>\n",
       "      <td>2.070000e+03</td>\n",
       "      <td>2.903450e+05</td>\n",
       "    </tr>\n",
       "    <tr>\n",
       "      <th>fips</th>\n",
       "      <td>2973780.0</td>\n",
       "      <td>6.048032e+03</td>\n",
       "      <td>2.023278e+01</td>\n",
       "      <td>6.037000e+03</td>\n",
       "      <td>6.037000e+03</td>\n",
       "      <td>6.037000e+03</td>\n",
       "      <td>6.059000e+03</td>\n",
       "      <td>6.111000e+03</td>\n",
       "    </tr>\n",
       "    <tr>\n",
       "      <th>fullbathcnt</th>\n",
       "      <td>2856305.0</td>\n",
       "      <td>2.244165e+00</td>\n",
       "      <td>9.912054e-01</td>\n",
       "      <td>1.000000e+00</td>\n",
       "      <td>2.000000e+00</td>\n",
       "      <td>2.000000e+00</td>\n",
       "      <td>3.000000e+00</td>\n",
       "      <td>2.000000e+01</td>\n",
       "    </tr>\n",
       "    <tr>\n",
       "      <th>latitude</th>\n",
       "      <td>2973780.0</td>\n",
       "      <td>3.400147e+07</td>\n",
       "      <td>2.433812e+05</td>\n",
       "      <td>3.332439e+07</td>\n",
       "      <td>3.382768e+07</td>\n",
       "      <td>3.400825e+07</td>\n",
       "      <td>3.416186e+07</td>\n",
       "      <td>3.481965e+07</td>\n",
       "    </tr>\n",
       "    <tr>\n",
       "      <th>longitude</th>\n",
       "      <td>2973780.0</td>\n",
       "      <td>-1.182019e+08</td>\n",
       "      <td>3.453171e+05</td>\n",
       "      <td>-1.194758e+08</td>\n",
       "      <td>-1.183930e+08</td>\n",
       "      <td>-1.181725e+08</td>\n",
       "      <td>-1.179495e+08</td>\n",
       "      <td>-1.175543e+08</td>\n",
       "    </tr>\n",
       "    <tr>\n",
       "      <th>lotsizesquarefeet</th>\n",
       "      <td>2709118.0</td>\n",
       "      <td>2.282281e+04</td>\n",
       "      <td>3.375924e+05</td>\n",
       "      <td>1.000000e+02</td>\n",
       "      <td>5.688000e+03</td>\n",
       "      <td>7.000000e+03</td>\n",
       "      <td>9.898000e+03</td>\n",
       "      <td>3.282638e+08</td>\n",
       "    </tr>\n",
       "    <tr>\n",
       "      <th>propertylandusetypeid</th>\n",
       "      <td>2973780.0</td>\n",
       "      <td>2.600484e+02</td>\n",
       "      <td>1.590817e+01</td>\n",
       "      <td>3.100000e+01</td>\n",
       "      <td>2.610000e+02</td>\n",
       "      <td>2.610000e+02</td>\n",
       "      <td>2.610000e+02</td>\n",
       "      <td>2.750000e+02</td>\n",
       "    </tr>\n",
       "    <tr>\n",
       "      <th>rawcensustractandblock</th>\n",
       "      <td>2973780.0</td>\n",
       "      <td>6.048345e+07</td>\n",
       "      <td>2.008117e+05</td>\n",
       "      <td>6.037101e+07</td>\n",
       "      <td>6.037320e+07</td>\n",
       "      <td>6.037571e+07</td>\n",
       "      <td>6.059042e+07</td>\n",
       "      <td>6.111009e+07</td>\n",
       "    </tr>\n",
       "    <tr>\n",
       "      <th>regionidcity</th>\n",
       "      <td>2922372.0</td>\n",
       "      <td>3.499335e+04</td>\n",
       "      <td>5.072747e+04</td>\n",
       "      <td>3.491000e+03</td>\n",
       "      <td>1.244700e+04</td>\n",
       "      <td>2.521800e+04</td>\n",
       "      <td>4.545700e+04</td>\n",
       "      <td>3.965560e+05</td>\n",
       "    </tr>\n",
       "    <tr>\n",
       "      <th>regionidcounty</th>\n",
       "      <td>2973780.0</td>\n",
       "      <td>2.570461e+03</td>\n",
       "      <td>7.880711e+02</td>\n",
       "      <td>1.286000e+03</td>\n",
       "      <td>2.061000e+03</td>\n",
       "      <td>3.101000e+03</td>\n",
       "      <td>3.101000e+03</td>\n",
       "      <td>3.101000e+03</td>\n",
       "    </tr>\n",
       "    <tr>\n",
       "      <th>regionidzip</th>\n",
       "      <td>2971237.0</td>\n",
       "      <td>9.655267e+04</td>\n",
       "      <td>3.673175e+03</td>\n",
       "      <td>9.598200e+04</td>\n",
       "      <td>9.618000e+04</td>\n",
       "      <td>9.637700e+04</td>\n",
       "      <td>9.697400e+04</td>\n",
       "      <td>3.996750e+05</td>\n",
       "    </tr>\n",
       "    <tr>\n",
       "      <th>roomcnt</th>\n",
       "      <td>2973742.0</td>\n",
       "      <td>1.475018e+00</td>\n",
       "      <td>2.840403e+00</td>\n",
       "      <td>0.000000e+00</td>\n",
       "      <td>0.000000e+00</td>\n",
       "      <td>0.000000e+00</td>\n",
       "      <td>0.000000e+00</td>\n",
       "      <td>9.600000e+01</td>\n",
       "    </tr>\n",
       "    <tr>\n",
       "      <th>yearbuilt</th>\n",
       "      <td>2925289.0</td>\n",
       "      <td>1.964262e+03</td>\n",
       "      <td>2.344132e+01</td>\n",
       "      <td>1.801000e+03</td>\n",
       "      <td>1.950000e+03</td>\n",
       "      <td>1.963000e+03</td>\n",
       "      <td>1.981000e+03</td>\n",
       "      <td>2.015000e+03</td>\n",
       "    </tr>\n",
       "    <tr>\n",
       "      <th>structuretaxvaluedollarcnt</th>\n",
       "      <td>2930235.0</td>\n",
       "      <td>1.708836e+05</td>\n",
       "      <td>4.020683e+05</td>\n",
       "      <td>1.000000e+00</td>\n",
       "      <td>7.480000e+04</td>\n",
       "      <td>1.225900e+05</td>\n",
       "      <td>1.968890e+05</td>\n",
       "      <td>2.514860e+08</td>\n",
       "    </tr>\n",
       "    <tr>\n",
       "      <th>taxvaluedollarcnt</th>\n",
       "      <td>2942667.0</td>\n",
       "      <td>4.204790e+05</td>\n",
       "      <td>7.263467e+05</td>\n",
       "      <td>1.000000e+00</td>\n",
       "      <td>1.796750e+05</td>\n",
       "      <td>3.060860e+05</td>\n",
       "      <td>4.880000e+05</td>\n",
       "      <td>2.827860e+08</td>\n",
       "    </tr>\n",
       "    <tr>\n",
       "      <th>assessmentyear</th>\n",
       "      <td>2973778.0</td>\n",
       "      <td>2.014999e+03</td>\n",
       "      <td>3.683161e-02</td>\n",
       "      <td>2.000000e+03</td>\n",
       "      <td>2.015000e+03</td>\n",
       "      <td>2.015000e+03</td>\n",
       "      <td>2.015000e+03</td>\n",
       "      <td>2.016000e+03</td>\n",
       "    </tr>\n",
       "    <tr>\n",
       "      <th>landtaxvaluedollarcnt</th>\n",
       "      <td>2917484.0</td>\n",
       "      <td>2.524780e+05</td>\n",
       "      <td>4.450132e+05</td>\n",
       "      <td>1.000000e+00</td>\n",
       "      <td>7.483600e+04</td>\n",
       "      <td>1.670420e+05</td>\n",
       "      <td>3.069180e+05</td>\n",
       "      <td>9.024622e+07</td>\n",
       "    </tr>\n",
       "    <tr>\n",
       "      <th>taxamount</th>\n",
       "      <td>2953967.0</td>\n",
       "      <td>5.377607e+03</td>\n",
       "      <td>9.183107e+03</td>\n",
       "      <td>1.340000e+00</td>\n",
       "      <td>2.461070e+03</td>\n",
       "      <td>3.991780e+03</td>\n",
       "      <td>6.201005e+03</td>\n",
       "      <td>3.458861e+06</td>\n",
       "    </tr>\n",
       "    <tr>\n",
       "      <th>censustractandblock</th>\n",
       "      <td>2910091.0</td>\n",
       "      <td>6.048431e+13</td>\n",
       "      <td>3.249035e+11</td>\n",
       "      <td>-1.000000e+00</td>\n",
       "      <td>6.037400e+13</td>\n",
       "      <td>6.037572e+13</td>\n",
       "      <td>6.059042e+13</td>\n",
       "      <td>4.830301e+14</td>\n",
       "    </tr>\n",
       "  </tbody>\n",
       "</table>\n",
       "</div>"
      ],
      "text/plain": [
       "                                  count          mean           std  \\\n",
       "parcelid                      2985217.0  1.332586e+07  7.909966e+06   \n",
       "bathroomcnt                   2973755.0  2.209143e+00  1.077754e+00   \n",
       "bedroomcnt                    2973767.0  3.088949e+00  1.275859e+00   \n",
       "calculatedbathnbr             2856305.0  2.299263e+00  1.000736e+00   \n",
       "calculatedfinishedsquarefeet  2929652.0  1.827162e+03  1.819780e+03   \n",
       "finishedsquarefeet12          2709184.0  1.760001e+03  9.710610e+02   \n",
       "fips                          2973780.0  6.048032e+03  2.023278e+01   \n",
       "fullbathcnt                   2856305.0  2.244165e+00  9.912054e-01   \n",
       "latitude                      2973780.0  3.400147e+07  2.433812e+05   \n",
       "longitude                     2973780.0 -1.182019e+08  3.453171e+05   \n",
       "lotsizesquarefeet             2709118.0  2.282281e+04  3.375924e+05   \n",
       "propertylandusetypeid         2973780.0  2.600484e+02  1.590817e+01   \n",
       "rawcensustractandblock        2973780.0  6.048345e+07  2.008117e+05   \n",
       "regionidcity                  2922372.0  3.499335e+04  5.072747e+04   \n",
       "regionidcounty                2973780.0  2.570461e+03  7.880711e+02   \n",
       "regionidzip                   2971237.0  9.655267e+04  3.673175e+03   \n",
       "roomcnt                       2973742.0  1.475018e+00  2.840403e+00   \n",
       "yearbuilt                     2925289.0  1.964262e+03  2.344132e+01   \n",
       "structuretaxvaluedollarcnt    2930235.0  1.708836e+05  4.020683e+05   \n",
       "taxvaluedollarcnt             2942667.0  4.204790e+05  7.263467e+05   \n",
       "assessmentyear                2973778.0  2.014999e+03  3.683161e-02   \n",
       "landtaxvaluedollarcnt         2917484.0  2.524780e+05  4.450132e+05   \n",
       "taxamount                     2953967.0  5.377607e+03  9.183107e+03   \n",
       "censustractandblock           2910091.0  6.048431e+13  3.249035e+11   \n",
       "\n",
       "                                       min           25%           50%  \\\n",
       "parcelid                      1.071172e+07  1.164371e+07  1.254509e+07   \n",
       "bathroomcnt                   0.000000e+00  2.000000e+00  2.000000e+00   \n",
       "bedroomcnt                    0.000000e+00  2.000000e+00  3.000000e+00   \n",
       "calculatedbathnbr             1.000000e+00  2.000000e+00  2.000000e+00   \n",
       "calculatedfinishedsquarefeet  1.000000e+00  1.213000e+03  1.572000e+03   \n",
       "finishedsquarefeet12          1.000000e+00  1.196000e+03  1.539000e+03   \n",
       "fips                          6.037000e+03  6.037000e+03  6.037000e+03   \n",
       "fullbathcnt                   1.000000e+00  2.000000e+00  2.000000e+00   \n",
       "latitude                      3.332439e+07  3.382768e+07  3.400825e+07   \n",
       "longitude                    -1.194758e+08 -1.183930e+08 -1.181725e+08   \n",
       "lotsizesquarefeet             1.000000e+02  5.688000e+03  7.000000e+03   \n",
       "propertylandusetypeid         3.100000e+01  2.610000e+02  2.610000e+02   \n",
       "rawcensustractandblock        6.037101e+07  6.037320e+07  6.037571e+07   \n",
       "regionidcity                  3.491000e+03  1.244700e+04  2.521800e+04   \n",
       "regionidcounty                1.286000e+03  2.061000e+03  3.101000e+03   \n",
       "regionidzip                   9.598200e+04  9.618000e+04  9.637700e+04   \n",
       "roomcnt                       0.000000e+00  0.000000e+00  0.000000e+00   \n",
       "yearbuilt                     1.801000e+03  1.950000e+03  1.963000e+03   \n",
       "structuretaxvaluedollarcnt    1.000000e+00  7.480000e+04  1.225900e+05   \n",
       "taxvaluedollarcnt             1.000000e+00  1.796750e+05  3.060860e+05   \n",
       "assessmentyear                2.000000e+03  2.015000e+03  2.015000e+03   \n",
       "landtaxvaluedollarcnt         1.000000e+00  7.483600e+04  1.670420e+05   \n",
       "taxamount                     1.340000e+00  2.461070e+03  3.991780e+03   \n",
       "censustractandblock          -1.000000e+00  6.037400e+13  6.037572e+13   \n",
       "\n",
       "                                       75%           max  \n",
       "parcelid                      1.409712e+07  1.696019e+08  \n",
       "bathroomcnt                   3.000000e+00  2.000000e+01  \n",
       "bedroomcnt                    4.000000e+00  2.000000e+01  \n",
       "calculatedbathnbr             3.000000e+00  2.000000e+01  \n",
       "calculatedfinishedsquarefeet  2.136000e+03  9.525760e+05  \n",
       "finishedsquarefeet12          2.070000e+03  2.903450e+05  \n",
       "fips                          6.059000e+03  6.111000e+03  \n",
       "fullbathcnt                   3.000000e+00  2.000000e+01  \n",
       "latitude                      3.416186e+07  3.481965e+07  \n",
       "longitude                    -1.179495e+08 -1.175543e+08  \n",
       "lotsizesquarefeet             9.898000e+03  3.282638e+08  \n",
       "propertylandusetypeid         2.610000e+02  2.750000e+02  \n",
       "rawcensustractandblock        6.059042e+07  6.111009e+07  \n",
       "regionidcity                  4.545700e+04  3.965560e+05  \n",
       "regionidcounty                3.101000e+03  3.101000e+03  \n",
       "regionidzip                   9.697400e+04  3.996750e+05  \n",
       "roomcnt                       0.000000e+00  9.600000e+01  \n",
       "yearbuilt                     1.981000e+03  2.015000e+03  \n",
       "structuretaxvaluedollarcnt    1.968890e+05  2.514860e+08  \n",
       "taxvaluedollarcnt             4.880000e+05  2.827860e+08  \n",
       "assessmentyear                2.015000e+03  2.016000e+03  \n",
       "landtaxvaluedollarcnt         3.069180e+05  9.024622e+07  \n",
       "taxamount                     6.201005e+03  3.458861e+06  \n",
       "censustractandblock           6.059042e+13  4.830301e+14  "
      ]
     },
     "execution_count": 9,
     "metadata": {},
     "output_type": "execute_result"
    }
   ],
   "source": [
    "# Feature Selection/Removal\n",
    "# Creating a threshold to remove attributes that are sparse in data\n",
    "# and removing them from the dataset\n",
    "\n",
    "threshold = 0.30\n",
    "zillow_data_feature_removal = zillow_properties_data_2016.copy()\n",
    "for attr in zillow_properties_data_2016.columns.values.tolist():\n",
    "    if zillow_properties_data_2016[attr].isnull().sum()/float(zillow_properties_data_2016.shape[0]) > threshold:\n",
    "        del zillow_data_feature_removal[attr]\n",
    "\n",
    "zillow_data_feature_removal.describe().transpose()\n",
    "\n"
   ]
  },
  {
   "cell_type": "code",
   "execution_count": 11,
   "metadata": {
    "collapsed": true
   },
   "outputs": [],
   "source": [
    "# fips Federal Information Processing Standard code is the same for most of the data\n",
    "del zillow_data_feature_removal['fips']\n",
    "\n",
    "\n",
    "# bathroomcnt is the same as calculatedbathnbr and fullbathcnt, Hence we retain bathroomcnt and delete the other 2 \n",
    "del zillow_data_feature_removal['calculatedbathnbr']\n",
    "del zillow_data_feature_removal['fullbathcnt']\n",
    "\n",
    "\n",
    "# calculatedfinishedsquarefeet and finishedsquarefeet12 are similar, \n",
    "# and calcuatedfinishedsqarefeet might be more accurate and one of them can be removed\n",
    "del zillow_data_feature_removal['finishedsquarefeet12']\n",
    "\n",
    "\n",
    "# Removing redundant data censustractandblock (similar to rawcensustractandblock)\n",
    "# Census data contains information about location i.e. block and district which \n",
    "# can be obtained from regionidzip.\n",
    "del zillow_data_feature_removal['censustractandblock']\n",
    "del zillow_data_feature_removal['rawcensustractandblock']\n",
    "\n",
    "\n",
    "# Removing propertycountylandusecode as the categorical attribute propertylandusetypeid \n",
    "# provides same information\n",
    "del zillow_data_feature_removal['propertycountylandusecode']\n",
    "del zillow_data_feature_removal['assessmentyear']\n",
    "del zillow_data_feature_removal['roomcnt']\n"
   ]
  },
  {
   "cell_type": "code",
   "execution_count": 12,
   "metadata": {},
   "outputs": [
    {
     "data": {
      "text/plain": [
       "Index(['parcelid', 'bathroomcnt', 'bedroomcnt', 'calculatedfinishedsquarefeet',\n",
       "       'latitude', 'longitude', 'lotsizesquarefeet', 'propertylandusetypeid',\n",
       "       'regionidcity', 'regionidcounty', 'regionidzip', 'yearbuilt',\n",
       "       'structuretaxvaluedollarcnt', 'taxvaluedollarcnt',\n",
       "       'landtaxvaluedollarcnt', 'taxamount'],\n",
       "      dtype='object')"
      ]
     },
     "execution_count": 12,
     "metadata": {},
     "output_type": "execute_result"
    }
   ],
   "source": [
    "zillow_data_feature_removal.columns\n",
    "\n"
   ]
  },
  {
   "cell_type": "code",
   "execution_count": 13,
   "metadata": {
    "scrolled": true
   },
   "outputs": [
    {
     "name": "stdout",
     "output_type": "stream",
     "text": [
      "         calculatedfinishedsquarefeet  lotsizesquarefeet\n",
      "0                                 NaN            85768.0\n",
      "1                                 NaN             4083.0\n",
      "2                             73026.0            63085.0\n",
      "3                              5068.0             7521.0\n",
      "4                              1776.0             8512.0\n",
      "5                              2400.0             2500.0\n",
      "6                                 NaN                NaN\n",
      "7                              3611.0             5333.0\n",
      "8                                 NaN           145865.0\n",
      "9                              3754.0             7494.0\n",
      "10                             2470.0             3423.0\n",
      "11                                NaN            81293.0\n",
      "12                                NaN             6286.0\n",
      "13                                NaN                NaN\n",
      "14                                NaN            11975.0\n",
      "15                                NaN             9403.0\n",
      "16                                NaN             3817.0\n",
      "17                             2760.0             8856.0\n",
      "18                             4000.0            46526.0\n",
      "19                             3633.0             9826.0\n",
      "20                             4053.0             8050.0\n",
      "21                             1442.0             2904.0\n",
      "22                             1936.0             1821.0\n",
      "23                             1606.0             5231.0\n",
      "24                             2820.0             5934.0\n",
      "25                                NaN              500.0\n",
      "26                             2865.0             4990.0\n",
      "27                             6790.0            10437.0\n",
      "28                             1090.0            40247.0\n",
      "29                             1620.0                NaN\n",
      "...                               ...                ...\n",
      "2985187                           NaN                NaN\n",
      "2985188                           NaN                NaN\n",
      "2985189                           NaN                NaN\n",
      "2985190                           NaN                NaN\n",
      "2985191                           NaN                NaN\n",
      "2985192                           NaN                NaN\n",
      "2985193                           NaN                NaN\n",
      "2985194                           NaN                NaN\n",
      "2985195                           NaN                NaN\n",
      "2985196                           NaN                NaN\n",
      "2985197                           NaN                NaN\n",
      "2985198                           NaN                NaN\n",
      "2985199                           NaN                NaN\n",
      "2985200                           NaN                NaN\n",
      "2985201                           NaN                NaN\n",
      "2985202                           NaN                NaN\n",
      "2985203                           NaN                NaN\n",
      "2985204                           NaN                NaN\n",
      "2985205                           NaN                NaN\n",
      "2985206                           NaN                NaN\n",
      "2985207                           NaN                NaN\n",
      "2985208                           NaN                NaN\n",
      "2985209                           NaN                NaN\n",
      "2985210                           NaN                NaN\n",
      "2985211                           NaN                NaN\n",
      "2985212                           NaN                NaN\n",
      "2985213                           NaN                NaN\n",
      "2985214                           NaN                NaN\n",
      "2985215                           NaN                NaN\n",
      "2985216                           NaN                NaN\n",
      "\n",
      "[2985217 rows x 2 columns]\n"
     ]
    }
   ],
   "source": [
    "#Creating a data frame to calculate noise that can be used to fill lotsizesquarefeet and calculatedfinishedsquarefeet\n",
    "squareFeetCols= {'calculatedfinishedsquarefeet':zillow_data_feature_removal['calculatedfinishedsquarefeet'],'lotsizesquarefeet':zillow_data_feature_removal['lotsizesquarefeet']}\n",
    "squareFeetdfWithoutNaN = pd.DataFrame(squareFeetCols)\n"
   ]
  },
  {
   "cell_type": "code",
   "execution_count": 14,
   "metadata": {},
   "outputs": [
    {
     "data": {
      "text/plain": [
       "0.7488919009507046"
      ]
     },
     "execution_count": 14,
     "metadata": {},
     "output_type": "execute_result"
    }
   ],
   "source": [
    "#Dropping the rows with NaN values\n",
    "squareFeetdfWithoutNaN=squareFeetdfWithoutNaN.dropna(how='any')\n",
    "\n",
    "# creating a new column 'difference' which tracks diff between lotsizesquarefeet - calculatedfinishedsquarefeet\n",
    "squareFeetdfWithoutNaN['difference']= squareFeetdfWithoutNaN['lotsizesquarefeet']-squareFeetdfWithoutNaN['calculatedfinishedsquarefeet']\n",
    "\n",
    "# keeping only the values with greater lotsizesquarefeet than calculatedfinishedsquarefeet\n",
    "squareFeetdfWithoutNaN=squareFeetdfWithoutNaN[squareFeetdfWithoutNaN['difference']>0]\n",
    "\n",
    "squareFeetdfWithoutNaN['differenceFraction']= squareFeetdfWithoutNaN['difference'] / squareFeetdfWithoutNaN['lotsizesquarefeet']         \n",
    "\n",
    "# calculating the mean of differenceFraction column\n",
    "noise=squareFeetdfWithoutNaN['differenceFraction'].mean()\n",
    "noise"
   ]
  },
  {
   "cell_type": "code",
   "execution_count": 15,
   "metadata": {
    "scrolled": true
   },
   "outputs": [
    {
     "name": "stderr",
     "output_type": "stream",
     "text": [
      "/Users/vinod/anaconda/lib/python3.6/site-packages/pandas/core/indexing.py:179: SettingWithCopyWarning: \n",
      "A value is trying to be set on a copy of a slice from a DataFrame\n",
      "\n",
      "See the caveats in the documentation: http://pandas.pydata.org/pandas-docs/stable/indexing.html#indexing-view-versus-copy\n",
      "  self._setitem_with_indexer(indexer, value)\n"
     ]
    },
    {
     "data": {
      "text/plain": [
       "0           85768.000000\n",
       "1            4083.000000\n",
       "2           63085.000000\n",
       "3            7521.000000\n",
       "4            8512.000000\n",
       "5            2500.000000\n",
       "6                    NaN\n",
       "7            5333.000000\n",
       "8          145865.000000\n",
       "9            7494.000000\n",
       "10           3423.000000\n",
       "11          81293.000000\n",
       "12           6286.000000\n",
       "13                   NaN\n",
       "14          11975.000000\n",
       "15           9403.000000\n",
       "16           3817.000000\n",
       "17           8856.000000\n",
       "18          46526.000000\n",
       "19           9826.000000\n",
       "20           8050.000000\n",
       "21           2904.000000\n",
       "22           1821.000000\n",
       "23           5231.000000\n",
       "24           5934.000000\n",
       "25            500.000000\n",
       "26           4990.000000\n",
       "27          10437.000000\n",
       "28          40247.000000\n",
       "29           6451.404818\n",
       "               ...      \n",
       "2985187              NaN\n",
       "2985188              NaN\n",
       "2985189              NaN\n",
       "2985190              NaN\n",
       "2985191              NaN\n",
       "2985192              NaN\n",
       "2985193              NaN\n",
       "2985194              NaN\n",
       "2985195              NaN\n",
       "2985196              NaN\n",
       "2985197              NaN\n",
       "2985198              NaN\n",
       "2985199              NaN\n",
       "2985200              NaN\n",
       "2985201              NaN\n",
       "2985202              NaN\n",
       "2985203              NaN\n",
       "2985204              NaN\n",
       "2985205              NaN\n",
       "2985206              NaN\n",
       "2985207              NaN\n",
       "2985208              NaN\n",
       "2985209              NaN\n",
       "2985210              NaN\n",
       "2985211              NaN\n",
       "2985212              NaN\n",
       "2985213              NaN\n",
       "2985214              NaN\n",
       "2985215              NaN\n",
       "2985216              NaN\n",
       "Name: lotsizesquarefeet, Length: 2985217, dtype: float64"
      ]
     },
     "execution_count": 15,
     "metadata": {},
     "output_type": "execute_result"
    }
   ],
   "source": [
    "# Filling NAN values in calculatedfinishedsquarefeet and lotsizesquarefeet by using noise\n",
    "zillow_data_feature_removal['calculatedfinishedsquarefeet'].loc[zillow_data_feature_removal['calculatedfinishedsquarefeet'].isnull()]=(1-noise)*zillow_data_feature_removal['lotsizesquarefeet'].loc[zillow_data_feature_removal['lotsizesquarefeet'].notnull()] \n",
    "zillow_data_feature_removal['lotsizesquarefeet'].loc[zillow_data_feature_removal['lotsizesquarefeet'].isnull()]=zillow_data_feature_removal['calculatedfinishedsquarefeet'].loc[zillow_data_feature_removal['calculatedfinishedsquarefeet'].notnull()]/(1-noise)\n",
    "\n"
   ]
  },
  {
   "cell_type": "code",
   "execution_count": 16,
   "metadata": {
    "collapsed": true
   },
   "outputs": [],
   "source": [
    "# filling the Remaining NAN values in calculatedfinishedsquarefeet and lotsizesquarefeet with mean and median\n",
    "\n",
    "zillow_data_feature_removal['calculatedfinishedsquarefeet']=zillow_data_feature_removal['calculatedfinishedsquarefeet'].fillna(zillow_data_feature_removal['calculatedfinishedsquarefeet'].mean())\n",
    "\n",
    "zillow_data_feature_removal['lotsizesquarefeet']=zillow_data_feature_removal['lotsizesquarefeet'].fillna(zillow_data_feature_removal['lotsizesquarefeet'].median())"
   ]
  },
  {
   "cell_type": "code",
   "execution_count": 18,
   "metadata": {},
   "outputs": [
    {
     "name": "stderr",
     "output_type": "stream",
     "text": [
      "/Users/vinod/anaconda/lib/python3.6/site-packages/pandas/core/indexing.py:179: SettingWithCopyWarning: \n",
      "A value is trying to be set on a copy of a slice from a DataFrame\n",
      "\n",
      "See the caveats in the documentation: http://pandas.pydata.org/pandas-docs/stable/indexing.html#indexing-view-versus-copy\n",
      "  self._setitem_with_indexer(indexer, value)\n"
     ]
    }
   ],
   "source": [
    "# filling landtaxvaluedollarcnt and structuretaxvaluedollarcnt by using the computation taxvaluedollarcnt=landtaxvaluedollarcnt+structuretaxvaluedollarcnt\n",
    "\n",
    "zillow_data_feature_removal['landtaxvaluedollarcnt'].loc[zillow_data_feature_removal['landtaxvaluedollarcnt'].isnull()]= zillow_data_feature_removal['taxvaluedollarcnt'].loc[zillow_data_feature_removal['taxvaluedollarcnt'].notnull()]-zillow_data_feature_removal['structuretaxvaluedollarcnt'].loc[zillow_data_feature_removal['structuretaxvaluedollarcnt'].notnull()] \n",
    "zillow_data_feature_removal['structuretaxvaluedollarcnt'].loc[zillow_data_feature_removal['structuretaxvaluedollarcnt'].isnull()]= zillow_data_feature_removal['taxvaluedollarcnt'].loc[zillow_data_feature_removal['taxvaluedollarcnt'].notnull()]-zillow_data_feature_removal['landtaxvaluedollarcnt'].loc[zillow_data_feature_removal['landtaxvaluedollarcnt'].notnull()] \n",
    "\n",
    "\n",
    "\n"
   ]
  },
  {
   "cell_type": "code",
   "execution_count": 19,
   "metadata": {
    "collapsed": true
   },
   "outputs": [],
   "source": [
    "# filling longitude , latitude , yearbuilt, bathroomcnt, bedroomcnt \n",
    "zillow_data_feature_removal['latitude']=zillow_data_feature_removal['latitude'].fillna(zillow_data_feature_removal['latitude'].mean())\n",
    "\n",
    "zillow_data_feature_removal['longitude']=zillow_data_feature_removal['longitude'].fillna(zillow_data_feature_removal['longitude'].mean())\n",
    "\n",
    "zillow_data_feature_removal['yearbuilt']=zillow_data_feature_removal['yearbuilt'].fillna(zillow_data_feature_removal['yearbuilt'].median())\n",
    "\n",
    "zillow_data_feature_removal['bathroomcnt']=zillow_data_feature_removal['bathroomcnt'].fillna(zillow_data_feature_removal['bathroomcnt'].median())\n",
    "\n",
    "zillow_data_feature_removal['bedroomcnt']=zillow_data_feature_removal['bedroomcnt'].fillna(zillow_data_feature_removal['bedroomcnt'].median())"
   ]
  },
  {
   "cell_type": "code",
   "execution_count": 21,
   "metadata": {},
   "outputs": [
    {
     "name": "stdout",
     "output_type": "stream",
     "text": [
      "186\n"
     ]
    }
   ],
   "source": [
    "region_city_unique = dict()\n",
    "max_regions = len(zillow_data_feature_removal[\"regionidcity\"].unique())-1\n",
    "row = 0\n",
    "while max_regions:\n",
    "    if (not (zillow_data_feature_removal.get_value(row,\"regionidcity\") in region_city_unique)) and not np.isnan(zillow_data_feature_removal.get_value(row,\"regionidcity\")):\n",
    "        max_regions -= 1\n",
    "        region_city_unique[int(zillow_data_feature_removal.get_value(row,\"regionidcity\"))] = [zillow_data_feature_removal.get_value(row,\"latitude\")/1000000.0, zillow_data_feature_removal.get_value(row,\"longitude\")/1000000.0]\n",
    "    row += 1    \n",
    "    "
   ]
  },
  {
   "cell_type": "code",
   "execution_count": 24,
   "metadata": {},
   "outputs": [
    {
     "name": "stdout",
     "output_type": "stream",
     "text": [
      "{37688: ['Calabasas', 'Los Angeles County', '91302'], 51617: ['Culver City', 'Los Angeles County', '90230'], 12447: ['Los Angeles', 'Los Angeles County', '91423'], 396054: ['Burbank', 'Los Angeles County', '91502'], 47547: ['San Fernando', 'Los Angeles County', '91340'], 54311: ['Santa Clarita', 'Los Angeles County', '91350'], 40227: ['Palmdale', 'Los Angeles County', '93551'], 5534: ['Lancaster', 'Los Angeles County', '93534'], 45888: ['Inglewood', 'Los Angeles County', '90305'], 33612: ['Redondo Beach', 'Los Angeles County', '90278'], 26964: ['Santa Monica', 'Los Angeles County', '90405'], 17882: ['Los Angeles', 'Los Angeles County', '90063'], 25953: ['Montebello', 'Los Angeles County', '90640'], 33837: ['San Gabriel', 'Los Angeles County', '91776'], 48424: ['West Hollywood', 'Los Angeles County', '90069'], 45457: ['Glendale', 'Los Angeles County', '91202'], 47019: ['Pasadena', 'Los Angeles County', '91103'], 50749: ['Arcadia', 'Los Angeles County', '91007'], 30187: ['Altadena', 'Los Angeles County', '91001'], 118994: ['Los Angeles', 'Los Angeles County', '90061'], 47762: ['South Gate', 'Los Angeles County', '90280'], 6395: ['Paramount', 'Los Angeles County', '90723'], 39076: ['Huntington Park', 'Los Angeles County', '90255'], 16961: ['Bell Gardens', 'Los Angeles County', '90201'], 10774: ['Cerritos', 'Los Angeles County', '90703'], 46298: ['Long Beach', 'Los Angeles County', '90805'], 44116: ['Bellflower', 'Los Angeles County', '90706'], 27103: ['Signal Hill', 'Los Angeles County', '90755'], 54722: ['Torrance', 'Los Angeles County', '90503'], 53027: ['Lomita', 'Los Angeles County', '90717'], 33311: ['Palos Verdes Estates', 'Los Angeles County', '90274'], 13716: ['Santa Fe Springs', 'Los Angeles County', '90670'], 53636: ['Norwalk', 'Los Angeles County', '90650'], 14634: ['Whittier', 'Los Angeles County', '90601'], 39306: ['La Puente', 'Los Angeles County', '91744'], 20008: ['Pomona', 'Los Angeles County', '91768'], 51861: ['El Monte', 'Los Angeles County', '91731'], 11626: ['Glendora', 'Los Angeles County', '91741'], 53162: ['Marina del Rey', 'Los Angeles County', '90292'], 113576: ['City of Industry', 'Los Angeles County', '91746'], 24384: ['Diamond Bar', 'Los Angeles County', '91789'], 26483: ['Pico Rivera', 'Los Angeles County', '90660'], 12520: ['Malibu', 'Los Angeles County', '90265'], 118217: ['La Puente', 'Los Angeles County', '91744'], 54212: ['Rosemead', 'Los Angeles County', '91770'], 45398: ['Gardena', 'Los Angeles County', '90247'], 24174: ['Compton', 'Los Angeles County', '90220'], 30267: ['Artesia', 'Los Angeles County', '90701'], 21778: ['Hawaiian Gardens', 'Los Angeles County', '90716'], 10723: ['Carson', 'Los Angeles County', '90746'], 118878: ['Torrance', 'Los Angeles County', '90502'], 22827: ['Rowland Heights', 'Los Angeles County', '91748'], 5465: ['La Mirada', 'Los Angeles County', '90638'], 36502: ['South El Monte', 'Los Angeles County', '91733'], 45602: ['La Puente', 'Los Angeles County', '91746'], 39308: ['La Verne', 'Los Angeles County', '91750'], 33836: ['San Dimas', 'Los Angeles County', '91773'], 24245: ['Glendora', 'Los Angeles County', '91740'], 32923: ['Monrovia', 'Los Angeles County', '91016'], 37015: ['Azusa', 'Los Angeles County', '91702'], 24812: ['Fullerton', 'Orange County', '92832'], 34780: ['Westminster', 'Orange County', '92683'], 52650: ['Irvine', 'Orange County', '92620'], 46314: ['Los Alamitos', 'Orange County', '90720'], 15554: ['Ladera Ranch', 'Orange County', '92694'], 33840: ['Ladera Ranch', 'Orange County', '92694'], 47568: ['Santa Ana', 'Orange County', '92703'], 42967: ['Stanton', 'Orange County', '90680'], 27491: ['Tustin', 'Orange County', '92780'], 16764: ['Anaheim', 'Orange County', '92804'], 26531: ['Placentia', 'Orange County', '92870'], 25218: ['Huntington Beach', 'Orange County', '92649'], 32380: ['Lake Forest', 'Orange County', '92610'], 53571: ['Newport Beach', 'Orange County', '92660'], 17150: ['Brea', 'Orange County', '92823'], 13091: ['Ojai', 'Ventura County', '93023'], 26965: ['Santa Paula', 'Ventura County', '93060'], 27110: ['Simi Valley', 'Ventura County', '93063'], 34278: ['Thousand Oaks', 'Ventura County', '91362'], 34543: ['Ventura', 'Ventura County', '93003'], 13150: ['Oxnard', 'Ventura County', '93033'], 40110: ['Ojai', 'Ventura County', '93023'], 18098: ['Fillmore', 'Ventura County', '93015'], 13311: ['Piru', 'Ventura County', '93040'], 51239: ['Camarillo', 'Ventura County', '93010'], 34037: ['Somis', 'Ventura County', '93066'], 47198: ['Port Hueneme', 'Ventura County', '93041'], 25974: ['Moorpark', 'Ventura County', '93021'], 41673: ['Westlake Village', 'Ventura County', '91361'], 53655: ['Oak Park', 'Ventura County', '91377'], 42091: ['Bell Canyon', 'Ventura County', '91307'], 9840: ['Agoura Hills', 'Los Angeles County', '91301'], 38980: ['Hidden Hills', 'Los Angeles County', '91302'], 10734: ['Castaic', 'Los Angeles County', '91384'], 29189: ['Palmdale', 'Los Angeles County', '93591'], 13232: ['Pearblossom', 'Los Angeles County', '93553'], 16677: ['Palmdale', 'Los Angeles County', '93550'], 25621: ['Pearblossom', 'Los Angeles County', '93553'], 25468: ['Lake Hughes', 'Los Angeles County', '93532'], 116042: ['Los Angeles', 'Los Angeles County', '90056'], 396550: ['View Park-Windsor Hills', 'Los Angeles County', '90056'], 42150: ['Hawthorne', 'Los Angeles County', '90250'], 118875: ['Los Angeles', 'Los Angeles County', '90047'], 113412: ['Gardena', 'Los Angeles County', '90249'], 46178: ['Lawndale', 'Los Angeles County', '90260'], 55753: ['El Segundo', 'Los Angeles County', '90245'], 19177: ['Manhattan Beach', 'Los Angeles County', '90266'], 29712: ['Hermosa Beach', 'Los Angeles County', '90254'], 10389: ['Beverly Hills', 'Los Angeles County', '90212'], 56780: ['Topanga', 'Los Angeles County', '90290'], 6021: ['Monterey Park', 'Los Angeles County', '91754'], 272578: ['Commerce', 'Los Angeles County', '90040'], 50677: ['Alhambra', 'Los Angeles County', '91801'], 27183: ['South Pasadena', 'Los Angeles County', '91030'], 54299: ['San Marino', 'Los Angeles County', '91108'], 114834: ['Pasadena', 'Los Angeles County', '91107'], 14111: ['Temple City', 'Los Angeles County', '91780'], 396551: ['Glendale', 'Los Angeles County', '91214'], 47695: ['Sierra Madre', 'Los Angeles County', '91024'], 46080: ['La Cañada Flintridge', 'Los Angeles County', '91011'], 396053: ['Los Angeles', 'Los Angeles County', '90001'], 118914: ['Los Angeles', 'Los Angeles County', '90044'], 118880: ['Gardena', 'Los Angeles County', '90248'], 32616: ['Lynwood', 'Los Angeles County', '90262'], 31134: ['Cudahy', 'Los Angeles County', '90201'], 30399: ['Bell', 'Los Angeles County', '90201'], 4406: ['Downey', 'Los Angeles County', '90241'], 32753: ['Maywood', 'Los Angeles County', '90270'], 15237: ['Cerritos', 'Los Angeles County', '90703'], 12292: ['Lakewood', 'Los Angeles County', '90713'], 44833: ['Cypress', 'Orange County', '90630'], 54352: ['Long Beach', None, '90803'], 3491: ['Avalon', 'Los Angeles County', '90704'], 54053: ['Rancho Palos Verdes', 'Los Angeles County', '90275'], 33727: ['Rolling Hills Estates', 'Los Angeles County', '90274'], 6822: ['Palos Verdes Estates', 'Los Angeles County', '90274'], 33312: ['Palos Verdes Peninsula', 'Los Angeles County', '90274'], 118225: ['Whittier', 'Los Angeles County', '90605'], 114828: ['Whittier', 'Los Angeles County', '90604'], 18874: ['La Habra', 'Orange County', '90631'], 396556: ['Whittier', 'Los Angeles County', '90606'], 118895: ['La Puente', 'Los Angeles County', '91744'], 18875: ['La Habra Heights', 'Los Angeles County', '90631'], 118694: ['La Puente', 'Los Angeles County', '91744'], 14542: ['West Covina', 'Los Angeles County', '91792'], 30908: ['Claremont', 'Los Angeles County', '91711'], 25271: ['Irwindale', 'Los Angeles County', '91706'], 10241: ['Baldwin Park', 'Los Angeles County', '91706'], 14906: ['Monrovia', 'Los Angeles County', '91016'], 24435: ['Bradbury', 'Los Angeles County', '91008'], 34636: ['Walnut', 'Los Angeles County', '91789'], 33252: ['Orange', 'Orange County', '92868'], 52842: ['Laguna Beach', 'Orange County', '92651'], 13693: ['San Clemente', 'Orange County', '92672'], 10608: ['Buena Park', 'Orange County', '90621'], 24832: ['Garden Grove', 'Orange County', '92840'], 40081: ['Santa Ana', 'Orange County', '92705'], 16389: ['Silverado', 'Orange County', '92676'], 8384: ['Westminster', 'Orange County', '92683'], 38032: ['Costa Mesa', 'Orange County', '92627'], 21412: ['Yorba Linda', 'Orange County', '92886'], 54970: ['Villa Park', 'Orange County', '92861'], 40009: ['Newport Beach', 'Orange County', '92660'], 25458: ['Laguna Hills', 'Orange County', '92653'], 12773: ['Mission Viejo', 'Orange County', '92691'], 37086: ['Laguna Hills', 'Orange County', '92656'], 25459: ['Laguna Niguel', 'Orange County', '92677'], 17686: ['San Juan Capistrano', 'Orange County', '92675'], 17597: ['Coto de Caza', 'Orange County', '92679'], 46098: ['Laguna Woods', 'Orange County', '92653'], 52835: ['Ladera Ranch', 'Orange County', '92694'], 21395: ['Llano', 'Los Angeles County', '93544'], 41484: ['Vernon', 'Los Angeles County', '90058'], 32927: ['Montclair', 'San Bernardino County', '91763'], 10815: ['Chino Hills', 'San Bernardino County', '91709'], 25535: ['Lebec', 'Los Angeles County', '93243'], 27512: ['Upland', 'Los Angeles County', '91786'], 6285: ['San Clemente', 'San Diego County', '92672'], 24797: ['Frazier Park', 'Ventura County', '93225'], 40633: ['Rosamond', 'Los Angeles County', '93560'], 48211: ['Valyermo', 'Los Angeles County', '93563'], 3980: ['Carpinteria', 'Santa Barbara County', '93013'], 37882: ['City of Industry', 'Los Angeles County', '91745'], 47913: ['Huntington Beach', 'Orange County', '90742'], 36078: ['Llano', 'Los Angeles County', '93544'], 19202: ['Frazier Park', 'Ventura County', '93225']}\n"
     ]
    }
   ],
   "source": [
    "#from pygeocoder import Geocoder\n",
    "#region_city_county = dict()\n",
    "#for city in region_city_unique.keys():\n",
    "#    location = Geocoder.reverse_geocode(region_city_unique[city][0],region_city_unique[city][1])\n",
    "#    region_city_county[city] = [location.city, location.county, location.postal_code]\n",
    "region_city_county = {37688: ['Calabasas', 'Los Angeles County', '91302'], 51617: ['Culver City', 'Los Angeles County', '90230'], 12447: ['Los Angeles', 'Los Angeles County', '91423'], 396054: ['Burbank', 'Los Angeles County', '91502'], 47547: ['San Fernando', 'Los Angeles County', '91340'], 54311: ['Santa Clarita', 'Los Angeles County', '91350'], 40227: ['Palmdale', 'Los Angeles County', '93551'], 5534: ['Lancaster', 'Los Angeles County', '93534'], 45888: ['Inglewood', 'Los Angeles County', '90305'], 33612: ['Redondo Beach', 'Los Angeles County', '90278'], 26964: ['Santa Monica', 'Los Angeles County', '90405'], 17882: ['Los Angeles', 'Los Angeles County', '90063'], 25953: ['Montebello', 'Los Angeles County', '90640'], 33837: ['San Gabriel', 'Los Angeles County', '91776'], 48424: ['West Hollywood', 'Los Angeles County', '90069'], 45457: ['Glendale', 'Los Angeles County', '91202'], 47019: ['Pasadena', 'Los Angeles County', '91103'], 50749: ['Arcadia', 'Los Angeles County', '91007'], 30187: ['Altadena', 'Los Angeles County', '91001'], 118994: ['Los Angeles', 'Los Angeles County', '90061'], 47762: ['South Gate', 'Los Angeles County', '90280'], 6395: ['Paramount', 'Los Angeles County', '90723'], 39076: ['Huntington Park', 'Los Angeles County', '90255'], 16961: ['Bell Gardens', 'Los Angeles County', '90201'], 10774: ['Cerritos', 'Los Angeles County', '90703'], 46298: ['Long Beach', 'Los Angeles County', '90805'], 44116: ['Bellflower', 'Los Angeles County', '90706'], 27103: ['Signal Hill', 'Los Angeles County', '90755'], 54722: ['Torrance', 'Los Angeles County', '90503'], 53027: ['Lomita', 'Los Angeles County', '90717'], 33311: ['Palos Verdes Estates', 'Los Angeles County', '90274'], 13716: ['Santa Fe Springs', 'Los Angeles County', '90670'], 53636: ['Norwalk', 'Los Angeles County', '90650'], 14634: ['Whittier', 'Los Angeles County', '90601'], 39306: ['La Puente', 'Los Angeles County', '91744'], 20008: ['Pomona', 'Los Angeles County', '91768'], 51861: ['El Monte', 'Los Angeles County', '91731'], 11626: ['Glendora', 'Los Angeles County', '91741'], 53162: ['Marina del Rey', 'Los Angeles County', '90292'], 113576: ['City of Industry', 'Los Angeles County', '91746'], 24384: ['Diamond Bar', 'Los Angeles County', '91789'], 26483: ['Pico Rivera', 'Los Angeles County', '90660'], 12520: ['Malibu', 'Los Angeles County', '90265'], 118217: ['La Puente', 'Los Angeles County', '91744'], 54212: ['Rosemead', 'Los Angeles County', '91770'], 45398: ['Gardena', 'Los Angeles County', '90247'], 24174: ['Compton', 'Los Angeles County', '90220'], 30267: ['Artesia', 'Los Angeles County', '90701'], 21778: ['Hawaiian Gardens', 'Los Angeles County', '90716'], 10723: ['Carson', 'Los Angeles County', '90746'], 118878: ['Torrance', 'Los Angeles County', '90502'], 22827: ['Rowland Heights', 'Los Angeles County', '91748'], 5465: ['La Mirada', 'Los Angeles County', '90638'], 36502: ['South El Monte', 'Los Angeles County', '91733'], 45602: ['La Puente', 'Los Angeles County', '91746'], 39308: ['La Verne', 'Los Angeles County', '91750'], 33836: ['San Dimas', 'Los Angeles County', '91773'], 24245: ['Glendora', 'Los Angeles County', '91740'], 32923: ['Monrovia', 'Los Angeles County', '91016'], 37015: ['Azusa', 'Los Angeles County', '91702'], 24812: ['Fullerton', 'Orange County', '92832'], 34780: ['Westminster', 'Orange County', '92683'], 52650: ['Irvine', 'Orange County', '92620'], 46314: ['Los Alamitos', 'Orange County', '90720'], 15554: ['Ladera Ranch', 'Orange County', '92694'], 33840: ['Ladera Ranch', 'Orange County', '92694'], 47568: ['Santa Ana', 'Orange County', '92703'], 42967: ['Stanton', 'Orange County', '90680'], 27491: ['Tustin', 'Orange County', '92780'], 16764: ['Anaheim', 'Orange County', '92804'], 26531: ['Placentia', 'Orange County', '92870'], 25218: ['Huntington Beach', 'Orange County', '92649'], 32380: ['Lake Forest', 'Orange County', '92610'], 53571: ['Newport Beach', 'Orange County', '92660'], 17150: ['Brea', 'Orange County', '92823'], 13091: ['Ojai', 'Ventura County', '93023'], 26965: ['Santa Paula', 'Ventura County', '93060'], 27110: ['Simi Valley', 'Ventura County', '93063'], 34278: ['Thousand Oaks', 'Ventura County', '91362'], 34543: ['Ventura', 'Ventura County', '93003'], 13150: ['Oxnard', 'Ventura County', '93033'], 40110: ['Ojai', 'Ventura County', '93023'], 18098: ['Fillmore', 'Ventura County', '93015'], 13311: ['Piru', 'Ventura County', '93040'], 51239: ['Camarillo', 'Ventura County', '93010'], 34037: ['Somis', 'Ventura County', '93066'], 47198: ['Port Hueneme', 'Ventura County', '93041'], 25974: ['Moorpark', 'Ventura County', '93021'], 41673: ['Westlake Village', 'Ventura County', '91361'], 53655: ['Oak Park', 'Ventura County', '91377'], 42091: ['Bell Canyon', 'Ventura County', '91307'], 9840: ['Agoura Hills', 'Los Angeles County', '91301'], 38980: ['Hidden Hills', 'Los Angeles County', '91302'], 10734: ['Castaic', 'Los Angeles County', '91384'], 29189: ['Palmdale', 'Los Angeles County', '93591'], 13232: ['Pearblossom', 'Los Angeles County', '93553'], 16677: ['Palmdale', 'Los Angeles County', '93550'], 25621: ['Pearblossom', 'Los Angeles County', '93553'], 25468: ['Lake Hughes', 'Los Angeles County', '93532'], 116042: ['Los Angeles', 'Los Angeles County', '90056'], 396550: ['View Park-Windsor Hills', 'Los Angeles County', '90056'], 42150: ['Hawthorne', 'Los Angeles County', '90250'], 118875: ['Los Angeles', 'Los Angeles County', '90047'], 113412: ['Gardena', 'Los Angeles County', '90249'], 46178: ['Lawndale', 'Los Angeles County', '90260'], 55753: ['El Segundo', 'Los Angeles County', '90245'], 19177: ['Manhattan Beach', 'Los Angeles County', '90266'], 29712: ['Hermosa Beach', 'Los Angeles County', '90254'], 10389: ['Beverly Hills', 'Los Angeles County', '90212'], 56780: ['Topanga', 'Los Angeles County', '90290'], 6021: ['Monterey Park', 'Los Angeles County', '91754'], 272578: ['Commerce', 'Los Angeles County', '90040'], 50677: ['Alhambra', 'Los Angeles County', '91801'], 27183: ['South Pasadena', 'Los Angeles County', '91030'], 54299: ['San Marino', 'Los Angeles County', '91108'], 114834: ['Pasadena', 'Los Angeles County', '91107'], 14111: ['Temple City', 'Los Angeles County', '91780'], 396551: ['Glendale', 'Los Angeles County', '91214'], 47695: ['Sierra Madre', 'Los Angeles County', '91024'], 46080: ['La Cañada Flintridge', 'Los Angeles County', '91011'], 396053: ['Los Angeles', 'Los Angeles County', '90001'], 118914: ['Los Angeles', 'Los Angeles County', '90044'], 118880: ['Gardena', 'Los Angeles County', '90248'], 32616: ['Lynwood', 'Los Angeles County', '90262'], 31134: ['Cudahy', 'Los Angeles County', '90201'], 30399: ['Bell', 'Los Angeles County', '90201'], 4406: ['Downey', 'Los Angeles County', '90241'], 32753: ['Maywood', 'Los Angeles County', '90270'], 15237: ['Cerritos', 'Los Angeles County', '90703'], 12292: ['Lakewood', 'Los Angeles County', '90713'], 44833: ['Cypress', 'Orange County', '90630'], 54352: ['Long Beach', None, '90803'], 3491: ['Avalon', 'Los Angeles County', '90704'], 54053: ['Rancho Palos Verdes', 'Los Angeles County', '90275'], 33727: ['Rolling Hills Estates', 'Los Angeles County', '90274'], 6822: ['Palos Verdes Estates', 'Los Angeles County', '90274'], 33312: ['Palos Verdes Peninsula', 'Los Angeles County', '90274'], 118225: ['Whittier', 'Los Angeles County', '90605'], 114828: ['Whittier', 'Los Angeles County', '90604'], 18874: ['La Habra', 'Orange County', '90631'], 396556: ['Whittier', 'Los Angeles County', '90606'], 118895: ['La Puente', 'Los Angeles County', '91744'], 18875: ['La Habra Heights', 'Los Angeles County', '90631'], 118694: ['La Puente', 'Los Angeles County', '91744'], 14542: ['West Covina', 'Los Angeles County', '91792'], 30908: ['Claremont', 'Los Angeles County', '91711'], 25271: ['Irwindale', 'Los Angeles County', '91706'], 10241: ['Baldwin Park', 'Los Angeles County', '91706'], 14906: ['Monrovia', 'Los Angeles County', '91016'], 24435: ['Bradbury', 'Los Angeles County', '91008'], 34636: ['Walnut', 'Los Angeles County', '91789'], 33252: ['Orange', 'Orange County', '92868'], 52842: ['Laguna Beach', 'Orange County', '92651'], 13693: ['San Clemente', 'Orange County', '92672'], 10608: ['Buena Park', 'Orange County', '90621'], 24832: ['Garden Grove', 'Orange County', '92840'], 40081: ['Santa Ana', 'Orange County', '92705'], 16389: ['Silverado', 'Orange County', '92676'], 8384: ['Westminster', 'Orange County', '92683'], 38032: ['Costa Mesa', 'Orange County', '92627'], 21412: ['Yorba Linda', 'Orange County', '92886'], 54970: ['Villa Park', 'Orange County', '92861'], 40009: ['Newport Beach', 'Orange County', '92660'], 25458: ['Laguna Hills', 'Orange County', '92653'], 12773: ['Mission Viejo', 'Orange County', '92691'], 37086: ['Laguna Hills', 'Orange County', '92656'], 25459: ['Laguna Niguel', 'Orange County', '92677'], 17686: ['San Juan Capistrano', 'Orange County', '92675'], 17597: ['Coto de Caza', 'Orange County', '92679'], 46098: ['Laguna Woods', 'Orange County', '92653'], 52835: ['Ladera Ranch', 'Orange County', '92694'], 21395: ['Llano', 'Los Angeles County', '93544'], 41484: ['Vernon', 'Los Angeles County', '90058'], 32927: ['Montclair', 'San Bernardino County', '91763'], 10815: ['Chino Hills', 'San Bernardino County', '91709'], 25535: ['Lebec', 'Los Angeles County', '93243'], 27512: ['Upland', 'Los Angeles County', '91786'], 6285: ['San Clemente', 'San Diego County', '92672'], 24797: ['Frazier Park', 'Ventura County', '93225'], 40633: ['Rosamond', 'Los Angeles County', '93560'], 48211: ['Valyermo', 'Los Angeles County', '93563'], 3980: ['Carpinteria', 'Santa Barbara County', '93013'], 37882: ['City of Industry', 'Los Angeles County', '91745'], 47913: ['Huntington Beach', 'Orange County', '90742'], 36078: ['Llano', 'Los Angeles County', '93544'], 19202: ['Frazier Park', 'Ventura County', '93225']}   "
   ]
  },
  {
   "cell_type": "code",
   "execution_count": 25,
   "metadata": {},
   "outputs": [
    {
     "name": "stdout",
     "output_type": "stream",
     "text": [
      "Index(['Zip Code ZCTA', '2010 Census Population'], dtype='object')\n"
     ]
    }
   ],
   "source": [
    "# Using external dataset\n",
    "# The 2010 US Census Population By Zip Code\n",
    "# https://blog.splitwise.com/2013/09/18/the-2010-us-census-population-by-zip-code-totally-free/\n",
    "# Population Growth rate from 2010 to 2016 is 5.16%\n",
    "\n",
    "census_2010_data = pd.read_csv(\"population_2010.csv\", low_memory=False)\n",
    "\n"
   ]
  },
  {
   "cell_type": "code",
   "execution_count": 26,
   "metadata": {},
   "outputs": [
    {
     "name": "stdout",
     "output_type": "stream",
     "text": [
      "{'91302': 25709, '90230': 31766, '91423': 30991, '91502': 11371, '91340': 34188, '91350': 33348, '93551': 50798, '93534': 39341, '90305': 14853, '90278': 40071, '90405': 27186, '90063': 55758, '90640': 62549, '91776': 38475, '90069': 20483, '91202': 22830, '91103': 27480, '91007': 34095, '91001': 36126, '90061': 26872, '90280': 94396, '90723': 54099, '90255': 75066, '90201': 101279, '90703': 49399, '90805': 93524, '90706': 76615, '90755': 11074, '90503': 44383, '90717': 21318, '90274': 25209, '90670': 14866, '90650': 105549, '90601': 31974, '91744': 85040, '91768': 34537, '91731': 29591, '91741': 25824, '90292': 21576, '91746': 30485, '91789': 43079, '90660': 62928, '90265': 18116, '91770': 62097, '90247': 47487, '90220': 49328, '90701': 16591, '90716': 14184, '90746': 25990, '90502': 18010, '91748': 45406, '90638': 49012, '91733': 43896, '91750': 33249, '91773': 33119, '91740': 25356, '91016': 40598, '91702': 59705, '92832': 24752, '92683': 89747, '92620': 38486, '90720': 21751, '92694': 21944, '92703': 65445, '90680': 29945, '92780': 57741, '92804': 85914, '92870': 52033, '92649': 32463, '92610': 11248, '92660': 34797, '92823': 3613, '93023': 20589, '93060': 32811, '93063': 54366, '91362': 36045, '93003': 50474, '93033': 82728, '93015': 17334, '93040': 2031, '93010': 42901, '93066': 3102, '93041': 23641, '93021': 36422, '91361': 20438, '91377': 13811, '91307': 24474, '91301': 25488, '91384': 29855, '93591': 7285, '93553': 2138, '93550': 74929, '93532': 2932, '90056': 7827, '90250': 93193, '90047': 48606, '90249': 26669, '90260': 34924, '90245': 16654, '90266': 35135, '90254': 19506, '90212': 11555, '90290': 6368, '91754': 32742, '90040': 12520, '91801': 52735, '91030': 25616, '91108': 13361, '91107': 32940, '91780': 34332, '91214': 30356, '91024': 10917, '91011': 20280, '90001': 57110, '90044': 89779, '90248': 9947, '90262': 69745, '90241': 42399, '90270': 27372, '90713': 27925, '90630': 47993, '90803': 32031, '90704': 4090, '90275': 41804, '90605': 40331, '90604': 39407, '90631': 67619, '90606': 32396, '91792': 30854, '91711': 35705, '91706': 76571, '91008': 1391, '92868': 25404, '92651': 23881, '92672': 34464, '90621': 35153, '92840': 54083, '92705': 44706, '92676': 1945, '92627': 61510, '92886': 46564, '92861': 5781, '92653': 29291, '92691': 47582, '92656': 49046, '92677': 63297, '92675': 34731, '92679': 32611, '93544': 1259, '90058': 3223, '91763': 36375, '91709': 74796, '93243': 1699, '91786': 51165, '93225': 5077, '93560': 18910, '93563': 388, '93013': 16091, '91745': 54013, '90742': 831}\n"
     ]
    }
   ],
   "source": [
    "region_zip_code_population = dict()\n",
    "for c in region_city_county:\n",
    "    region_zip_code_population[region_city_county[c][2]] = census_2010_data.get_value(census_2010_data.loc[census_2010_data['Zip Code ZCTA'] == int(region_city_county[c][2])].index[0], '2010 Census Population' ) \n"
   ]
  },
  {
   "cell_type": "code",
   "execution_count": 28,
   "metadata": {
    "collapsed": true
   },
   "outputs": [],
   "source": [
    "region_county = set([region_city_county[k][1] for k in region_city_county.keys()])\n",
    "region_county\n",
    "\n"
   ]
  },
  {
   "cell_type": "code",
   "execution_count": 30,
   "metadata": {
    "collapsed": true
   },
   "outputs": [],
   "source": [
    "region_county_tax_rates = {\"Orange\":0.715, \"Los Angeles\":0.793, \"Santa Barbara\":0.698, \"San Bernardino\":0.92, \"San Diego\":0.781, \"Ventura\":0.801}\n",
    "\n",
    "\n"
   ]
  },
  {
   "cell_type": "code",
   "execution_count": 38,
   "metadata": {
    "collapsed": true
   },
   "outputs": [],
   "source": [
    "zillow_data_preprocessing = zillow_data_feature_removal.copy()"
   ]
  },
  {
   "cell_type": "code",
   "execution_count": 40,
   "metadata": {
    "collapsed": true
   },
   "outputs": [],
   "source": [
    "lat_max = zillow_data_preprocessing.groupby(\"regionidzip\")[\"latitude\"].max().reset_index()"
   ]
  },
  {
   "cell_type": "code",
   "execution_count": 43,
   "metadata": {
    "collapsed": true
   },
   "outputs": [],
   "source": [
    "region_zip_latitude_longitude_ranges = dict()\n",
    "for z in zillow_data_feature_removal[\"regionidzip\"].unique():\n",
    "    region_zip_latitude_longitude_ranges[z] = [[0,0],[0,0]]\n",
    "\n",
    "#Creating a dictionary for latitude and longitude ranges    \n",
    "lat_max = zillow_data_preprocessing.groupby(\"regionidzip\")[\"latitude\"].max().reset_index()\n",
    "for i in range(len(lat_max[\"regionidzip\"])):\n",
    "    region_zip_latitude_longitude_ranges[lat_max[\"regionidzip\"][i]][0][1] = lat_max[\"latitude\"][i]\n",
    "    \n",
    "lat_min = zillow_data_preprocessing.groupby(\"regionidzip\")[\"latitude\"].min().reset_index()\n",
    "for i in range(len(lat_min[\"regionidzip\"])):\n",
    "    region_zip_latitude_longitude_ranges[lat_min[\"regionidzip\"][i]][0][0] = lat_min[\"latitude\"][i]\n",
    "    \n",
    "long_max = zillow_data_preprocessing.groupby(\"regionidzip\")[\"longitude\"].max().reset_index()\n",
    "for i in range(len(long_max[\"regionidzip\"])):\n",
    "    region_zip_latitude_longitude_ranges[long_max[\"regionidzip\"][i]][1][1] = long_max[\"longitude\"][i]\n",
    "\n",
    "long_min = zillow_data_preprocessing.groupby(\"regionidzip\")[\"longitude\"].min().reset_index()\n",
    "for i in range(len(long_min[\"regionidzip\"])):\n",
    "    region_zip_latitude_longitude_ranges[long_min[\"regionidzip\"][i]][1][0] = long_min[\"longitude\"][i]"
   ]
  },
  {
   "cell_type": "code",
   "execution_count": 59,
   "metadata": {
    "scrolled": true
   },
   "outputs": [
    {
     "name": "stdout",
     "output_type": "stream",
     "text": [
      "0\n",
      "100000\n",
      "200000\n",
      "300000\n",
      "400000\n",
      "500000\n",
      "600000\n",
      "700000\n",
      "800000\n",
      "900000\n",
      "1000000\n",
      "1100000\n",
      "1200000\n",
      "1300000\n",
      "1400000\n",
      "1500000\n",
      "1600000\n",
      "1700000\n",
      "1800000\n",
      "1900000\n",
      "2000000\n",
      "2100000\n",
      "2200000\n",
      "2300000\n",
      "2400000\n",
      "2500000\n",
      "2600000\n",
      "2700000\n",
      "2800000\n",
      "2900000\n"
     ]
    }
   ],
   "source": [
    "def find_region_zip_for_lat_long(region_zip_latitude_longitude_ranges, latitude, longitude):\n",
    "    for k in region_zip_latitude_longitude_ranges.keys():\n",
    "        if latitude<=region_zip_latitude_longitude_ranges[k][0][1] and latitude>=region_zip_latitude_longitude_ranges[k][0][0] and longitude<=region_zip_latitude_longitude_ranges[k][1][1] and longitude>=region_zip_latitude_longitude_ranges[k][1][0]:\n",
    "            return k\n",
    "\n",
    "for i in range(zillow_data_feature_removal.shape[0]):\n",
    "    if np.isnan(zillow_data_feature_removal.iloc[i][\"regionidzip\"]):\n",
    "        zillow_data_feature_removal.at[i,\"regionidzip\"] = find_region_zip_for_lat_long(region_zip_latitude_longitude_ranges, zillow_data_feature_removal.iloc[i][\"latitude\"], zillow_data_feature_removal.iloc[i][\"longitude\"])\n"
   ]
  },
  {
   "cell_type": "code",
   "execution_count": 64,
   "metadata": {
    "collapsed": true
   },
   "outputs": [],
   "source": [
    "zillow_data_feature_removal['regionidzip']=zillow_data_feature_removal['regionidzip'].fillna(zillow_data_feature_removal['regionidzip'].median())"
   ]
  },
  {
   "cell_type": "code",
   "execution_count": 71,
   "metadata": {},
   "outputs": [],
   "source": [
    "tax_median = zillow_data_feature_removal.groupby(\"regionidzip\")[\"taxamount\",\"structuretaxvaluedollarcnt\",\"landtaxvaluedollarcnt\"].median().reset_index()"
   ]
  },
  {
   "cell_type": "code",
   "execution_count": 73,
   "metadata": {},
   "outputs": [],
   "source": [
    "zipcode_tax = dict()\n",
    "for i in range(tax_median.shape[0]):\n",
    "    zipcode_tax[tax_median.iloc[i][\"regionidzip\"]] = [0,0,0]\n",
    "\n",
    "for i in range(tax_median.shape[0]):\n",
    "    zipcode_tax[tax_median.iloc[i][\"regionidzip\"]][0] = tax_median.iloc[i][\"taxamount\"]\n",
    "    zipcode_tax[tax_median.iloc[i][\"regionidzip\"]][1] = tax_median.iloc[i][\"structuretaxvaluedollarcnt\"]\n",
    "    zipcode_tax[tax_median.iloc[i][\"regionidzip\"]][2] = tax_median.iloc[i][\"landtaxvaluedollarcnt\"]"
   ]
  },
  {
   "cell_type": "code",
   "execution_count": 75,
   "metadata": {
    "scrolled": true
   },
   "outputs": [
    {
     "name": "stdout",
     "output_type": "stream",
     "text": [
      "0\n",
      "100000\n",
      "200000\n",
      "300000\n",
      "400000\n",
      "500000\n",
      "600000\n",
      "700000\n",
      "800000\n",
      "900000\n",
      "1000000\n",
      "1100000\n",
      "1200000\n",
      "1300000\n",
      "1400000\n",
      "1500000\n",
      "1600000\n",
      "1700000\n",
      "1800000\n",
      "1900000\n",
      "2000000\n",
      "2100000\n",
      "2200000\n",
      "2300000\n",
      "2400000\n",
      "2500000\n",
      "2600000\n",
      "2700000\n",
      "2800000\n",
      "2900000\n"
     ]
    }
   ],
   "source": [
    "for i in range(zillow_data_feature_removal.shape[0]):\n",
    "    if np.isnan(zillow_data_feature_removal.iloc[i][\"taxamount\"]):\n",
    "        zillow_data_feature_removal.at[i,\"taxamount\"] = zipcode_tax[zillow_data_feature_removal.iloc[i][\"regionidzip\"]][0]\n",
    "    if np.isnan(zillow_data_feature_removal.iloc[i][\"structuretaxvaluedollarcnt\"]):\n",
    "        zillow_data_feature_removal.at[i,\"structuretaxvaluedollarcnt\"] = zipcode_tax[zillow_data_feature_removal.iloc[i][\"regionidzip\"]][1]\n",
    "    if np.isnan(zillow_data_feature_removal.iloc[i][\"landtaxvaluedollarcnt\"]):\n",
    "        zillow_data_feature_removal.at[i,\"landtaxvaluedollarcnt\"] = zipcode_tax[zillow_data_feature_removal.iloc[i][\"regionidzip\"]][2] \n",
    "        \n",
    "        "
   ]
  },
  {
   "cell_type": "code",
   "execution_count": 77,
   "metadata": {
    "collapsed": true
   },
   "outputs": [],
   "source": [
    "zillow_data_feature_removal['taxamount']=zillow_data_feature_removal['taxamount'].fillna(zillow_data_feature_removal['taxamount'].median())\n",
    "\n"
   ]
  },
  {
   "cell_type": "code",
   "execution_count": 80,
   "metadata": {},
   "outputs": [
    {
     "name": "stdout",
     "output_type": "stream",
     "text": [
      "405\n"
     ]
    }
   ],
   "source": [
    "# creating a dict with unique region zip ids\n",
    "region_zip_unique = dict()\n",
    "max_zips = len(zillow_data_feature_removal[\"regionidzip\"].unique())\n",
    "row = 0\n",
    "while max_zips:\n",
    "    if (not (zillow_data_feature_removal.get_value(row,\"regionidzip\") in region_zip_unique)) and not np.isnan(zillow_data_feature_removal.get_value(row,\"regionidzip\")):\n",
    "        max_zips -= 1\n",
    "        region_zip_unique[int(zillow_data_feature_removal.get_value(row,\"regionidzip\"))] = [zillow_data_feature_removal.get_value(row,\"latitude\")/1000000.0, zillow_data_feature_removal.get_value(row,\"longitude\")/1000000.0]\n",
    "    row += 1\n",
    "print(len(region_zip_unique))\n",
    "    "
   ]
  },
  {
   "cell_type": "code",
   "execution_count": 84,
   "metadata": {},
   "outputs": [
    {
     "name": "stdout",
     "output_type": "stream",
     "text": [
      "{96337: ['Calabasas', 'Los Angeles County', '91302'], 96095: ['Culver City', 'Los Angeles County', '90230'], 96424: ['Los Angeles', 'Los Angeles County', '91423'], 96450: ['Los Angeles', 'Los Angeles County', '91605'], 96446: ['Los Angeles', 'Los Angeles County', '91601'], 96049: ['Los Angeles', 'Los Angeles County', '90068'], 96434: ['Burbank', 'Los Angeles County', '91502'], 96436: ['Burbank', 'Los Angeles County', '91504'], 96366: ['San Fernando', 'Los Angeles County', '91340'], 96370: ['Los Angeles', 'Los Angeles County', '91344'], 96377: ['Santa Clarita', 'Los Angeles County', '91354'], 96373: ['Santa Clarita', 'Los Angeles County', '91350'], 97329: ['Palmdale', 'Los Angeles County', '93551'], 97330: ['Palmdale', 'Los Angeles County', '93552'], 97317: ['Lancaster', 'Los Angeles County', '93534'], 97318: ['Lancaster', 'Los Angeles County', '93534'], 96024: ['Los Angeles', 'Los Angeles County', '90043'], 96137: ['Inglewood', 'Los Angeles County', '90305'], 96133: ['Inglewood', 'Los Angeles County', '90301'], 96136: ['Inglewood', 'Los Angeles County', '90304'], 96026: ['Los Angeles', 'Los Angeles County', '90045'], 96124: ['Redondo Beach', 'Los Angeles County', '90278'], 96097: ['Culver City', 'Los Angeles County', '90232'], 96072: ['Los Angeles', 'Los Angeles County', '90094'], 96047: ['Los Angeles', 'Los Angeles County', '90066'], 96149: ['Santa Monica', 'Los Angeles County', '90402'], 96152: ['Santa Monica', 'Los Angeles County', '90405'], 96148: ['Santa Monica', 'Los Angeles County', '90401'], 96045: ['Los Angeles', 'Los Angeles County', '90064'], 96005: ['Los Angeles', 'Los Angeles County', '90024'], 96030: ['Los Angeles', 'Los Angeles County', '90049'], 96043: ['Los Angeles', 'Los Angeles County', '90062'], 95987: ['Los Angeles', 'Los Angeles County', '90007'], 96000: ['Los Angeles', 'Los Angeles County', '90019'], 96017: ['Los Angeles', 'Los Angeles County', '90036'], 96018: ['Los Angeles', 'Los Angeles County', '90037'], 95996: ['Los Angeles', 'Los Angeles County', '90017'], 96038: ['Los Angeles', 'Los Angeles County', '90057'], 96012: ['Los Angeles', 'Los Angeles County', '90031'], 96013: ['Los Angeles', 'Los Angeles County', '90032'], 96044: ['Los Angeles', 'Los Angeles County', '90063'], 96004: ['Los Angeles', 'Los Angeles County', '90023'], 96192: ['Montebello', 'Los Angeles County', '90640'], 96515: ['San Gabriel', 'Los Angeles County', '91776'], 96007: ['Los Angeles', 'Los Angeles County', '90026'], 95993: ['Los Angeles', 'Los Angeles County', '90012'], 96020: ['Los Angeles', 'Los Angeles County', '90039'], 96046: ['Los Angeles', 'Los Angeles County', '90065'], 96023: ['Los Angeles', 'Los Angeles County', '90042'], 96009: ['Los Angeles', 'Los Angeles County', '90028'], 96050: ['West Hollywood', 'Los Angeles County', '90069'], 96008: ['Los Angeles', 'Los Angeles County', '90027'], 96321: ['Glendale', 'Los Angeles County', '91202'], 96325: ['Glendale', 'Los Angeles County', '91206'], 96291: ['Pasadena', 'Los Angeles County', '91103'], 96289: ['Pasadena', 'Los Angeles County', '91101'], 96268: ['Arcadia', 'Los Angeles County', '91007'], 96265: ['Altadena', 'Los Angeles County', '91001'], 96292: ['Pasadena', 'Los Angeles County', '91104'], 95984: ['Los Angeles', 'Los Angeles County', '90003'], 96025: ['Los Angeles', 'Los Angeles County', '90044'], 96028: ['Los Angeles', 'Los Angeles County', '90047'], 96042: ['Los Angeles', 'Los Angeles County', '90061'], 96104: ['Gardena', 'Los Angeles County', '90247'], 96125: ['South Gate', 'Los Angeles County', '90280'], 96220: ['Paramount', 'Los Angeles County', '90723'], 96110: ['Huntington Park', 'Los Angeles County', '90255'], 96083: ['Bell Gardens', 'Los Angeles County', '90201'], 96003: ['East Los Angeles', 'Los Angeles County', '90022'], 96206: ['Cerritos', 'Los Angeles County', '90703'], 96239: ['Long Beach', 'Los Angeles County', '90805'], 96208: ['Bellflower', 'Los Angeles County', '90706'], 96234: ['Signal Hill', 'Los Angeles County', '90755'], 96246: ['Long Beach', 'Los Angeles County', '90814'], 96245: ['Long Beach', 'Los Angeles County', '90813'], 96236: ['Long Beach', 'Los Angeles County', '90802'], 96159: ['Torrance', 'Los Angeles County', '90501'], 96161: ['Torrance', 'Los Angeles County', '90503'], 96217: ['Lomita', 'Los Angeles County', '90717'], 96221: ['Los Angeles', 'Los Angeles County', '90731'], 96123: ['Redondo Beach', 'Los Angeles County', '90277'], 96163: ['Torrance', 'Los Angeles County', '90505'], 96121: ['Palos Verdes Estates', 'Los Angeles County', '90274'], 96201: ['Santa Fe Springs', 'Los Angeles County', '90670'], 96193: ['Norwalk', 'Los Angeles County', '90650'], 96169: ['Whittier', 'Los Angeles County', '90601'], 96488: ['La Puente', 'Los Angeles County', '91744'], 96508: ['Pomona', 'Los Angeles County', '91768'], 96478: ['El Monte', 'Los Angeles County', '91731'], 96486: ['Glendora', 'Los Angeles County', '91741'], 96485: ['Glendora', 'Los Angeles County', '91740'], 96506: ['Pomona', 'Los Angeles County', '91766'], 96128: ['Marina del Rey', 'Los Angeles County', '90292'], 96364: ['Los Angeles', 'Los Angeles County', '91335'], 96415: ['Los Angeles', 'Los Angeles County', '91406'], 96490: ['City of Industry', 'Los Angeles County', '91746'], 96368: ['Los Angeles', 'Los Angeles County', '91342'], 96361: ['Los Angeles', 'Los Angeles County', '91331'], 96371: ['Los Angeles', 'Los Angeles County', '91345'], 96346: ['Los Angeles', 'Los Angeles County', '91311'], 96339: ['Los Angeles', 'Los Angeles County', '91304'], 96354: ['Los Angeles', 'Los Angeles County', '91324'], 96374: ['Santa Clarita', 'Los Angeles County', '91351'], 96352: ['Santa Clarita', 'Los Angeles County', '91321'], 96401: ['Santa Clarita', 'Los Angeles County', '91387'], 97328: ['Palmdale', 'Los Angeles County', '93550'], 97319: ['Lancaster', 'Los Angeles County', '93536'], 96522: ['Diamond Bar', 'Los Angeles County', '91789'], 96197: ['Pico Rivera', 'Los Angeles County', '90660'], 96116: ['Malibu', 'Los Angeles County', '90265'], 96510: ['Rosemead', 'Los Angeles County', '91770'], 96237: ['Long Beach', 'Los Angeles County', '90803'], 96090: ['Compton', 'Los Angeles County', '90220'], 96204: ['Artesia', 'Los Angeles County', '90701'], 96216: ['Hawaiian Gardens', 'Los Angeles County', '90716'], 96091: ['Compton', 'Los Angeles County', '90221'], 96244: ['Long Beach', 'Los Angeles County', '90810'], 96230: ['Carson', 'Los Angeles County', '90746'], 96229: ['Carson', 'Los Angeles County', '90745'], 96160: ['Torrance', 'Los Angeles County', '90502'], 96210: ['West Carson', 'Los Angeles County', '90710'], 96228: ['Los Angeles', 'Los Angeles County', '90744'], 96222: ['Los Angeles', 'Los Angeles County', '90732'], 96492: ['Rowland Heights', 'Los Angeles County', '91748'], 96190: ['La Mirada', 'Los Angeles County', '90638'], 96480: ['South El Monte', 'Los Angeles County', '91733'], 96479: ['El Monte', 'Los Angeles County', '91732'], 96489: ['La Puente', 'Los Angeles County', '91746'], 96507: ['Pomona', 'Los Angeles County', '91767'], 96494: ['La Verne', 'Los Angeles County', '91750'], 96513: ['San Dimas', 'Los Angeles County', '91773'], 96475: ['Glendora', 'Los Angeles County', '91740'], 96473: ['Covina', 'Los Angeles County', '91722'], 96273: ['Monrovia', 'Los Angeles County', '91016'], 96464: ['Azusa', 'Los Angeles County', '91702'], 96040: ['Los Angeles', 'Los Angeles County', '90059'], 97040: ['Fullerton', 'Orange County', '92832'], 96990: ['Westminster', 'Orange County', '92683'], 96954: ['Irvine', 'Orange County', '92620'], 96218: ['Los Alamitos', 'Orange County', '90720'], 96959: ['Costa Mesa', 'Orange County', '92627'], 96947: ['Irvine', 'Orange County', '92612'], 96952: ['Irvine', 'Orange County', '92618'], 96998: ['Ladera Ranch', 'Orange County', '92694'], 97003: ['Santa Ana', 'Orange County', '92703'], 96203: ['Stanton', 'Orange County', '90680'], 97016: ['Tustin', 'Orange County', '92780'], 97023: ['Anaheim', 'Orange County', '92804'], 97068: ['Placentia', 'Orange County', '92870'], 96967: ['Huntington Beach', 'Orange County', '92649'], 97067: ['Irvine', 'Orange County', '92602'], 96962: ['Lake Forest', 'Orange County', '92610'], 96978: ['Newport Beach', 'Orange County', '92660'], 97037: ['Brea', 'Orange County', '92823'], 96951: ['Irvine', 'Orange County', '92617'], 97099: ['Ojai', 'Ventura County', '93023'], 97113: ['Santa Paula', 'Ventura County', '93060'], 97116: ['Simi Valley', 'Ventura County', '93063'], 96385: ['Thousand Oaks', 'Ventura County', '91362'], 97083: ['Ventura', 'Ventura County', '93003'], 97104: ['Oxnard', 'Ventura County', '93033'], 97101: ['Oxnard', 'Ventura County', '93030'], 96351: ['Thousand Oaks', 'Ventura County', '91320'], 97098: ['Ojai', 'Ventura County', '93023'], 97081: ['Ventura', 'Ventura County', '93001'], 97094: ['Fillmore', 'Ventura County', '93015'], 97108: ['Piru', 'Ventura County', '93040'], 97084: ['Ventura', 'Ventura County', '93004'], 97089: ['Camarillo', 'Ventura County', '93010'], 97119: ['Somis', 'Ventura County', '93066'], 97107: ['Oxnard', 'Ventura County', '93036'], 97091: ['Camarillo', 'Ventura County', '93012'], 97106: ['Oxnard', 'Ventura County', '93035'], 97109: ['Port Hueneme', 'Ventura County', '93041'], 97097: ['Moorpark', 'Ventura County', '93021'], 96383: ['Thousand Oaks', 'Ventura County', '91360'], 97118: ['Simi Valley', 'Ventura County', '93065'], 96384: ['Westlake Village', 'Ventura County', '91361'], 96393: ['Oak Park', 'Ventura County', '91377'], 96342: ['Bell Canyon', 'Ventura County', '91307'], 96338: ['Los Angeles', 'Los Angeles County', '91303'], 96389: ['Los Angeles', 'Los Angeles County', '91367'], 96336: ['Agoura Hills', 'Los Angeles County', '91301'], 96387: ['Los Angeles', 'Los Angeles County', '91364'], 96355: ['Los Angeles', 'Los Angeles County', '91325'], 96341: ['Los Angeles', 'Los Angeles County', '91306'], 96349: ['Los Angeles', 'Los Angeles County', '91316'], 96379: ['Los Angeles', 'Los Angeles County', '91356'], 96411: ['Los Angeles', 'Los Angeles County', '91402'], 96414: ['Los Angeles', 'Los Angeles County', '91405'], 96420: ['Los Angeles', 'Los Angeles County', '91411'], 96410: ['Los Angeles', 'Los Angeles County', '91401'], 96412: ['Los Angeles', 'Los Angeles County', '91403'], 96426: ['Los Angeles', 'Los Angeles County', '91436'], 96058: ['Los Angeles', 'Los Angeles County', '90077'], 96375: ['Los Angeles', 'Los Angeles County', '91352'], 96451: ['Los Angeles', 'Los Angeles County', '91606'], 96452: ['Los Angeles', 'Los Angeles County', '91607'], 96447: ['Los Angeles', 'Los Angeles County', '91602'], 96449: ['Los Angeles', 'Los Angeles County', '91604'], 96086: ['Beverly Hills', 'Los Angeles County', '90210'], 96437: ['Burbank', 'Los Angeles County', '91505'], 96027: ['Los Angeles', 'Los Angeles County', '90046'], 96438: ['Burbank', 'Los Angeles County', '91506'], 96433: ['Burbank', 'Los Angeles County', '91501'], 96282: ['Los Angeles', 'Los Angeles County', '91040'], 96284: ['Los Angeles', 'Los Angeles County', '91042'], 96369: ['Los Angeles', 'Los Angeles County', '91345'], 96356: ['Los Angeles', 'Los Angeles County', '91326'], 96403: ['Santa Clarita', 'Los Angeles County', '91390'], 96395: ['Stevenson Ranch', 'Los Angeles County', '91381'], 96378: ['Santa Clarita', 'Los Angeles County', '91355'], 96398: ['Castaic', 'Los Angeles County', '91384'], 97344: ['Palmdale', 'Los Angeles County', '93591'], 97331: ['Pearblossom', 'Los Angeles County', '93553'], 97323: ['Littlerock', 'Los Angeles County', '93543'], 97298: ['Acton', 'Los Angeles County', '93510'], 97324: ['Llano', 'Los Angeles County', '93544'], 97316: ['Lake Hughes', 'Los Angeles County', '93532'], 96037: ['Los Angeles', 'Los Angeles County', '90056'], 96134: ['Inglewood', 'Los Angeles County', '90302'], 96135: ['Inglewood', 'Los Angeles County', '90303'], 96107: ['Hawthorne', 'Los Angeles County', '90250'], 96106: ['Gardena', 'Los Angeles County', '90249'], 96162: ['Torrance', 'Los Angeles County', '90504'], 96111: ['Lawndale', 'Los Angeles County', '90260'], 96105: ['Gardena', 'Los Angeles County', '90248'], 96129: ['Los Angeles', 'Los Angeles County', '90293'], 96103: ['El Segundo', 'Los Angeles County', '90245'], 96117: ['Manhattan Beach', 'Los Angeles County', '90266'], 96109: ['Hermosa Beach', 'Los Angeles County', '90254'], 95997: ['Los Angeles', 'Los Angeles County', '90016'], 96127: ['Los Angeles', 'Los Angeles County', '90291'], 96001: ['Los Angeles', 'Los Angeles County', '90020'], 96015: ['Los Angeles', 'Los Angeles County', '90034'], 96006: ['Los Angeles', 'Los Angeles County', '90025'], 96150: ['Santa Monica', 'Los Angeles County', '90403'], 96151: ['Santa Monica', 'Los Angeles County', '90404'], 96016: ['Los Angeles', 'Los Angeles County', '90035'], 96048: ['Los Angeles', 'Los Angeles County', '90067'], 96088: ['Beverly Hills', 'Los Angeles County', '90212'], 96087: ['Beverly Hills', 'Los Angeles County', '90211'], 96029: ['Los Angeles', 'Los Angeles County', '90048'], 96120: ['Los Angeles', 'Los Angeles County', '90272'], 96126: ['Topanga', 'Los Angeles County', '90290'], 95989: ['Los Angeles', 'Los Angeles County', '90008'], 95999: ['Los Angeles', 'Los Angeles County', '90018'], 95988: ['Los Angeles', 'Los Angeles County', '90007'], 95986: ['Los Angeles', 'Los Angeles County', '90005'], 95991: ['Los Angeles', 'Los Angeles County', '90010'], 95992: ['Los Angeles', 'Los Angeles County', '90011'], 96039: ['Los Angeles', 'Los Angeles County', '90058'], 96002: ['Los Angeles', 'Los Angeles County', '90015'], 95995: ['Los Angeles', 'Los Angeles County', '90014'], 96014: ['Los Angeles', 'Los Angeles County', '90033'], 96496: ['Monterey Park', 'Los Angeles County', '91754'], 96021: ['Commerce', 'Los Angeles County', '90040'], 96497: ['Monterey Park', 'Los Angeles County', '91755'], 96533: ['Alhambra', 'Los Angeles County', '91801'], 96531: ['Alhambra', 'Los Angeles County', '91801'], 96280: ['South Pasadena', 'Los Angeles County', '91030'], 96296: ['San Marino', 'Los Angeles County', '91108'], 96294: ['Pasadena', 'Los Angeles County', '91106'], 96295: ['Pasadena', 'Los Angeles County', '91107'], 96514: ['San Gabriel', 'Los Angeles County', '91775'], 96517: ['Temple City', 'Los Angeles County', '91780'], 96010: ['Los Angeles', 'Los Angeles County', '90029'], 96022: ['Los Angeles', 'Los Angeles County', '90041'], 96293: ['Pasadena', 'Los Angeles County', '91105'], 95985: ['Los Angeles', 'Los Angeles County', '90004'], 96019: ['Los Angeles', 'Los Angeles County', '90038'], 96330: ['Glendale', 'Los Angeles County', '91214'], 96275: ['Glendale', 'Los Angeles County', '91020'], 96327: ['Glendale', 'Los Angeles County', '91208'], 96320: ['Glendale', 'Los Angeles County', '91201'], 96326: ['Glendale', 'Los Angeles County', '91207'], 96322: ['Glendale', 'Los Angeles County', '91203'], 96324: ['Glendale', 'Los Angeles County', '91205'], 96323: ['Glendale', 'Los Angeles County', '91204'], 96278: ['Sierra Madre', 'Los Angeles County', '91024'], 96267: ['Arcadia', 'Los Angeles County', '91006'], 96271: ['La Cañada Flintridge', 'Los Angeles County', '91011'], 95982: ['Los Angeles', 'Los Angeles County', '90001'], 95983: ['Los Angeles', 'Los Angeles County', '90002'], 96092: ['Compton', 'Los Angeles County', '90222'], 96113: ['Lynwood', 'Los Angeles County', '90262'], 96101: ['Downey', 'Los Angeles County', '90241'], 96102: ['Downey', 'Los Angeles County', '90242'], 96119: ['Maywood', 'Los Angeles County', '90270'], 96100: ['Downey', 'Los Angeles County', '90240'], 96213: ['Lakewood', 'Los Angeles County', '90713'], 96215: ['Lakewood', 'Los Angeles County', '90715'], 96242: ['Long Beach', 'Los Angeles County', '90808'], 96241: ['Long Beach', 'Los Angeles County', '90807'], 96212: ['Lakewood', 'Los Angeles County', '90712'], 96240: ['Long Beach', 'Los Angeles County', '90806'], 96247: ['Long Beach', 'Los Angeles County', '90815'], 96238: ['Long Beach', 'Los Angeles County', '90804'], 96207: ['Avalon', 'Los Angeles County', '90704'], 96122: ['Rancho Palos Verdes', 'Los Angeles County', '90275'], 96173: ['Whittier', 'Los Angeles County', '90605'], 96172: ['Whittier', 'Los Angeles County', '90604'], 96174: ['Whittier', 'Los Angeles County', '90606'], 96170: ['Whittier', 'Los Angeles County', '90602'], 96171: ['Whittier', 'Los Angeles County', '90603'], 96186: ['La Habra Heights', 'Los Angeles County', '90631'], 96505: ['Diamond Bar', 'Los Angeles County', '91765'], 96524: ['West Covina', 'Los Angeles County', '91791'], 96469: ['Claremont', 'Los Angeles County', '91711'], 96465: ['Irwindale', 'Los Angeles County', '91706'], 96474: ['Covina', 'Los Angeles County', '91723'], 96523: ['Covina', 'Los Angeles County', '91722'], 96270: ['Duarte', 'Los Angeles County', '91010'], 399675: ['Bradbury', 'Los Angeles County', '91008'], 96467: ['Chino Hills', 'Los Angeles County', '91709'], 96525: ['West Covina', 'Los Angeles County', '91792'], 97006: ['Santa Ana', 'Orange County', '92706'], 97001: ['Santa Ana', 'Orange County', '92701'], 97007: ['Santa Ana', 'Orange County', '92707'], 96966: ['Huntington Beach', 'Orange County', '92648'], 97043: ['Fullerton', 'Orange County', '92835'], 97039: ['Fullerton', 'Orange County', '92831'], 97041: ['Fullerton', 'Orange County', '92833'], 97024: ['Anaheim', 'Orange County', '92805'], 97020: ['Anaheim', 'Orange County', '92801'], 97021: ['Anaheim', 'Orange County', '92802'], 97066: ['Orange', 'Orange County', '92868'], 97064: ['Orange', 'Orange County', '92866'], 97065: ['Orange', 'Orange County', '92867'], 96981: ['Newport Beach', 'Orange County', '92663'], 96979: ['Newport Beach', 'Orange County', '92661'], 96980: ['Newport Beach', 'Orange County', '92662'], 96957: ['Newport Beach', 'Orange County', '92625'], 96969: ['Laguna Beach', 'Orange County', '92651'], 96982: ['San Clemente', 'Orange County', '92672'], 96181: ['Buena Park', 'Orange County', '90621'], 96180: ['Buena Park', 'Orange County', '90620'], 97025: ['Anaheim', 'Orange County', '92806'], 97026: ['Anaheim', 'Orange County', '92807'], 96225: ['Seal Beach', 'Orange County', '90740'], 97047: ['Garden Grove', 'Orange County', '92840'], 97005: ['Santa Ana', 'Orange County', '92705'], 97051: ['Garden Grove', 'Orange County', '92844'], 96973: ['Midway City', 'Orange County', '92655'], 97050: ['Garden Grove', 'Orange County', '92843'], 96986: ['Silverado', 'Orange County', '92676'], 96965: ['Huntington Beach', 'Orange County', '92647'], 97008: ['Fountain Valley', 'Orange County', '92708'], 97004: ['Santa Ana', 'Orange County', '92704'], 96964: ['Huntington Beach', 'Orange County', '92646'], 96985: ['San Juan Capistrano', 'Orange County', '92675'], 96956: ['Dana Point', 'Orange County', '92624'], 97052: ['Garden Grove', 'Orange County', '92845'], 97048: ['Garden Grove', 'Orange County', '92841'], 96185: ['Cypress', 'Orange County', '90630'], 96958: ['Costa Mesa', 'Orange County', '92626'], 96226: ['Huntington Beach', 'Orange County', '92649'], 96183: ['La Palma', 'Orange County', '90623'], 97035: ['Brea', 'Orange County', '92821'], 97078: ['Yorba Linda', 'Orange County', '92886'], 97079: ['Yorba Linda', 'Orange County', '92887'], 97027: ['Anaheim', 'Orange County', '92808'], 97063: ['Orange', 'Orange County', '92865'], 97059: ['Villa Park', 'Orange County', '92861'], 96943: ['Irvine', 'Orange County', '92606'], 96948: ['Irvine', 'Orange County', '92614'], 96941: ['Irvine', 'Orange County', '92604'], 96975: ['Newport Beach', 'Orange County', '92657'], 96940: ['Irvine', 'Orange County', '92603'], 97018: ['Tustin', 'Orange County', '92782'], 96939: ['Irvine', 'Orange County', '92602'], 96946: ['Lake Forest', 'Orange County', '92610'], 96989: ['Trabuco Canyon', 'Orange County', '92679'], 96971: ['Laguna Hills', 'Orange County', '92653'], 96995: ['Mission Viejo', 'Orange County', '92691'], 96974: ['Laguna Hills', 'Orange County', '92656'], 96987: ['Laguna Niguel', 'Orange County', '92677'], 96961: ['San Juan Capistrano', 'Orange County', '92675'], 96983: ['San Clemente', 'Orange County', '92673'], 96996: ['Mission Viejo', 'Orange County', '92692'], 96993: ['Rancho Santa Margarita', 'Orange County', '92688'], 96963: ['Laguna Woods', 'Orange County', '92637'], 95994: ['Los Angeles', 'Los Angeles County', '90013'], 95998: ['Los Angeles', 'Los Angeles County', '90017'], 96329: ['Glendale', 'Los Angeles County', '91204'], 96500: ['Mount Baldy', 'Los Angeles County', '91759'], 97177: ['Lebec', 'Los Angeles County', '93243'], 97111: ['Port Hueneme', 'Ventura County', '93041'], 96859: ['Wrightwood', 'Los Angeles County', '92397'], 97092: [None, 'Ventura County', None], 97336: ['Rosamond', 'Los Angeles County', '93560'], 97164: ['Frazier Park', 'Ventura County', '93225'], 97339: ['Valyermo', 'Los Angeles County', '93563'], 97088: ['Ventura', 'Ventura County', '93001'], 96988: ['Trabuco Canyon', 'Orange County', '92679'], 96068: ['Los Angeles', 'Los Angeles County', '90068'], 96114: ['Malibu', 'Los Angeles County', '90265'], 97185: ['Maricopa', 'Ventura County', '93252'], 96034: ['Los Angeles', 'Los Angeles County', '90272'], 96069: ['Los Angeles', 'Los Angeles County', '90089'], 96258: ['Long Beach', 'Los Angeles County', '90808'], 96953: ['Silverado', 'Orange County', '92676'], 96313: ['Pasadena', 'Los Angeles County', '91105'], 97096: ['Moorpark', 'Ventura County', '93021'], 96453: ['Los Angeles', 'Los Angeles County', '90068']}\n"
     ]
    }
   ],
   "source": [
    "# creating mapping between regionidzip abd city,county,postal code\n",
    "# \n",
    "# from pygeocoder import Geocoder\n",
    "# region_zip_county = dict()\n",
    "# for city in region_zip_unique.keys():\n",
    "#    location = Geocoder.reverse_geocode(region_zip_unique[city][0],region_zip_unique[city][1])\n",
    "#    region_zip_county[city] = [location.city, location.county, location.postal_code]\n",
    "region_zip_county = {96337: ['Calabasas', 'Los Angeles County', '91302'], 96095: ['Culver City', 'Los Angeles County', '90230'], 96424: ['Los Angeles', 'Los Angeles County', '91423'], 96450: ['Los Angeles', 'Los Angeles County', '91605'], 96446: ['Los Angeles', 'Los Angeles County', '91601'], 96049: ['Los Angeles', 'Los Angeles County', '90068'], 96434: ['Burbank', 'Los Angeles County', '91502'], 96436: ['Burbank', 'Los Angeles County', '91504'], 96366: ['San Fernando', 'Los Angeles County', '91340'], 96370: ['Los Angeles', 'Los Angeles County', '91344'], 96377: ['Santa Clarita', 'Los Angeles County', '91354'], 96373: ['Santa Clarita', 'Los Angeles County', '91350'], 97329: ['Palmdale', 'Los Angeles County', '93551'], 97330: ['Palmdale', 'Los Angeles County', '93552'], 97317: ['Lancaster', 'Los Angeles County', '93534'], 97318: ['Lancaster', 'Los Angeles County', '93534'], 96024: ['Los Angeles', 'Los Angeles County', '90043'], 96137: ['Inglewood', 'Los Angeles County', '90305'], 96133: ['Inglewood', 'Los Angeles County', '90301'], 96136: ['Inglewood', 'Los Angeles County', '90304'], 96026: ['Los Angeles', 'Los Angeles County', '90045'], 96124: ['Redondo Beach', 'Los Angeles County', '90278'], 96097: ['Culver City', 'Los Angeles County', '90232'], 96072: ['Los Angeles', 'Los Angeles County', '90094'], 96047: ['Los Angeles', 'Los Angeles County', '90066'], 96149: ['Santa Monica', 'Los Angeles County', '90402'], 96152: ['Santa Monica', 'Los Angeles County', '90405'], 96148: ['Santa Monica', 'Los Angeles County', '90401'], 96045: ['Los Angeles', 'Los Angeles County', '90064'], 96005: ['Los Angeles', 'Los Angeles County', '90024'], 96030: ['Los Angeles', 'Los Angeles County', '90049'], 96043: ['Los Angeles', 'Los Angeles County', '90062'], 95987: ['Los Angeles', 'Los Angeles County', '90007'], 96000: ['Los Angeles', 'Los Angeles County', '90019'], 96017: ['Los Angeles', 'Los Angeles County', '90036'], 96018: ['Los Angeles', 'Los Angeles County', '90037'], 95996: ['Los Angeles', 'Los Angeles County', '90017'], 96038: ['Los Angeles', 'Los Angeles County', '90057'], 96012: ['Los Angeles', 'Los Angeles County', '90031'], 96013: ['Los Angeles', 'Los Angeles County', '90032'], 96044: ['Los Angeles', 'Los Angeles County', '90063'], 96004: ['Los Angeles', 'Los Angeles County', '90023'], 96192: ['Montebello', 'Los Angeles County', '90640'], 96515: ['San Gabriel', 'Los Angeles County', '91776'], 96007: ['Los Angeles', 'Los Angeles County', '90026'], 95993: ['Los Angeles', 'Los Angeles County', '90012'], 96020: ['Los Angeles', 'Los Angeles County', '90039'], 96046: ['Los Angeles', 'Los Angeles County', '90065'], 96023: ['Los Angeles', 'Los Angeles County', '90042'], 96009: ['Los Angeles', 'Los Angeles County', '90028'], 96050: ['West Hollywood', 'Los Angeles County', '90069'], 96008: ['Los Angeles', 'Los Angeles County', '90027'], 96321: ['Glendale', 'Los Angeles County', '91202'], 96325: ['Glendale', 'Los Angeles County', '91206'], 96291: ['Pasadena', 'Los Angeles County', '91103'], 96289: ['Pasadena', 'Los Angeles County', '91101'], 96268: ['Arcadia', 'Los Angeles County', '91007'], 96265: ['Altadena', 'Los Angeles County', '91001'], 96292: ['Pasadena', 'Los Angeles County', '91104'], 95984: ['Los Angeles', 'Los Angeles County', '90003'], 96025: ['Los Angeles', 'Los Angeles County', '90044'], 96028: ['Los Angeles', 'Los Angeles County', '90047'], 96042: ['Los Angeles', 'Los Angeles County', '90061'], 96104: ['Gardena', 'Los Angeles County', '90247'], 96125: ['South Gate', 'Los Angeles County', '90280'], 96220: ['Paramount', 'Los Angeles County', '90723'], 96110: ['Huntington Park', 'Los Angeles County', '90255'], 96083: ['Bell Gardens', 'Los Angeles County', '90201'], 96003: ['East Los Angeles', 'Los Angeles County', '90022'], 96206: ['Cerritos', 'Los Angeles County', '90703'], 96239: ['Long Beach', 'Los Angeles County', '90805'], 96208: ['Bellflower', 'Los Angeles County', '90706'], 96234: ['Signal Hill', 'Los Angeles County', '90755'], 96246: ['Long Beach', 'Los Angeles County', '90814'], 96245: ['Long Beach', 'Los Angeles County', '90813'], 96236: ['Long Beach', 'Los Angeles County', '90802'], 96159: ['Torrance', 'Los Angeles County', '90501'], 96161: ['Torrance', 'Los Angeles County', '90503'], 96217: ['Lomita', 'Los Angeles County', '90717'], 96221: ['Los Angeles', 'Los Angeles County', '90731'], 96123: ['Redondo Beach', 'Los Angeles County', '90277'], 96163: ['Torrance', 'Los Angeles County', '90505'], 96121: ['Palos Verdes Estates', 'Los Angeles County', '90274'], 96201: ['Santa Fe Springs', 'Los Angeles County', '90670'], 96193: ['Norwalk', 'Los Angeles County', '90650'], 96169: ['Whittier', 'Los Angeles County', '90601'], 96488: ['La Puente', 'Los Angeles County', '91744'], 96508: ['Pomona', 'Los Angeles County', '91768'], 96478: ['El Monte', 'Los Angeles County', '91731'], 96486: ['Glendora', 'Los Angeles County', '91741'], 96485: ['Glendora', 'Los Angeles County', '91740'], 96506: ['Pomona', 'Los Angeles County', '91766'], 96128: ['Marina del Rey', 'Los Angeles County', '90292'], 96364: ['Los Angeles', 'Los Angeles County', '91335'], 96415: ['Los Angeles', 'Los Angeles County', '91406'], 96490: ['City of Industry', 'Los Angeles County', '91746'], 96368: ['Los Angeles', 'Los Angeles County', '91342'], 96361: ['Los Angeles', 'Los Angeles County', '91331'], 96371: ['Los Angeles', 'Los Angeles County', '91345'], 96346: ['Los Angeles', 'Los Angeles County', '91311'], 96339: ['Los Angeles', 'Los Angeles County', '91304'], 96354: ['Los Angeles', 'Los Angeles County', '91324'], 96374: ['Santa Clarita', 'Los Angeles County', '91351'], 96352: ['Santa Clarita', 'Los Angeles County', '91321'], 96401: ['Santa Clarita', 'Los Angeles County', '91387'], 97328: ['Palmdale', 'Los Angeles County', '93550'], 97319: ['Lancaster', 'Los Angeles County', '93536'], 96522: ['Diamond Bar', 'Los Angeles County', '91789'], 96197: ['Pico Rivera', 'Los Angeles County', '90660'], 96116: ['Malibu', 'Los Angeles County', '90265'], 96510: ['Rosemead', 'Los Angeles County', '91770'], 96237: ['Long Beach', 'Los Angeles County', '90803'], 96090: ['Compton', 'Los Angeles County', '90220'], 96204: ['Artesia', 'Los Angeles County', '90701'], 96216: ['Hawaiian Gardens', 'Los Angeles County', '90716'], 96091: ['Compton', 'Los Angeles County', '90221'], 96244: ['Long Beach', 'Los Angeles County', '90810'], 96230: ['Carson', 'Los Angeles County', '90746'], 96229: ['Carson', 'Los Angeles County', '90745'], 96160: ['Torrance', 'Los Angeles County', '90502'], 96210: ['West Carson', 'Los Angeles County', '90710'], 96228: ['Los Angeles', 'Los Angeles County', '90744'], 96222: ['Los Angeles', 'Los Angeles County', '90732'], 96492: ['Rowland Heights', 'Los Angeles County', '91748'], 96190: ['La Mirada', 'Los Angeles County', '90638'], 96480: ['South El Monte', 'Los Angeles County', '91733'], 96479: ['El Monte', 'Los Angeles County', '91732'], 96489: ['La Puente', 'Los Angeles County', '91746'], 96507: ['Pomona', 'Los Angeles County', '91767'], 96494: ['La Verne', 'Los Angeles County', '91750'], 96513: ['San Dimas', 'Los Angeles County', '91773'], 96475: ['Glendora', 'Los Angeles County', '91740'], 96473: ['Covina', 'Los Angeles County', '91722'], 96273: ['Monrovia', 'Los Angeles County', '91016'], 96464: ['Azusa', 'Los Angeles County', '91702'], 96040: ['Los Angeles', 'Los Angeles County', '90059'], 97040: ['Fullerton', 'Orange County', '92832'], 96990: ['Westminster', 'Orange County', '92683'], 96954: ['Irvine', 'Orange County', '92620'], 96218: ['Los Alamitos', 'Orange County', '90720'], 96959: ['Costa Mesa', 'Orange County', '92627'], 96947: ['Irvine', 'Orange County', '92612'], 96952: ['Irvine', 'Orange County', '92618'], 96998: ['Ladera Ranch', 'Orange County', '92694'], 97003: ['Santa Ana', 'Orange County', '92703'], 96203: ['Stanton', 'Orange County', '90680'], 97016: ['Tustin', 'Orange County', '92780'], 97023: ['Anaheim', 'Orange County', '92804'], 97068: ['Placentia', 'Orange County', '92870'], 96967: ['Huntington Beach', 'Orange County', '92649'], 97067: ['Irvine', 'Orange County', '92602'], 96962: ['Lake Forest', 'Orange County', '92610'], 96978: ['Newport Beach', 'Orange County', '92660'], 97037: ['Brea', 'Orange County', '92823'], 96951: ['Irvine', 'Orange County', '92617'], 97099: ['Ojai', 'Ventura County', '93023'], 97113: ['Santa Paula', 'Ventura County', '93060'], 97116: ['Simi Valley', 'Ventura County', '93063'], 96385: ['Thousand Oaks', 'Ventura County', '91362'], 97083: ['Ventura', 'Ventura County', '93003'], 97104: ['Oxnard', 'Ventura County', '93033'], 97101: ['Oxnard', 'Ventura County', '93030'], 96351: ['Thousand Oaks', 'Ventura County', '91320'], 97098: ['Ojai', 'Ventura County', '93023'], 97081: ['Ventura', 'Ventura County', '93001'], 97094: ['Fillmore', 'Ventura County', '93015'], 97108: ['Piru', 'Ventura County', '93040'], 97084: ['Ventura', 'Ventura County', '93004'], 97089: ['Camarillo', 'Ventura County', '93010'], 97119: ['Somis', 'Ventura County', '93066'], 97107: ['Oxnard', 'Ventura County', '93036'], 97091: ['Camarillo', 'Ventura County', '93012'], 97106: ['Oxnard', 'Ventura County', '93035'], 97109: ['Port Hueneme', 'Ventura County', '93041'], 97097: ['Moorpark', 'Ventura County', '93021'], 96383: ['Thousand Oaks', 'Ventura County', '91360'], 97118: ['Simi Valley', 'Ventura County', '93065'], 96384: ['Westlake Village', 'Ventura County', '91361'], 96393: ['Oak Park', 'Ventura County', '91377'], 96342: ['Bell Canyon', 'Ventura County', '91307'], 96338: ['Los Angeles', 'Los Angeles County', '91303'], 96389: ['Los Angeles', 'Los Angeles County', '91367'], 96336: ['Agoura Hills', 'Los Angeles County', '91301'], 96387: ['Los Angeles', 'Los Angeles County', '91364'], 96355: ['Los Angeles', 'Los Angeles County', '91325'], 96341: ['Los Angeles', 'Los Angeles County', '91306'], 96349: ['Los Angeles', 'Los Angeles County', '91316'], 96379: ['Los Angeles', 'Los Angeles County', '91356'], 96411: ['Los Angeles', 'Los Angeles County', '91402'], 96414: ['Los Angeles', 'Los Angeles County', '91405'], 96420: ['Los Angeles', 'Los Angeles County', '91411'], 96410: ['Los Angeles', 'Los Angeles County', '91401'], 96412: ['Los Angeles', 'Los Angeles County', '91403'], 96426: ['Los Angeles', 'Los Angeles County', '91436'], 96058: ['Los Angeles', 'Los Angeles County', '90077'], 96375: ['Los Angeles', 'Los Angeles County', '91352'], 96451: ['Los Angeles', 'Los Angeles County', '91606'], 96452: ['Los Angeles', 'Los Angeles County', '91607'], 96447: ['Los Angeles', 'Los Angeles County', '91602'], 96449: ['Los Angeles', 'Los Angeles County', '91604'], 96086: ['Beverly Hills', 'Los Angeles County', '90210'], 96437: ['Burbank', 'Los Angeles County', '91505'], 96027: ['Los Angeles', 'Los Angeles County', '90046'], 96438: ['Burbank', 'Los Angeles County', '91506'], 96433: ['Burbank', 'Los Angeles County', '91501'], 96282: ['Los Angeles', 'Los Angeles County', '91040'], 96284: ['Los Angeles', 'Los Angeles County', '91042'], 96369: ['Los Angeles', 'Los Angeles County', '91345'], 96356: ['Los Angeles', 'Los Angeles County', '91326'], 96403: ['Santa Clarita', 'Los Angeles County', '91390'], 96395: ['Stevenson Ranch', 'Los Angeles County', '91381'], 96378: ['Santa Clarita', 'Los Angeles County', '91355'], 96398: ['Castaic', 'Los Angeles County', '91384'], 97344: ['Palmdale', 'Los Angeles County', '93591'], 97331: ['Pearblossom', 'Los Angeles County', '93553'], 97323: ['Littlerock', 'Los Angeles County', '93543'], 97298: ['Acton', 'Los Angeles County', '93510'], 97324: ['Llano', 'Los Angeles County', '93544'], 97316: ['Lake Hughes', 'Los Angeles County', '93532'], 96037: ['Los Angeles', 'Los Angeles County', '90056'], 96134: ['Inglewood', 'Los Angeles County', '90302'], 96135: ['Inglewood', 'Los Angeles County', '90303'], 96107: ['Hawthorne', 'Los Angeles County', '90250'], 96106: ['Gardena', 'Los Angeles County', '90249'], 96162: ['Torrance', 'Los Angeles County', '90504'], 96111: ['Lawndale', 'Los Angeles County', '90260'], 96105: ['Gardena', 'Los Angeles County', '90248'], 96129: ['Los Angeles', 'Los Angeles County', '90293'], 96103: ['El Segundo', 'Los Angeles County', '90245'], 96117: ['Manhattan Beach', 'Los Angeles County', '90266'], 96109: ['Hermosa Beach', 'Los Angeles County', '90254'], 95997: ['Los Angeles', 'Los Angeles County', '90016'], 96127: ['Los Angeles', 'Los Angeles County', '90291'], 96001: ['Los Angeles', 'Los Angeles County', '90020'], 96015: ['Los Angeles', 'Los Angeles County', '90034'], 96006: ['Los Angeles', 'Los Angeles County', '90025'], 96150: ['Santa Monica', 'Los Angeles County', '90403'], 96151: ['Santa Monica', 'Los Angeles County', '90404'], 96016: ['Los Angeles', 'Los Angeles County', '90035'], 96048: ['Los Angeles', 'Los Angeles County', '90067'], 96088: ['Beverly Hills', 'Los Angeles County', '90212'], 96087: ['Beverly Hills', 'Los Angeles County', '90211'], 96029: ['Los Angeles', 'Los Angeles County', '90048'], 96120: ['Los Angeles', 'Los Angeles County', '90272'], 96126: ['Topanga', 'Los Angeles County', '90290'], 95989: ['Los Angeles', 'Los Angeles County', '90008'], 95999: ['Los Angeles', 'Los Angeles County', '90018'], 95988: ['Los Angeles', 'Los Angeles County', '90007'], 95986: ['Los Angeles', 'Los Angeles County', '90005'], 95991: ['Los Angeles', 'Los Angeles County', '90010'], 95992: ['Los Angeles', 'Los Angeles County', '90011'], 96039: ['Los Angeles', 'Los Angeles County', '90058'], 96002: ['Los Angeles', 'Los Angeles County', '90015'], 95995: ['Los Angeles', 'Los Angeles County', '90014'], 96014: ['Los Angeles', 'Los Angeles County', '90033'], 96496: ['Monterey Park', 'Los Angeles County', '91754'], 96021: ['Commerce', 'Los Angeles County', '90040'], 96497: ['Monterey Park', 'Los Angeles County', '91755'], 96533: ['Alhambra', 'Los Angeles County', '91801'], 96531: ['Alhambra', 'Los Angeles County', '91801'], 96280: ['South Pasadena', 'Los Angeles County', '91030'], 96296: ['San Marino', 'Los Angeles County', '91108'], 96294: ['Pasadena', 'Los Angeles County', '91106'], 96295: ['Pasadena', 'Los Angeles County', '91107'], 96514: ['San Gabriel', 'Los Angeles County', '91775'], 96517: ['Temple City', 'Los Angeles County', '91780'], 96010: ['Los Angeles', 'Los Angeles County', '90029'], 96022: ['Los Angeles', 'Los Angeles County', '90041'], 96293: ['Pasadena', 'Los Angeles County', '91105'], 95985: ['Los Angeles', 'Los Angeles County', '90004'], 96019: ['Los Angeles', 'Los Angeles County', '90038'], 96330: ['Glendale', 'Los Angeles County', '91214'], 96275: ['Glendale', 'Los Angeles County', '91020'], 96327: ['Glendale', 'Los Angeles County', '91208'], 96320: ['Glendale', 'Los Angeles County', '91201'], 96326: ['Glendale', 'Los Angeles County', '91207'], 96322: ['Glendale', 'Los Angeles County', '91203'], 96324: ['Glendale', 'Los Angeles County', '91205'], 96323: ['Glendale', 'Los Angeles County', '91204'], 96278: ['Sierra Madre', 'Los Angeles County', '91024'], 96267: ['Arcadia', 'Los Angeles County', '91006'], 96271: ['La Cañada Flintridge', 'Los Angeles County', '91011'], 95982: ['Los Angeles', 'Los Angeles County', '90001'], 95983: ['Los Angeles', 'Los Angeles County', '90002'], 96092: ['Compton', 'Los Angeles County', '90222'], 96113: ['Lynwood', 'Los Angeles County', '90262'], 96101: ['Downey', 'Los Angeles County', '90241'], 96102: ['Downey', 'Los Angeles County', '90242'], 96119: ['Maywood', 'Los Angeles County', '90270'], 96100: ['Downey', 'Los Angeles County', '90240'], 96213: ['Lakewood', 'Los Angeles County', '90713'], 96215: ['Lakewood', 'Los Angeles County', '90715'], 96242: ['Long Beach', 'Los Angeles County', '90808'], 96241: ['Long Beach', 'Los Angeles County', '90807'], 96212: ['Lakewood', 'Los Angeles County', '90712'], 96240: ['Long Beach', 'Los Angeles County', '90806'], 96247: ['Long Beach', 'Los Angeles County', '90815'], 96238: ['Long Beach', 'Los Angeles County', '90804'], 96207: ['Avalon', 'Los Angeles County', '90704'], 96122: ['Rancho Palos Verdes', 'Los Angeles County', '90275'], 96173: ['Whittier', 'Los Angeles County', '90605'], 96172: ['Whittier', 'Los Angeles County', '90604'], 96174: ['Whittier', 'Los Angeles County', '90606'], 96170: ['Whittier', 'Los Angeles County', '90602'], 96171: ['Whittier', 'Los Angeles County', '90603'], 96186: ['La Habra Heights', 'Los Angeles County', '90631'], 96505: ['Diamond Bar', 'Los Angeles County', '91765'], 96524: ['West Covina', 'Los Angeles County', '91791'], 96469: ['Claremont', 'Los Angeles County', '91711'], 96465: ['Irwindale', 'Los Angeles County', '91706'], 96474: ['Covina', 'Los Angeles County', '91723'], 96523: ['Covina', 'Los Angeles County', '91722'], 96270: ['Duarte', 'Los Angeles County', '91010'], 399675: ['Bradbury', 'Los Angeles County', '91008'], 96467: ['Chino Hills', 'Los Angeles County', '91709'], 96525: ['West Covina', 'Los Angeles County', '91792'], 97006: ['Santa Ana', 'Orange County', '92706'], 97001: ['Santa Ana', 'Orange County', '92701'], 97007: ['Santa Ana', 'Orange County', '92707'], 96966: ['Huntington Beach', 'Orange County', '92648'], 97043: ['Fullerton', 'Orange County', '92835'], 97039: ['Fullerton', 'Orange County', '92831'], 97041: ['Fullerton', 'Orange County', '92833'], 97024: ['Anaheim', 'Orange County', '92805'], 97020: ['Anaheim', 'Orange County', '92801'], 97021: ['Anaheim', 'Orange County', '92802'], 97066: ['Orange', 'Orange County', '92868'], 97064: ['Orange', 'Orange County', '92866'], 97065: ['Orange', 'Orange County', '92867'], 96981: ['Newport Beach', 'Orange County', '92663'], 96979: ['Newport Beach', 'Orange County', '92661'], 96980: ['Newport Beach', 'Orange County', '92662'], 96957: ['Newport Beach', 'Orange County', '92625'], 96969: ['Laguna Beach', 'Orange County', '92651'], 96982: ['San Clemente', 'Orange County', '92672'], 96181: ['Buena Park', 'Orange County', '90621'], 96180: ['Buena Park', 'Orange County', '90620'], 97025: ['Anaheim', 'Orange County', '92806'], 97026: ['Anaheim', 'Orange County', '92807'], 96225: ['Seal Beach', 'Orange County', '90740'], 97047: ['Garden Grove', 'Orange County', '92840'], 97005: ['Santa Ana', 'Orange County', '92705'], 97051: ['Garden Grove', 'Orange County', '92844'], 96973: ['Midway City', 'Orange County', '92655'], 97050: ['Garden Grove', 'Orange County', '92843'], 96986: ['Silverado', 'Orange County', '92676'], 96965: ['Huntington Beach', 'Orange County', '92647'], 97008: ['Fountain Valley', 'Orange County', '92708'], 97004: ['Santa Ana', 'Orange County', '92704'], 96964: ['Huntington Beach', 'Orange County', '92646'], 96985: ['San Juan Capistrano', 'Orange County', '92675'], 96956: ['Dana Point', 'Orange County', '92624'], 97052: ['Garden Grove', 'Orange County', '92845'], 97048: ['Garden Grove', 'Orange County', '92841'], 96185: ['Cypress', 'Orange County', '90630'], 96958: ['Costa Mesa', 'Orange County', '92626'], 96226: ['Huntington Beach', 'Orange County', '92649'], 96183: ['La Palma', 'Orange County', '90623'], 97035: ['Brea', 'Orange County', '92821'], 97078: ['Yorba Linda', 'Orange County', '92886'], 97079: ['Yorba Linda', 'Orange County', '92887'], 97027: ['Anaheim', 'Orange County', '92808'], 97063: ['Orange', 'Orange County', '92865'], 97059: ['Villa Park', 'Orange County', '92861'], 96943: ['Irvine', 'Orange County', '92606'], 96948: ['Irvine', 'Orange County', '92614'], 96941: ['Irvine', 'Orange County', '92604'], 96975: ['Newport Beach', 'Orange County', '92657'], 96940: ['Irvine', 'Orange County', '92603'], 97018: ['Tustin', 'Orange County', '92782'], 96939: ['Irvine', 'Orange County', '92602'], 96946: ['Lake Forest', 'Orange County', '92610'], 96989: ['Trabuco Canyon', 'Orange County', '92679'], 96971: ['Laguna Hills', 'Orange County', '92653'], 96995: ['Mission Viejo', 'Orange County', '92691'], 96974: ['Laguna Hills', 'Orange County', '92656'], 96987: ['Laguna Niguel', 'Orange County', '92677'], 96961: ['San Juan Capistrano', 'Orange County', '92675'], 96983: ['San Clemente', 'Orange County', '92673'], 96996: ['Mission Viejo', 'Orange County', '92692'], 96993: ['Rancho Santa Margarita', 'Orange County', '92688'], 96963: ['Laguna Woods', 'Orange County', '92637'], 95994: ['Los Angeles', 'Los Angeles County', '90013'], 95998: ['Los Angeles', 'Los Angeles County', '90017'], 96329: ['Glendale', 'Los Angeles County', '91204'], 96500: ['Mount Baldy', 'Los Angeles County', '91759'], 97177: ['Lebec', 'Los Angeles County', '93243'], 97111: ['Port Hueneme', 'Ventura County', '93041'], 96859: ['Wrightwood', 'Los Angeles County', '92397'], 97092: [None, 'Ventura County', None], 97336: ['Rosamond', 'Los Angeles County', '93560'], 97164: ['Frazier Park', 'Ventura County', '93225'], 97339: ['Valyermo', 'Los Angeles County', '93563'], 97088: ['Ventura', 'Ventura County', '93001'], 96988: ['Trabuco Canyon', 'Orange County', '92679'], 96068: ['Los Angeles', 'Los Angeles County', '90068'], 96114: ['Malibu', 'Los Angeles County', '90265'], 97185: ['Maricopa', 'Ventura County', '93252'], 96034: ['Los Angeles', 'Los Angeles County', '90272'], 96069: ['Los Angeles', 'Los Angeles County', '90089'], 96258: ['Long Beach', 'Los Angeles County', '90808'], 96953: ['Silverado', 'Orange County', '92676'], 96313: ['Pasadena', 'Los Angeles County', '91105'], 97096: ['Moorpark', 'Ventura County', '93021'], 96453: ['Los Angeles', 'Los Angeles County', '90068']}"
   ]
  },
  {
   "cell_type": "code",
   "execution_count": 92,
   "metadata": {},
   "outputs": [],
   "source": [
    "regionidzip_actual_zip= pd.DataFrame.from_dict(region_zip_county,orient='index')"
   ]
  },
  {
   "cell_type": "code",
   "execution_count": 96,
   "metadata": {},
   "outputs": [],
   "source": [
    "zillow_final = zillow_data_feature_removal.copy()"
   ]
  },
  {
   "cell_type": "code",
   "execution_count": 99,
   "metadata": {},
   "outputs": [
    {
     "name": "stdout",
     "output_type": "stream",
     "text": [
      "0\n",
      "100000\n",
      "200000\n",
      "300000\n",
      "400000\n",
      "500000\n",
      "600000\n",
      "700000\n",
      "800000\n",
      "900000\n",
      "1000000\n",
      "1100000\n",
      "1200000\n",
      "1300000\n",
      "1400000\n",
      "1500000\n",
      "1600000\n",
      "1700000\n",
      "1800000\n",
      "1900000\n",
      "2000000\n",
      "2100000\n",
      "2200000\n",
      "2300000\n",
      "2400000\n",
      "2500000\n",
      "2600000\n",
      "2700000\n",
      "2800000\n",
      "2900000\n"
     ]
    }
   ],
   "source": [
    "# adding actual zip in the data set \n",
    "for i in range(zillow_final.shape[0]):\n",
    "    zillow_final.at[i,\"zipcode\"] = region_zip_county[zillow_final.iloc[i][\"regionidzip\"]][2]\n",
    "    "
   ]
  },
  {
   "cell_type": "code",
   "execution_count": 104,
   "metadata": {},
   "outputs": [
    {
     "name": "stderr",
     "output_type": "stream",
     "text": [
      "/Users/vinod/anaconda/lib/python3.6/site-packages/bs4/__init__.py:181: UserWarning: No parser was explicitly specified, so I'm using the best available HTML parser for this system (\"lxml\"). This usually isn't a problem, but if you run this code on another system, or in a different virtual environment, it may use a different parser and behave differently.\n",
      "\n",
      "The code that caused this warning is on line 193 of the file /Users/vinod/anaconda/lib/python3.6/runpy.py. To get rid of this warning, change code that looks like this:\n",
      "\n",
      " BeautifulSoup(YOUR_MARKUP})\n",
      "\n",
      "to this:\n",
      "\n",
      " BeautifulSoup(YOUR_MARKUP, \"lxml\")\n",
      "\n",
      "  markup_type=markup_type))\n"
     ]
    },
    {
     "name": "stdout",
     "output_type": "stream",
     "text": [
      "{92067: 67923.18, 94105: 63103.55, 94028: 63018.77, 90077: 57298.38, 94022: 55932.69, 92304: 55351.3, 95618: 53176.92, 94123: 52614.91, 92091: 52213.07, 90402: 51321.65, 90272: 50153.88, 92210: 49288.08, 95030: 48985.0, 92625: 48819.51, 95735: 48733.5, 95070: 48664.08, 94507: 48610.07, 92657: 48306.78, 94301: 47455.34, 94024: 47372.43, 90067: 47062.89, 94506: 47016.17, 94920: 46503.06, 94065: 45833.19, 93953: 45651.85, 90210: 45575.71, 94708: 45323.58, 94563: 45049.62, 94970: 44537.37, 90274: 44353.01, 92660: 43999.55, 90292: 43766.67, 90266: 43060.26, 94304: 42839.23, 93108: 42678.57, 92662: 42670.95, 92014: 42556.58, 90049: 42382.91, 94707: 42264.71, 90265: 42199.58, 94965: 41743.48, 90254: 41718.97, 94114: 41380.87, 94941: 41118.47, 95033: 40871.65, 91436: 40255.69, 94526: 40209.16, 95120: 39905.98, 91108: 39452.65, 91105: 39313.15, 94404: 39071.01, 94549: 39059.62, 94111: 39013.1, 94062: 38363.89, 94904: 38207.41, 94556: 38187.98, 92861: 38123.53, 95032: 38007.35, 95837: 37931.6, 94131: 37832.84, 94020: 37775.42, 94127: 37524.8, 94939: 37498.51, 91011: 37347.62, 94070: 36936.1, 95497: 36876.06, 92651: 36848.08, 94618: 36769.81, 95134: 36639.29, 94025: 36560.0, 90293: 36497.25, 92602: 36493.18, 94583: 36483.97, 95014: 36239.13, 90290: 36188.16, 93645: 36186.53, 92782: 36124.79, 90275: 35956.02, 94552: 35847.96, 92694: 35843.99, 95135: 35584.44, 94306: 35480.17, 92130: 35444.91, 94517: 35405.86, 94950: 35210.92, 91361: 35079.35, 92518: 35005.82, 92679: 34983.9, 94002: 34603.85, 94037: 34506.99, 94598: 34467.34, 95978: 34410.11, 94010: 34388.28, 90803: 34382.39, 90742: 34191.71, 90069: 34143.33, 90277: 34131.5, 95607: 33924.37, 91302: 33832.61, 94107: 33715.38, 94588: 33688.73, 95138: 33677.2, 94402: 33656.91, 94087: 33407.87, 94502: 33404.94, 94566: 33372.96, 95746: 33328.71, 96133: 33293.84, 96141: 33273.25, 92887: 32992.38, 92663: 32832.35, 94611: 32477.83, 92676: 32209.47, 93923: 32208.13, 94539: 32169.4, 92661: 32146.5, 94514: 31995.86, 92808: 31773.02, 94705: 31533.33, 92673: 31531.85, 94586: 31388.12, 94041: 31141.74, 92610: 31017.48, 93921: 30714.29, 92075: 30692.0, 92037: 33184.06, 92131: 32432.5, 92270: 32994.27, 95683: 32608.33, 91377: 31759.22, 91362: 30904.06, 90403: 32912.57, 91604: 31904.23, 94925: 32544.12, 94117: 32478.68, 94960: 31664.05, 91364: 32282.11, 95041: 31632.41, 90212: 30672.86, 92009: 30669.88, 90056: 30590.25, 92649: 30508.19, 94903: 30499.14, 94043: 30407.52, 90068: 30396.55, 94596: 30372.17, 92677: 30358.33, 91381: 30247.22, 95728: 30164.73, 95762: 30108.22, 92121: 30106.38, 93908: 30101.41, 91355: 30049.01, 94946: 29997.64, 92656: 29995.18, 93563: 29988.13, 91024: 29937.27, 94040: 29907.79, 94130: 29874.17, 91301: 29873.74, 94005: 29844.55, 95129: 29771.16, 94019: 29760.79, 92692: 29744.6, 94115: 29664.32, 92620: 29611.99, 92384: 29611.65, 92128: 29502.65, 91208: 29470.54, 92118: 29290.31, 94086: 29241.15, 93924: 29239.92, 92614: 29141.67, 94568: 29102.64, 94595: 29049.72, 90278: 28885.48, 95003: 28769.87, 95054: 28758.11, 95066: 28743.8, 94038: 28742.01, 94523: 28738.98, 95124: 28730.18, 91326: 28579.86, 95125: 28470.12, 95008: 28377.5, 95139: 28365.57, 95819: 28187.37, 95765: 28167.8, 94576: 28109.92, 95630: 28061.3, 94074: 28041.83, 95051: 28025.67, 91784: 27993.13, 92106: 27982.43, 93554: 27979.65, 92321: 27958.33, 96146: 27947.6, 90405: 27922.65, 92648: 27893.91, 94569: 29251.9, 93012: 27643.87, 94118: 27627.35, 92886: 27579.87, 95119: 27478.44, 94403: 27408.98, 92629: 27382.2, 91354: 27373.55, 95944: 27355.22, 94923: 27294.26, 90048: 27117.82, 94930: 27098.22, 91403: 27068.69, 90245: 27022.47, 92305: 26980.74, 91320: 26942.91, 95131: 26918.77, 94555: 26892.36, 93262: 26878.61, 90064: 26871.3, 92606: 26850.94, 94550: 26795.0, 95037: 26794.14, 92688: 26777.26, 91423: 26731.98, 95130: 26728.0, 91367: 26676.52, 92007: 26642.8, 90732: 26616.74, 92807: 26613.59, 94030: 26588.67, 92646: 26579.39, 94129: 26559.93, 94109: 26490.24, 94949: 26488.8, 92127: 26485.56, 92338: 26458.5, 91602: 26367.58, 92835: 26326.88, 94089: 26301.97, 92618: 26274.38, 95007: 26177.32, 91935: 26153.42, 94044: 26096.75, 95006: 26082.4, 94947: 26058.37, 90211: 26011.71, 95136: 26009.72, 95429: 25971.75, 94610: 25960.85, 95118: 25934.04, 93105: 25910.31, 91711: 25838.37, 92691: 25836.43, 94510: 25765.23, 95123: 25749.32, 91307: 25719.44, 94945: 25656.81, 94542: 25655.76, 92211: 25613.24, 92604: 25544.13, 91360: 25543.62, 94121: 25422.22, 95864: 25348.94, 90401: 25320.14, 94530: 25291.11, 90036: 25262.43, 93460: 25250.74, 90815: 25237.19, 94547: 25235.67, 90025: 25161.05, 94061: 25131.4, 94938: 25111.16, 94536: 25098.92, 92024: 25096.47, 95714: 25000.0, 94706: 24957.64, 91207: 24938.8, 92122: 24899.04, 94553: 24856.79, 95742: 24812.5, 92108: 24782.56, 95233: 24776.27, 94599: 24720.41, 94518: 24685.44, 95452: 24650.21, 92129: 24636.39, 94951: 24520.78, 95364: 24488.16, 94574: 24483.53, 95747: 24483.27, 96103: 24465.38, 92120: 24451.49, 90720: 24429.37, 95638: 24398.66, 90505: 24392.37, 90808: 24375.48, 95035: 24370.32, 90743: 24325.2, 95923: 24305.36, 92612: 24297.18, 95831: 24291.95, 96140: 24267.78, 91350: 24225.97, 91030: 24217.83, 93669: 24207.56, 95018: 24204.82, 95050: 24164.34, 90024: 24148.73, 93111: 24144.33, 94973: 24140.08, 96145: 24134.96, 93109: 24109.32, 95442: 24094.42, 95614: 24038.46, 95005: 24004.81, 95628: 23961.51, 91962: 23959.18, 95409: 23942.08, 93950: 23934.76, 96016: 23923.44, 91311: 23858.24, 91741: 23822.97, 95672: 23775.43, 90045: 23767.23, 91902: 23730.77, 94122: 23723.83, 93711: 23719.58, 95132: 23718.91, 90035: 23703.32, 92103: 23699.4, 95682: 23696.32, 95736: 23692.81, 91737: 23689.64, 94954: 23673.08, 94901: 23671.54, 92630: 23637.02, 94521: 23620.88, 91709: 23595.18, 94538: 23571.28, 94116: 23543.11, 92109: 23542.71, 90503: 23533.2, 92845: 23531.69, 92672: 23502.06, 93065: 23501.3, 92029: 23461.62, 92823: 23431.85, 92119: 23419.67, 95650: 23414.7, 91505: 23411.76, 95661: 23349.0, 94963: 23333.2, 92708: 23314.38, 94546: 23283.53, 93940: 23275.0, 92064: 23252.44, 94956: 23244.5, 95405: 23242.86, 93720: 23231.95, 92624: 23204.96, 95389: 23198.2, 95703: 23196.8, 95658: 23156.92, 94929: 23145.15, 90291: 23115.66, 92869: 23089.41, 95942: 23088.84, 93010: 23082.12, 94508: 23078.57, 91214: 23075.8, 93441: 23059.77, 91384: 23032.09, 93449: 23030.2, 92328: 22998.88, 90740: 22987.43, 94066: 22855.72, 95758: 22827.52, 92317: 22817.75, 92008: 22778.1, 95443: 22760.12, 95065: 22758.75, 94924: 22746.55, 91316: 22745.83, 94525: 22743.93, 93063: 22740.2, 95693: 22729.0, 91901: 22709.82, 91773: 22607.12, 94501: 22563.48, 94803: 22525.27, 94933: 22523.46, 91915: 22520.94, 94952: 22503.56, 94964: 22489.54, 95456: 22483.96, 92626: 22453.1, 92506: 22430.58, 91107: 22391.27, 95073: 22366.27, 90623: 22361.17, 93424: 22355.06, 95432: 22321.43, 94602: 22306.85, 95010: 22304.83, 95722: 22295.97, 90713: 22265.96, 94513: 22245.13, 95472: 22217.53, 95148: 22183.13, 95689: 22170.21, 95412: 22156.9, 91001: 22140.42, 92653: 22140.28, 93311: 22072.73, 93021: 22067.82, 93510: 22059.4, 96142: 22048.25, 91914: 22041.99, 91765: 22034.07, 91750: 22031.39, 95663: 22021.82, 92352: 21959.93, 91344: 21941.55, 92821: 21921.85, 93003: 21917.27, 94132: 21912.35, 95017: 21911.2, 95128: 21909.41, 94564: 21871.94, 94511: 21850.96, 90703: 21828.14, 90630: 21784.59, 94401: 21783.4, 95004: 21767.52, 96161: 21765.17, 90046: 21743.02, 91506: 21730.34, 95060: 21719.68, 92881: 21710.09, 95936: 21683.67, 91701: 21575.4, 95835: 21563.05, 91739: 21547.71, 92107: 21545.45, 95688: 21542.86, 95624: 21519.61, 94567: 21428.57, 92003: 21423.99, 95117: 21422.3, 93035: 21408.73, 95404: 21402.43, 93551: 21401.57, 95346: 21386.42, 91106: 21383.94, 92883: 21372.92, 91789: 21370.81, 93962: 21357.3, 94560: 21273.01, 95816: 21254.22, 93110: 21252.23, 93605: 21250.0, 90603: 21188.57, 91913: 21125.55, 95492: 21124.08, 93463: 21112.96, 94709: 21100.0, 94519: 21099.27, 95219: 21086.19, 91356: 21073.77, 92592: 21057.01, 95476: 21050.0, 90712: 21045.04, 96110: 21016.74, 90814: 21009.05, 92313: 20990.11, 94558: 20971.91, 92078: 20932.03, 93611: 20921.5, 91504: 20903.75, 93004: 20883.04, 90230: 20843.5, 93531: 20833.46, 95677: 20811.92, 94133: 20807.11, 93529: 20781.9, 92373: 20766.23, 92124: 20759.3, 94585: 20757.86, 94015: 20750.48, 95946: 20734.02, 92260: 20717.22, 95460: 20715.31, 90807: 20714.34, 95829: 20705.84, 95426: 20669.29, 95665: 20657.26, 91101: 20641.62, 92870: 20640.72, 92675: 20635.08, 94060: 20631.47, 92264: 20617.37, 95445: 20580.8, 92508: 20569.16, 91006: 20552.1, 95126: 20538.11, 91351: 20518.06, 92705: 20515.79, 92587: 20509.09, 94931: 20508.63, 94591: 20477.18, 95603: 20472.57, 92562: 20459.47, 94937: 20440.85, 95589: 20418.4, 95629: 20392.5, 95633: 20389.18, 93428: 20379.73, 94922: 20354.41, 91775: 20307.17, 93430: 20301.89, 95687: 20289.64, 95549: 20283.02, 93066: 20206.09, 95046: 20193.86, 95436: 20179.74, 93022: 20174.49, 96061: 20170.45, 95685: 20164.83, 92339: 20161.23, 96108: 20145.05, 94619: 20139.03, 92561: 20132.87, 94587: 20129.69, 92110: 20119.8, 92860: 20110.41, 93420: 20097.6, 94080: 20094.75, 94572: 20094.31, 95662: 20042.8, 94577: 20034.65, 92019: 20030.5, 93532: 20008.43, 91202: 20007.23, 95949: 20006.3, 92267: 19984.06, 92056: 19953.9, 94579: 19935.19, 92036: 19931.38, 90638: 19910.97, 95608: 19866.52, 93920: 19857.69, 91724: 19851.68, 91040: 19806.87, 94561: 19806.52, 95403: 19786.42, 95383: 19782.13, 95254: 19770.24, 92647: 19769.07, 96124: 19764.81, 95223: 19718.14, 92867: 19699.69, 95625: 19676.13, 92065: 19675.57, 93312: 19675.08, 93907: 19666.34, 94509: 19666.12, 95410: 19655.83, 91942: 19649.54, 92060: 19618.83, 92126: 19618.57, 94928: 19604.53, 93023: 19578.76, 94971: 19576.45, 93271: 19573.57, 90232: 19542.8, 92253: 19530.71, 90404: 19520.1, 95376: 19495.27, 93452: 19493.18, 91007: 19488.59, 94703: 19482.14, 92880: 19426.61, 93432: 19396.14, 95631: 19391.63, 92382: 19390.04, 95242: 19386.17, 91941: 19373.84, 92397: 19341.47, 95062: 19322.59, 92117: 19283.67, 94805: 19272.03, 93402: 19261.73, 95448: 19250.75, 91607: 19225.12, 92071: 19222.86, 95462: 19209.55, 93546: 19204.1, 95524: 19183.14, 95678: 19156.37, 94110: 19144.13, 92342: 19143.82, 95606: 19137.97, 95247: 19117.18, 90066: 19105.51, 95450: 19028.71, 93455: 19018.21, 95667: 19006.77, 95212: 18987.17, 95843: 18958.65, 92123: 18948.85, 92082: 18940.39, 93422: 18917.87, 95601: 18877.55, 93251: 18859.65, 95366: 18858.45, 95020: 18837.03, 94580: 18825.52, 95446: 18823.58, 95417: 18820.33, 96073: 18803.87, 93013: 18791.34, 92591: 18787.46, 95959: 18771.72, 95974: 18750.2, 90305: 18734.02, 95321: 18701.37, 90504: 18666.79, 95938: 18650.91, 93536: 18633.33, 93544: 18621.01, 94305: 18609.46, 95818: 18590.57, 91916: 18567.59, 95258: 18556.08, 95471: 18547.69, 95133: 18536.41, 94021: 18528.51, 90601: 18526.32, 94303: 18517.58, 91325: 18505.68, 94571: 18500.82, 93664: 18494.3, 91020: 18480.0, 92358: 18478.78, 95602: 18477.22, 92532: 18450.63, 95960: 18447.14, 95713: 18398.06, 92865: 18381.46, 95441: 18351.56, 93067: 18338.42, 93427: 18331.0, 95121: 18327.49, 95726: 18323.11, 93555: 18288.8, 93222: 18281.25, 92268: 18281.2, 92555: 18277.49, 93465: 18249.48, 95975: 18221.63, 95659: 18201.93, 90746: 18162.08, 95825: 18158.76, 95401: 18152.03, 91791: 18134.19, 91501: 18078.51, 95830: 18053.69, 94702: 18022.94, 96087: 18005.39, 95493: 17991.01, 91740: 17984.98, 94545: 17972.56, 95709: 17968.48, 91745: 17964.46, 90039: 17958.66, 92026: 17941.11, 96121: 17927.67, 94515: 17870.97, 95635: 17849.63, 96029: 17843.87, 91948: 17834.66, 93526: 17821.8, 95610: 17812.94, 95064: 17807.91, 92116: 17789.45, 95642: 17786.22, 95648: 17767.72, 92831: 17756.69, 93453: 17747.01, 95826: 17734.17, 93265: 17733.92, 94108: 17720.22, 94578: 17677.08, 92584: 17671.1, 95420: 17669.63, 95227: 17667.17, 95209: 17630.0, 92866: 17629.18, 90240: 17560.76, 92325: 17508.63, 95439: 17494.81, 95670: 17451.33, 92563: 17402.67, 95329: 17387.98, 95318: 17376.68, 90620: 17375.68, 92333: 17369.3, 94533: 17366.67, 95252: 17332.25, 95023: 17325.15, 95701: 17322.1, 95833: 17315.5, 93541: 17300.38, 93561: 17290.81, 91324: 17287.54, 93932: 17257.6, 92040: 17257.39, 95669: 17251.0, 95620: 17230.38, 91978: 17225.37, 95356: 17218.82, 93001: 17209.2, 91730: 17198.28, 94605: 17195.64, 94559: 17194.51, 90041: 17176.95, 95684: 17175.57, 95621: 17170.97, 91206: 17149.79, 93103: 17131.29, 95228: 17123.39, 93614: 17116.67, 95465: 17080.83, 95425: 17045.15, 96062: 17038.83, 93442: 17028.29, 93426: 17022.27, 91321: 16999.66, 92028: 16994.48, 93440: 16965.49, 95220: 16954.86, 90717: 16940.56, 94541: 16906.97, 95382: 16896.75, 95236: 16896.27, 95368: 16882.27, 95372: 16879.85, 93505: 16863.24, 95616: 16844.0, 95977: 16839.78, 91016: 16836.23, 95355: 16833.96, 94014: 16817.45, 93604: 16816.92, 93626: 16807.53, 94589: 16785.36, 95488: 16782.41, 95461: 16744.19, 94512: 16721.85, 95039: 16707.12, 95962: 16696.27, 93667: 16686.71, 93401: 16670.85, 92627: 16656.32, 92882: 16653.87, 90502: 16644.18, 93444: 16632.78, 90034: 16620.98, 95973: 16577.02, 92057: 16544.82, 95310: 16540.37, 95634: 16533.87, 95666: 16522.22, 90631: 16503.58, 95834: 16496.15, 93277: 16485.02, 92549: 16472.81, 91780: 16405.17, 91304: 16400.0, 96051: 16388.69, 92101: 16387.59, 92833: 16375.88, 95651: 16375.2, 95245: 16363.04, 95971: 16344.25, 92086: 16342.06, 95361: 16341.3, 95636: 16341.13, 92596: 16336.33, 96096: 16308.37, 95421: 16305.31, 95127: 16303.88, 95930: 16295.52, 93516: 16254.98, 93602: 16244.32, 96120: 16241.37, 95993: 16241.03, 95336: 16235.45, 93514: 16226.07, 92595: 16222.98, 95641: 16219.57, 92879: 16197.27, 92557: 16190.53, 95925: 16176.86, 93901: 16159.77, 96008: 16149.63, 95918: 16147.15, 95320: 16140.47, 95827: 16131.58, 93517: 16124.89, 96148: 16124.63, 92004: 16057.66, 94112: 16052.65, 94972: 16050.0, 95370: 16048.51, 91710: 16042.15, 92780: 16040.47, 95547: 16037.74, 92320: 15990.34, 95325: 15981.51, 96114: 15957.72, 91042: 15941.26, 95623: 15918.88, 93208: 15916.09, 92377: 15912.64, 96150: 15903.17, 92111: 15901.12, 95045: 15897.3, 90010: 15882.67, 95419: 15875.53, 92806: 15847.96, 95043: 15808.2, 91345: 15796.7, 96063: 15779.7, 95637: 15779.47, 94609: 15778.9, 93527: 15764.14, 95821: 15756.89, 95480: 15740.56, 95536: 15688.98, 95695: 15665.58, 96020: 15658.62, 93226: 15646.84, 95470: 15642.55, 91910: 15625.45, 92567: 15619.24, 93446: 15612.18, 92354: 15572.11, 95694: 15567.62, 92374: 15534.47, 92069: 15526.19, 96125: 15493.69, 95570: 15488.37, 95674: 15481.53, 93704: 15478.57, 90604: 15477.02, 93309: 15476.45, 92251: 15456.97, 95640: 15408.09, 91792: 15405.7, 92061: 15384.48, 93225: 15381.32, 91306: 15380.56, 93933: 15356.73, 94804: 15340.59, 95237: 15337.06, 91010: 15297.28, 95330: 15293.79, 95251: 15289.26, 94544: 15262.96, 94103: 15260.29, 96014: 15259.02, 91723: 15253.62, 92083: 15249.5, 92868: 15241.41, 91722: 15235.87, 94565: 15210.97, 95519: 15197.67, 93313: 15186.06, 96048: 15181.17, 92332: 15171.37, 95249: 15162.11, 95222: 15141.56, 92346: 15136.21, 93101: 15122.66, 95664: 15112.81, 95619: 15104.96, 96017: 15096.62, 93644: 15087.23, 90249: 15068.14, 95564: 15060.24, 94608: 15047.53, 95720: 15037.8, 90241: 15019.66, 91748: 15011.63, 92027: 15008.79, 91790: 14992.63, 95970: 14969.26, 92683: 14965.66, 92315: 14951.08, 95466: 14935.76, 95459: 14932.19, 92262: 14929.09, 95550: 14908.26, 96003: 14903.32, 94940: 14888.21, 92314: 14875.79, 90704: 14865.67, 95715: 14860.14, 92239: 14856.56, 93436: 14824.03, 96130: 14820.85, 93675: 14796.95, 95842: 14795.59, 95204: 14793.09, 95612: 14784.05, 91977: 14764.31, 93433: 14758.75, 92307: 14744.88, 92359: 14736.46, 90027: 14731.48, 92399: 14713.86, 93560: 14695.45, 96137: 14691.85, 96084: 14690.17, 92021: 14689.74, 95673: 14666.11, 95337: 14653.18, 92586: 14649.25, 94134: 14647.44, 95430: 14641.25, 96067: 14636.89, 95503: 14593.09, 92371: 14579.61, 91905: 14566.41, 95632: 14565.72, 90715: 14561.61, 95945: 14558.01, 93651: 14556.69, 96091: 14553.59, 96104: 14551.58, 95379: 14547.35, 95338: 14538.24, 93906: 14533.73, 95525: 14520.26, 92545: 14516.36, 95357: 14473.23, 96117: 14471.96, 96069: 14442.23, 94520: 14437.32, 90501: 14423.63, 90248: 14423.08, 95776: 14416.87, 93117: 14401.76, 93601: 14382.16, 95350: 14378.24, 95111: 14378.24, 95626: 14363.38, 92084: 14343.69, 96034: 14338.87, 93641: 14319.34, 95841: 14311.39, 90710: 14290.2, 91906: 14260.51, 91104: 14222.79, 93513: 14216.39, 93562: 14210.28, 95969: 14208.04, 92832: 14205.48, 95437: 14198.74, 95326: 14196.44, 93653: 14182.69, 95681: 14181.0, 95451: 14175.9, 95306: 14160.16, 93292: 14160.13, 92336: 14153.45, 95559: 14151.98, 92139: 14130.26, 96001: 14106.12, 95675: 14098.81, 94710: 14093.15, 93041: 14092.57, 92104: 14090.05, 93722: 14089.9, 95668: 14088.17, 93454: 14081.95, 94806: 14080.32, 94063: 14079.71, 95327: 14076.89, 95537: 14068.92, 95112: 14045.89, 95956: 14041.85, 95554: 14034.31, 92364: 14010.05, 93643: 14006.32, 93238: 13977.5, 90670: 13957.88, 92841: 13955.95, 96143: 13951.27, 93552: 13938.61, 95691: 13934.24, 96126: 13918.07, 95482: 13916.48, 95463: 13915.02, 93243: 13911.39, 91945: 13904.53, 95230: 13891.03, 92544: 13889.89, 93451: 13887.28, 95002: 13881.9, 92337: 13880.05, 91786: 13863.33, 96088: 13858.02, 92386: 13853.85, 96006: 13841.2, 92282: 13839.23, 95345: 13817.19, 95828: 13803.36, 91801: 13801.08, 92840: 13787.43, 96022: 13785.87, 94590: 13783.4, 96052: 13765.09, 96113: 13762.0, 95627: 13761.56, 95982: 13750.96, 92256: 13749.35, 95569: 13742.17, 96057: 13741.67, 95954: 13729.29, 96032: 13728.02, 95690: 13713.33, 95514: 13712.0, 92504: 13710.47, 92020: 13687.5, 90731: 13653.99, 91754: 13649.83, 93287: 13640.87, 93634: 13638.74, 93631: 13627.21, 92311: 13619.93, 93668: 13616.87, 95983: 13613.3, 92536: 13579.18, 95110: 13578.31, 96024: 13577.25, 95469: 13564.93, 95407: 13561.68, 96093: 13561.57, 95246: 13559.09, 95453: 13551.23, 90745: 13532.09, 90605: 13501.33, 96105: 13490.57, 92341: 13458.85, 95528: 13457.95, 95913: 13443.4, 95692: 13413.36, 92276: 13403.17, 92503: 13381.79, 95324: 13379.41, 91335: 13374.43, 95548: 13369.46, 90008: 13364.91, 91201: 13349.3, 96122: 13343.67, 91803: 13323.55, 95814: 13294.16, 92345: 13276.6, 93518: 13274.89, 94102: 13225.44, 92259: 13217.65, 91761: 13216.58, 95316: 13214.33, 90602: 13212.66, 95490: 13196.5, 91342: 13174.05, 95571: 13167.53, 93710: 13152.34, 93224: 13122.76, 95367: 13085.34, 95910: 13082.63, 96002: 13070.83, 95322: 13067.82, 93543: 13054.76, 96028: 13031.56, 96107: 13022.27, 90242: 13016.97, 92655: 12990.15, 93445: 12975.68, 96118: 12959.45, 95363: 12959.44, 93015: 12955.24, 95717: 12953.69, 92234: 12944.85, 96094: 12934.02, 93955: 12933.13, 90802: 12930.0, 95423: 12916.04, 91755: 12904.69, 93306: 12903.67, 95303: 12882.05, 92392: 12861.62, 92505: 12848.0, 96080: 12838.0, 96097: 12834.93, 91411: 12833.71, 93635: 12827.79, 91401: 12827.17, 96059: 12792.54, 93549: 12778.81, 91406: 12775.95, 92551: 12769.51, 95822: 12764.39, 92585: 12762.54, 93254: 12762.24, 95560: 12760.91, 95540: 12753.25, 90706: 12738.51, 95558: 12720.09, 91601: 12719.28, 96013: 12708.64, 96027: 12703.25, 92804: 12693.03, 96038: 12686.94, 91932: 12684.86, 95240: 12676.95, 92223: 12639.85, 95947: 12613.39, 93405: 12611.76, 93308: 12608.78, 92509: 12601.37, 92308: 12593.13, 92220: 12576.63, 93230: 12575.68, 90701: 12570.62, 96033: 12553.65, 93535: 12538.49, 93429: 12524.67, 92284: 12520.5, 92372: 12517.96, 90260: 12508.76, 95916: 12503.35, 90621: 12489.82, 93030: 12479.73, 93060: 12475.72, 95957: 12469.41, 92115: 12466.93, 95551: 12463.75, 93244: 12450.2, 95207: 12432.21, 92070: 12428.16, 92407: 12427.95, 92365: 12386.56, 92530: 12372.33, 93285: 12360.71, 95542: 12356.39, 95912: 12343.08, 96040: 12335.63, 93221: 12329.67, 95932: 12324.73, 95444: 12317.52, 93260: 12310.21, 95966: 12283.4, 95917: 12275.75, 95527: 12256.95, 92054: 12255.74, 93545: 12239.83, 95457: 12238.49, 93245: 12231.65, 95926: 12216.53, 91502: 12211.3, 91203: 12207.55, 95076: 12191.94, 95676: 12180.06, 93925: 12164.99, 96064: 12152.23, 90606: 12142.08, 90650: 12140.37, 90043: 12124.2, 90680: 12121.87, 95928: 12117.46, 95122: 12114.94, 93612: 12113.04, 91343: 12111.88, 91759: 12100.46, 93534: 12099.61, 92114: 12091.36, 92241: 12070.0, 95301: 12048.09, 95645: 12028.16, 95991: 12022.46, 91917: 12013.5, 95941: 12013.18, 95565: 11981.64, 90247: 11979.86, 95354: 11968.21, 95454: 11962.15, 91911: 11952.83, 95307: 11950.63, 92025: 11947.08, 93553: 11928.24, 94612: 11925.0, 93210: 11921.66, 95415: 11904.66, 92203: 11900.96, 95485: 11898.28, 92539: 11897.25, 95573: 11894.67, 95360: 11886.36, 96071: 11872.06, 90302: 11847.1, 93437: 11845.05, 95458: 11843.46, 92801: 11841.96, 95468: 11831.28, 95348: 11827.92, 91776: 11827.64, 91303: 11822.83, 90640: 11821.04, 92277: 11817.86, 92398: 11815.41, 95386: 11806.57, 96055: 11803.85, 96047: 11802.44, 93523: 11793.63, 96015: 11784.14, 92250: 11780.65, 96115: 11775.22, 95988: 11763.9, 96136: 11735.81, 95646: 11729.22, 91762: 11721.99, 95221: 11718.75, 95919: 11706.28, 95255: 11699.58, 95501: 11698.65, 96101: 11691.21, 95323: 11688.31, 93637: 11685.49, 90047: 11675.08, 92582: 11671.73, 95313: 11666.77, 94606: 11650.9, 92154: 11644.99, 92844: 11630.3, 93268: 11613.82, 91702: 11600.0, 90065: 11597.27, 92706: 11590.56, 96044: 11580.43, 95615: 11561.92, 95955: 11540.2, 95567: 11478.41, 91931: 11474.61, 95531: 11474.13, 96056: 11454.18, 92394: 11442.02, 95116: 11421.41, 96128: 11416.29, 91767: 11412.25, 90250: 11408.81, 96109: 11389.16, 95562: 11385.66, 91752: 11383.44, 95823: 11321.07, 95963: 11317.2, 92802: 11313.66, 96037: 11303.4, 92501: 11303.19, 95914: 11299.58, 90019: 11290.68, 95922: 11290.32, 92285: 11251.89, 95943: 11243.75, 96007: 11241.06, 92252: 11222.71, 95979: 11217.95, 93628: 11209.24, 93207: 11206.06, 96065: 11166.13, 95380: 11115.08, 92324: 11106.17, 95935: 11098.65, 95464: 11061.95, 93550: 11057.23, 93625: 11051.1, 90042: 11028.75, 93040: 11018.23, 95521: 11016.29, 95494: 11002.35, 93528: 10982.0, 94535: 10966.37, 93657: 10964.78, 95820: 10958.48, 93501: 10947.74, 95305: 10944.3, 95449: 10939.55, 91763: 10902.44, 95587: 10899.51, 90028: 10892.04, 93727: 10892.01, 95358: 10891.9, 92507: 10886.74, 93591: 10870.62, 95660: 10869.54, 92257: 10867.14, 95315: 10859.25, 91204: 10852.01, 93252: 10850.69, 95986: 10833.5, 90660: 10833.16, 95552: 10829.52, 92704: 10829.28, 92356: 10820.54, 92201: 10800.0, 95374: 10799.4, 93301: 10796.2, 90804: 10784.12, 92243: 10776.62, 93652: 10763.89, 92242: 10762.86, 95511: 10753.68, 93530: 10724.04, 96025: 10719.55, 95427: 10719.55, 93461: 10717.31, 96085: 10710.33, 95563: 10698.2, 92225: 10684.54, 95385: 10674.57, 96076: 10670.73, 95369: 10667.35, 95817: 10660.32, 95215: 10655.35, 91764: 10653.41, 93705: 10609.34, 91352: 10595.38, 94124: 10582.91, 93726: 10581.02, 95317: 10576.38, 96086: 10548.37, 95948: 10539.58, 95311: 10527.2, 92571: 10524.15, 93930: 10523.08, 95987: 10507.56, 92327: 10502.89, 95555: 10502.89, 95556: 10491.67, 96009: 10480.22, 92707: 10464.82, 91103: 10457.66, 92404: 10422.07, 94801: 10417.79, 92583: 10412.54, 95428: 10404.44, 95526: 10403.69, 92363: 10399.59, 95335: 10397.65, 91606: 10394.12, 92843: 10380.63, 93928: 10351.26, 95903: 10351.26, 93274: 10340.0, 92275: 10337.77, 96021: 10337.18, 95210: 10329.38, 92553: 10308.56, 93242: 10261.19, 90301: 10230.72, 93240: 10227.65, 93654: 10221.68, 95968: 10219.02, 91766: 10213.66, 93610: 10206.82, 90016: 10203.16, 93662: 10196.83, 91744: 10194.34, 95639: 10185.1, 92376: 10153.51, 95340: 10147.35, 91934: 10146.03, 93033: 10140.48, 95901: 10136.21, 95226: 10101.74, 92310: 10092.06, 96054: 10062.24, 91770: 10051.99, 93291: 10039.53, 96050: 10037.73, 92316: 9997.39, 95232: 9976.53, 93205: 9973.52, 92543: 9956.17, 95019: 9942.49, 94704: 9924.62, 93960: 9903.42, 96041: 9893.64, 96134: 9885.56, 95203: 9879.51, 96075: 9864.08, 95481: 9858.04, 96011: 9851.69, 92240: 9832.73, 96039: 9827.66, 92805: 9804.21, 96123: 9804.07, 96019: 9801.52, 94603: 9790.14, 95012: 9786.22, 91746: 9776.33, 96023: 9762.0, 93512: 9758.36, 92347: 9738.46, 90020: 9722.09, 92227: 9722.09, 93283: 9704.42, 90026: 9679.39, 96035: 9653.74, 90810: 9651.7, 91205: 9618.4, 96106: 9615.28, 91405: 9597.73, 90040: 9566.58, 91963: 9556.96, 95972: 9554.69, 93609: 9528.57, 91340: 9527.83, 93257: 9507.67, 95206: 9505.31, 96090: 9504.44, 92405: 9502.2, 90303: 9494.81, 90004: 9481.44, 95585: 9477.46, 93304: 9474.5, 95951: 9474.09, 95950: 9457.24, 95815: 9443.64, 90806: 9427.54, 93603: 9412.93, 90805: 9411.85, 91706: 9395.26, 93202: 9390.54, 91768: 9378.74, 90723: 9355.98, 96092: 9352.05, 93638: 9317.72, 95231: 9316.03, 93926: 9292.62, 93522: 9290.54, 93282: 9289.51, 94601: 9286.27, 95333: 9286.04, 95225: 9285.71, 95953: 9268.52, 95965: 9253.96, 95939: 9242.01, 93728: 9233.81, 95838: 9230.09, 92570: 9226.99, 95686: 9205.14, 95595: 9189.96, 90032: 9188.19, 96112: 9155.61, 93450: 9125.87, 92335: 9116.67, 95545: 9069.77, 92278: 9051.84, 95653: 9025.97, 96074: 9000.4, 92301: 8997.99, 92066: 8983.13, 92323: 8943.98, 95961: 8931.6, 92548: 8909.27, 92233: 8891.4, 90220: 8876.5, 92309: 8845.81, 92590: 8808.55, 90038: 8794.72, 91950: 8780.65, 93618: 8774.86, 93656: 8729.26, 91605: 8717.62, 93616: 8704.04, 95605: 8698.7, 95113: 8692.81, 90012: 8686.21, 91402: 8642.55, 96010: 8641.98, 91331: 8639.87, 93218: 8617.74, 90280: 8613.01, 92258: 8611.45, 95422: 8577.78, 93927: 8543.33, 95388: 8541.0, 95257: 8522.73, 93620: 8468.18, 92368: 8454.83, 93630: 8427.76, 92273: 8390.79, 95328: 8325.66, 94621: 8313.68, 95543: 8304.05, 90716: 8290.8, 93212: 8290.78, 95984: 8268.97, 95351: 8197.32, 93703: 8161.25, 96058: 8156.04, 94607: 8155.98, 90062: 8127.19, 94104: 8116.11, 93276: 8114.04, 92102: 8080.79, 93263: 8072.88, 95824: 8020.18, 95334: 8016.18, 91732: 7995.55, 95553: 7991.74, 92059: 7988.78, 90744: 7962.89, 93458: 7929.2, 90005: 7856.43, 93725: 7840.21, 90018: 7827.96, 91731: 7813.64, 96046: 7812.63, 93280: 7806.12, 95920: 7794.9, 93624: 7741.97, 92703: 7718.03, 93434: 7716.0, 93286: 7711.33, 90021: 7678.24, 93247: 7655.25, 90262: 7626.81, 95981: 7615.96, 92230: 7609.46, 93270: 7594.23, 93267: 7588.68, 95568: 7553.19, 95205: 7545.95, 94592: 7538.6, 93272: 7511.59, 92105: 7505.28, 92389: 7481.21, 93666: 7453.83, 95140: 7420.09, 92249: 7389.18, 93206: 7373.15, 95424: 7357.51, 90029: 7347.67, 93622: 7343.54, 95613: 7343.17, 93255: 7338.03, 92281: 7319.47, 93954: 7296.48, 92283: 7295.42, 92231: 7285.61, 93305: 7285.2, 93307: 7269.78, 93606: 7266.81, 90255: 7249.4, 92701: 7222.27, 93201: 7216.02, 93905: 7192.05, 92408: 7185.8, 92173: 7183.29, 93647: 7118.25, 90222: 7113.25, 91733: 7096.52, 90063: 7083.1, 93204: 7058.6, 92266: 7053.72, 90270: 7039.26, 93266: 7035.99, 90014: 7018.7, 93215: 6943.28, 90201: 6887.39, 90022: 6884.96, 93223: 6868.91, 90013: 6864.34, 90031: 6856.37, 90221: 6851.2, 90061: 6834.37, 92318: 6821.33, 90057: 6805.52, 95546: 6755.37, 95832: 6744.81, 93235: 6670.48, 90304: 6629.22, 95934: 6560.08, 93621: 6537.55, 92410: 6520.22, 96116: 6457.02, 96031: 6410.41, 92411: 6299.73, 90015: 6261.15, 90044: 6222.82, 90006: 6221.45, 90023: 6123.92, 92236: 6086.38, 92113: 6066.41, 93706: 6041.48, 93608: 6040.26, 92274: 6009.71, 96068: 5969.29, 93673: 5943.54, 95387: 5928.61, 95365: 5928.61, 96132: 5925.23, 93250: 5914.59, 93241: 5889.23, 90033: 5871.47, 93203: 5865.63, 96119: 5833.2, 93249: 5778.3, 93615: 5777.92, 93234: 5760.95, 93648: 5753.44, 90007: 5747.23, 93239: 5686.03, 93256: 5672.14, 93650: 5662.84, 90003: 5586.5, 90001: 5564.83, 93640: 5564.25, 93721: 5516.02, 90002: 5498.08, 90059: 5482.92, 91980: 5401.32, 90037: 5377.98, 95250: 5372.34, 90813: 5365.95, 93702: 5365.09, 93646: 5255.08, 95202: 5255.05, 95312: 5232.93, 93219: 5202.52, 90058: 5145.33, 90011: 5129.25, 93660: 5111.42, 92401: 4990.12, 92254: 4986.89, 90017: 4851.96, 93261: 4624.16, 95224: 4416.13, 93627: 4235.7, 93701: 3571.11, 95655: 3343.55, 93665: 3044.06, 92280: 2963.4, 91743: 0.0, 90822: 0.0, 93435: 0.0, 90263: 0.0, 95836: 0.0, 95721: 0.0, 95937: 0.0, 95502: 0.0}\n"
     ]
    }
   ],
   "source": [
    "\n",
    "from bs4 import BeautifulSoup\n",
    "import requests\n",
    "\n",
    "zip_income = dict()\n",
    "for i in range(1,18):\n",
    "    web_url = \"http://zipatlas.com/us/ca/zip-code-comparison/average-income-per-person.\"+str(i)+\".htm\"\n",
    "    if i == 1:\n",
    "        web_url = \"http://zipatlas.com/us/ca/zip-code-comparison/average-income-per-person.htm\"\n",
    "    req = requests.get(web_url)\n",
    "    soup = BeautifulSoup(req.text)\n",
    "    zip_table = soup.find_all('table')[12]\n",
    "    zip_rows = zip_table.find_all(\"tr\")[1:]\n",
    "    for row in zip_rows:\n",
    "        col = [c.get_text() for c in row.find_all(\"td\")]\n",
    "        zip_income[int(col[1])] = float(col[5][1:].replace(\",\",\"\"))\n"
   ]
  },
  {
   "cell_type": "code",
   "execution_count": 105,
   "metadata": {},
   "outputs": [
    {
     "name": "stdout",
     "output_type": "stream",
     "text": [
      "0\n",
      "100000\n",
      "200000\n",
      "300000\n",
      "400000\n",
      "500000\n",
      "600000\n",
      "700000\n",
      "800000\n",
      "900000\n",
      "1000000\n",
      "1100000\n",
      "1200000\n",
      "1300000\n",
      "1400000\n",
      "1500000\n",
      "1600000\n",
      "1700000\n",
      "1800000\n",
      "1900000\n",
      "2000000\n",
      "2100000\n",
      "2200000\n",
      "2300000\n",
      "2400000\n",
      "2500000\n",
      "2600000\n",
      "2700000\n",
      "2800000\n",
      "2900000\n"
     ]
    }
   ],
   "source": [
    "zillow_data_for_modeling = zillow_final.copy()\n",
    "missing = list()\n",
    "\n",
    "region_county_tax_rates = {\"Orange County\":0.715, \"Los Angeles County\":0.793, \"Santa Barbara County\":0.698, \"San Bernardino County\":0.92, \"San Diego County\":0.781, \"Ventura County\":0.801}\n",
    "for i in range(zillow_data_for_modeling.shape[0]):\n",
    "    try:\n",
    "        zillow_data_for_modeling.at[i, \"population\"] = region_zip_code_population[str(int(zillow_data_for_modeling.iloc[i][\"zipcode\"]))]\n",
    "        zillow_data_for_modeling.at[i, \"income\"] = zip_income[zillow_data_for_modeling.iloc[i][\"zipcode\"]]\n",
    "        zillow_data_for_modeling.at[i, \"price\"] = (zillow_data_for_modeling.iloc[i][\"taxamount\"]*100)/region_county_tax_rates[region_zip_county[zillow_data_for_modeling.iloc[i][\"regionidzip\"]][1]]\n",
    "    except:\n",
    "        missing.append(i)\n"
   ]
  },
  {
   "cell_type": "code",
   "execution_count": 121,
   "metadata": {},
   "outputs": [
    {
     "name": "stdout",
     "output_type": "stream",
     "text": [
      "380\n"
     ]
    }
   ],
   "source": [
    "region_zip_code_population = dict()\n",
    "zillow_data_for_modeling['zipcode']=zillow_data_for_modeling['zipcode'].fillna(zillow_data_for_modeling['zipcode'].median())\n",
    "for c in zillow_data_for_modeling[\"zipcode\"].unique():\n",
    "    region_zip_code_population[c] = census_2010_data.get_value(census_2010_data.loc[census_2010_data['Zip Code ZCTA'] == int(c)].index[0], '2010 Census Population' ) \n"
   ]
  },
  {
   "cell_type": "code",
   "execution_count": 147,
   "metadata": {},
   "outputs": [],
   "source": [
    "del zillow_data_for_modeling['population']\n",
    "del zillow_data_for_modeling['income']"
   ]
  },
  {
   "cell_type": "code",
   "execution_count": 148,
   "metadata": {
    "collapsed": true
   },
   "outputs": [],
   "source": [
    "region_county_tax_rates = {\"Orange County\":0.715, \"Los Angeles County\":0.793, \"Santa Barbara County\":0.698, \"San Bernardino County\":0.92, \"San Diego County\":0.781, \"Ventura County\":0.801}\n"
   ]
  },
  {
   "cell_type": "code",
   "execution_count": 146,
   "metadata": {},
   "outputs": [],
   "source": [
    "population_median = np.median(np.array(list(region_zip_code_population.values())))\n",
    "income_median = np.median(np.array(list(zip_income.values())))\n",
    "missing_population = list()\n",
    "missing_income = list()"
   ]
  },
  {
   "cell_type": "code",
   "execution_count": 149,
   "metadata": {},
   "outputs": [
    {
     "name": "stdout",
     "output_type": "stream",
     "text": [
      "0\n",
      "100000\n",
      "200000\n",
      "300000\n",
      "400000\n",
      "500000\n",
      "600000\n",
      "700000\n",
      "800000\n",
      "900000\n",
      "1000000\n",
      "1100000\n",
      "1200000\n",
      "1300000\n",
      "1400000\n",
      "1500000\n",
      "1600000\n",
      "1700000\n",
      "1800000\n",
      "1900000\n",
      "2000000\n",
      "2100000\n",
      "2200000\n",
      "2300000\n",
      "2400000\n",
      "2500000\n",
      "2600000\n",
      "2700000\n",
      "2800000\n",
      "2900000\n"
     ]
    }
   ],
   "source": [
    "#zillow_data_for_modeling = zillow_final.copy()\n",
    "\n",
    "\n",
    "for i in range(zillow_data_for_modeling.shape[0]):\n",
    "    try:\n",
    "        zillow_data_for_modeling.at[i, \"population\"] = region_zip_code_population[str(int(zillow_data_for_modeling.iloc[i][\"zipcode\"]))]\n",
    "    except:\n",
    "        missing_population.append(i)\n",
    "        zillow_data_for_modeling.at[i, \"population\"] = population_median\n",
    "        \n",
    "        \n",
    "    try:\n",
    "        zillow_data_for_modeling.at[i, \"income\"] = zip_income[int(zillow_data_for_modeling.iloc[i][\"zipcode\"])]\n",
    "    except:\n",
    "        missing_income.append(i)\n",
    "        zillow_data_for_modeling.at[i, \"income\"] = income_median\n",
    "        \n",
    "        \n",
    "    try:\n",
    "        zillow_data_for_modeling.at[i, \"price\"] = (zillow_data_for_modeling.iloc[i][\"taxamount\"]*100.0) / float(region_county_tax_rates[region_zip_county[int(zillow_data_for_modeling.iloc[i][\"regionidzip\"])][1]])\n",
    "    except:\n",
    "        print(\"price\",i)\n",
    "        break\n"
   ]
  },
  {
   "cell_type": "code",
   "execution_count": 151,
   "metadata": {
    "collapsed": true
   },
   "outputs": [],
   "source": [
    "zillow_df = zillow_data_for_modeling.copy()"
   ]
  },
  {
   "cell_type": "code",
   "execution_count": 152,
   "metadata": {
    "collapsed": true
   },
   "outputs": [],
   "source": [
    "del zillow_df['propertylandusetypeid']\n",
    "del zillow_df['regionidcity']\n",
    "del zillow_df['regionidcounty']\n",
    "del zillow_df['regionidzip']\n",
    "del zillow_df['taxvaluedollarcnt']\n",
    "del zillow_df['taxamount']\n"
   ]
  },
  {
   "cell_type": "code",
   "execution_count": 161,
   "metadata": {},
   "outputs": [
    {
     "name": "stdout",
     "output_type": "stream",
     "text": [
      "0\n",
      "100000\n",
      "200000\n",
      "300000\n",
      "400000\n",
      "500000\n",
      "600000\n",
      "700000\n",
      "800000\n",
      "900000\n",
      "1000000\n",
      "1100000\n",
      "1200000\n",
      "1300000\n",
      "1400000\n",
      "1500000\n",
      "1600000\n",
      "1700000\n",
      "1800000\n",
      "1900000\n",
      "2000000\n",
      "2100000\n",
      "2200000\n",
      "2300000\n",
      "2400000\n",
      "2500000\n",
      "2600000\n",
      "2700000\n",
      "2800000\n",
      "2900000\n"
     ]
    }
   ],
   "source": [
    "for i in range(zillow_data_for_modeling.shape[0]):\n",
    "    zillow_data_for_modeling.at[i, \"price\"] = (zillow_data_for_modeling.iloc[i][\"taxamount\"]*100.0) / float(region_county_tax_rates[region_zip_county[int(zillow_data_for_modeling.iloc[i][\"regionidzip\"])][1]])\n",
    "    "
   ]
  },
  {
   "cell_type": "code",
   "execution_count": 163,
   "metadata": {
    "collapsed": true
   },
   "outputs": [],
   "source": [
    "zillow_data_linear_reg_copy = zillow_data_for_modeling.copy()"
   ]
  },
  {
   "cell_type": "code",
   "execution_count": 164,
   "metadata": {
    "collapsed": true
   },
   "outputs": [],
   "source": [
    "del zillow_data_linear_reg_copy['propertylandusetypeid']\n",
    "del zillow_data_linear_reg_copy['regionidcity']\n",
    "del zillow_data_linear_reg_copy['regionidcounty']\n",
    "del zillow_data_linear_reg_copy['regionidzip']\n",
    "del zillow_data_linear_reg_copy['taxvaluedollarcnt']\n",
    "del zillow_data_linear_reg_copy['taxamount']\n",
    "del zillow_data_linear_reg_copy['zipcode']\n"
   ]
  },
  {
   "cell_type": "code",
   "execution_count": 172,
   "metadata": {
    "collapsed": true
   },
   "outputs": [],
   "source": [
    "zillow_data_min_max_normalized=zillow_data_linear_reg_copy.copy()"
   ]
  },
  {
   "cell_type": "code",
   "execution_count": 174,
   "metadata": {},
   "outputs": [],
   "source": [
    "del zillow_data_min_max_normalized['parcelid']"
   ]
  },
  {
   "cell_type": "code",
   "execution_count": 175,
   "metadata": {},
   "outputs": [
    {
     "data": {
      "text/plain": [
       "bathroomcnt                     0\n",
       "bedroomcnt                      0\n",
       "calculatedfinishedsquarefeet    0\n",
       "latitude                        0\n",
       "longitude                       0\n",
       "lotsizesquarefeet               0\n",
       "yearbuilt                       0\n",
       "structuretaxvaluedollarcnt      0\n",
       "landtaxvaluedollarcnt           0\n",
       "price                           0\n",
       "population                      0\n",
       "income                          0\n",
       "dtype: int64"
      ]
     },
     "execution_count": 175,
     "metadata": {},
     "output_type": "execute_result"
    }
   ],
   "source": [
    "zillow_data_min_max_normalized.isnull().sum()"
   ]
  },
  {
   "cell_type": "code",
   "execution_count": 177,
   "metadata": {},
   "outputs": [
    {
     "name": "stdout",
     "output_type": "stream",
     "text": [
      "MinMaxScaler(copy=True, feature_range=(-100, 100))\n"
     ]
    }
   ],
   "source": [
    "from sklearn.preprocessing import MinMaxScaler\n",
    "scaler = MinMaxScaler(feature_range=(-100, 100))\n",
    "print(scaler.fit(zillow_data_min_max_normalized))"
   ]
  },
  {
   "cell_type": "code",
   "execution_count": 180,
   "metadata": {},
   "outputs": [],
   "source": [
    "zillow_data_min_max_normalized=scaler.transform(zillow_data_min_max_normalized)"
   ]
  },
  {
   "cell_type": "code",
   "execution_count": 190,
   "metadata": {},
   "outputs": [],
   "source": [
    "zillow_min_max_normalisedd_df=pd.DataFrame(zillow_data_min_max_normalized,columns=['bathroomcnt','bedroomcnt','calculatedfinishedsquarefeet','latitude','longitude','lotsizesquarefeet','yearbuilt', 'structuretaxvaluedollarcnt','landtaxvaluedollarcnt','price','population','income'])\n",
    "\n"
   ]
  },
  {
   "cell_type": "code",
   "execution_count": 195,
   "metadata": {},
   "outputs": [],
   "source": [
    "zillow_min_max_normalisedd_df['parcelid']=zillow_data_linear_reg_copy['parcelid']"
   ]
  },
  {
   "cell_type": "code",
   "execution_count": 200,
   "metadata": {
    "collapsed": true
   },
   "outputs": [],
   "source": [
    "zillow_train_data = pd.read_csv(\"train_2016_v2.csv\", low_memory=False, parse_dates=[\"transactiondate\"]) \n",
    "zillow_test_data = pd.read_csv(\"sample_submission.csv\", low_memory=False)\n",
    "zillow_test_data = zillow_test_data.rename(columns={'ParcelId': 'parcelid'})"
   ]
  },
  {
   "cell_type": "code",
   "execution_count": 202,
   "metadata": {
    "collapsed": true
   },
   "outputs": [],
   "source": [
    "zillow_merged_train_data = zillow_train_data.merge(zillow_min_max_normalisedd_df, how='left', on='parcelid') "
   ]
  },
  {
   "cell_type": "code",
   "execution_count": 206,
   "metadata": {},
   "outputs": [
    {
     "name": "stdout",
     "output_type": "stream",
     "text": [
      "Coefficients (a,b,c,..) :  [('bathroomcnt', 0.00013135267921521974), ('bedroomcnt', 0.00026949779502862632), ('calculatedfinishedsquarefeet', 0.0034604866997431558), ('latitude', -1.7238403211742383e-05), ('longitude', -7.2799592944145842e-06), ('lotsizesquarefeet', 0.010383746793714833), ('yearbuilt', 4.9799705594283849e-05), ('structuretaxvaluedollarcnt', 0.074989030849795801), ('landtaxvaluedollarcnt', 0.009229482602257439), ('price', -0.046561770760684081), ('population', -2.3162456100607118e-05), ('income', -6.7224744921060009e-05)]\n",
      "Mean squared error: 0.02269\n",
      "Variance : 0.00324\n"
     ]
    }
   ],
   "source": [
    "from sklearn.model_selection import train_test_split\n",
    "from sklearn.metrics import mean_squared_error, r2_score\n",
    "from sklearn.linear_model import LinearRegression\n",
    "\n",
    "zillow_train_Y = zillow_merged_train_data[\"logerror\"].values\n",
    "zillow_train_X = zillow_merged_train_data.copy()\n",
    "del zillow_train_X[\"logerror\"]\n",
    "del zillow_train_X[\"parcelid\"]\n",
    "del zillow_train_X[\"transactiondate\"]\n",
    "\n",
    "# Spliting the dataset into train and test data\n",
    "linear_reg_train_X, linear_reg_test_X , linear_reg_train_Y, linear_reg_test_Y = train_test_split(zillow_train_X, zillow_train_Y, test_size=0.2, random_state=23)\n",
    "\n",
    "# Linear Regression model initialization (basic)\n",
    "zillow_linear_regression = LinearRegression()\n",
    "\n",
    "# Training the Linear Regression Model\n",
    "zillow_linear_regression.fit(linear_reg_train_X, linear_reg_train_Y)\n",
    "\n",
    "# Using the model to predict the test dataset\n",
    "linear_reg_predicted_Y = zillow_linear_regression.predict(linear_reg_test_X)\n",
    "final_columns = zillow_train_X.columns\n",
    "# The coefficients of the linear equation aX1 + bX2 + cX3 + ... = Y\n",
    "print('Coefficients (a,b,c,..) : ', [(x,y) for x,y in zip(final_columns,zillow_linear_regression.coef_)])\n",
    "\n",
    "# The mean squared error of the linear regression model's predictions\n",
    "print(\"Mean squared error: %.5f\" % mean_squared_error(linear_reg_test_Y, linear_reg_predicted_Y))\n",
    "\n",
    "# Variance of the prediction\n",
    "print('Variance : %.5f' % r2_score(linear_reg_test_Y, linear_reg_predicted_Y))"
   ]
  },
  {
   "cell_type": "code",
   "execution_count": 208,
   "metadata": {
    "collapsed": true
   },
   "outputs": [],
   "source": [
    "# Linear Regression without normalization\n",
    "linear_reg_without_normalization=zillow_data_linear_reg_copy.copy()\n",
    "\n"
   ]
  },
  {
   "cell_type": "code",
   "execution_count": 209,
   "metadata": {
    "collapsed": true
   },
   "outputs": [],
   "source": [
    "zillow_merged_train_data_unnormalised = zillow_train_data.merge(linear_reg_without_normalization, how='left', on='parcelid') "
   ]
  },
  {
   "cell_type": "code",
   "execution_count": 210,
   "metadata": {},
   "outputs": [
    {
     "name": "stdout",
     "output_type": "stream",
     "text": [
      "Coefficients (a,b,c,..) :  [('bathroomcnt', 0.0013135267924940049), ('bedroomcnt', 0.0026949779502971759), ('calculatedfinishedsquarefeet', 1.3568356929352448e-07), ('latitude', -2.3057368157811665e-09), ('longitude', -7.5775130764740491e-10), ('lotsizesquarefeet', 6.3264646705164846e-09), ('yearbuilt', 4.6541780930168981e-05), ('structuretaxvaluedollarcnt', 5.9636743873526564e-08), ('landtaxvaluedollarcnt', 2.0454003956166965e-08), ('price', -2.1350090238705238e-08), ('population', -4.4051418493311865e-08), ('income', -2.5635589586802537e-07)]\n",
      "Mean squared error: 0.02269\n",
      "Variance : 0.00324\n"
     ]
    }
   ],
   "source": [
    "zillow_train_Y = zillow_merged_train_data_unnormalised[\"logerror\"].values\n",
    "zillow_train_X = zillow_merged_train_data_unnormalised.copy()\n",
    "del zillow_train_X[\"logerror\"]\n",
    "del zillow_train_X[\"parcelid\"]\n",
    "del zillow_train_X[\"transactiondate\"]\n",
    "\n",
    "# Spliting the dataset into train and test data\n",
    "linear_reg_train_X, linear_reg_test_X , linear_reg_train_Y, linear_reg_test_Y = train_test_split(zillow_train_X, zillow_train_Y, test_size=0.2, random_state=23)\n",
    "\n",
    "# Linear Regression model initialization (basic)\n",
    "zillow_linear_regression = LinearRegression()\n",
    "\n",
    "# Training the Linear Regression Model\n",
    "zillow_linear_regression.fit(linear_reg_train_X, linear_reg_train_Y)\n",
    "\n",
    "# Using the model to predict the test dataset\n",
    "linear_reg_predicted_Y = zillow_linear_regression.predict(linear_reg_test_X)\n",
    "final_columns = zillow_train_X.columns\n",
    "# The coefficients of the linear equation aX1 + bX2 + cX3 + ... = Y\n",
    "print('Coefficients (a,b,c,..) : ', [(x,y) for x,y in zip(final_columns,zillow_linear_regression.coef_)])\n",
    "\n",
    "# The mean squared error of the linear regression model's predictions\n",
    "print(\"Mean squared error: %.5f\" % mean_squared_error(linear_reg_test_Y, linear_reg_predicted_Y))\n",
    "\n",
    "# Variance of the prediction\n",
    "print('Variance : %.5f' % r2_score(linear_reg_test_Y, linear_reg_predicted_Y))"
   ]
  },
  {
   "cell_type": "code",
   "execution_count": 213,
   "metadata": {},
   "outputs": [
    {
     "name": "stdout",
     "output_type": "stream",
     "text": [
      "0\n",
      "100000\n",
      "200000\n",
      "300000\n",
      "400000\n",
      "500000\n",
      "600000\n",
      "700000\n",
      "800000\n",
      "900000\n",
      "1000000\n",
      "1100000\n",
      "1200000\n",
      "1300000\n",
      "1400000\n",
      "1500000\n",
      "1600000\n",
      "1700000\n",
      "1800000\n",
      "1900000\n",
      "2000000\n",
      "2100000\n",
      "2200000\n",
      "2300000\n",
      "2400000\n",
      "2500000\n",
      "2600000\n",
      "2700000\n",
      "2800000\n",
      "2900000\n"
     ]
    }
   ],
   "source": [
    "#Finding Distance metric\n",
    "zillow_data_distance_metric = zillow_min_max_normalisedd_df.copy()\n",
    "metric_columns = [\"price\",\"income\",\"lotsizesquarefeet\",\"landtaxvaluedollarcnt\",\"population\"]\n",
    "metric_function_coefficients = [-5, 4, 3, -2, 1]\n",
    "for i in range(zillow_data_distance_metric.shape[0]):\n",
    "    zillow_data_distance_metric.at[i,\"distancemetric\"] = sum([metric_function_coefficients[j]*zillow_data_distance_metric.iloc[i][j] for j in range(len(metric_columns))])"
   ]
  },
  {
   "cell_type": "code",
   "execution_count": 218,
   "metadata": {},
   "outputs": [],
   "source": [
    "zillow_data_distance_metric = zillow_data_distance_metric.sort_values([\"distancemetric\"])"
   ]
  },
  {
   "cell_type": "code",
   "execution_count": 223,
   "metadata": {},
   "outputs": [
    {
     "data": {
      "text/plain": [
       "968582     10875978\n",
       "2532841    11843438\n",
       "36661      12325767\n",
       "2833688    12718575\n",
       "797497     12875313\n",
       "1622826    10825953\n",
       "1759624    11645106\n",
       "2145997    11669802\n",
       "2755010    11628722\n",
       "163259     11816840\n",
       "Name: parcelid, dtype: int64"
      ]
     },
     "execution_count": 223,
     "metadata": {},
     "output_type": "execute_result"
    }
   ],
   "source": [
    "# Top 10 least desirable houses\n",
    "zillow_data_distance_metric.head(10)[\"parcelid\"]"
   ]
  },
  {
   "cell_type": "code",
   "execution_count": 224,
   "metadata": {},
   "outputs": [
    {
     "data": {
      "text/plain": [
       "1694751    12504714\n",
       "1017946    12275569\n",
       "2174516    11389558\n",
       "2773435    12554287\n",
       "1774438    11639733\n",
       "2046716    12876170\n",
       "2930945    10842189\n",
       "2294367    11654951\n",
       "595101     76915787\n",
       "1359067    11986213\n",
       "Name: parcelid, dtype: int64"
      ]
     },
     "execution_count": 224,
     "metadata": {},
     "output_type": "execute_result"
    }
   ],
   "source": [
    "# Top 10 most desirable houses\n",
    "zillow_data_distance_metric.tail(10)[\"parcelid\"]"
   ]
  },
  {
   "cell_type": "code",
   "execution_count": 227,
   "metadata": {
    "collapsed": true
   },
   "outputs": [],
   "source": [
    "zillow_test_data = zillow_test_data.merge(zillow_min_max_normalisedd_df, how='left', on='parcelid') "
   ]
  },
  {
   "cell_type": "code",
   "execution_count": 230,
   "metadata": {},
   "outputs": [],
   "source": [
    "zillow_test_data = zillow_test_data[list(zillow_train_X.columns)]"
   ]
  },
  {
   "cell_type": "code",
   "execution_count": 237,
   "metadata": {
    "collapsed": true
   },
   "outputs": [],
   "source": [
    "zillow_test_predicted = zillow_linear_regression.predict(zillow_test_data)\n"
   ]
  },
  {
   "cell_type": "code",
   "execution_count": 241,
   "metadata": {
    "collapsed": true
   },
   "outputs": [],
   "source": [
    "submission_file = pd.read_csv('sample_submission.csv') "
   ]
  },
  {
   "cell_type": "code",
   "execution_count": 244,
   "metadata": {},
   "outputs": [],
   "source": [
    "for cols in submission_file.columns[submission_file.columns != 'ParcelId']:\n",
    "    submission_file[cols] = zillow_test_predicted\n",
    "submission_file.to_csv('lr_2016_results.csv', index=False, float_format='%.6f')"
   ]
  },
  {
   "cell_type": "code",
   "execution_count": 1,
   "metadata": {},
   "outputs": [
    {
     "ename": "NameError",
     "evalue": "name 'zillow_data_linear_reg_copy' is not defined",
     "output_type": "error",
     "traceback": [
      "\u001b[0;31m---------------------------------------------------------------------------\u001b[0m",
      "\u001b[0;31mNameError\u001b[0m                                 Traceback (most recent call last)",
      "\u001b[0;32m<ipython-input-1-79284c20e08c>\u001b[0m in \u001b[0;36m<module>\u001b[0;34m()\u001b[0m\n\u001b[1;32m      4\u001b[0m \u001b[0mcolumns_for_similarity\u001b[0m \u001b[0;34m=\u001b[0m \u001b[0;34m[\u001b[0m\u001b[0;34m'bathroomcnt'\u001b[0m\u001b[0;34m,\u001b[0m \u001b[0;34m'bedroomcnt'\u001b[0m\u001b[0;34m,\u001b[0m \u001b[0;34m'calculatedfinishedsquarefeet'\u001b[0m\u001b[0;34m,\u001b[0m \u001b[0;34m'latitude'\u001b[0m\u001b[0;34m,\u001b[0m \u001b[0;34m'longitude'\u001b[0m\u001b[0;34m,\u001b[0m \u001b[0;34m'lotsizesquarefeet'\u001b[0m\u001b[0;34m,\u001b[0m \u001b[0;34m'yearbuilt'\u001b[0m\u001b[0;34m,\u001b[0m \u001b[0;34m'structuretaxvaluedollarcnt'\u001b[0m\u001b[0;34m,\u001b[0m \u001b[0;34m'landtaxvaluedollarcnt'\u001b[0m\u001b[0;34m,\u001b[0m \u001b[0;34m'price'\u001b[0m\u001b[0;34m,\u001b[0m\u001b[0;34m'population'\u001b[0m\u001b[0;34m,\u001b[0m \u001b[0;34m'income'\u001b[0m\u001b[0;34m]\u001b[0m\u001b[0;34m\u001b[0m\u001b[0m\n\u001b[1;32m      5\u001b[0m \u001b[0;34m\u001b[0m\u001b[0m\n\u001b[0;32m----> 6\u001b[0;31m \u001b[0mzillow_data_z_score\u001b[0m \u001b[0;34m=\u001b[0m \u001b[0mzillow_data_linear_reg_copy\u001b[0m\u001b[0;34m.\u001b[0m\u001b[0mcopy\u001b[0m\u001b[0;34m(\u001b[0m\u001b[0;34m)\u001b[0m\u001b[0;34m\u001b[0m\u001b[0m\n\u001b[0m\u001b[1;32m      7\u001b[0m \u001b[0mzillow_data_z_score\u001b[0m \u001b[0;34m=\u001b[0m \u001b[0mzillow_data_linear_reg_copy\u001b[0m\u001b[0;34m[\u001b[0m\u001b[0;34m\"parcelid\"\u001b[0m\u001b[0;34m]\u001b[0m \u001b[0;34m+\u001b[0m \u001b[0mzillow_data_z_score\u001b[0m\u001b[0;34m[\u001b[0m\u001b[0mcolumns_for_similarity\u001b[0m\u001b[0;34m]\u001b[0m\u001b[0;34m.\u001b[0m\u001b[0mapply\u001b[0m\u001b[0;34m(\u001b[0m\u001b[0mzscore\u001b[0m\u001b[0;34m)\u001b[0m\u001b[0;34m\u001b[0m\u001b[0m\n\u001b[1;32m      8\u001b[0m \u001b[0mexperiment_ids\u001b[0m \u001b[0;34m=\u001b[0m \u001b[0mset\u001b[0m\u001b[0;34m(\u001b[0m\u001b[0;34m[\u001b[0m\u001b[0mrandom\u001b[0m\u001b[0;34m.\u001b[0m\u001b[0mrandint\u001b[0m\u001b[0;34m(\u001b[0m\u001b[0;36m0\u001b[0m\u001b[0;34m,\u001b[0m\u001b[0mzillow_data_z_score\u001b[0m\u001b[0;34m.\u001b[0m\u001b[0mshape\u001b[0m\u001b[0;34m[\u001b[0m\u001b[0;36m0\u001b[0m\u001b[0;34m]\u001b[0m\u001b[0;34m)\u001b[0m \u001b[0;32mfor\u001b[0m \u001b[0mi\u001b[0m \u001b[0;32min\u001b[0m \u001b[0mrange\u001b[0m\u001b[0;34m(\u001b[0m\u001b[0;36m10\u001b[0m\u001b[0;34m)\u001b[0m\u001b[0;34m]\u001b[0m\u001b[0;34m)\u001b[0m\u001b[0;34m\u001b[0m\u001b[0m\n",
      "\u001b[0;31mNameError\u001b[0m: name 'zillow_data_linear_reg_copy' is not defined"
     ]
    }
   ],
   "source": [
    "import random\n",
    "from scipy.stats import zscore\n",
    "\n",
    "columns_for_similarity = ['bathroomcnt', 'bedroomcnt', 'calculatedfinishedsquarefeet', 'latitude', 'longitude', 'lotsizesquarefeet', 'yearbuilt', 'structuretaxvaluedollarcnt', 'landtaxvaluedollarcnt', 'price','population', 'income']\n",
    "\n",
    "zillow_data_z_score = zillow_data_linear_reg_copy.copy()\n",
    "zillow_data_z_score = zillow_data_linear_reg_copy[\"parcelid\"] + zillow_data_z_score[columns_for_similarity].apply(zscore)\n",
    "experiment_ids = set([random.randint(0,zillow_data_z_score.shape[0]) for i in range(10)])\n",
    "parcel_id_list = [zillow_data_z_score.iloc[i][\"parcelid\"] for i in experiment_ids]\n",
    "len(experiment_ids)"
   ]
  },
  {
   "cell_type": "code",
   "execution_count": 264,
   "metadata": {},
   "outputs": [],
   "source": [
    "# Pairwise distance function\n",
    "def pairwise_distance(first_parcel, second_parcel):\n",
    "    return np.linalg.norm(first_parcel - second_parcel)\n",
    "\n",
    "zillow_similarity = []\n",
    "for i in range(len(experiment_ids)):\n",
    "    tmp = list()\n",
    "    for j in range(len(experiment_ids)):\n",
    "        tmp.append(pairwise_distance(zillow_min_max_normalisedd_df.iloc[i][:-1], zillow_min_max_normalisedd_df.iloc[j][:-1]))\n",
    "    zillow_similarity.append(tmp)"
   ]
  },
  {
   "cell_type": "code",
   "execution_count": 265,
   "metadata": {},
   "outputs": [
    {
     "data": {
      "image/png": "[encoded data removed]",
      "text/plain": [
       "<matplotlib.figure.Figure at 0x315af32e8>"
      ]
     },
     "metadata": {},
     "output_type": "display_data"
    }
   ],
   "source": [
    "sns.set()\n",
    "sns.heatmap(zillow_similarity, annot=True, xticklabels=parcel_id_list, yticklabels=parcel_id_list)\n",
    "plt.show()"
   ]
  },
  {
   "cell_type": "code",
   "execution_count": null,
   "metadata": {
    "collapsed": true
   },
   "outputs": [],
   "source": [
    "# Clustering with Euclidean Distance\n",
    "from scipy.cluster.hierarchy import fclusterdata\n"
   ]
  }
 ],
 "metadata": {
  "kernelspec": {
   "display_name": "Python 3",
   "language": "python",
   "name": "python3"
  },
  "language_info": {
   "codemirror_mode": {
    "name": "ipython",
    "version": 3
   },
   "file_extension": ".py",
   "mimetype": "text/x-python",
   "name": "python",
   "nbconvert_exporter": "python",
   "pygments_lexer": "ipython3",
   "version": "3.6.1"
  }
 },
 "nbformat": 4,
 "nbformat_minor": 2
}
