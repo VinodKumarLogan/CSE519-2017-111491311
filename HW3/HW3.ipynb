{
 "cells": [
  {
   "cell_type": "code",
   "execution_count": 2,
   "metadata": {
    "collapsed": true
   },
   "outputs": [],
   "source": [
    "# Importing the required libraries for analysis\n",
    "import pandas as pd\n",
    "import numpy as np\n",
    "import scipy as sp\n",
    "import matplotlib.pyplot as plt\n",
    "import seaborn as sns\n",
    "\n",
    "\n"
   ]
  },
  {
   "cell_type": "code",
   "execution_count": 3,
   "metadata": {},
   "outputs": [],
   "source": [
    "# Reading the properties, train and sample submission dataset\n",
    "zillow_properties_data_2016 = pd.read_csv(\"properties_2016.csv\", low_memory=False)\n"
   ]
  },
  {
   "cell_type": "code",
   "execution_count": 4,
   "metadata": {},
   "outputs": [],
   "source": [
    "# Reading the properties, train and sample submission dataset\n",
    "zillow_properties_data_2017 = pd.read_csv(\"properties_2017.csv\", low_memory=False)\n",
    "\n"
   ]
  },
  {
   "cell_type": "code",
   "execution_count": 5,
   "metadata": {
    "scrolled": true
   },
   "outputs": [
    {
     "data": {
      "text/html": [
       "<div>\n",
       "<style>\n",
       "    .dataframe thead tr:only-child th {\n",
       "        text-align: right;\n",
       "    }\n",
       "\n",
       "    .dataframe thead th {\n",
       "        text-align: left;\n",
       "    }\n",
       "\n",
       "    .dataframe tbody tr th {\n",
       "        vertical-align: top;\n",
       "    }\n",
       "</style>\n",
       "<table border=\"1\" class=\"dataframe\">\n",
       "  <thead>\n",
       "    <tr style=\"text-align: right;\">\n",
       "      <th></th>\n",
       "      <th>count</th>\n",
       "      <th>mean</th>\n",
       "      <th>std</th>\n",
       "      <th>min</th>\n",
       "      <th>25%</th>\n",
       "      <th>50%</th>\n",
       "      <th>75%</th>\n",
       "      <th>max</th>\n",
       "    </tr>\n",
       "  </thead>\n",
       "  <tbody>\n",
       "    <tr>\n",
       "      <th>parcelid</th>\n",
       "      <td>2985217.0</td>\n",
       "      <td>1.332586e+07</td>\n",
       "      <td>7.909966e+06</td>\n",
       "      <td>1.071172e+07</td>\n",
       "      <td>1.164371e+07</td>\n",
       "      <td>1.254509e+07</td>\n",
       "      <td>1.409712e+07</td>\n",
       "      <td>1.696019e+08</td>\n",
       "    </tr>\n",
       "    <tr>\n",
       "      <th>bathroomcnt</th>\n",
       "      <td>2973755.0</td>\n",
       "      <td>2.209143e+00</td>\n",
       "      <td>1.077754e+00</td>\n",
       "      <td>0.000000e+00</td>\n",
       "      <td>2.000000e+00</td>\n",
       "      <td>2.000000e+00</td>\n",
       "      <td>3.000000e+00</td>\n",
       "      <td>2.000000e+01</td>\n",
       "    </tr>\n",
       "    <tr>\n",
       "      <th>bedroomcnt</th>\n",
       "      <td>2973767.0</td>\n",
       "      <td>3.088949e+00</td>\n",
       "      <td>1.275859e+00</td>\n",
       "      <td>0.000000e+00</td>\n",
       "      <td>2.000000e+00</td>\n",
       "      <td>3.000000e+00</td>\n",
       "      <td>4.000000e+00</td>\n",
       "      <td>2.000000e+01</td>\n",
       "    </tr>\n",
       "    <tr>\n",
       "      <th>calculatedbathnbr</th>\n",
       "      <td>2856305.0</td>\n",
       "      <td>2.299263e+00</td>\n",
       "      <td>1.000736e+00</td>\n",
       "      <td>1.000000e+00</td>\n",
       "      <td>2.000000e+00</td>\n",
       "      <td>2.000000e+00</td>\n",
       "      <td>3.000000e+00</td>\n",
       "      <td>2.000000e+01</td>\n",
       "    </tr>\n",
       "    <tr>\n",
       "      <th>calculatedfinishedsquarefeet</th>\n",
       "      <td>2929652.0</td>\n",
       "      <td>1.827162e+03</td>\n",
       "      <td>1.819780e+03</td>\n",
       "      <td>1.000000e+00</td>\n",
       "      <td>1.213000e+03</td>\n",
       "      <td>1.572000e+03</td>\n",
       "      <td>2.136000e+03</td>\n",
       "      <td>9.525760e+05</td>\n",
       "    </tr>\n",
       "    <tr>\n",
       "      <th>finishedsquarefeet12</th>\n",
       "      <td>2709184.0</td>\n",
       "      <td>1.760001e+03</td>\n",
       "      <td>9.710610e+02</td>\n",
       "      <td>1.000000e+00</td>\n",
       "      <td>1.196000e+03</td>\n",
       "      <td>1.539000e+03</td>\n",
       "      <td>2.070000e+03</td>\n",
       "      <td>2.903450e+05</td>\n",
       "    </tr>\n",
       "    <tr>\n",
       "      <th>fips</th>\n",
       "      <td>2973780.0</td>\n",
       "      <td>6.048032e+03</td>\n",
       "      <td>2.023278e+01</td>\n",
       "      <td>6.037000e+03</td>\n",
       "      <td>6.037000e+03</td>\n",
       "      <td>6.037000e+03</td>\n",
       "      <td>6.059000e+03</td>\n",
       "      <td>6.111000e+03</td>\n",
       "    </tr>\n",
       "    <tr>\n",
       "      <th>fullbathcnt</th>\n",
       "      <td>2856305.0</td>\n",
       "      <td>2.244165e+00</td>\n",
       "      <td>9.912054e-01</td>\n",
       "      <td>1.000000e+00</td>\n",
       "      <td>2.000000e+00</td>\n",
       "      <td>2.000000e+00</td>\n",
       "      <td>3.000000e+00</td>\n",
       "      <td>2.000000e+01</td>\n",
       "    </tr>\n",
       "    <tr>\n",
       "      <th>latitude</th>\n",
       "      <td>2973780.0</td>\n",
       "      <td>3.400147e+07</td>\n",
       "      <td>2.433812e+05</td>\n",
       "      <td>3.332439e+07</td>\n",
       "      <td>3.382768e+07</td>\n",
       "      <td>3.400825e+07</td>\n",
       "      <td>3.416186e+07</td>\n",
       "      <td>3.481965e+07</td>\n",
       "    </tr>\n",
       "    <tr>\n",
       "      <th>longitude</th>\n",
       "      <td>2973780.0</td>\n",
       "      <td>-1.182019e+08</td>\n",
       "      <td>3.453171e+05</td>\n",
       "      <td>-1.194758e+08</td>\n",
       "      <td>-1.183930e+08</td>\n",
       "      <td>-1.181725e+08</td>\n",
       "      <td>-1.179495e+08</td>\n",
       "      <td>-1.175543e+08</td>\n",
       "    </tr>\n",
       "    <tr>\n",
       "      <th>lotsizesquarefeet</th>\n",
       "      <td>2709118.0</td>\n",
       "      <td>2.282281e+04</td>\n",
       "      <td>3.375924e+05</td>\n",
       "      <td>1.000000e+02</td>\n",
       "      <td>5.688000e+03</td>\n",
       "      <td>7.000000e+03</td>\n",
       "      <td>9.898000e+03</td>\n",
       "      <td>3.282638e+08</td>\n",
       "    </tr>\n",
       "    <tr>\n",
       "      <th>propertylandusetypeid</th>\n",
       "      <td>2973780.0</td>\n",
       "      <td>2.600484e+02</td>\n",
       "      <td>1.590817e+01</td>\n",
       "      <td>3.100000e+01</td>\n",
       "      <td>2.610000e+02</td>\n",
       "      <td>2.610000e+02</td>\n",
       "      <td>2.610000e+02</td>\n",
       "      <td>2.750000e+02</td>\n",
       "    </tr>\n",
       "    <tr>\n",
       "      <th>rawcensustractandblock</th>\n",
       "      <td>2973780.0</td>\n",
       "      <td>6.048345e+07</td>\n",
       "      <td>2.008117e+05</td>\n",
       "      <td>6.037101e+07</td>\n",
       "      <td>6.037320e+07</td>\n",
       "      <td>6.037571e+07</td>\n",
       "      <td>6.059042e+07</td>\n",
       "      <td>6.111009e+07</td>\n",
       "    </tr>\n",
       "    <tr>\n",
       "      <th>regionidcity</th>\n",
       "      <td>2922372.0</td>\n",
       "      <td>3.499335e+04</td>\n",
       "      <td>5.072747e+04</td>\n",
       "      <td>3.491000e+03</td>\n",
       "      <td>1.244700e+04</td>\n",
       "      <td>2.521800e+04</td>\n",
       "      <td>4.545700e+04</td>\n",
       "      <td>3.965560e+05</td>\n",
       "    </tr>\n",
       "    <tr>\n",
       "      <th>regionidcounty</th>\n",
       "      <td>2973780.0</td>\n",
       "      <td>2.570461e+03</td>\n",
       "      <td>7.880711e+02</td>\n",
       "      <td>1.286000e+03</td>\n",
       "      <td>2.061000e+03</td>\n",
       "      <td>3.101000e+03</td>\n",
       "      <td>3.101000e+03</td>\n",
       "      <td>3.101000e+03</td>\n",
       "    </tr>\n",
       "    <tr>\n",
       "      <th>regionidzip</th>\n",
       "      <td>2971237.0</td>\n",
       "      <td>9.655267e+04</td>\n",
       "      <td>3.673175e+03</td>\n",
       "      <td>9.598200e+04</td>\n",
       "      <td>9.618000e+04</td>\n",
       "      <td>9.637700e+04</td>\n",
       "      <td>9.697400e+04</td>\n",
       "      <td>3.996750e+05</td>\n",
       "    </tr>\n",
       "    <tr>\n",
       "      <th>roomcnt</th>\n",
       "      <td>2973742.0</td>\n",
       "      <td>1.475018e+00</td>\n",
       "      <td>2.840403e+00</td>\n",
       "      <td>0.000000e+00</td>\n",
       "      <td>0.000000e+00</td>\n",
       "      <td>0.000000e+00</td>\n",
       "      <td>0.000000e+00</td>\n",
       "      <td>9.600000e+01</td>\n",
       "    </tr>\n",
       "    <tr>\n",
       "      <th>yearbuilt</th>\n",
       "      <td>2925289.0</td>\n",
       "      <td>1.964262e+03</td>\n",
       "      <td>2.344132e+01</td>\n",
       "      <td>1.801000e+03</td>\n",
       "      <td>1.950000e+03</td>\n",
       "      <td>1.963000e+03</td>\n",
       "      <td>1.981000e+03</td>\n",
       "      <td>2.015000e+03</td>\n",
       "    </tr>\n",
       "    <tr>\n",
       "      <th>structuretaxvaluedollarcnt</th>\n",
       "      <td>2930235.0</td>\n",
       "      <td>1.708836e+05</td>\n",
       "      <td>4.020683e+05</td>\n",
       "      <td>1.000000e+00</td>\n",
       "      <td>7.480000e+04</td>\n",
       "      <td>1.225900e+05</td>\n",
       "      <td>1.968890e+05</td>\n",
       "      <td>2.514860e+08</td>\n",
       "    </tr>\n",
       "    <tr>\n",
       "      <th>taxvaluedollarcnt</th>\n",
       "      <td>2942667.0</td>\n",
       "      <td>4.204790e+05</td>\n",
       "      <td>7.263467e+05</td>\n",
       "      <td>1.000000e+00</td>\n",
       "      <td>1.796750e+05</td>\n",
       "      <td>3.060860e+05</td>\n",
       "      <td>4.880000e+05</td>\n",
       "      <td>2.827860e+08</td>\n",
       "    </tr>\n",
       "    <tr>\n",
       "      <th>assessmentyear</th>\n",
       "      <td>2973778.0</td>\n",
       "      <td>2.014999e+03</td>\n",
       "      <td>3.683161e-02</td>\n",
       "      <td>2.000000e+03</td>\n",
       "      <td>2.015000e+03</td>\n",
       "      <td>2.015000e+03</td>\n",
       "      <td>2.015000e+03</td>\n",
       "      <td>2.016000e+03</td>\n",
       "    </tr>\n",
       "    <tr>\n",
       "      <th>landtaxvaluedollarcnt</th>\n",
       "      <td>2917484.0</td>\n",
       "      <td>2.524780e+05</td>\n",
       "      <td>4.450132e+05</td>\n",
       "      <td>1.000000e+00</td>\n",
       "      <td>7.483600e+04</td>\n",
       "      <td>1.670420e+05</td>\n",
       "      <td>3.069180e+05</td>\n",
       "      <td>9.024622e+07</td>\n",
       "    </tr>\n",
       "    <tr>\n",
       "      <th>taxamount</th>\n",
       "      <td>2953967.0</td>\n",
       "      <td>5.377607e+03</td>\n",
       "      <td>9.183107e+03</td>\n",
       "      <td>1.340000e+00</td>\n",
       "      <td>2.461070e+03</td>\n",
       "      <td>3.991780e+03</td>\n",
       "      <td>6.201005e+03</td>\n",
       "      <td>3.458861e+06</td>\n",
       "    </tr>\n",
       "    <tr>\n",
       "      <th>censustractandblock</th>\n",
       "      <td>2910091.0</td>\n",
       "      <td>6.048431e+13</td>\n",
       "      <td>3.249035e+11</td>\n",
       "      <td>-1.000000e+00</td>\n",
       "      <td>6.037400e+13</td>\n",
       "      <td>6.037572e+13</td>\n",
       "      <td>6.059042e+13</td>\n",
       "      <td>4.830301e+14</td>\n",
       "    </tr>\n",
       "  </tbody>\n",
       "</table>\n",
       "</div>"
      ],
      "text/plain": [
       "                                  count          mean           std  \\\n",
       "parcelid                      2985217.0  1.332586e+07  7.909966e+06   \n",
       "bathroomcnt                   2973755.0  2.209143e+00  1.077754e+00   \n",
       "bedroomcnt                    2973767.0  3.088949e+00  1.275859e+00   \n",
       "calculatedbathnbr             2856305.0  2.299263e+00  1.000736e+00   \n",
       "calculatedfinishedsquarefeet  2929652.0  1.827162e+03  1.819780e+03   \n",
       "finishedsquarefeet12          2709184.0  1.760001e+03  9.710610e+02   \n",
       "fips                          2973780.0  6.048032e+03  2.023278e+01   \n",
       "fullbathcnt                   2856305.0  2.244165e+00  9.912054e-01   \n",
       "latitude                      2973780.0  3.400147e+07  2.433812e+05   \n",
       "longitude                     2973780.0 -1.182019e+08  3.453171e+05   \n",
       "lotsizesquarefeet             2709118.0  2.282281e+04  3.375924e+05   \n",
       "propertylandusetypeid         2973780.0  2.600484e+02  1.590817e+01   \n",
       "rawcensustractandblock        2973780.0  6.048345e+07  2.008117e+05   \n",
       "regionidcity                  2922372.0  3.499335e+04  5.072747e+04   \n",
       "regionidcounty                2973780.0  2.570461e+03  7.880711e+02   \n",
       "regionidzip                   2971237.0  9.655267e+04  3.673175e+03   \n",
       "roomcnt                       2973742.0  1.475018e+00  2.840403e+00   \n",
       "yearbuilt                     2925289.0  1.964262e+03  2.344132e+01   \n",
       "structuretaxvaluedollarcnt    2930235.0  1.708836e+05  4.020683e+05   \n",
       "taxvaluedollarcnt             2942667.0  4.204790e+05  7.263467e+05   \n",
       "assessmentyear                2973778.0  2.014999e+03  3.683161e-02   \n",
       "landtaxvaluedollarcnt         2917484.0  2.524780e+05  4.450132e+05   \n",
       "taxamount                     2953967.0  5.377607e+03  9.183107e+03   \n",
       "censustractandblock           2910091.0  6.048431e+13  3.249035e+11   \n",
       "\n",
       "                                       min           25%           50%  \\\n",
       "parcelid                      1.071172e+07  1.164371e+07  1.254509e+07   \n",
       "bathroomcnt                   0.000000e+00  2.000000e+00  2.000000e+00   \n",
       "bedroomcnt                    0.000000e+00  2.000000e+00  3.000000e+00   \n",
       "calculatedbathnbr             1.000000e+00  2.000000e+00  2.000000e+00   \n",
       "calculatedfinishedsquarefeet  1.000000e+00  1.213000e+03  1.572000e+03   \n",
       "finishedsquarefeet12          1.000000e+00  1.196000e+03  1.539000e+03   \n",
       "fips                          6.037000e+03  6.037000e+03  6.037000e+03   \n",
       "fullbathcnt                   1.000000e+00  2.000000e+00  2.000000e+00   \n",
       "latitude                      3.332439e+07  3.382768e+07  3.400825e+07   \n",
       "longitude                    -1.194758e+08 -1.183930e+08 -1.181725e+08   \n",
       "lotsizesquarefeet             1.000000e+02  5.688000e+03  7.000000e+03   \n",
       "propertylandusetypeid         3.100000e+01  2.610000e+02  2.610000e+02   \n",
       "rawcensustractandblock        6.037101e+07  6.037320e+07  6.037571e+07   \n",
       "regionidcity                  3.491000e+03  1.244700e+04  2.521800e+04   \n",
       "regionidcounty                1.286000e+03  2.061000e+03  3.101000e+03   \n",
       "regionidzip                   9.598200e+04  9.618000e+04  9.637700e+04   \n",
       "roomcnt                       0.000000e+00  0.000000e+00  0.000000e+00   \n",
       "yearbuilt                     1.801000e+03  1.950000e+03  1.963000e+03   \n",
       "structuretaxvaluedollarcnt    1.000000e+00  7.480000e+04  1.225900e+05   \n",
       "taxvaluedollarcnt             1.000000e+00  1.796750e+05  3.060860e+05   \n",
       "assessmentyear                2.000000e+03  2.015000e+03  2.015000e+03   \n",
       "landtaxvaluedollarcnt         1.000000e+00  7.483600e+04  1.670420e+05   \n",
       "taxamount                     1.340000e+00  2.461070e+03  3.991780e+03   \n",
       "censustractandblock          -1.000000e+00  6.037400e+13  6.037572e+13   \n",
       "\n",
       "                                       75%           max  \n",
       "parcelid                      1.409712e+07  1.696019e+08  \n",
       "bathroomcnt                   3.000000e+00  2.000000e+01  \n",
       "bedroomcnt                    4.000000e+00  2.000000e+01  \n",
       "calculatedbathnbr             3.000000e+00  2.000000e+01  \n",
       "calculatedfinishedsquarefeet  2.136000e+03  9.525760e+05  \n",
       "finishedsquarefeet12          2.070000e+03  2.903450e+05  \n",
       "fips                          6.059000e+03  6.111000e+03  \n",
       "fullbathcnt                   3.000000e+00  2.000000e+01  \n",
       "latitude                      3.416186e+07  3.481965e+07  \n",
       "longitude                    -1.179495e+08 -1.175543e+08  \n",
       "lotsizesquarefeet             9.898000e+03  3.282638e+08  \n",
       "propertylandusetypeid         2.610000e+02  2.750000e+02  \n",
       "rawcensustractandblock        6.059042e+07  6.111009e+07  \n",
       "regionidcity                  4.545700e+04  3.965560e+05  \n",
       "regionidcounty                3.101000e+03  3.101000e+03  \n",
       "regionidzip                   9.697400e+04  3.996750e+05  \n",
       "roomcnt                       0.000000e+00  9.600000e+01  \n",
       "yearbuilt                     1.981000e+03  2.015000e+03  \n",
       "structuretaxvaluedollarcnt    1.968890e+05  2.514860e+08  \n",
       "taxvaluedollarcnt             4.880000e+05  2.827860e+08  \n",
       "assessmentyear                2.015000e+03  2.016000e+03  \n",
       "landtaxvaluedollarcnt         3.069180e+05  9.024622e+07  \n",
       "taxamount                     6.201005e+03  3.458861e+06  \n",
       "censustractandblock           6.059042e+13  4.830301e+14  "
      ]
     },
     "execution_count": 5,
     "metadata": {},
     "output_type": "execute_result"
    }
   ],
   "source": [
    "# Feature Selection/Removal\n",
    "# Creating a threshold to remove attributes that are sparse in data\n",
    "# and removing them from the dataset\n",
    "\n",
    "threshold = 0.30\n",
    "zillow_data_feature_removal = zillow_properties_data_2016.copy()\n",
    "for attr in zillow_properties_data_2016.columns.values.tolist():\n",
    "    if zillow_properties_data_2016[attr].isnull().sum()/float(zillow_properties_data_2016.shape[0]) > threshold:\n",
    "        del zillow_data_feature_removal[attr]\n",
    "\n",
    "zillow_data_feature_removal.describe().transpose()\n",
    "\n"
   ]
  },
  {
   "cell_type": "code",
   "execution_count": 6,
   "metadata": {
    "collapsed": true
   },
   "outputs": [],
   "source": [
    "# fips Federal Information Processing Standard code is the same for most of the data\n",
    "del zillow_data_feature_removal['fips']\n",
    "\n",
    "\n",
    "# bathroomcnt is the same as calculatedbathnbr and fullbathcnt, Hence we retain bathroomcnt and delete the other 2 \n",
    "del zillow_data_feature_removal['calculatedbathnbr']\n",
    "del zillow_data_feature_removal['fullbathcnt']\n",
    "\n",
    "\n",
    "# calculatedfinishedsquarefeet and finishedsquarefeet12 are similar, \n",
    "# and calcuatedfinishedsqarefeet might be more accurate and one of them can be removed\n",
    "del zillow_data_feature_removal['finishedsquarefeet12']\n",
    "\n",
    "\n",
    "# Removing redundant data censustractandblock (similar to rawcensustractandblock)\n",
    "# Census data contains information about location i.e. block and district which \n",
    "# can be obtained from regionidzip.\n",
    "del zillow_data_feature_removal['censustractandblock']\n",
    "del zillow_data_feature_removal['rawcensustractandblock']\n",
    "\n",
    "\n",
    "# Removing propertycountylandusecode as the categorical attribute propertylandusetypeid \n",
    "# provides same information\n",
    "del zillow_data_feature_removal['propertycountylandusecode']\n",
    "del zillow_data_feature_removal['assessmentyear']\n",
    "del zillow_data_feature_removal['roomcnt']\n"
   ]
  },
  {
   "cell_type": "code",
   "execution_count": 7,
   "metadata": {},
   "outputs": [
    {
     "data": {
      "text/plain": [
       "Index(['parcelid', 'bathroomcnt', 'bedroomcnt', 'calculatedfinishedsquarefeet',\n",
       "       'latitude', 'longitude', 'lotsizesquarefeet', 'propertylandusetypeid',\n",
       "       'regionidcity', 'regionidcounty', 'regionidzip', 'yearbuilt',\n",
       "       'structuretaxvaluedollarcnt', 'taxvaluedollarcnt',\n",
       "       'landtaxvaluedollarcnt', 'taxamount'],\n",
       "      dtype='object')"
      ]
     },
     "execution_count": 7,
     "metadata": {},
     "output_type": "execute_result"
    }
   ],
   "source": [
    "zillow_data_feature_removal.columns\n",
    "\n"
   ]
  },
  {
   "cell_type": "code",
   "execution_count": 8,
   "metadata": {
    "scrolled": true
   },
   "outputs": [],
   "source": [
    "#Creating a data frame to calculate noise that can be used to fill lotsizesquarefeet and calculatedfinishedsquarefeet\n",
    "squareFeetCols= {'calculatedfinishedsquarefeet':zillow_data_feature_removal['calculatedfinishedsquarefeet'],'lotsizesquarefeet':zillow_data_feature_removal['lotsizesquarefeet']}\n",
    "squareFeetdfWithoutNaN = pd.DataFrame(squareFeetCols)\n"
   ]
  },
  {
   "cell_type": "code",
   "execution_count": 9,
   "metadata": {},
   "outputs": [
    {
     "data": {
      "text/plain": [
       "0.7488919009507046"
      ]
     },
     "execution_count": 9,
     "metadata": {},
     "output_type": "execute_result"
    }
   ],
   "source": [
    "#Dropping the rows with NaN values\n",
    "squareFeetdfWithoutNaN=squareFeetdfWithoutNaN.dropna(how='any')\n",
    "\n",
    "# creating a new column 'difference' which tracks diff between lotsizesquarefeet - calculatedfinishedsquarefeet\n",
    "squareFeetdfWithoutNaN['difference']= squareFeetdfWithoutNaN['lotsizesquarefeet']-squareFeetdfWithoutNaN['calculatedfinishedsquarefeet']\n",
    "\n",
    "# keeping only the values with greater lotsizesquarefeet than calculatedfinishedsquarefeet\n",
    "squareFeetdfWithoutNaN=squareFeetdfWithoutNaN[squareFeetdfWithoutNaN['difference']>0]\n",
    "\n",
    "squareFeetdfWithoutNaN['differenceFraction']= squareFeetdfWithoutNaN['difference'] / squareFeetdfWithoutNaN['lotsizesquarefeet']         \n",
    "\n",
    "# calculating the mean of differenceFraction column\n",
    "noise=squareFeetdfWithoutNaN['differenceFraction'].mean()\n",
    "noise"
   ]
  },
  {
   "cell_type": "code",
   "execution_count": 10,
   "metadata": {
    "scrolled": true
   },
   "outputs": [
    {
     "name": "stderr",
     "output_type": "stream",
     "text": [
      "/Users/vinod/anaconda/lib/python3.6/site-packages/pandas/core/indexing.py:179: SettingWithCopyWarning: \n",
      "A value is trying to be set on a copy of a slice from a DataFrame\n",
      "\n",
      "See the caveats in the documentation: http://pandas.pydata.org/pandas-docs/stable/indexing.html#indexing-view-versus-copy\n",
      "  self._setitem_with_indexer(indexer, value)\n"
     ]
    }
   ],
   "source": [
    "# Filling NAN values in calculatedfinishedsquarefeet and lotsizesquarefeet by using noise\n",
    "zillow_data_feature_removal['calculatedfinishedsquarefeet'].loc[zillow_data_feature_removal['calculatedfinishedsquarefeet'].isnull()]=(1-noise)*zillow_data_feature_removal['lotsizesquarefeet'].loc[zillow_data_feature_removal['lotsizesquarefeet'].notnull()] \n",
    "zillow_data_feature_removal['lotsizesquarefeet'].loc[zillow_data_feature_removal['lotsizesquarefeet'].isnull()]=zillow_data_feature_removal['calculatedfinishedsquarefeet'].loc[zillow_data_feature_removal['calculatedfinishedsquarefeet'].notnull()]/(1-noise)\n",
    "\n"
   ]
  },
  {
   "cell_type": "code",
   "execution_count": 11,
   "metadata": {
    "collapsed": true
   },
   "outputs": [],
   "source": [
    "# filling the Remaining NAN values in calculatedfinishedsquarefeet and lotsizesquarefeet with mean and median\n",
    "\n",
    "zillow_data_feature_removal['calculatedfinishedsquarefeet']=zillow_data_feature_removal['calculatedfinishedsquarefeet'].fillna(zillow_data_feature_removal['calculatedfinishedsquarefeet'].mean())\n",
    "\n",
    "zillow_data_feature_removal['lotsizesquarefeet']=zillow_data_feature_removal['lotsizesquarefeet'].fillna(zillow_data_feature_removal['lotsizesquarefeet'].median())"
   ]
  },
  {
   "cell_type": "code",
   "execution_count": 12,
   "metadata": {},
   "outputs": [
    {
     "name": "stderr",
     "output_type": "stream",
     "text": [
      "/Users/vinod/anaconda/lib/python3.6/site-packages/pandas/core/indexing.py:179: SettingWithCopyWarning: \n",
      "A value is trying to be set on a copy of a slice from a DataFrame\n",
      "\n",
      "See the caveats in the documentation: http://pandas.pydata.org/pandas-docs/stable/indexing.html#indexing-view-versus-copy\n",
      "  self._setitem_with_indexer(indexer, value)\n"
     ]
    }
   ],
   "source": [
    "# filling landtaxvaluedollarcnt and structuretaxvaluedollarcnt by using the computation taxvaluedollarcnt=landtaxvaluedollarcnt+structuretaxvaluedollarcnt\n",
    "\n",
    "zillow_data_feature_removal['landtaxvaluedollarcnt'].loc[zillow_data_feature_removal['landtaxvaluedollarcnt'].isnull()]= zillow_data_feature_removal['taxvaluedollarcnt'].loc[zillow_data_feature_removal['taxvaluedollarcnt'].notnull()]-zillow_data_feature_removal['structuretaxvaluedollarcnt'].loc[zillow_data_feature_removal['structuretaxvaluedollarcnt'].notnull()] \n",
    "zillow_data_feature_removal['structuretaxvaluedollarcnt'].loc[zillow_data_feature_removal['structuretaxvaluedollarcnt'].isnull()]= zillow_data_feature_removal['taxvaluedollarcnt'].loc[zillow_data_feature_removal['taxvaluedollarcnt'].notnull()]-zillow_data_feature_removal['landtaxvaluedollarcnt'].loc[zillow_data_feature_removal['landtaxvaluedollarcnt'].notnull()] \n",
    "\n",
    "\n",
    "\n"
   ]
  },
  {
   "cell_type": "code",
   "execution_count": 13,
   "metadata": {
    "collapsed": true
   },
   "outputs": [],
   "source": [
    "# filling longitude , latitude , yearbuilt, bathroomcnt, bedroomcnt \n",
    "zillow_data_feature_removal['latitude']=zillow_data_feature_removal['latitude'].fillna(zillow_data_feature_removal['latitude'].mean())\n",
    "\n",
    "zillow_data_feature_removal['longitude']=zillow_data_feature_removal['longitude'].fillna(zillow_data_feature_removal['longitude'].mean())\n",
    "\n",
    "zillow_data_feature_removal['yearbuilt']=zillow_data_feature_removal['yearbuilt'].fillna(zillow_data_feature_removal['yearbuilt'].median())\n",
    "\n",
    "zillow_data_feature_removal['bathroomcnt']=zillow_data_feature_removal['bathroomcnt'].fillna(zillow_data_feature_removal['bathroomcnt'].median())\n",
    "\n",
    "zillow_data_feature_removal['bedroomcnt']=zillow_data_feature_removal['bedroomcnt'].fillna(zillow_data_feature_removal['bedroomcnt'].median())"
   ]
  },
  {
   "cell_type": "code",
   "execution_count": 14,
   "metadata": {},
   "outputs": [],
   "source": [
    "# Creating a dictionary of unique city ids and their latitude and longitude values\n",
    "# to use it in python geocoder and retrieve the location details\n",
    "region_city_unique = dict()\n",
    "max_regions = len(zillow_data_feature_removal[\"regionidcity\"].unique())-1\n",
    "row = 0\n",
    "while max_regions:\n",
    "    if (not (zillow_data_feature_removal.get_value(row,\"regionidcity\") in region_city_unique)) and not np.isnan(zillow_data_feature_removal.get_value(row,\"regionidcity\")):\n",
    "        max_regions -= 1\n",
    "        region_city_unique[int(zillow_data_feature_removal.get_value(row,\"regionidcity\"))] = [zillow_data_feature_removal.get_value(row,\"latitude\")/1000000.0, zillow_data_feature_removal.get_value(row,\"longitude\")/1000000.0]\n",
    "    row += 1    \n",
    "    "
   ]
  },
  {
   "cell_type": "code",
   "execution_count": 15,
   "metadata": {},
   "outputs": [],
   "source": [
    "# Part 4\n",
    "# Adding external dataset\n",
    "# This code has been executed before and the results are stored.\n",
    "# We create a dictionary of unique city ids and map it to actual name of the city, county name and actual zipcode\n",
    "#from pygeocoder import Geocoder\n",
    "#region_city_county = dict()\n",
    "#for city in region_city_unique.keys():\n",
    "#    location = Geocoder.reverse_geocode(region_city_unique[city][0],region_city_unique[city][1])\n",
    "#    region_city_county[city] = [location.city, location.county, location.postal_code]\n",
    "region_city_county = {37688: ['Calabasas', 'Los Angeles County', '91302'], 51617: ['Culver City', 'Los Angeles County', '90230'], 12447: ['Los Angeles', 'Los Angeles County', '91423'], 396054: ['Burbank', 'Los Angeles County', '91502'], 47547: ['San Fernando', 'Los Angeles County', '91340'], 54311: ['Santa Clarita', 'Los Angeles County', '91350'], 40227: ['Palmdale', 'Los Angeles County', '93551'], 5534: ['Lancaster', 'Los Angeles County', '93534'], 45888: ['Inglewood', 'Los Angeles County', '90305'], 33612: ['Redondo Beach', 'Los Angeles County', '90278'], 26964: ['Santa Monica', 'Los Angeles County', '90405'], 17882: ['Los Angeles', 'Los Angeles County', '90063'], 25953: ['Montebello', 'Los Angeles County', '90640'], 33837: ['San Gabriel', 'Los Angeles County', '91776'], 48424: ['West Hollywood', 'Los Angeles County', '90069'], 45457: ['Glendale', 'Los Angeles County', '91202'], 47019: ['Pasadena', 'Los Angeles County', '91103'], 50749: ['Arcadia', 'Los Angeles County', '91007'], 30187: ['Altadena', 'Los Angeles County', '91001'], 118994: ['Los Angeles', 'Los Angeles County', '90061'], 47762: ['South Gate', 'Los Angeles County', '90280'], 6395: ['Paramount', 'Los Angeles County', '90723'], 39076: ['Huntington Park', 'Los Angeles County', '90255'], 16961: ['Bell Gardens', 'Los Angeles County', '90201'], 10774: ['Cerritos', 'Los Angeles County', '90703'], 46298: ['Long Beach', 'Los Angeles County', '90805'], 44116: ['Bellflower', 'Los Angeles County', '90706'], 27103: ['Signal Hill', 'Los Angeles County', '90755'], 54722: ['Torrance', 'Los Angeles County', '90503'], 53027: ['Lomita', 'Los Angeles County', '90717'], 33311: ['Palos Verdes Estates', 'Los Angeles County', '90274'], 13716: ['Santa Fe Springs', 'Los Angeles County', '90670'], 53636: ['Norwalk', 'Los Angeles County', '90650'], 14634: ['Whittier', 'Los Angeles County', '90601'], 39306: ['La Puente', 'Los Angeles County', '91744'], 20008: ['Pomona', 'Los Angeles County', '91768'], 51861: ['El Monte', 'Los Angeles County', '91731'], 11626: ['Glendora', 'Los Angeles County', '91741'], 53162: ['Marina del Rey', 'Los Angeles County', '90292'], 113576: ['City of Industry', 'Los Angeles County', '91746'], 24384: ['Diamond Bar', 'Los Angeles County', '91789'], 26483: ['Pico Rivera', 'Los Angeles County', '90660'], 12520: ['Malibu', 'Los Angeles County', '90265'], 118217: ['La Puente', 'Los Angeles County', '91744'], 54212: ['Rosemead', 'Los Angeles County', '91770'], 45398: ['Gardena', 'Los Angeles County', '90247'], 24174: ['Compton', 'Los Angeles County', '90220'], 30267: ['Artesia', 'Los Angeles County', '90701'], 21778: ['Hawaiian Gardens', 'Los Angeles County', '90716'], 10723: ['Carson', 'Los Angeles County', '90746'], 118878: ['Torrance', 'Los Angeles County', '90502'], 22827: ['Rowland Heights', 'Los Angeles County', '91748'], 5465: ['La Mirada', 'Los Angeles County', '90638'], 36502: ['South El Monte', 'Los Angeles County', '91733'], 45602: ['La Puente', 'Los Angeles County', '91746'], 39308: ['La Verne', 'Los Angeles County', '91750'], 33836: ['San Dimas', 'Los Angeles County', '91773'], 24245: ['Glendora', 'Los Angeles County', '91740'], 32923: ['Monrovia', 'Los Angeles County', '91016'], 37015: ['Azusa', 'Los Angeles County', '91702'], 24812: ['Fullerton', 'Orange County', '92832'], 34780: ['Westminster', 'Orange County', '92683'], 52650: ['Irvine', 'Orange County', '92620'], 46314: ['Los Alamitos', 'Orange County', '90720'], 15554: ['Ladera Ranch', 'Orange County', '92694'], 33840: ['Ladera Ranch', 'Orange County', '92694'], 47568: ['Santa Ana', 'Orange County', '92703'], 42967: ['Stanton', 'Orange County', '90680'], 27491: ['Tustin', 'Orange County', '92780'], 16764: ['Anaheim', 'Orange County', '92804'], 26531: ['Placentia', 'Orange County', '92870'], 25218: ['Huntington Beach', 'Orange County', '92649'], 32380: ['Lake Forest', 'Orange County', '92610'], 53571: ['Newport Beach', 'Orange County', '92660'], 17150: ['Brea', 'Orange County', '92823'], 13091: ['Ojai', 'Ventura County', '93023'], 26965: ['Santa Paula', 'Ventura County', '93060'], 27110: ['Simi Valley', 'Ventura County', '93063'], 34278: ['Thousand Oaks', 'Ventura County', '91362'], 34543: ['Ventura', 'Ventura County', '93003'], 13150: ['Oxnard', 'Ventura County', '93033'], 40110: ['Ojai', 'Ventura County', '93023'], 18098: ['Fillmore', 'Ventura County', '93015'], 13311: ['Piru', 'Ventura County', '93040'], 51239: ['Camarillo', 'Ventura County', '93010'], 34037: ['Somis', 'Ventura County', '93066'], 47198: ['Port Hueneme', 'Ventura County', '93041'], 25974: ['Moorpark', 'Ventura County', '93021'], 41673: ['Westlake Village', 'Ventura County', '91361'], 53655: ['Oak Park', 'Ventura County', '91377'], 42091: ['Bell Canyon', 'Ventura County', '91307'], 9840: ['Agoura Hills', 'Los Angeles County', '91301'], 38980: ['Hidden Hills', 'Los Angeles County', '91302'], 10734: ['Castaic', 'Los Angeles County', '91384'], 29189: ['Palmdale', 'Los Angeles County', '93591'], 13232: ['Pearblossom', 'Los Angeles County', '93553'], 16677: ['Palmdale', 'Los Angeles County', '93550'], 25621: ['Pearblossom', 'Los Angeles County', '93553'], 25468: ['Lake Hughes', 'Los Angeles County', '93532'], 116042: ['Los Angeles', 'Los Angeles County', '90056'], 396550: ['View Park-Windsor Hills', 'Los Angeles County', '90056'], 42150: ['Hawthorne', 'Los Angeles County', '90250'], 118875: ['Los Angeles', 'Los Angeles County', '90047'], 113412: ['Gardena', 'Los Angeles County', '90249'], 46178: ['Lawndale', 'Los Angeles County', '90260'], 55753: ['El Segundo', 'Los Angeles County', '90245'], 19177: ['Manhattan Beach', 'Los Angeles County', '90266'], 29712: ['Hermosa Beach', 'Los Angeles County', '90254'], 10389: ['Beverly Hills', 'Los Angeles County', '90212'], 56780: ['Topanga', 'Los Angeles County', '90290'], 6021: ['Monterey Park', 'Los Angeles County', '91754'], 272578: ['Commerce', 'Los Angeles County', '90040'], 50677: ['Alhambra', 'Los Angeles County', '91801'], 27183: ['South Pasadena', 'Los Angeles County', '91030'], 54299: ['San Marino', 'Los Angeles County', '91108'], 114834: ['Pasadena', 'Los Angeles County', '91107'], 14111: ['Temple City', 'Los Angeles County', '91780'], 396551: ['Glendale', 'Los Angeles County', '91214'], 47695: ['Sierra Madre', 'Los Angeles County', '91024'], 46080: ['La Cañada Flintridge', 'Los Angeles County', '91011'], 396053: ['Los Angeles', 'Los Angeles County', '90001'], 118914: ['Los Angeles', 'Los Angeles County', '90044'], 118880: ['Gardena', 'Los Angeles County', '90248'], 32616: ['Lynwood', 'Los Angeles County', '90262'], 31134: ['Cudahy', 'Los Angeles County', '90201'], 30399: ['Bell', 'Los Angeles County', '90201'], 4406: ['Downey', 'Los Angeles County', '90241'], 32753: ['Maywood', 'Los Angeles County', '90270'], 15237: ['Cerritos', 'Los Angeles County', '90703'], 12292: ['Lakewood', 'Los Angeles County', '90713'], 44833: ['Cypress', 'Orange County', '90630'], 54352: ['Long Beach', None, '90803'], 3491: ['Avalon', 'Los Angeles County', '90704'], 54053: ['Rancho Palos Verdes', 'Los Angeles County', '90275'], 33727: ['Rolling Hills Estates', 'Los Angeles County', '90274'], 6822: ['Palos Verdes Estates', 'Los Angeles County', '90274'], 33312: ['Palos Verdes Peninsula', 'Los Angeles County', '90274'], 118225: ['Whittier', 'Los Angeles County', '90605'], 114828: ['Whittier', 'Los Angeles County', '90604'], 18874: ['La Habra', 'Orange County', '90631'], 396556: ['Whittier', 'Los Angeles County', '90606'], 118895: ['La Puente', 'Los Angeles County', '91744'], 18875: ['La Habra Heights', 'Los Angeles County', '90631'], 118694: ['La Puente', 'Los Angeles County', '91744'], 14542: ['West Covina', 'Los Angeles County', '91792'], 30908: ['Claremont', 'Los Angeles County', '91711'], 25271: ['Irwindale', 'Los Angeles County', '91706'], 10241: ['Baldwin Park', 'Los Angeles County', '91706'], 14906: ['Monrovia', 'Los Angeles County', '91016'], 24435: ['Bradbury', 'Los Angeles County', '91008'], 34636: ['Walnut', 'Los Angeles County', '91789'], 33252: ['Orange', 'Orange County', '92868'], 52842: ['Laguna Beach', 'Orange County', '92651'], 13693: ['San Clemente', 'Orange County', '92672'], 10608: ['Buena Park', 'Orange County', '90621'], 24832: ['Garden Grove', 'Orange County', '92840'], 40081: ['Santa Ana', 'Orange County', '92705'], 16389: ['Silverado', 'Orange County', '92676'], 8384: ['Westminster', 'Orange County', '92683'], 38032: ['Costa Mesa', 'Orange County', '92627'], 21412: ['Yorba Linda', 'Orange County', '92886'], 54970: ['Villa Park', 'Orange County', '92861'], 40009: ['Newport Beach', 'Orange County', '92660'], 25458: ['Laguna Hills', 'Orange County', '92653'], 12773: ['Mission Viejo', 'Orange County', '92691'], 37086: ['Laguna Hills', 'Orange County', '92656'], 25459: ['Laguna Niguel', 'Orange County', '92677'], 17686: ['San Juan Capistrano', 'Orange County', '92675'], 17597: ['Coto de Caza', 'Orange County', '92679'], 46098: ['Laguna Woods', 'Orange County', '92653'], 52835: ['Ladera Ranch', 'Orange County', '92694'], 21395: ['Llano', 'Los Angeles County', '93544'], 41484: ['Vernon', 'Los Angeles County', '90058'], 32927: ['Montclair', 'San Bernardino County', '91763'], 10815: ['Chino Hills', 'San Bernardino County', '91709'], 25535: ['Lebec', 'Los Angeles County', '93243'], 27512: ['Upland', 'Los Angeles County', '91786'], 6285: ['San Clemente', 'San Diego County', '92672'], 24797: ['Frazier Park', 'Ventura County', '93225'], 40633: ['Rosamond', 'Los Angeles County', '93560'], 48211: ['Valyermo', 'Los Angeles County', '93563'], 3980: ['Carpinteria', 'Santa Barbara County', '93013'], 37882: ['City of Industry', 'Los Angeles County', '91745'], 47913: ['Huntington Beach', 'Orange County', '90742'], 36078: ['Llano', 'Los Angeles County', '93544'], 19202: ['Frazier Park', 'Ventura County', '93225']}   "
   ]
  },
  {
   "cell_type": "code",
   "execution_count": 16,
   "metadata": {},
   "outputs": [],
   "source": [
    "# Using external dataset\n",
    "# The 2010 US Census Population By Zip Code\n",
    "# https://blog.splitwise.com/2013/09/18/the-2010-us-census-population-by-zip-code-totally-free/\n",
    "# Population Growth rate from 2010 to 2016 is 5.16%\n",
    "\n",
    "census_2010_data = pd.read_csv(\"population_2010.csv\", low_memory=False)\n",
    "\n"
   ]
  },
  {
   "cell_type": "code",
   "execution_count": 17,
   "metadata": {},
   "outputs": [],
   "source": [
    "# Creating a dictionary of unique actual zipcodes and the population in each of them\n",
    "region_zip_code_population = dict()\n",
    "for c in region_city_county:\n",
    "    region_zip_code_population[region_city_county[c][2]] = census_2010_data.get_value(census_2010_data.loc[census_2010_data['Zip Code ZCTA'] == int(region_city_county[c][2])].index[0], '2010 Census Population' ) \n"
   ]
  },
  {
   "cell_type": "code",
   "execution_count": 18,
   "metadata": {},
   "outputs": [
    {
     "data": {
      "text/plain": [
       "{'Orange County',\n",
       " 'San Diego County',\n",
       " 'Ventura County',\n",
       " 'Los Angeles County',\n",
       " 'San Bernardino County',\n",
       " 'Santa Barbara County',\n",
       " None}"
      ]
     },
     "execution_count": 18,
     "metadata": {},
     "output_type": "execute_result"
    }
   ],
   "source": [
    "# Unique list of county\n",
    "region_county = set([region_city_county[k][1] for k in region_city_county.keys()])\n",
    "region_county\n",
    "\n"
   ]
  },
  {
   "cell_type": "code",
   "execution_count": 19,
   "metadata": {
    "collapsed": true
   },
   "outputs": [],
   "source": [
    "# External dataset -> smartasset.com/taxes/property-taxes\n",
    "# Used the above dataset to get the property tax rate at each of the unique county\n",
    "region_county_tax_rates = {\"Orange\":0.715, \"Los Angeles\":0.793, \"Santa Barbara\":0.698, \"San Bernardino\":0.92, \"San Diego\":0.781, \"Ventura\":0.801}\n",
    "\n",
    "\n"
   ]
  },
  {
   "cell_type": "code",
   "execution_count": 20,
   "metadata": {
    "collapsed": true
   },
   "outputs": [],
   "source": [
    "zillow_data_preprocessing = zillow_data_feature_removal.copy()"
   ]
  },
  {
   "cell_type": "code",
   "execution_count": 21,
   "metadata": {
    "collapsed": true
   },
   "outputs": [],
   "source": [
    "lat_max = zillow_data_preprocessing.groupby(\"regionidzip\")[\"latitude\"].max().reset_index()"
   ]
  },
  {
   "cell_type": "code",
   "execution_count": 22,
   "metadata": {
    "collapsed": true
   },
   "outputs": [],
   "source": [
    "#Creating a dictionary for latitude and longitude ranges (min, max)   \n",
    "\n",
    "region_zip_latitude_longitude_ranges = dict()\n",
    "for z in zillow_data_feature_removal[\"regionidzip\"].unique():\n",
    "    region_zip_latitude_longitude_ranges[z] = [[0,0],[0,0]]\n",
    "\n",
    "lat_max = zillow_data_preprocessing.groupby(\"regionidzip\")[\"latitude\"].max().reset_index()\n",
    "for i in range(len(lat_max[\"regionidzip\"])):\n",
    "    region_zip_latitude_longitude_ranges[lat_max[\"regionidzip\"][i]][0][1] = lat_max[\"latitude\"][i]\n",
    "    \n",
    "lat_min = zillow_data_preprocessing.groupby(\"regionidzip\")[\"latitude\"].min().reset_index()\n",
    "for i in range(len(lat_min[\"regionidzip\"])):\n",
    "    region_zip_latitude_longitude_ranges[lat_min[\"regionidzip\"][i]][0][0] = lat_min[\"latitude\"][i]\n",
    "    \n",
    "long_max = zillow_data_preprocessing.groupby(\"regionidzip\")[\"longitude\"].max().reset_index()\n",
    "for i in range(len(long_max[\"regionidzip\"])):\n",
    "    region_zip_latitude_longitude_ranges[long_max[\"regionidzip\"][i]][1][1] = long_max[\"longitude\"][i]\n",
    "\n",
    "long_min = zillow_data_preprocessing.groupby(\"regionidzip\")[\"longitude\"].min().reset_index()\n",
    "for i in range(len(long_min[\"regionidzip\"])):\n",
    "    region_zip_latitude_longitude_ranges[long_min[\"regionidzip\"][i]][1][0] = long_min[\"longitude\"][i]"
   ]
  },
  {
   "cell_type": "code",
   "execution_count": 23,
   "metadata": {
    "scrolled": true
   },
   "outputs": [],
   "source": [
    "# Filling the missing values of regionidzip using the latitude and longitude values \n",
    "# and figuring out the bucket it falls in.\n",
    "def find_region_zip_for_lat_long(region_zip_latitude_longitude_ranges, latitude, longitude):\n",
    "    for k in region_zip_latitude_longitude_ranges.keys():\n",
    "        if latitude<=region_zip_latitude_longitude_ranges[k][0][1] and latitude>=region_zip_latitude_longitude_ranges[k][0][0] and longitude<=region_zip_latitude_longitude_ranges[k][1][1] and longitude>=region_zip_latitude_longitude_ranges[k][1][0]:\n",
    "            return k\n",
    "\n",
    "for i in range(zillow_data_feature_removal.shape[0]):\n",
    "    if np.isnan(zillow_data_feature_removal.iloc[i][\"regionidzip\"]):\n",
    "        zillow_data_feature_removal.at[i,\"regionidzip\"] = find_region_zip_for_lat_long(region_zip_latitude_longitude_ranges, zillow_data_feature_removal.iloc[i][\"latitude\"], zillow_data_feature_removal.iloc[i][\"longitude\"])\n"
   ]
  },
  {
   "cell_type": "code",
   "execution_count": 24,
   "metadata": {
    "collapsed": true
   },
   "outputs": [],
   "source": [
    "zillow_data_feature_removal['regionidzip']=zillow_data_feature_removal['regionidzip'].fillna(zillow_data_feature_removal['regionidzip'].median())"
   ]
  },
  {
   "cell_type": "code",
   "execution_count": 25,
   "metadata": {},
   "outputs": [],
   "source": [
    "tax_median = zillow_data_feature_removal.groupby(\"regionidzip\")[\"taxamount\",\"structuretaxvaluedollarcnt\",\"landtaxvaluedollarcnt\"].median().reset_index()"
   ]
  },
  {
   "cell_type": "code",
   "execution_count": 26,
   "metadata": {},
   "outputs": [],
   "source": [
    "# Creating a dictionary of unique regionidzip mapped to taxamount, structuretaxvaluedollarcnt, landtaxvaluedollarcnt\n",
    "zipcode_tax = dict()\n",
    "for i in range(tax_median.shape[0]):\n",
    "    zipcode_tax[tax_median.iloc[i][\"regionidzip\"]] = [0,0,0]\n",
    "\n",
    "for i in range(tax_median.shape[0]):\n",
    "    zipcode_tax[tax_median.iloc[i][\"regionidzip\"]][0] = tax_median.iloc[i][\"taxamount\"]\n",
    "    zipcode_tax[tax_median.iloc[i][\"regionidzip\"]][1] = tax_median.iloc[i][\"structuretaxvaluedollarcnt\"]\n",
    "    zipcode_tax[tax_median.iloc[i][\"regionidzip\"]][2] = tax_median.iloc[i][\"landtaxvaluedollarcnt\"]"
   ]
  },
  {
   "cell_type": "code",
   "execution_count": 27,
   "metadata": {
    "scrolled": true
   },
   "outputs": [],
   "source": [
    "for i in range(zillow_data_feature_removal.shape[0]):\n",
    "    if np.isnan(zillow_data_feature_removal.iloc[i][\"taxamount\"]):\n",
    "        zillow_data_feature_removal.at[i,\"taxamount\"] = zipcode_tax[zillow_data_feature_removal.iloc[i][\"regionidzip\"]][0]\n",
    "    if np.isnan(zillow_data_feature_removal.iloc[i][\"structuretaxvaluedollarcnt\"]):\n",
    "        zillow_data_feature_removal.at[i,\"structuretaxvaluedollarcnt\"] = zipcode_tax[zillow_data_feature_removal.iloc[i][\"regionidzip\"]][1]\n",
    "    if np.isnan(zillow_data_feature_removal.iloc[i][\"landtaxvaluedollarcnt\"]):\n",
    "        zillow_data_feature_removal.at[i,\"landtaxvaluedollarcnt\"] = zipcode_tax[zillow_data_feature_removal.iloc[i][\"regionidzip\"]][2] \n",
    "        \n",
    "        "
   ]
  },
  {
   "cell_type": "code",
   "execution_count": 28,
   "metadata": {
    "collapsed": true
   },
   "outputs": [],
   "source": [
    "zillow_data_feature_removal['taxamount']=zillow_data_feature_removal['taxamount'].fillna(zillow_data_feature_removal['taxamount'].median())\n",
    "\n"
   ]
  },
  {
   "cell_type": "code",
   "execution_count": 29,
   "metadata": {},
   "outputs": [
    {
     "name": "stdout",
     "output_type": "stream",
     "text": [
      "405\n"
     ]
    }
   ],
   "source": [
    "# creating a dict with unique region zip ids\n",
    "region_zip_unique = dict()\n",
    "max_zips = len(zillow_data_feature_removal[\"regionidzip\"].unique())\n",
    "row = 0\n",
    "while max_zips:\n",
    "    if (not (zillow_data_feature_removal.get_value(row,\"regionidzip\") in region_zip_unique)) and not np.isnan(zillow_data_feature_removal.get_value(row,\"regionidzip\")):\n",
    "        max_zips -= 1\n",
    "        region_zip_unique[int(zillow_data_feature_removal.get_value(row,\"regionidzip\"))] = [zillow_data_feature_removal.get_value(row,\"latitude\")/1000000.0, zillow_data_feature_removal.get_value(row,\"longitude\")/1000000.0]\n",
    "    row += 1\n",
    "print(len(region_zip_unique))\n",
    "    "
   ]
  },
  {
   "cell_type": "code",
   "execution_count": 30,
   "metadata": {},
   "outputs": [],
   "source": [
    "# creating mapping between regionidzip abd city,county,postal code using external data\n",
    "# \n",
    "# from pygeocoder import Geocoder\n",
    "# region_zip_county = dict()\n",
    "# for city in region_zip_unique.keys():\n",
    "#    location = Geocoder.reverse_geocode(region_zip_unique[city][0],region_zip_unique[city][1])\n",
    "#    region_zip_county[city] = [location.city, location.county, location.postal_code]\n",
    "region_zip_county = {96337: ['Calabasas', 'Los Angeles County', '91302'], 96095: ['Culver City', 'Los Angeles County', '90230'], 96424: ['Los Angeles', 'Los Angeles County', '91423'], 96450: ['Los Angeles', 'Los Angeles County', '91605'], 96446: ['Los Angeles', 'Los Angeles County', '91601'], 96049: ['Los Angeles', 'Los Angeles County', '90068'], 96434: ['Burbank', 'Los Angeles County', '91502'], 96436: ['Burbank', 'Los Angeles County', '91504'], 96366: ['San Fernando', 'Los Angeles County', '91340'], 96370: ['Los Angeles', 'Los Angeles County', '91344'], 96377: ['Santa Clarita', 'Los Angeles County', '91354'], 96373: ['Santa Clarita', 'Los Angeles County', '91350'], 97329: ['Palmdale', 'Los Angeles County', '93551'], 97330: ['Palmdale', 'Los Angeles County', '93552'], 97317: ['Lancaster', 'Los Angeles County', '93534'], 97318: ['Lancaster', 'Los Angeles County', '93534'], 96024: ['Los Angeles', 'Los Angeles County', '90043'], 96137: ['Inglewood', 'Los Angeles County', '90305'], 96133: ['Inglewood', 'Los Angeles County', '90301'], 96136: ['Inglewood', 'Los Angeles County', '90304'], 96026: ['Los Angeles', 'Los Angeles County', '90045'], 96124: ['Redondo Beach', 'Los Angeles County', '90278'], 96097: ['Culver City', 'Los Angeles County', '90232'], 96072: ['Los Angeles', 'Los Angeles County', '90094'], 96047: ['Los Angeles', 'Los Angeles County', '90066'], 96149: ['Santa Monica', 'Los Angeles County', '90402'], 96152: ['Santa Monica', 'Los Angeles County', '90405'], 96148: ['Santa Monica', 'Los Angeles County', '90401'], 96045: ['Los Angeles', 'Los Angeles County', '90064'], 96005: ['Los Angeles', 'Los Angeles County', '90024'], 96030: ['Los Angeles', 'Los Angeles County', '90049'], 96043: ['Los Angeles', 'Los Angeles County', '90062'], 95987: ['Los Angeles', 'Los Angeles County', '90007'], 96000: ['Los Angeles', 'Los Angeles County', '90019'], 96017: ['Los Angeles', 'Los Angeles County', '90036'], 96018: ['Los Angeles', 'Los Angeles County', '90037'], 95996: ['Los Angeles', 'Los Angeles County', '90017'], 96038: ['Los Angeles', 'Los Angeles County', '90057'], 96012: ['Los Angeles', 'Los Angeles County', '90031'], 96013: ['Los Angeles', 'Los Angeles County', '90032'], 96044: ['Los Angeles', 'Los Angeles County', '90063'], 96004: ['Los Angeles', 'Los Angeles County', '90023'], 96192: ['Montebello', 'Los Angeles County', '90640'], 96515: ['San Gabriel', 'Los Angeles County', '91776'], 96007: ['Los Angeles', 'Los Angeles County', '90026'], 95993: ['Los Angeles', 'Los Angeles County', '90012'], 96020: ['Los Angeles', 'Los Angeles County', '90039'], 96046: ['Los Angeles', 'Los Angeles County', '90065'], 96023: ['Los Angeles', 'Los Angeles County', '90042'], 96009: ['Los Angeles', 'Los Angeles County', '90028'], 96050: ['West Hollywood', 'Los Angeles County', '90069'], 96008: ['Los Angeles', 'Los Angeles County', '90027'], 96321: ['Glendale', 'Los Angeles County', '91202'], 96325: ['Glendale', 'Los Angeles County', '91206'], 96291: ['Pasadena', 'Los Angeles County', '91103'], 96289: ['Pasadena', 'Los Angeles County', '91101'], 96268: ['Arcadia', 'Los Angeles County', '91007'], 96265: ['Altadena', 'Los Angeles County', '91001'], 96292: ['Pasadena', 'Los Angeles County', '91104'], 95984: ['Los Angeles', 'Los Angeles County', '90003'], 96025: ['Los Angeles', 'Los Angeles County', '90044'], 96028: ['Los Angeles', 'Los Angeles County', '90047'], 96042: ['Los Angeles', 'Los Angeles County', '90061'], 96104: ['Gardena', 'Los Angeles County', '90247'], 96125: ['South Gate', 'Los Angeles County', '90280'], 96220: ['Paramount', 'Los Angeles County', '90723'], 96110: ['Huntington Park', 'Los Angeles County', '90255'], 96083: ['Bell Gardens', 'Los Angeles County', '90201'], 96003: ['East Los Angeles', 'Los Angeles County', '90022'], 96206: ['Cerritos', 'Los Angeles County', '90703'], 96239: ['Long Beach', 'Los Angeles County', '90805'], 96208: ['Bellflower', 'Los Angeles County', '90706'], 96234: ['Signal Hill', 'Los Angeles County', '90755'], 96246: ['Long Beach', 'Los Angeles County', '90814'], 96245: ['Long Beach', 'Los Angeles County', '90813'], 96236: ['Long Beach', 'Los Angeles County', '90802'], 96159: ['Torrance', 'Los Angeles County', '90501'], 96161: ['Torrance', 'Los Angeles County', '90503'], 96217: ['Lomita', 'Los Angeles County', '90717'], 96221: ['Los Angeles', 'Los Angeles County', '90731'], 96123: ['Redondo Beach', 'Los Angeles County', '90277'], 96163: ['Torrance', 'Los Angeles County', '90505'], 96121: ['Palos Verdes Estates', 'Los Angeles County', '90274'], 96201: ['Santa Fe Springs', 'Los Angeles County', '90670'], 96193: ['Norwalk', 'Los Angeles County', '90650'], 96169: ['Whittier', 'Los Angeles County', '90601'], 96488: ['La Puente', 'Los Angeles County', '91744'], 96508: ['Pomona', 'Los Angeles County', '91768'], 96478: ['El Monte', 'Los Angeles County', '91731'], 96486: ['Glendora', 'Los Angeles County', '91741'], 96485: ['Glendora', 'Los Angeles County', '91740'], 96506: ['Pomona', 'Los Angeles County', '91766'], 96128: ['Marina del Rey', 'Los Angeles County', '90292'], 96364: ['Los Angeles', 'Los Angeles County', '91335'], 96415: ['Los Angeles', 'Los Angeles County', '91406'], 96490: ['City of Industry', 'Los Angeles County', '91746'], 96368: ['Los Angeles', 'Los Angeles County', '91342'], 96361: ['Los Angeles', 'Los Angeles County', '91331'], 96371: ['Los Angeles', 'Los Angeles County', '91345'], 96346: ['Los Angeles', 'Los Angeles County', '91311'], 96339: ['Los Angeles', 'Los Angeles County', '91304'], 96354: ['Los Angeles', 'Los Angeles County', '91324'], 96374: ['Santa Clarita', 'Los Angeles County', '91351'], 96352: ['Santa Clarita', 'Los Angeles County', '91321'], 96401: ['Santa Clarita', 'Los Angeles County', '91387'], 97328: ['Palmdale', 'Los Angeles County', '93550'], 97319: ['Lancaster', 'Los Angeles County', '93536'], 96522: ['Diamond Bar', 'Los Angeles County', '91789'], 96197: ['Pico Rivera', 'Los Angeles County', '90660'], 96116: ['Malibu', 'Los Angeles County', '90265'], 96510: ['Rosemead', 'Los Angeles County', '91770'], 96237: ['Long Beach', 'Los Angeles County', '90803'], 96090: ['Compton', 'Los Angeles County', '90220'], 96204: ['Artesia', 'Los Angeles County', '90701'], 96216: ['Hawaiian Gardens', 'Los Angeles County', '90716'], 96091: ['Compton', 'Los Angeles County', '90221'], 96244: ['Long Beach', 'Los Angeles County', '90810'], 96230: ['Carson', 'Los Angeles County', '90746'], 96229: ['Carson', 'Los Angeles County', '90745'], 96160: ['Torrance', 'Los Angeles County', '90502'], 96210: ['West Carson', 'Los Angeles County', '90710'], 96228: ['Los Angeles', 'Los Angeles County', '90744'], 96222: ['Los Angeles', 'Los Angeles County', '90732'], 96492: ['Rowland Heights', 'Los Angeles County', '91748'], 96190: ['La Mirada', 'Los Angeles County', '90638'], 96480: ['South El Monte', 'Los Angeles County', '91733'], 96479: ['El Monte', 'Los Angeles County', '91732'], 96489: ['La Puente', 'Los Angeles County', '91746'], 96507: ['Pomona', 'Los Angeles County', '91767'], 96494: ['La Verne', 'Los Angeles County', '91750'], 96513: ['San Dimas', 'Los Angeles County', '91773'], 96475: ['Glendora', 'Los Angeles County', '91740'], 96473: ['Covina', 'Los Angeles County', '91722'], 96273: ['Monrovia', 'Los Angeles County', '91016'], 96464: ['Azusa', 'Los Angeles County', '91702'], 96040: ['Los Angeles', 'Los Angeles County', '90059'], 97040: ['Fullerton', 'Orange County', '92832'], 96990: ['Westminster', 'Orange County', '92683'], 96954: ['Irvine', 'Orange County', '92620'], 96218: ['Los Alamitos', 'Orange County', '90720'], 96959: ['Costa Mesa', 'Orange County', '92627'], 96947: ['Irvine', 'Orange County', '92612'], 96952: ['Irvine', 'Orange County', '92618'], 96998: ['Ladera Ranch', 'Orange County', '92694'], 97003: ['Santa Ana', 'Orange County', '92703'], 96203: ['Stanton', 'Orange County', '90680'], 97016: ['Tustin', 'Orange County', '92780'], 97023: ['Anaheim', 'Orange County', '92804'], 97068: ['Placentia', 'Orange County', '92870'], 96967: ['Huntington Beach', 'Orange County', '92649'], 97067: ['Irvine', 'Orange County', '92602'], 96962: ['Lake Forest', 'Orange County', '92610'], 96978: ['Newport Beach', 'Orange County', '92660'], 97037: ['Brea', 'Orange County', '92823'], 96951: ['Irvine', 'Orange County', '92617'], 97099: ['Ojai', 'Ventura County', '93023'], 97113: ['Santa Paula', 'Ventura County', '93060'], 97116: ['Simi Valley', 'Ventura County', '93063'], 96385: ['Thousand Oaks', 'Ventura County', '91362'], 97083: ['Ventura', 'Ventura County', '93003'], 97104: ['Oxnard', 'Ventura County', '93033'], 97101: ['Oxnard', 'Ventura County', '93030'], 96351: ['Thousand Oaks', 'Ventura County', '91320'], 97098: ['Ojai', 'Ventura County', '93023'], 97081: ['Ventura', 'Ventura County', '93001'], 97094: ['Fillmore', 'Ventura County', '93015'], 97108: ['Piru', 'Ventura County', '93040'], 97084: ['Ventura', 'Ventura County', '93004'], 97089: ['Camarillo', 'Ventura County', '93010'], 97119: ['Somis', 'Ventura County', '93066'], 97107: ['Oxnard', 'Ventura County', '93036'], 97091: ['Camarillo', 'Ventura County', '93012'], 97106: ['Oxnard', 'Ventura County', '93035'], 97109: ['Port Hueneme', 'Ventura County', '93041'], 97097: ['Moorpark', 'Ventura County', '93021'], 96383: ['Thousand Oaks', 'Ventura County', '91360'], 97118: ['Simi Valley', 'Ventura County', '93065'], 96384: ['Westlake Village', 'Ventura County', '91361'], 96393: ['Oak Park', 'Ventura County', '91377'], 96342: ['Bell Canyon', 'Ventura County', '91307'], 96338: ['Los Angeles', 'Los Angeles County', '91303'], 96389: ['Los Angeles', 'Los Angeles County', '91367'], 96336: ['Agoura Hills', 'Los Angeles County', '91301'], 96387: ['Los Angeles', 'Los Angeles County', '91364'], 96355: ['Los Angeles', 'Los Angeles County', '91325'], 96341: ['Los Angeles', 'Los Angeles County', '91306'], 96349: ['Los Angeles', 'Los Angeles County', '91316'], 96379: ['Los Angeles', 'Los Angeles County', '91356'], 96411: ['Los Angeles', 'Los Angeles County', '91402'], 96414: ['Los Angeles', 'Los Angeles County', '91405'], 96420: ['Los Angeles', 'Los Angeles County', '91411'], 96410: ['Los Angeles', 'Los Angeles County', '91401'], 96412: ['Los Angeles', 'Los Angeles County', '91403'], 96426: ['Los Angeles', 'Los Angeles County', '91436'], 96058: ['Los Angeles', 'Los Angeles County', '90077'], 96375: ['Los Angeles', 'Los Angeles County', '91352'], 96451: ['Los Angeles', 'Los Angeles County', '91606'], 96452: ['Los Angeles', 'Los Angeles County', '91607'], 96447: ['Los Angeles', 'Los Angeles County', '91602'], 96449: ['Los Angeles', 'Los Angeles County', '91604'], 96086: ['Beverly Hills', 'Los Angeles County', '90210'], 96437: ['Burbank', 'Los Angeles County', '91505'], 96027: ['Los Angeles', 'Los Angeles County', '90046'], 96438: ['Burbank', 'Los Angeles County', '91506'], 96433: ['Burbank', 'Los Angeles County', '91501'], 96282: ['Los Angeles', 'Los Angeles County', '91040'], 96284: ['Los Angeles', 'Los Angeles County', '91042'], 96369: ['Los Angeles', 'Los Angeles County', '91345'], 96356: ['Los Angeles', 'Los Angeles County', '91326'], 96403: ['Santa Clarita', 'Los Angeles County', '91390'], 96395: ['Stevenson Ranch', 'Los Angeles County', '91381'], 96378: ['Santa Clarita', 'Los Angeles County', '91355'], 96398: ['Castaic', 'Los Angeles County', '91384'], 97344: ['Palmdale', 'Los Angeles County', '93591'], 97331: ['Pearblossom', 'Los Angeles County', '93553'], 97323: ['Littlerock', 'Los Angeles County', '93543'], 97298: ['Acton', 'Los Angeles County', '93510'], 97324: ['Llano', 'Los Angeles County', '93544'], 97316: ['Lake Hughes', 'Los Angeles County', '93532'], 96037: ['Los Angeles', 'Los Angeles County', '90056'], 96134: ['Inglewood', 'Los Angeles County', '90302'], 96135: ['Inglewood', 'Los Angeles County', '90303'], 96107: ['Hawthorne', 'Los Angeles County', '90250'], 96106: ['Gardena', 'Los Angeles County', '90249'], 96162: ['Torrance', 'Los Angeles County', '90504'], 96111: ['Lawndale', 'Los Angeles County', '90260'], 96105: ['Gardena', 'Los Angeles County', '90248'], 96129: ['Los Angeles', 'Los Angeles County', '90293'], 96103: ['El Segundo', 'Los Angeles County', '90245'], 96117: ['Manhattan Beach', 'Los Angeles County', '90266'], 96109: ['Hermosa Beach', 'Los Angeles County', '90254'], 95997: ['Los Angeles', 'Los Angeles County', '90016'], 96127: ['Los Angeles', 'Los Angeles County', '90291'], 96001: ['Los Angeles', 'Los Angeles County', '90020'], 96015: ['Los Angeles', 'Los Angeles County', '90034'], 96006: ['Los Angeles', 'Los Angeles County', '90025'], 96150: ['Santa Monica', 'Los Angeles County', '90403'], 96151: ['Santa Monica', 'Los Angeles County', '90404'], 96016: ['Los Angeles', 'Los Angeles County', '90035'], 96048: ['Los Angeles', 'Los Angeles County', '90067'], 96088: ['Beverly Hills', 'Los Angeles County', '90212'], 96087: ['Beverly Hills', 'Los Angeles County', '90211'], 96029: ['Los Angeles', 'Los Angeles County', '90048'], 96120: ['Los Angeles', 'Los Angeles County', '90272'], 96126: ['Topanga', 'Los Angeles County', '90290'], 95989: ['Los Angeles', 'Los Angeles County', '90008'], 95999: ['Los Angeles', 'Los Angeles County', '90018'], 95988: ['Los Angeles', 'Los Angeles County', '90007'], 95986: ['Los Angeles', 'Los Angeles County', '90005'], 95991: ['Los Angeles', 'Los Angeles County', '90010'], 95992: ['Los Angeles', 'Los Angeles County', '90011'], 96039: ['Los Angeles', 'Los Angeles County', '90058'], 96002: ['Los Angeles', 'Los Angeles County', '90015'], 95995: ['Los Angeles', 'Los Angeles County', '90014'], 96014: ['Los Angeles', 'Los Angeles County', '90033'], 96496: ['Monterey Park', 'Los Angeles County', '91754'], 96021: ['Commerce', 'Los Angeles County', '90040'], 96497: ['Monterey Park', 'Los Angeles County', '91755'], 96533: ['Alhambra', 'Los Angeles County', '91801'], 96531: ['Alhambra', 'Los Angeles County', '91801'], 96280: ['South Pasadena', 'Los Angeles County', '91030'], 96296: ['San Marino', 'Los Angeles County', '91108'], 96294: ['Pasadena', 'Los Angeles County', '91106'], 96295: ['Pasadena', 'Los Angeles County', '91107'], 96514: ['San Gabriel', 'Los Angeles County', '91775'], 96517: ['Temple City', 'Los Angeles County', '91780'], 96010: ['Los Angeles', 'Los Angeles County', '90029'], 96022: ['Los Angeles', 'Los Angeles County', '90041'], 96293: ['Pasadena', 'Los Angeles County', '91105'], 95985: ['Los Angeles', 'Los Angeles County', '90004'], 96019: ['Los Angeles', 'Los Angeles County', '90038'], 96330: ['Glendale', 'Los Angeles County', '91214'], 96275: ['Glendale', 'Los Angeles County', '91020'], 96327: ['Glendale', 'Los Angeles County', '91208'], 96320: ['Glendale', 'Los Angeles County', '91201'], 96326: ['Glendale', 'Los Angeles County', '91207'], 96322: ['Glendale', 'Los Angeles County', '91203'], 96324: ['Glendale', 'Los Angeles County', '91205'], 96323: ['Glendale', 'Los Angeles County', '91204'], 96278: ['Sierra Madre', 'Los Angeles County', '91024'], 96267: ['Arcadia', 'Los Angeles County', '91006'], 96271: ['La Cañada Flintridge', 'Los Angeles County', '91011'], 95982: ['Los Angeles', 'Los Angeles County', '90001'], 95983: ['Los Angeles', 'Los Angeles County', '90002'], 96092: ['Compton', 'Los Angeles County', '90222'], 96113: ['Lynwood', 'Los Angeles County', '90262'], 96101: ['Downey', 'Los Angeles County', '90241'], 96102: ['Downey', 'Los Angeles County', '90242'], 96119: ['Maywood', 'Los Angeles County', '90270'], 96100: ['Downey', 'Los Angeles County', '90240'], 96213: ['Lakewood', 'Los Angeles County', '90713'], 96215: ['Lakewood', 'Los Angeles County', '90715'], 96242: ['Long Beach', 'Los Angeles County', '90808'], 96241: ['Long Beach', 'Los Angeles County', '90807'], 96212: ['Lakewood', 'Los Angeles County', '90712'], 96240: ['Long Beach', 'Los Angeles County', '90806'], 96247: ['Long Beach', 'Los Angeles County', '90815'], 96238: ['Long Beach', 'Los Angeles County', '90804'], 96207: ['Avalon', 'Los Angeles County', '90704'], 96122: ['Rancho Palos Verdes', 'Los Angeles County', '90275'], 96173: ['Whittier', 'Los Angeles County', '90605'], 96172: ['Whittier', 'Los Angeles County', '90604'], 96174: ['Whittier', 'Los Angeles County', '90606'], 96170: ['Whittier', 'Los Angeles County', '90602'], 96171: ['Whittier', 'Los Angeles County', '90603'], 96186: ['La Habra Heights', 'Los Angeles County', '90631'], 96505: ['Diamond Bar', 'Los Angeles County', '91765'], 96524: ['West Covina', 'Los Angeles County', '91791'], 96469: ['Claremont', 'Los Angeles County', '91711'], 96465: ['Irwindale', 'Los Angeles County', '91706'], 96474: ['Covina', 'Los Angeles County', '91723'], 96523: ['Covina', 'Los Angeles County', '91722'], 96270: ['Duarte', 'Los Angeles County', '91010'], 399675: ['Bradbury', 'Los Angeles County', '91008'], 96467: ['Chino Hills', 'Los Angeles County', '91709'], 96525: ['West Covina', 'Los Angeles County', '91792'], 97006: ['Santa Ana', 'Orange County', '92706'], 97001: ['Santa Ana', 'Orange County', '92701'], 97007: ['Santa Ana', 'Orange County', '92707'], 96966: ['Huntington Beach', 'Orange County', '92648'], 97043: ['Fullerton', 'Orange County', '92835'], 97039: ['Fullerton', 'Orange County', '92831'], 97041: ['Fullerton', 'Orange County', '92833'], 97024: ['Anaheim', 'Orange County', '92805'], 97020: ['Anaheim', 'Orange County', '92801'], 97021: ['Anaheim', 'Orange County', '92802'], 97066: ['Orange', 'Orange County', '92868'], 97064: ['Orange', 'Orange County', '92866'], 97065: ['Orange', 'Orange County', '92867'], 96981: ['Newport Beach', 'Orange County', '92663'], 96979: ['Newport Beach', 'Orange County', '92661'], 96980: ['Newport Beach', 'Orange County', '92662'], 96957: ['Newport Beach', 'Orange County', '92625'], 96969: ['Laguna Beach', 'Orange County', '92651'], 96982: ['San Clemente', 'Orange County', '92672'], 96181: ['Buena Park', 'Orange County', '90621'], 96180: ['Buena Park', 'Orange County', '90620'], 97025: ['Anaheim', 'Orange County', '92806'], 97026: ['Anaheim', 'Orange County', '92807'], 96225: ['Seal Beach', 'Orange County', '90740'], 97047: ['Garden Grove', 'Orange County', '92840'], 97005: ['Santa Ana', 'Orange County', '92705'], 97051: ['Garden Grove', 'Orange County', '92844'], 96973: ['Midway City', 'Orange County', '92655'], 97050: ['Garden Grove', 'Orange County', '92843'], 96986: ['Silverado', 'Orange County', '92676'], 96965: ['Huntington Beach', 'Orange County', '92647'], 97008: ['Fountain Valley', 'Orange County', '92708'], 97004: ['Santa Ana', 'Orange County', '92704'], 96964: ['Huntington Beach', 'Orange County', '92646'], 96985: ['San Juan Capistrano', 'Orange County', '92675'], 96956: ['Dana Point', 'Orange County', '92624'], 97052: ['Garden Grove', 'Orange County', '92845'], 97048: ['Garden Grove', 'Orange County', '92841'], 96185: ['Cypress', 'Orange County', '90630'], 96958: ['Costa Mesa', 'Orange County', '92626'], 96226: ['Huntington Beach', 'Orange County', '92649'], 96183: ['La Palma', 'Orange County', '90623'], 97035: ['Brea', 'Orange County', '92821'], 97078: ['Yorba Linda', 'Orange County', '92886'], 97079: ['Yorba Linda', 'Orange County', '92887'], 97027: ['Anaheim', 'Orange County', '92808'], 97063: ['Orange', 'Orange County', '92865'], 97059: ['Villa Park', 'Orange County', '92861'], 96943: ['Irvine', 'Orange County', '92606'], 96948: ['Irvine', 'Orange County', '92614'], 96941: ['Irvine', 'Orange County', '92604'], 96975: ['Newport Beach', 'Orange County', '92657'], 96940: ['Irvine', 'Orange County', '92603'], 97018: ['Tustin', 'Orange County', '92782'], 96939: ['Irvine', 'Orange County', '92602'], 96946: ['Lake Forest', 'Orange County', '92610'], 96989: ['Trabuco Canyon', 'Orange County', '92679'], 96971: ['Laguna Hills', 'Orange County', '92653'], 96995: ['Mission Viejo', 'Orange County', '92691'], 96974: ['Laguna Hills', 'Orange County', '92656'], 96987: ['Laguna Niguel', 'Orange County', '92677'], 96961: ['San Juan Capistrano', 'Orange County', '92675'], 96983: ['San Clemente', 'Orange County', '92673'], 96996: ['Mission Viejo', 'Orange County', '92692'], 96993: ['Rancho Santa Margarita', 'Orange County', '92688'], 96963: ['Laguna Woods', 'Orange County', '92637'], 95994: ['Los Angeles', 'Los Angeles County', '90013'], 95998: ['Los Angeles', 'Los Angeles County', '90017'], 96329: ['Glendale', 'Los Angeles County', '91204'], 96500: ['Mount Baldy', 'Los Angeles County', '91759'], 97177: ['Lebec', 'Los Angeles County', '93243'], 97111: ['Port Hueneme', 'Ventura County', '93041'], 96859: ['Wrightwood', 'Los Angeles County', '92397'], 97092: [None, 'Ventura County', None], 97336: ['Rosamond', 'Los Angeles County', '93560'], 97164: ['Frazier Park', 'Ventura County', '93225'], 97339: ['Valyermo', 'Los Angeles County', '93563'], 97088: ['Ventura', 'Ventura County', '93001'], 96988: ['Trabuco Canyon', 'Orange County', '92679'], 96068: ['Los Angeles', 'Los Angeles County', '90068'], 96114: ['Malibu', 'Los Angeles County', '90265'], 97185: ['Maricopa', 'Ventura County', '93252'], 96034: ['Los Angeles', 'Los Angeles County', '90272'], 96069: ['Los Angeles', 'Los Angeles County', '90089'], 96258: ['Long Beach', 'Los Angeles County', '90808'], 96953: ['Silverado', 'Orange County', '92676'], 96313: ['Pasadena', 'Los Angeles County', '91105'], 97096: ['Moorpark', 'Ventura County', '93021'], 96453: ['Los Angeles', 'Los Angeles County', '90068']}"
   ]
  },
  {
   "cell_type": "code",
   "execution_count": 31,
   "metadata": {},
   "outputs": [],
   "source": [
    "regionidzip_actual_zip= pd.DataFrame.from_dict(region_zip_county,orient='index')"
   ]
  },
  {
   "cell_type": "code",
   "execution_count": 32,
   "metadata": {},
   "outputs": [],
   "source": [
    "zillow_final = zillow_data_feature_removal.copy()"
   ]
  },
  {
   "cell_type": "code",
   "execution_count": 33,
   "metadata": {},
   "outputs": [],
   "source": [
    "# adding actual zip in the data set \n",
    "for i in range(zillow_final.shape[0]):\n",
    "    zillow_final.at[i,\"zipcode\"] = region_zip_county[zillow_final.iloc[i][\"regionidzip\"]][2]\n",
    "    "
   ]
  },
  {
   "cell_type": "code",
   "execution_count": 34,
   "metadata": {},
   "outputs": [
    {
     "name": "stderr",
     "output_type": "stream",
     "text": [
      "/Users/vinod/anaconda/lib/python3.6/site-packages/bs4/__init__.py:181: UserWarning: No parser was explicitly specified, so I'm using the best available HTML parser for this system (\"lxml\"). This usually isn't a problem, but if you run this code on another system, or in a different virtual environment, it may use a different parser and behave differently.\n",
      "\n",
      "The code that caused this warning is on line 193 of the file /Users/vinod/anaconda/lib/python3.6/runpy.py. To get rid of this warning, change code that looks like this:\n",
      "\n",
      " BeautifulSoup(YOUR_MARKUP})\n",
      "\n",
      "to this:\n",
      "\n",
      " BeautifulSoup(YOUR_MARKUP, \"lxml\")\n",
      "\n",
      "  markup_type=markup_type))\n"
     ]
    }
   ],
   "source": [
    "# Using external dataset\n",
    "# Parsed the webpage to get the map between the actual zipcode and the per capita income\n",
    "from bs4 import BeautifulSoup\n",
    "import requests\n",
    "\n",
    "zip_income = dict()\n",
    "for i in range(1,18):\n",
    "    web_url = \"http://zipatlas.com/us/ca/zip-code-comparison/average-income-per-person.\"+str(i)+\".htm\"\n",
    "    if i == 1:\n",
    "        web_url = \"http://zipatlas.com/us/ca/zip-code-comparison/average-income-per-person.htm\"\n",
    "    req = requests.get(web_url)\n",
    "    soup = BeautifulSoup(req.text)\n",
    "    zip_table = soup.find_all('table')[12]\n",
    "    zip_rows = zip_table.find_all(\"tr\")[1:]\n",
    "    for row in zip_rows:\n",
    "        col = [c.get_text() for c in row.find_all(\"td\")]\n",
    "        zip_income[int(col[1])] = float(col[5][1:].replace(\",\",\"\"))\n"
   ]
  },
  {
   "cell_type": "code",
   "execution_count": 36,
   "metadata": {},
   "outputs": [],
   "source": [
    "# Creating a map between the actual zipocode anf the population\n",
    "region_zip_code_population = dict()\n",
    "zillow_data_for_modeling['zipcode']=zillow_data_for_modeling['zipcode'].fillna(zillow_data_for_modeling['zipcode'].median())\n",
    "for c in zillow_data_for_modeling[\"zipcode\"].unique():\n",
    "    region_zip_code_population[c] = census_2010_data.get_value(census_2010_data.loc[census_2010_data['Zip Code ZCTA'] == int(c)].index[0], '2010 Census Population' ) \n"
   ]
  },
  {
   "cell_type": "code",
   "execution_count": 38,
   "metadata": {
    "collapsed": true
   },
   "outputs": [],
   "source": [
    "region_county_tax_rates = {\"Orange County\":0.715, \"Los Angeles County\":0.793, \"Santa Barbara County\":0.698, \"San Bernardino County\":0.92, \"San Diego County\":0.781, \"Ventura County\":0.801}\n"
   ]
  },
  {
   "cell_type": "code",
   "execution_count": 39,
   "metadata": {},
   "outputs": [],
   "source": [
    "# Computing the median population and income values to fill potential missing values\n",
    "population_median = np.median(np.array(list(region_zip_code_population.values())))\n",
    "income_median = np.median(np.array(list(zip_income.values())))\n",
    "missing_population = list()\n",
    "missing_income = list()"
   ]
  },
  {
   "cell_type": "code",
   "execution_count": 40,
   "metadata": {},
   "outputs": [],
   "source": [
    "#zillow_data_for_modeling = zillow_final.copy()\n",
    "\n",
    "\n",
    "for i in range(zillow_data_for_modeling.shape[0]):\n",
    "    try:\n",
    "        zillow_data_for_modeling.at[i, \"population\"] = region_zip_code_population[str(int(zillow_data_for_modeling.iloc[i][\"zipcode\"]))]\n",
    "    except:\n",
    "        missing_population.append(i)\n",
    "        zillow_data_for_modeling.at[i, \"population\"] = population_median\n",
    "        \n",
    "        \n",
    "    try:\n",
    "        zillow_data_for_modeling.at[i, \"income\"] = zip_income[int(zillow_data_for_modeling.iloc[i][\"zipcode\"])]\n",
    "    except:\n",
    "        missing_income.append(i)\n",
    "        zillow_data_for_modeling.at[i, \"income\"] = income_median\n",
    "        \n",
    "        \n",
    "    try:\n",
    "        zillow_data_for_modeling.at[i, \"price\"] = (zillow_data_for_modeling.iloc[i][\"taxamount\"]*100.0) / float(region_county_tax_rates[region_zip_county[int(zillow_data_for_modeling.iloc[i][\"regionidzip\"])][1]])\n",
    "    except:\n",
    "        print(\"price\",i)\n",
    "        break\n"
   ]
  },
  {
   "cell_type": "code",
   "execution_count": 41,
   "metadata": {
    "collapsed": true
   },
   "outputs": [],
   "source": [
    "zillow_df = zillow_data_for_modeling.copy()"
   ]
  },
  {
   "cell_type": "code",
   "execution_count": 45,
   "metadata": {
    "collapsed": true
   },
   "outputs": [],
   "source": [
    "zillow_data_linear_reg_copy = zillow_data_for_modeling.copy()"
   ]
  },
  {
   "cell_type": "code",
   "execution_count": 46,
   "metadata": {
    "collapsed": true
   },
   "outputs": [],
   "source": [
    "# Cleaning the data after filling all the missing values in the dataset\n",
    "\n",
    "del zillow_data_linear_reg_copy['propertylandusetypeid']\n",
    "del zillow_data_linear_reg_copy['regionidcity']\n",
    "del zillow_data_linear_reg_copy['regionidcounty']\n",
    "del zillow_data_linear_reg_copy['regionidzip']\n",
    "del zillow_data_linear_reg_copy['taxvaluedollarcnt']\n",
    "del zillow_data_linear_reg_copy['taxamount']\n",
    "del zillow_data_linear_reg_copy['zipcode']\n",
    "\n",
    "\n",
    "del zillow_df['propertylandusetypeid']\n",
    "del zillow_df['regionidcity']\n",
    "del zillow_df['regionidcounty']\n",
    "del zillow_df['regionidzip']\n",
    "del zillow_df['taxvaluedollarcnt']\n",
    "del zillow_df['taxamount']"
   ]
  },
  {
   "cell_type": "code",
   "execution_count": 47,
   "metadata": {
    "collapsed": true
   },
   "outputs": [],
   "source": [
    "zillow_data_min_max_normalized=zillow_data_linear_reg_copy.copy()"
   ]
  },
  {
   "cell_type": "code",
   "execution_count": 48,
   "metadata": {},
   "outputs": [],
   "source": [
    "del zillow_data_min_max_normalized['parcelid']"
   ]
  },
  {
   "cell_type": "code",
   "execution_count": 49,
   "metadata": {},
   "outputs": [
    {
     "data": {
      "text/plain": [
       "bathroomcnt                     0\n",
       "bedroomcnt                      0\n",
       "calculatedfinishedsquarefeet    0\n",
       "latitude                        0\n",
       "longitude                       0\n",
       "lotsizesquarefeet               0\n",
       "yearbuilt                       0\n",
       "structuretaxvaluedollarcnt      0\n",
       "landtaxvaluedollarcnt           0\n",
       "population                      0\n",
       "income                          0\n",
       "price                           0\n",
       "dtype: int64"
      ]
     },
     "execution_count": 49,
     "metadata": {},
     "output_type": "execute_result"
    }
   ],
   "source": [
    "zillow_data_min_max_normalized.isnull().sum()"
   ]
  },
  {
   "cell_type": "code",
   "execution_count": 50,
   "metadata": {},
   "outputs": [
    {
     "name": "stdout",
     "output_type": "stream",
     "text": [
      "MinMaxScaler(copy=True, feature_range=(-100, 100))\n"
     ]
    }
   ],
   "source": [
    "# Performing Min Max Normalization\n",
    "from sklearn.preprocessing import MinMaxScaler\n",
    "scaler = MinMaxScaler(feature_range=(-100, 100))\n",
    "print(scaler.fit(zillow_data_min_max_normalized))"
   ]
  },
  {
   "cell_type": "code",
   "execution_count": 51,
   "metadata": {},
   "outputs": [],
   "source": [
    "zillow_data_min_max_normalized=scaler.transform(zillow_data_min_max_normalized)"
   ]
  },
  {
   "cell_type": "code",
   "execution_count": 52,
   "metadata": {},
   "outputs": [],
   "source": [
    "zillow_min_max_normalisedd_df=pd.DataFrame(zillow_data_min_max_normalized,columns=['bathroomcnt','bedroomcnt','calculatedfinishedsquarefeet','latitude','longitude','lotsizesquarefeet','yearbuilt', 'structuretaxvaluedollarcnt','landtaxvaluedollarcnt','price','population','income'])\n",
    "\n"
   ]
  },
  {
   "cell_type": "code",
   "execution_count": 53,
   "metadata": {},
   "outputs": [],
   "source": [
    "zillow_min_max_normalisedd_df['parcelid']=zillow_data_linear_reg_copy['parcelid']"
   ]
  },
  {
   "cell_type": "code",
   "execution_count": 54,
   "metadata": {
    "collapsed": true
   },
   "outputs": [],
   "source": [
    "zillow_train_data = pd.read_csv(\"train_2016_v2.csv\", low_memory=False, parse_dates=[\"transactiondate\"]) \n",
    "zillow_test_data = pd.read_csv(\"sample_submission.csv\", low_memory=False)\n",
    "zillow_test_data = zillow_test_data.rename(columns={'ParcelId': 'parcelid'})"
   ]
  },
  {
   "cell_type": "code",
   "execution_count": 55,
   "metadata": {
    "collapsed": true
   },
   "outputs": [],
   "source": [
    "zillow_merged_train_data = zillow_train_data.merge(zillow_min_max_normalisedd_df, how='left', on='parcelid') "
   ]
  },
  {
   "cell_type": "code",
   "execution_count": 56,
   "metadata": {},
   "outputs": [
    {
     "name": "stdout",
     "output_type": "stream",
     "text": [
      "Coefficients (a,b,c,..) :  [('bathroomcnt', 0.00013135267921521754), ('bedroomcnt', 0.00026949779502862621), ('calculatedfinishedsquarefeet', 0.003460486699743318), ('latitude', -1.7238403211742925e-05), ('longitude', -7.2799592944164002e-06), ('lotsizesquarefeet', 0.01038374679371503), ('yearbuilt', 4.9799705594289704e-05), ('structuretaxvaluedollarcnt', 0.074989030849795774), ('landtaxvaluedollarcnt', 0.0092294826022573696), ('price', -2.3162456100608853e-05), ('population', -6.7224744921060009e-05), ('income', -0.046561770760683935)]\n",
      "Mean squared error: 0.02269\n",
      "Variance : 0.00324\n"
     ]
    }
   ],
   "source": [
    "# Part 5\n",
    "# Performing Linear Regression\n",
    "from sklearn.model_selection import train_test_split\n",
    "from sklearn.metrics import mean_squared_error, r2_score\n",
    "from sklearn.linear_model import LinearRegression\n",
    "\n",
    "zillow_train_Y = zillow_merged_train_data[\"logerror\"].values\n",
    "zillow_train_X = zillow_merged_train_data.copy()\n",
    "del zillow_train_X[\"logerror\"]\n",
    "del zillow_train_X[\"parcelid\"]\n",
    "del zillow_train_X[\"transactiondate\"]\n",
    "\n",
    "# Spliting the dataset into train and test data\n",
    "linear_reg_train_X, linear_reg_test_X , linear_reg_train_Y, linear_reg_test_Y = train_test_split(zillow_train_X, zillow_train_Y, test_size=0.2, random_state=23)\n",
    "\n",
    "# Linear Regression model initialization (basic)\n",
    "zillow_linear_regression = LinearRegression()\n",
    "\n",
    "# Training the Linear Regression Model\n",
    "zillow_linear_regression.fit(linear_reg_train_X, linear_reg_train_Y)\n",
    "\n",
    "# Using the model to predict the test dataset\n",
    "linear_reg_predicted_Y = zillow_linear_regression.predict(linear_reg_test_X)\n",
    "final_columns = zillow_train_X.columns\n",
    "# The coefficients of the linear equation aX1 + bX2 + cX3 + ... = Y\n",
    "print('Coefficients (a,b,c,..) : ', [(x,y) for x,y in zip(final_columns,zillow_linear_regression.coef_)])\n",
    "\n",
    "# The mean squared error of the linear regression model's predictions\n",
    "print(\"Mean squared error: %.5f\" % mean_squared_error(linear_reg_test_Y, linear_reg_predicted_Y))\n",
    "\n",
    "# Variance of the prediction\n",
    "print('Variance : %.5f' % r2_score(linear_reg_test_Y, linear_reg_predicted_Y))"
   ]
  },
  {
   "cell_type": "code",
   "execution_count": 57,
   "metadata": {
    "collapsed": true
   },
   "outputs": [],
   "source": [
    "# Linear Regression without normalization\n",
    "linear_reg_without_normalization=zillow_data_linear_reg_copy.copy()\n",
    "\n"
   ]
  },
  {
   "cell_type": "code",
   "execution_count": 58,
   "metadata": {
    "collapsed": true
   },
   "outputs": [],
   "source": [
    "zillow_merged_train_data_unnormalised = zillow_train_data.merge(zillow_min_max_normalisedd_df, how='left', on='parcelid') "
   ]
  },
  {
   "cell_type": "code",
   "execution_count": 59,
   "metadata": {},
   "outputs": [],
   "source": [
    "# Part 1\n",
    "# Finding Distance metric\n",
    "zillow_data_distance_metric = zillow_min_max_normalisedd_df.copy()\n",
    "metric_columns = [\"price\",\"income\",\"lotsizesquarefeet\",\"landtaxvaluedollarcnt\",\"population\"]\n",
    "metric_function_coefficients = [-5, 4, 3, -2, 1]\n",
    "for i in range(zillow_data_distance_metric.shape[0]):\n",
    "    zillow_data_distance_metric.at[i,\"distancemetric\"] = sum([metric_function_coefficients[j]*zillow_data_distance_metric.iloc[i][j] for j in range(len(metric_columns))])"
   ]
  },
  {
   "cell_type": "code",
   "execution_count": 60,
   "metadata": {},
   "outputs": [],
   "source": [
    "zillow_data_distance_metric = zillow_data_distance_metric.sort_values([\"distancemetric\"])"
   ]
  },
  {
   "cell_type": "code",
   "execution_count": 61,
   "metadata": {},
   "outputs": [
    {
     "data": {
      "text/plain": [
       "968582     10875978\n",
       "2532841    11843438\n",
       "36661      12325767\n",
       "2833688    12718575\n",
       "797497     12875313\n",
       "1622826    10825953\n",
       "1759624    11645106\n",
       "2145997    11669802\n",
       "2755010    11628722\n",
       "163259     11816840\n",
       "Name: parcelid, dtype: int64"
      ]
     },
     "execution_count": 61,
     "metadata": {},
     "output_type": "execute_result"
    }
   ],
   "source": [
    "# Top 10 least desirable houses\n",
    "zillow_data_distance_metric.head(10)[\"parcelid\"]"
   ]
  },
  {
   "cell_type": "code",
   "execution_count": 62,
   "metadata": {},
   "outputs": [
    {
     "data": {
      "text/plain": [
       "1694751    12504714\n",
       "1017946    12275569\n",
       "2174516    11389558\n",
       "2773435    12554287\n",
       "1774438    11639733\n",
       "2046716    12876170\n",
       "2930945    10842189\n",
       "2294367    11654951\n",
       "595101     76915787\n",
       "1359067    11986213\n",
       "Name: parcelid, dtype: int64"
      ]
     },
     "execution_count": 62,
     "metadata": {},
     "output_type": "execute_result"
    }
   ],
   "source": [
    "# Top 10 most desirable houses\n",
    "zillow_data_distance_metric.tail(10)[\"parcelid\"]"
   ]
  },
  {
   "cell_type": "code",
   "execution_count": 63,
   "metadata": {
    "collapsed": true
   },
   "outputs": [],
   "source": [
    "zillow_test_data = zillow_test_data.merge(zillow_min_max_normalisedd_df, how='left', on='parcelid') "
   ]
  },
  {
   "cell_type": "code",
   "execution_count": 64,
   "metadata": {},
   "outputs": [],
   "source": [
    "zillow_test_data = zillow_test_data[list(zillow_train_X.columns)]"
   ]
  },
  {
   "cell_type": "code",
   "execution_count": 65,
   "metadata": {
    "collapsed": true
   },
   "outputs": [],
   "source": [
    "zillow_test_predicted = zillow_linear_regression.predict(zillow_test_data)\n"
   ]
  },
  {
   "cell_type": "code",
   "execution_count": 66,
   "metadata": {
    "collapsed": true
   },
   "outputs": [],
   "source": [
    "submission_file = pd.read_csv('sample_submission.csv') "
   ]
  },
  {
   "cell_type": "code",
   "execution_count": 67,
   "metadata": {},
   "outputs": [],
   "source": [
    "for cols in submission_file.columns[submission_file.columns != 'ParcelId']:\n",
    "    submission_file[cols] = zillow_test_predicted\n",
    "submission_file.to_csv('lr_2016_results.csv', index=False, float_format='%.6f')"
   ]
  },
  {
   "cell_type": "code",
   "execution_count": null,
   "metadata": {},
   "outputs": [
    {
     "name": "stderr",
     "output_type": "stream",
     "text": [
      "/Users/vinod/anaconda/lib/python3.6/site-packages/pandas/core/indexes/base.py:3033: RuntimeWarning: '<' not supported between instances of 'str' and 'int', sort order is undefined for incomparable objects\n",
      "  return this.join(other, how=how, return_indexers=return_indexers)\n"
     ]
    }
   ],
   "source": [
    "import random\n",
    "from scipy.stats import zscore\n",
    "\n",
    "columns_for_similarity = ['bathroomcnt', 'bedroomcnt', 'calculatedfinishedsquarefeet', 'latitude', 'longitude', 'lotsizesquarefeet', 'yearbuilt', 'structuretaxvaluedollarcnt', 'landtaxvaluedollarcnt', 'price','population', 'income']\n",
    "\n",
    "zillow_data_z_score = zillow_data_linear_reg_copy.copy()\n",
    "zillow_data_z_score = zillow_data_linear_reg_copy[\"parcelid\"] + zillow_data_z_score[columns_for_similarity].apply(zscore)\n",
    "experiment_ids = set([random.randint(0,zillow_data_z_score.shape[0]) for i in range(10)])\n",
    "parcel_id_list = [zillow_data_z_score.iloc[i][\"parcelid\"] for i in experiment_ids]\n"
   ]
  },
  {
   "cell_type": "code",
   "execution_count": null,
   "metadata": {},
   "outputs": [],
   "source": [
    "# Part 2\n",
    "# Pairwise distance function\n",
    "def pairwise_distance(first_parcel, second_parcel):\n",
    "    return np.linalg.norm(first_parcel - second_parcel)\n",
    "\n",
    "zillow_similarity = []\n",
    "for i in range(len(experiment_ids)):\n",
    "    tmp = list()\n",
    "    for j in range(len(experiment_ids)):\n",
    "        tmp.append(pairwise_distance(zillow_min_max_normalisedd_df.iloc[i][:-1], zillow_min_max_normalisedd_df.iloc[j][:-1]))\n",
    "    zillow_similarity.append(tmp)"
   ]
  },
  {
   "cell_type": "code",
   "execution_count": 265,
   "metadata": {},
   "outputs": [
    {
     "data": {
      "image/png": "[encoded data removed]",
      "text/plain": [
       "<matplotlib.figure.Figure at 0x315af32e8>"
      ]
     },
     "metadata": {},
     "output_type": "display_data"
    }
   ],
   "source": [
    "sns.set()\n",
    "sns.heatmap(zillow_similarity, annot=True, xticklabels=parcel_id_list, yticklabels=parcel_id_list)\n",
    "plt.show()"
   ]
  },
  {
   "cell_type": "code",
   "execution_count": null,
   "metadata": {
    "collapsed": true
   },
   "outputs": [],
   "source": [
    "# Part 3\n",
    "# Clustering with Euclidean Distance - K Means algorithm internally uses Euclidean distance for computing \n",
    "# the similarity. Hence we need not explicitly use the metric function above for running the algorithm\n",
    "from sklearn.cluster import KMeans\n",
    "from sklearn.decomposition import PCA\n",
    "import pylab as pl\n",
    "\n",
    "kmeans = KMeans(n_clusters=20)\n",
    "zillow_data_cluster = zillow_min_max_normalisedd_df.sample(10000)\n",
    "zillow_data_cluster_X = zillow_data_cluster[columns_for_similarity]\n",
    "pca = PCA(n_components=2).fit(zillow_data_cluster_X)\n",
    "pca_2d = pca.transform(zillow_data_cluster_X)\n",
    "kmeans.fit(zillow_data_cluster_X)\n",
    "pl.figure('K-means with 20 clusters')\n",
    "pl.scatter(pca_2d[:, 0], pca_2d[:, 1], c=kmeans.labels_)\n",
    "pl.show()\n",
    "\n",
    "\n",
    "\n"
   ]
  }
 ],
 "metadata": {
  "kernelspec": {
   "display_name": "Python 3",
   "language": "python",
   "name": "python3"
  },
  "language_info": {
   "codemirror_mode": {
    "name": "ipython",
    "version": 3
   },
   "file_extension": ".py",
   "mimetype": "text/x-python",
   "name": "python",
   "nbconvert_exporter": "python",
   "pygments_lexer": "ipython3",
   "version": "3.6.1"
  }
 },
 "nbformat": 4,
 "nbformat_minor": 2
}
