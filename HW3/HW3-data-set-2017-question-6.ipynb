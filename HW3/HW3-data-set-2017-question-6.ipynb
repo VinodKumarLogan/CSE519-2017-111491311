{
 "cells": [
  {
   "cell_type": "code",
   "execution_count": 41,
   "metadata": {},
   "outputs": [],
   "source": [
    "# Importing the required libraries for analysis\n",
    "import pandas as pd\n",
    "import numpy as np\n",
    "import scipy as sp\n",
    "import matplotlib.pyplot as plt\n",
    "import seaborn as sns\n"
   ]
  },
  {
   "cell_type": "code",
   "execution_count": 40,
   "metadata": {},
   "outputs": [],
   "source": [
    "# Reading the properties, train and sample submission dataset\n",
    "zillow_properties_data_2017 = pd.read_csv(\"properties_2017.csv\", low_memory=False)\n"
   ]
  },
  {
   "cell_type": "code",
   "execution_count": 42,
   "metadata": {
    "scrolled": true
   },
   "outputs": [
    {
     "data": {
      "text/html": [
       "<div>\n",
       "<style>\n",
       "    .dataframe thead tr:only-child th {\n",
       "        text-align: right;\n",
       "    }\n",
       "\n",
       "    .dataframe thead th {\n",
       "        text-align: left;\n",
       "    }\n",
       "\n",
       "    .dataframe tbody tr th {\n",
       "        vertical-align: top;\n",
       "    }\n",
       "</style>\n",
       "<table border=\"1\" class=\"dataframe\">\n",
       "  <thead>\n",
       "    <tr style=\"text-align: right;\">\n",
       "      <th></th>\n",
       "      <th>count</th>\n",
       "      <th>mean</th>\n",
       "      <th>std</th>\n",
       "      <th>min</th>\n",
       "      <th>25%</th>\n",
       "      <th>50%</th>\n",
       "      <th>75%</th>\n",
       "      <th>max</th>\n",
       "    </tr>\n",
       "  </thead>\n",
       "  <tbody>\n",
       "    <tr>\n",
       "      <th>parcelid</th>\n",
       "      <td>2985217.0</td>\n",
       "      <td>1.332586e+07</td>\n",
       "      <td>7.909966e+06</td>\n",
       "      <td>1.071172e+07</td>\n",
       "      <td>1.164371e+07</td>\n",
       "      <td>1.254509e+07</td>\n",
       "      <td>1.409712e+07</td>\n",
       "      <td>1.696019e+08</td>\n",
       "    </tr>\n",
       "    <tr>\n",
       "      <th>bathroomcnt</th>\n",
       "      <td>2982260.0</td>\n",
       "      <td>2.216196e+00</td>\n",
       "      <td>1.078250e+00</td>\n",
       "      <td>0.000000e+00</td>\n",
       "      <td>2.000000e+00</td>\n",
       "      <td>2.000000e+00</td>\n",
       "      <td>3.000000e+00</td>\n",
       "      <td>3.200000e+01</td>\n",
       "    </tr>\n",
       "    <tr>\n",
       "      <th>bedroomcnt</th>\n",
       "      <td>2982272.0</td>\n",
       "      <td>3.093362e+00</td>\n",
       "      <td>1.271569e+00</td>\n",
       "      <td>0.000000e+00</td>\n",
       "      <td>2.000000e+00</td>\n",
       "      <td>3.000000e+00</td>\n",
       "      <td>4.000000e+00</td>\n",
       "      <td>2.500000e+01</td>\n",
       "    </tr>\n",
       "    <tr>\n",
       "      <th>calculatedbathnbr</th>\n",
       "      <td>2868061.0</td>\n",
       "      <td>2.303826e+00</td>\n",
       "      <td>1.003243e+00</td>\n",
       "      <td>1.000000e+00</td>\n",
       "      <td>2.000000e+00</td>\n",
       "      <td>2.000000e+00</td>\n",
       "      <td>3.000000e+00</td>\n",
       "      <td>3.200000e+01</td>\n",
       "    </tr>\n",
       "    <tr>\n",
       "      <th>calculatedfinishedsquarefeet</th>\n",
       "      <td>2940120.0</td>\n",
       "      <td>1.831455e+03</td>\n",
       "      <td>1.954198e+03</td>\n",
       "      <td>1.000000e+00</td>\n",
       "      <td>1.215000e+03</td>\n",
       "      <td>1.574000e+03</td>\n",
       "      <td>2.140000e+03</td>\n",
       "      <td>9.525760e+05</td>\n",
       "    </tr>\n",
       "    <tr>\n",
       "      <th>finishedsquarefeet12</th>\n",
       "      <td>2720786.0</td>\n",
       "      <td>1.764045e+03</td>\n",
       "      <td>1.031383e+03</td>\n",
       "      <td>1.000000e+00</td>\n",
       "      <td>1.198000e+03</td>\n",
       "      <td>1.542000e+03</td>\n",
       "      <td>2.075000e+03</td>\n",
       "      <td>4.270790e+05</td>\n",
       "    </tr>\n",
       "    <tr>\n",
       "      <th>fips</th>\n",
       "      <td>2982285.0</td>\n",
       "      <td>6.048053e+03</td>\n",
       "      <td>2.024082e+01</td>\n",
       "      <td>6.037000e+03</td>\n",
       "      <td>6.037000e+03</td>\n",
       "      <td>6.037000e+03</td>\n",
       "      <td>6.059000e+03</td>\n",
       "      <td>6.111000e+03</td>\n",
       "    </tr>\n",
       "    <tr>\n",
       "      <th>fullbathcnt</th>\n",
       "      <td>2868061.0</td>\n",
       "      <td>2.248089e+00</td>\n",
       "      <td>9.929959e-01</td>\n",
       "      <td>1.000000e+00</td>\n",
       "      <td>2.000000e+00</td>\n",
       "      <td>2.000000e+00</td>\n",
       "      <td>3.000000e+00</td>\n",
       "      <td>3.200000e+01</td>\n",
       "    </tr>\n",
       "    <tr>\n",
       "      <th>latitude</th>\n",
       "      <td>2982285.0</td>\n",
       "      <td>3.400131e+07</td>\n",
       "      <td>2.435157e+05</td>\n",
       "      <td>3.332439e+07</td>\n",
       "      <td>3.382740e+07</td>\n",
       "      <td>3.400807e+07</td>\n",
       "      <td>3.416186e+07</td>\n",
       "      <td>3.481965e+07</td>\n",
       "    </tr>\n",
       "    <tr>\n",
       "      <th>longitude</th>\n",
       "      <td>2982285.0</td>\n",
       "      <td>-1.182017e+08</td>\n",
       "      <td>3.455918e+05</td>\n",
       "      <td>-1.194758e+08</td>\n",
       "      <td>-1.183929e+08</td>\n",
       "      <td>-1.181721e+08</td>\n",
       "      <td>-1.179489e+08</td>\n",
       "      <td>-1.175543e+08</td>\n",
       "    </tr>\n",
       "    <tr>\n",
       "      <th>lotsizesquarefeet</th>\n",
       "      <td>2712511.0</td>\n",
       "      <td>2.260376e+04</td>\n",
       "      <td>2.499836e+05</td>\n",
       "      <td>1.000000e+02</td>\n",
       "      <td>5.683000e+03</td>\n",
       "      <td>7.000000e+03</td>\n",
       "      <td>9.893000e+03</td>\n",
       "      <td>3.710005e+08</td>\n",
       "    </tr>\n",
       "    <tr>\n",
       "      <th>propertylandusetypeid</th>\n",
       "      <td>2982285.0</td>\n",
       "      <td>2.600508e+02</td>\n",
       "      <td>1.593121e+01</td>\n",
       "      <td>3.100000e+01</td>\n",
       "      <td>2.610000e+02</td>\n",
       "      <td>2.610000e+02</td>\n",
       "      <td>2.610000e+02</td>\n",
       "      <td>2.790000e+02</td>\n",
       "    </tr>\n",
       "    <tr>\n",
       "      <th>rawcensustractandblock</th>\n",
       "      <td>2982285.0</td>\n",
       "      <td>6.048367e+07</td>\n",
       "      <td>2.008914e+05</td>\n",
       "      <td>6.037101e+07</td>\n",
       "      <td>6.037400e+07</td>\n",
       "      <td>6.037571e+07</td>\n",
       "      <td>6.059042e+07</td>\n",
       "      <td>6.111009e+07</td>\n",
       "    </tr>\n",
       "    <tr>\n",
       "      <th>regionidcity</th>\n",
       "      <td>2923089.0</td>\n",
       "      <td>3.498766e+04</td>\n",
       "      <td>5.070968e+04</td>\n",
       "      <td>3.491000e+03</td>\n",
       "      <td>1.244700e+04</td>\n",
       "      <td>2.521800e+04</td>\n",
       "      <td>4.545700e+04</td>\n",
       "      <td>3.965560e+05</td>\n",
       "    </tr>\n",
       "    <tr>\n",
       "      <th>regionidcounty</th>\n",
       "      <td>2982285.0</td>\n",
       "      <td>2.569085e+03</td>\n",
       "      <td>7.886840e+02</td>\n",
       "      <td>1.286000e+03</td>\n",
       "      <td>1.286000e+03</td>\n",
       "      <td>3.101000e+03</td>\n",
       "      <td>3.101000e+03</td>\n",
       "      <td>3.101000e+03</td>\n",
       "    </tr>\n",
       "    <tr>\n",
       "      <th>regionidzip</th>\n",
       "      <td>2972503.0</td>\n",
       "      <td>9.655329e+04</td>\n",
       "      <td>3.680815e+03</td>\n",
       "      <td>9.598200e+04</td>\n",
       "      <td>9.618000e+04</td>\n",
       "      <td>9.637700e+04</td>\n",
       "      <td>9.697400e+04</td>\n",
       "      <td>3.996750e+05</td>\n",
       "    </tr>\n",
       "    <tr>\n",
       "      <th>roomcnt</th>\n",
       "      <td>2982248.0</td>\n",
       "      <td>1.474357e+00</td>\n",
       "      <td>2.839869e+00</td>\n",
       "      <td>0.000000e+00</td>\n",
       "      <td>0.000000e+00</td>\n",
       "      <td>0.000000e+00</td>\n",
       "      <td>0.000000e+00</td>\n",
       "      <td>9.600000e+01</td>\n",
       "    </tr>\n",
       "    <tr>\n",
       "      <th>yearbuilt</th>\n",
       "      <td>2937384.0</td>\n",
       "      <td>1.964438e+03</td>\n",
       "      <td>2.364428e+01</td>\n",
       "      <td>1.801000e+03</td>\n",
       "      <td>1.950000e+03</td>\n",
       "      <td>1.963000e+03</td>\n",
       "      <td>1.981000e+03</td>\n",
       "      <td>2.016000e+03</td>\n",
       "    </tr>\n",
       "    <tr>\n",
       "      <th>structuretaxvaluedollarcnt</th>\n",
       "      <td>2938753.0</td>\n",
       "      <td>1.781429e+05</td>\n",
       "      <td>4.600503e+05</td>\n",
       "      <td>1.000000e+00</td>\n",
       "      <td>7.766600e+04</td>\n",
       "      <td>1.270660e+05</td>\n",
       "      <td>2.040000e+05</td>\n",
       "      <td>2.553212e+08</td>\n",
       "    </tr>\n",
       "    <tr>\n",
       "      <th>taxvaluedollarcnt</th>\n",
       "      <td>2950951.0</td>\n",
       "      <td>4.435279e+05</td>\n",
       "      <td>8.163366e+05</td>\n",
       "      <td>1.000000e+00</td>\n",
       "      <td>1.882200e+05</td>\n",
       "      <td>3.211610e+05</td>\n",
       "      <td>5.140720e+05</td>\n",
       "      <td>3.196225e+08</td>\n",
       "    </tr>\n",
       "    <tr>\n",
       "      <th>assessmentyear</th>\n",
       "      <td>2982284.0</td>\n",
       "      <td>2.015998e+03</td>\n",
       "      <td>6.039949e-02</td>\n",
       "      <td>2.000000e+03</td>\n",
       "      <td>2.016000e+03</td>\n",
       "      <td>2.016000e+03</td>\n",
       "      <td>2.016000e+03</td>\n",
       "      <td>2.016000e+03</td>\n",
       "    </tr>\n",
       "    <tr>\n",
       "      <th>landtaxvaluedollarcnt</th>\n",
       "      <td>2925291.0</td>\n",
       "      <td>2.684558e+05</td>\n",
       "      <td>4.865097e+05</td>\n",
       "      <td>1.000000e+00</td>\n",
       "      <td>7.970000e+04</td>\n",
       "      <td>1.766190e+05</td>\n",
       "      <td>3.261000e+05</td>\n",
       "      <td>9.401108e+07</td>\n",
       "    </tr>\n",
       "    <tr>\n",
       "      <th>taxamount</th>\n",
       "      <td>2962465.0</td>\n",
       "      <td>5.408949e+03</td>\n",
       "      <td>9.675567e+03</td>\n",
       "      <td>2.400000e-01</td>\n",
       "      <td>2.468620e+03</td>\n",
       "      <td>4.007620e+03</td>\n",
       "      <td>6.230500e+03</td>\n",
       "      <td>3.823176e+06</td>\n",
       "    </tr>\n",
       "    <tr>\n",
       "      <th>censustractandblock</th>\n",
       "      <td>2910232.0</td>\n",
       "      <td>6.048434e+13</td>\n",
       "      <td>3.249133e+11</td>\n",
       "      <td>-1.000000e+00</td>\n",
       "      <td>6.037400e+13</td>\n",
       "      <td>6.037572e+13</td>\n",
       "      <td>6.059042e+13</td>\n",
       "      <td>4.830301e+14</td>\n",
       "    </tr>\n",
       "  </tbody>\n",
       "</table>\n",
       "</div>"
      ],
      "text/plain": [
       "                                  count          mean           std  \\\n",
       "parcelid                      2985217.0  1.332586e+07  7.909966e+06   \n",
       "bathroomcnt                   2982260.0  2.216196e+00  1.078250e+00   \n",
       "bedroomcnt                    2982272.0  3.093362e+00  1.271569e+00   \n",
       "calculatedbathnbr             2868061.0  2.303826e+00  1.003243e+00   \n",
       "calculatedfinishedsquarefeet  2940120.0  1.831455e+03  1.954198e+03   \n",
       "finishedsquarefeet12          2720786.0  1.764045e+03  1.031383e+03   \n",
       "fips                          2982285.0  6.048053e+03  2.024082e+01   \n",
       "fullbathcnt                   2868061.0  2.248089e+00  9.929959e-01   \n",
       "latitude                      2982285.0  3.400131e+07  2.435157e+05   \n",
       "longitude                     2982285.0 -1.182017e+08  3.455918e+05   \n",
       "lotsizesquarefeet             2712511.0  2.260376e+04  2.499836e+05   \n",
       "propertylandusetypeid         2982285.0  2.600508e+02  1.593121e+01   \n",
       "rawcensustractandblock        2982285.0  6.048367e+07  2.008914e+05   \n",
       "regionidcity                  2923089.0  3.498766e+04  5.070968e+04   \n",
       "regionidcounty                2982285.0  2.569085e+03  7.886840e+02   \n",
       "regionidzip                   2972503.0  9.655329e+04  3.680815e+03   \n",
       "roomcnt                       2982248.0  1.474357e+00  2.839869e+00   \n",
       "yearbuilt                     2937384.0  1.964438e+03  2.364428e+01   \n",
       "structuretaxvaluedollarcnt    2938753.0  1.781429e+05  4.600503e+05   \n",
       "taxvaluedollarcnt             2950951.0  4.435279e+05  8.163366e+05   \n",
       "assessmentyear                2982284.0  2.015998e+03  6.039949e-02   \n",
       "landtaxvaluedollarcnt         2925291.0  2.684558e+05  4.865097e+05   \n",
       "taxamount                     2962465.0  5.408949e+03  9.675567e+03   \n",
       "censustractandblock           2910232.0  6.048434e+13  3.249133e+11   \n",
       "\n",
       "                                       min           25%           50%  \\\n",
       "parcelid                      1.071172e+07  1.164371e+07  1.254509e+07   \n",
       "bathroomcnt                   0.000000e+00  2.000000e+00  2.000000e+00   \n",
       "bedroomcnt                    0.000000e+00  2.000000e+00  3.000000e+00   \n",
       "calculatedbathnbr             1.000000e+00  2.000000e+00  2.000000e+00   \n",
       "calculatedfinishedsquarefeet  1.000000e+00  1.215000e+03  1.574000e+03   \n",
       "finishedsquarefeet12          1.000000e+00  1.198000e+03  1.542000e+03   \n",
       "fips                          6.037000e+03  6.037000e+03  6.037000e+03   \n",
       "fullbathcnt                   1.000000e+00  2.000000e+00  2.000000e+00   \n",
       "latitude                      3.332439e+07  3.382740e+07  3.400807e+07   \n",
       "longitude                    -1.194758e+08 -1.183929e+08 -1.181721e+08   \n",
       "lotsizesquarefeet             1.000000e+02  5.683000e+03  7.000000e+03   \n",
       "propertylandusetypeid         3.100000e+01  2.610000e+02  2.610000e+02   \n",
       "rawcensustractandblock        6.037101e+07  6.037400e+07  6.037571e+07   \n",
       "regionidcity                  3.491000e+03  1.244700e+04  2.521800e+04   \n",
       "regionidcounty                1.286000e+03  1.286000e+03  3.101000e+03   \n",
       "regionidzip                   9.598200e+04  9.618000e+04  9.637700e+04   \n",
       "roomcnt                       0.000000e+00  0.000000e+00  0.000000e+00   \n",
       "yearbuilt                     1.801000e+03  1.950000e+03  1.963000e+03   \n",
       "structuretaxvaluedollarcnt    1.000000e+00  7.766600e+04  1.270660e+05   \n",
       "taxvaluedollarcnt             1.000000e+00  1.882200e+05  3.211610e+05   \n",
       "assessmentyear                2.000000e+03  2.016000e+03  2.016000e+03   \n",
       "landtaxvaluedollarcnt         1.000000e+00  7.970000e+04  1.766190e+05   \n",
       "taxamount                     2.400000e-01  2.468620e+03  4.007620e+03   \n",
       "censustractandblock          -1.000000e+00  6.037400e+13  6.037572e+13   \n",
       "\n",
       "                                       75%           max  \n",
       "parcelid                      1.409712e+07  1.696019e+08  \n",
       "bathroomcnt                   3.000000e+00  3.200000e+01  \n",
       "bedroomcnt                    4.000000e+00  2.500000e+01  \n",
       "calculatedbathnbr             3.000000e+00  3.200000e+01  \n",
       "calculatedfinishedsquarefeet  2.140000e+03  9.525760e+05  \n",
       "finishedsquarefeet12          2.075000e+03  4.270790e+05  \n",
       "fips                          6.059000e+03  6.111000e+03  \n",
       "fullbathcnt                   3.000000e+00  3.200000e+01  \n",
       "latitude                      3.416186e+07  3.481965e+07  \n",
       "longitude                    -1.179489e+08 -1.175543e+08  \n",
       "lotsizesquarefeet             9.893000e+03  3.710005e+08  \n",
       "propertylandusetypeid         2.610000e+02  2.790000e+02  \n",
       "rawcensustractandblock        6.059042e+07  6.111009e+07  \n",
       "regionidcity                  4.545700e+04  3.965560e+05  \n",
       "regionidcounty                3.101000e+03  3.101000e+03  \n",
       "regionidzip                   9.697400e+04  3.996750e+05  \n",
       "roomcnt                       0.000000e+00  9.600000e+01  \n",
       "yearbuilt                     1.981000e+03  2.016000e+03  \n",
       "structuretaxvaluedollarcnt    2.040000e+05  2.553212e+08  \n",
       "taxvaluedollarcnt             5.140720e+05  3.196225e+08  \n",
       "assessmentyear                2.016000e+03  2.016000e+03  \n",
       "landtaxvaluedollarcnt         3.261000e+05  9.401108e+07  \n",
       "taxamount                     6.230500e+03  3.823176e+06  \n",
       "censustractandblock           6.059042e+13  4.830301e+14  "
      ]
     },
     "execution_count": 42,
     "metadata": {},
     "output_type": "execute_result"
    }
   ],
   "source": [
    "# Feature Selection/Removal\n",
    "# Creating a threshold to remove attributes that are sparse in data\n",
    "# and removing them from the dataset\n",
    "\n",
    "threshold = 0.30\n",
    "zillow_data_feature_removal = zillow_properties_data_2017.copy()\n",
    "for attr in zillow_properties_data_2017.columns.values.tolist():\n",
    "    if zillow_properties_data_2017[attr].isnull().sum()/float(zillow_properties_data_2017.shape[0]) > threshold:\n",
    "        del zillow_data_feature_removal[attr]\n",
    "\n",
    "zillow_data_feature_removal.describe().transpose()\n",
    "\n"
   ]
  },
  {
   "cell_type": "code",
   "execution_count": 43,
   "metadata": {
    "collapsed": true
   },
   "outputs": [],
   "source": [
    "# fips Federal Information Processing Standard code is the same for most of the data\n",
    "del zillow_data_feature_removal['fips']\n",
    "\n",
    "\n",
    "# bathroomcnt is the same as calculatedbathnbr and fullbathcnt, Hence we retain bathroomcnt and delete the other 2 \n",
    "del zillow_data_feature_removal['calculatedbathnbr']\n",
    "del zillow_data_feature_removal['fullbathcnt']\n",
    "\n",
    "\n",
    "# calculatedfinishedsquarefeet and finishedsquarefeet12 are similar, \n",
    "# and calcuatedfinishedsqarefeet might be more accurate and one of them can be removed\n",
    "del zillow_data_feature_removal['finishedsquarefeet12']\n",
    "\n",
    "\n",
    "# Removing redundant data censustractandblock (similar to rawcensustractandblock)\n",
    "# Census data contains information about location i.e. block and district which \n",
    "# can be obtained from regionidzip.\n",
    "del zillow_data_feature_removal['censustractandblock']\n",
    "del zillow_data_feature_removal['rawcensustractandblock']\n",
    "\n",
    "\n",
    "# Removing propertycountylandusecode as the categorical attribute propertylandusetypeid \n",
    "# provides same information\n",
    "del zillow_data_feature_removal['propertycountylandusecode']\n",
    "del zillow_data_feature_removal['assessmentyear']\n",
    "del zillow_data_feature_removal['roomcnt']\n"
   ]
  },
  {
   "cell_type": "code",
   "execution_count": 44,
   "metadata": {},
   "outputs": [
    {
     "data": {
      "text/plain": [
       "Index(['parcelid', 'bathroomcnt', 'bedroomcnt', 'calculatedfinishedsquarefeet',\n",
       "       'latitude', 'longitude', 'lotsizesquarefeet', 'propertylandusetypeid',\n",
       "       'regionidcity', 'regionidcounty', 'regionidzip', 'yearbuilt',\n",
       "       'structuretaxvaluedollarcnt', 'taxvaluedollarcnt',\n",
       "       'landtaxvaluedollarcnt', 'taxamount'],\n",
       "      dtype='object')"
      ]
     },
     "execution_count": 44,
     "metadata": {},
     "output_type": "execute_result"
    }
   ],
   "source": [
    "zillow_data_feature_removal.columns\n",
    "\n"
   ]
  },
  {
   "cell_type": "code",
   "execution_count": 45,
   "metadata": {
    "scrolled": true
   },
   "outputs": [],
   "source": [
    "#Creating a data frame to calculate noise that can be used to fill lotsizesquarefeet and calculatedfinishedsquarefeet\n",
    "squareFeetCols= {'calculatedfinishedsquarefeet':zillow_data_feature_removal['calculatedfinishedsquarefeet'],'lotsizesquarefeet':zillow_data_feature_removal['lotsizesquarefeet']}\n",
    "squareFeetdfWithoutNaN = pd.DataFrame(squareFeetCols)\n"
   ]
  },
  {
   "cell_type": "code",
   "execution_count": 46,
   "metadata": {},
   "outputs": [
    {
     "data": {
      "text/plain": [
       "0.7483550336176853"
      ]
     },
     "execution_count": 46,
     "metadata": {},
     "output_type": "execute_result"
    }
   ],
   "source": [
    "#Dropping the rows with NaN values\n",
    "squareFeetdfWithoutNaN=squareFeetdfWithoutNaN.dropna(how='any')\n",
    "\n",
    "# creating a new column 'difference' which tracks diff between lotsizesquarefeet - calculatedfinishedsquarefeet\n",
    "squareFeetdfWithoutNaN['difference']= squareFeetdfWithoutNaN['lotsizesquarefeet']-squareFeetdfWithoutNaN['calculatedfinishedsquarefeet']\n",
    "\n",
    "# keeping only the values with greater lotsizesquarefeet than calculatedfinishedsquarefeet\n",
    "squareFeetdfWithoutNaN=squareFeetdfWithoutNaN[squareFeetdfWithoutNaN['difference']>0]\n",
    "\n",
    "squareFeetdfWithoutNaN['differenceFraction']= squareFeetdfWithoutNaN['difference'] / squareFeetdfWithoutNaN['lotsizesquarefeet']         \n",
    "\n",
    "# calculating the mean of differenceFraction column\n",
    "noise=squareFeetdfWithoutNaN['differenceFraction'].mean()\n",
    "noise"
   ]
  },
  {
   "cell_type": "code",
   "execution_count": 47,
   "metadata": {
    "scrolled": true
   },
   "outputs": [
    {
     "name": "stderr",
     "output_type": "stream",
     "text": [
      "/Users/selinadeepkaur/anaconda/lib/python3.6/site-packages/pandas/core/indexing.py:179: SettingWithCopyWarning: \n",
      "A value is trying to be set on a copy of a slice from a DataFrame\n",
      "\n",
      "See the caveats in the documentation: http://pandas.pydata.org/pandas-docs/stable/indexing.html#indexing-view-versus-copy\n",
      "  self._setitem_with_indexer(indexer, value)\n"
     ]
    }
   ],
   "source": [
    "# Filling NAN values in calculatedfinishedsquarefeet and lotsizesquarefeet by using noise\n",
    "zillow_data_feature_removal['calculatedfinishedsquarefeet'].loc[zillow_data_feature_removal['calculatedfinishedsquarefeet'].isnull()]=(1-noise)*zillow_data_feature_removal['lotsizesquarefeet'].loc[zillow_data_feature_removal['lotsizesquarefeet'].notnull()] \n",
    "zillow_data_feature_removal['lotsizesquarefeet'].loc[zillow_data_feature_removal['lotsizesquarefeet'].isnull()]=zillow_data_feature_removal['calculatedfinishedsquarefeet'].loc[zillow_data_feature_removal['calculatedfinishedsquarefeet'].notnull()]/(1-noise)\n",
    "\n"
   ]
  },
  {
   "cell_type": "code",
   "execution_count": 48,
   "metadata": {
    "collapsed": true
   },
   "outputs": [],
   "source": [
    "# filling the Remaining NAN values in calculatedfinishedsquarefeet and lotsizesquarefeet with mean and median\n",
    "\n",
    "zillow_data_feature_removal['calculatedfinishedsquarefeet']=zillow_data_feature_removal['calculatedfinishedsquarefeet'].fillna(zillow_data_feature_removal['calculatedfinishedsquarefeet'].mean())\n",
    "\n",
    "zillow_data_feature_removal['lotsizesquarefeet']=zillow_data_feature_removal['lotsizesquarefeet'].fillna(zillow_data_feature_removal['lotsizesquarefeet'].median())"
   ]
  },
  {
   "cell_type": "code",
   "execution_count": 49,
   "metadata": {},
   "outputs": [
    {
     "name": "stderr",
     "output_type": "stream",
     "text": [
      "/Users/selinadeepkaur/anaconda/lib/python3.6/site-packages/pandas/core/indexing.py:179: SettingWithCopyWarning: \n",
      "A value is trying to be set on a copy of a slice from a DataFrame\n",
      "\n",
      "See the caveats in the documentation: http://pandas.pydata.org/pandas-docs/stable/indexing.html#indexing-view-versus-copy\n",
      "  self._setitem_with_indexer(indexer, value)\n"
     ]
    }
   ],
   "source": [
    "# filling landtaxvaluedollarcnt and structuretaxvaluedollarcnt by using the computation taxvaluedollarcnt=landtaxvaluedollarcnt+structuretaxvaluedollarcnt\n",
    "\n",
    "zillow_data_feature_removal['landtaxvaluedollarcnt'].loc[zillow_data_feature_removal['landtaxvaluedollarcnt'].isnull()]= zillow_data_feature_removal['taxvaluedollarcnt'].loc[zillow_data_feature_removal['taxvaluedollarcnt'].notnull()]-zillow_data_feature_removal['structuretaxvaluedollarcnt'].loc[zillow_data_feature_removal['structuretaxvaluedollarcnt'].notnull()] \n",
    "zillow_data_feature_removal['structuretaxvaluedollarcnt'].loc[zillow_data_feature_removal['structuretaxvaluedollarcnt'].isnull()]= zillow_data_feature_removal['taxvaluedollarcnt'].loc[zillow_data_feature_removal['taxvaluedollarcnt'].notnull()]-zillow_data_feature_removal['landtaxvaluedollarcnt'].loc[zillow_data_feature_removal['landtaxvaluedollarcnt'].notnull()] \n",
    "\n",
    "\n",
    "\n"
   ]
  },
  {
   "cell_type": "code",
   "execution_count": 50,
   "metadata": {
    "collapsed": true
   },
   "outputs": [],
   "source": [
    "# filling longitude , latitude , yearbuilt, bathroomcnt, bedroomcnt \n",
    "zillow_data_feature_removal['latitude']=zillow_data_feature_removal['latitude'].fillna(zillow_data_feature_removal['latitude'].mean())\n",
    "\n",
    "zillow_data_feature_removal['longitude']=zillow_data_feature_removal['longitude'].fillna(zillow_data_feature_removal['longitude'].mean())\n",
    "\n",
    "zillow_data_feature_removal['yearbuilt']=zillow_data_feature_removal['yearbuilt'].fillna(zillow_data_feature_removal['yearbuilt'].median())\n",
    "\n",
    "zillow_data_feature_removal['bathroomcnt']=zillow_data_feature_removal['bathroomcnt'].fillna(zillow_data_feature_removal['bathroomcnt'].median())\n",
    "\n",
    "zillow_data_feature_removal['bedroomcnt']=zillow_data_feature_removal['bedroomcnt'].fillna(zillow_data_feature_removal['bedroomcnt'].median())"
   ]
  },
  {
   "cell_type": "code",
   "execution_count": 51,
   "metadata": {},
   "outputs": [],
   "source": [
    "region_city_unique = dict()\n",
    "max_regions = len(zillow_data_feature_removal[\"regionidcity\"].unique())-1\n",
    "row = 0\n",
    "while max_regions:\n",
    "    if (not (zillow_data_feature_removal.get_value(row,\"regionidcity\") in region_city_unique)) and not np.isnan(zillow_data_feature_removal.get_value(row,\"regionidcity\")):\n",
    "        max_regions -= 1\n",
    "        region_city_unique[int(zillow_data_feature_removal.get_value(row,\"regionidcity\"))] = [zillow_data_feature_removal.get_value(row,\"latitude\")/1000000.0, zillow_data_feature_removal.get_value(row,\"longitude\")/1000000.0]\n",
    "    row += 1    \n",
    "    "
   ]
  },
  {
   "cell_type": "markdown",
   "metadata": {},
   "source": [
    "-----------------ADDITION OF EXTERNAL DATA SET ['city name', 'county name' , actual 'zip code']-----------------------"
   ]
  },
  {
   "cell_type": "markdown",
   "metadata": {},
   "source": [
    "We commented out the google api that we are using for 2016 data and directly used the results that we got from 2016 data, because the results are not dependent on the year. \n",
    "The api is giving is us a map between 'regionidcity' and ['city name', 'county name' , actual 'zip code']."
   ]
  },
  {
   "cell_type": "code",
   "execution_count": 52,
   "metadata": {},
   "outputs": [],
   "source": [
    "#from pygeocoder import Geocoder\n",
    "#region_city_county = dict()\n",
    "#for city in region_city_unique.keys():\n",
    "#    location = Geocoder.reverse_geocode(region_city_unique[city][0],region_city_unique[city][1])\n",
    "#    region_city_county[city] = [location.city, location.county, location.postal_code]\n",
    "region_city_county = {37688: ['Calabasas', 'Los Angeles County', '91302'], 51617: ['Culver City', 'Los Angeles County', '90230'], 12447: ['Los Angeles', 'Los Angeles County', '91423'], 396054: ['Burbank', 'Los Angeles County', '91502'], 47547: ['San Fernando', 'Los Angeles County', '91340'], 54311: ['Santa Clarita', 'Los Angeles County', '91350'], 40227: ['Palmdale', 'Los Angeles County', '93551'], 5534: ['Lancaster', 'Los Angeles County', '93534'], 45888: ['Inglewood', 'Los Angeles County', '90305'], 33612: ['Redondo Beach', 'Los Angeles County', '90278'], 26964: ['Santa Monica', 'Los Angeles County', '90405'], 17882: ['Los Angeles', 'Los Angeles County', '90063'], 25953: ['Montebello', 'Los Angeles County', '90640'], 33837: ['San Gabriel', 'Los Angeles County', '91776'], 48424: ['West Hollywood', 'Los Angeles County', '90069'], 45457: ['Glendale', 'Los Angeles County', '91202'], 47019: ['Pasadena', 'Los Angeles County', '91103'], 50749: ['Arcadia', 'Los Angeles County', '91007'], 30187: ['Altadena', 'Los Angeles County', '91001'], 118994: ['Los Angeles', 'Los Angeles County', '90061'], 47762: ['South Gate', 'Los Angeles County', '90280'], 6395: ['Paramount', 'Los Angeles County', '90723'], 39076: ['Huntington Park', 'Los Angeles County', '90255'], 16961: ['Bell Gardens', 'Los Angeles County', '90201'], 10774: ['Cerritos', 'Los Angeles County', '90703'], 46298: ['Long Beach', 'Los Angeles County', '90805'], 44116: ['Bellflower', 'Los Angeles County', '90706'], 27103: ['Signal Hill', 'Los Angeles County', '90755'], 54722: ['Torrance', 'Los Angeles County', '90503'], 53027: ['Lomita', 'Los Angeles County', '90717'], 33311: ['Palos Verdes Estates', 'Los Angeles County', '90274'], 13716: ['Santa Fe Springs', 'Los Angeles County', '90670'], 53636: ['Norwalk', 'Los Angeles County', '90650'], 14634: ['Whittier', 'Los Angeles County', '90601'], 39306: ['La Puente', 'Los Angeles County', '91744'], 20008: ['Pomona', 'Los Angeles County', '91768'], 51861: ['El Monte', 'Los Angeles County', '91731'], 11626: ['Glendora', 'Los Angeles County', '91741'], 53162: ['Marina del Rey', 'Los Angeles County', '90292'], 113576: ['City of Industry', 'Los Angeles County', '91746'], 24384: ['Diamond Bar', 'Los Angeles County', '91789'], 26483: ['Pico Rivera', 'Los Angeles County', '90660'], 12520: ['Malibu', 'Los Angeles County', '90265'], 118217: ['La Puente', 'Los Angeles County', '91744'], 54212: ['Rosemead', 'Los Angeles County', '91770'], 45398: ['Gardena', 'Los Angeles County', '90247'], 24174: ['Compton', 'Los Angeles County', '90220'], 30267: ['Artesia', 'Los Angeles County', '90701'], 21778: ['Hawaiian Gardens', 'Los Angeles County', '90716'], 10723: ['Carson', 'Los Angeles County', '90746'], 118878: ['Torrance', 'Los Angeles County', '90502'], 22827: ['Rowland Heights', 'Los Angeles County', '91748'], 5465: ['La Mirada', 'Los Angeles County', '90638'], 36502: ['South El Monte', 'Los Angeles County', '91733'], 45602: ['La Puente', 'Los Angeles County', '91746'], 39308: ['La Verne', 'Los Angeles County', '91750'], 33836: ['San Dimas', 'Los Angeles County', '91773'], 24245: ['Glendora', 'Los Angeles County', '91740'], 32923: ['Monrovia', 'Los Angeles County', '91016'], 37015: ['Azusa', 'Los Angeles County', '91702'], 24812: ['Fullerton', 'Orange County', '92832'], 34780: ['Westminster', 'Orange County', '92683'], 52650: ['Irvine', 'Orange County', '92620'], 46314: ['Los Alamitos', 'Orange County', '90720'], 15554: ['Ladera Ranch', 'Orange County', '92694'], 33840: ['Ladera Ranch', 'Orange County', '92694'], 47568: ['Santa Ana', 'Orange County', '92703'], 42967: ['Stanton', 'Orange County', '90680'], 27491: ['Tustin', 'Orange County', '92780'], 16764: ['Anaheim', 'Orange County', '92804'], 26531: ['Placentia', 'Orange County', '92870'], 25218: ['Huntington Beach', 'Orange County', '92649'], 32380: ['Lake Forest', 'Orange County', '92610'], 53571: ['Newport Beach', 'Orange County', '92660'], 17150: ['Brea', 'Orange County', '92823'], 13091: ['Ojai', 'Ventura County', '93023'], 26965: ['Santa Paula', 'Ventura County', '93060'], 27110: ['Simi Valley', 'Ventura County', '93063'], 34278: ['Thousand Oaks', 'Ventura County', '91362'], 34543: ['Ventura', 'Ventura County', '93003'], 13150: ['Oxnard', 'Ventura County', '93033'], 40110: ['Ojai', 'Ventura County', '93023'], 18098: ['Fillmore', 'Ventura County', '93015'], 13311: ['Piru', 'Ventura County', '93040'], 51239: ['Camarillo', 'Ventura County', '93010'], 34037: ['Somis', 'Ventura County', '93066'], 47198: ['Port Hueneme', 'Ventura County', '93041'], 25974: ['Moorpark', 'Ventura County', '93021'], 41673: ['Westlake Village', 'Ventura County', '91361'], 53655: ['Oak Park', 'Ventura County', '91377'], 42091: ['Bell Canyon', 'Ventura County', '91307'], 9840: ['Agoura Hills', 'Los Angeles County', '91301'], 38980: ['Hidden Hills', 'Los Angeles County', '91302'], 10734: ['Castaic', 'Los Angeles County', '91384'], 29189: ['Palmdale', 'Los Angeles County', '93591'], 13232: ['Pearblossom', 'Los Angeles County', '93553'], 16677: ['Palmdale', 'Los Angeles County', '93550'], 25621: ['Pearblossom', 'Los Angeles County', '93553'], 25468: ['Lake Hughes', 'Los Angeles County', '93532'], 116042: ['Los Angeles', 'Los Angeles County', '90056'], 396550: ['View Park-Windsor Hills', 'Los Angeles County', '90056'], 42150: ['Hawthorne', 'Los Angeles County', '90250'], 118875: ['Los Angeles', 'Los Angeles County', '90047'], 113412: ['Gardena', 'Los Angeles County', '90249'], 46178: ['Lawndale', 'Los Angeles County', '90260'], 55753: ['El Segundo', 'Los Angeles County', '90245'], 19177: ['Manhattan Beach', 'Los Angeles County', '90266'], 29712: ['Hermosa Beach', 'Los Angeles County', '90254'], 10389: ['Beverly Hills', 'Los Angeles County', '90212'], 56780: ['Topanga', 'Los Angeles County', '90290'], 6021: ['Monterey Park', 'Los Angeles County', '91754'], 272578: ['Commerce', 'Los Angeles County', '90040'], 50677: ['Alhambra', 'Los Angeles County', '91801'], 27183: ['South Pasadena', 'Los Angeles County', '91030'], 54299: ['San Marino', 'Los Angeles County', '91108'], 114834: ['Pasadena', 'Los Angeles County', '91107'], 14111: ['Temple City', 'Los Angeles County', '91780'], 396551: ['Glendale', 'Los Angeles County', '91214'], 47695: ['Sierra Madre', 'Los Angeles County', '91024'], 46080: ['La Cañada Flintridge', 'Los Angeles County', '91011'], 396053: ['Los Angeles', 'Los Angeles County', '90001'], 118914: ['Los Angeles', 'Los Angeles County', '90044'], 118880: ['Gardena', 'Los Angeles County', '90248'], 32616: ['Lynwood', 'Los Angeles County', '90262'], 31134: ['Cudahy', 'Los Angeles County', '90201'], 30399: ['Bell', 'Los Angeles County', '90201'], 4406: ['Downey', 'Los Angeles County', '90241'], 32753: ['Maywood', 'Los Angeles County', '90270'], 15237: ['Cerritos', 'Los Angeles County', '90703'], 12292: ['Lakewood', 'Los Angeles County', '90713'], 44833: ['Cypress', 'Orange County', '90630'], 54352: ['Long Beach', None, '90803'], 3491: ['Avalon', 'Los Angeles County', '90704'], 54053: ['Rancho Palos Verdes', 'Los Angeles County', '90275'], 33727: ['Rolling Hills Estates', 'Los Angeles County', '90274'], 6822: ['Palos Verdes Estates', 'Los Angeles County', '90274'], 33312: ['Palos Verdes Peninsula', 'Los Angeles County', '90274'], 118225: ['Whittier', 'Los Angeles County', '90605'], 114828: ['Whittier', 'Los Angeles County', '90604'], 18874: ['La Habra', 'Orange County', '90631'], 396556: ['Whittier', 'Los Angeles County', '90606'], 118895: ['La Puente', 'Los Angeles County', '91744'], 18875: ['La Habra Heights', 'Los Angeles County', '90631'], 118694: ['La Puente', 'Los Angeles County', '91744'], 14542: ['West Covina', 'Los Angeles County', '91792'], 30908: ['Claremont', 'Los Angeles County', '91711'], 25271: ['Irwindale', 'Los Angeles County', '91706'], 10241: ['Baldwin Park', 'Los Angeles County', '91706'], 14906: ['Monrovia', 'Los Angeles County', '91016'], 24435: ['Bradbury', 'Los Angeles County', '91008'], 34636: ['Walnut', 'Los Angeles County', '91789'], 33252: ['Orange', 'Orange County', '92868'], 52842: ['Laguna Beach', 'Orange County', '92651'], 13693: ['San Clemente', 'Orange County', '92672'], 10608: ['Buena Park', 'Orange County', '90621'], 24832: ['Garden Grove', 'Orange County', '92840'], 40081: ['Santa Ana', 'Orange County', '92705'], 16389: ['Silverado', 'Orange County', '92676'], 8384: ['Westminster', 'Orange County', '92683'], 38032: ['Costa Mesa', 'Orange County', '92627'], 21412: ['Yorba Linda', 'Orange County', '92886'], 54970: ['Villa Park', 'Orange County', '92861'], 40009: ['Newport Beach', 'Orange County', '92660'], 25458: ['Laguna Hills', 'Orange County', '92653'], 12773: ['Mission Viejo', 'Orange County', '92691'], 37086: ['Laguna Hills', 'Orange County', '92656'], 25459: ['Laguna Niguel', 'Orange County', '92677'], 17686: ['San Juan Capistrano', 'Orange County', '92675'], 17597: ['Coto de Caza', 'Orange County', '92679'], 46098: ['Laguna Woods', 'Orange County', '92653'], 52835: ['Ladera Ranch', 'Orange County', '92694'], 21395: ['Llano', 'Los Angeles County', '93544'], 41484: ['Vernon', 'Los Angeles County', '90058'], 32927: ['Montclair', 'San Bernardino County', '91763'], 10815: ['Chino Hills', 'San Bernardino County', '91709'], 25535: ['Lebec', 'Los Angeles County', '93243'], 27512: ['Upland', 'Los Angeles County', '91786'], 6285: ['San Clemente', 'San Diego County', '92672'], 24797: ['Frazier Park', 'Ventura County', '93225'], 40633: ['Rosamond', 'Los Angeles County', '93560'], 48211: ['Valyermo', 'Los Angeles County', '93563'], 3980: ['Carpinteria', 'Santa Barbara County', '93013'], 37882: ['City of Industry', 'Los Angeles County', '91745'], 47913: ['Huntington Beach', 'Orange County', '90742'], 36078: ['Llano', 'Los Angeles County', '93544'], 19202: ['Frazier Park', 'Ventura County', '93225']}   "
   ]
  },
  {
   "cell_type": "code",
   "execution_count": 53,
   "metadata": {},
   "outputs": [],
   "source": [
    "# Using external dataset\n",
    "# The 2010 US Census Population By Zip Code\n",
    "# https://blog.splitwise.com/2013/09/18/the-2010-us-census-population-by-zip-code-totally-free/\n",
    "# Population Growth rate from 2010 to 2017 is 5.16%\n",
    "\n",
    "census_2010_data = pd.read_csv(\"population_2010.csv\", low_memory=False)\n",
    "\n"
   ]
  },
  {
   "cell_type": "code",
   "execution_count": 54,
   "metadata": {},
   "outputs": [],
   "source": [
    "region_zip_code_population = dict()\n",
    "for c in region_city_county:\n",
    "    region_zip_code_population[region_city_county[c][2]] = census_2010_data.get_value(census_2010_data.loc[census_2010_data['Zip Code ZCTA'] == int(region_city_county[c][2])].index[0], '2010 Census Population' ) \n"
   ]
  },
  {
   "cell_type": "code",
   "execution_count": 55,
   "metadata": {},
   "outputs": [
    {
     "data": {
      "text/plain": [
       "{'San Bernardino County',\n",
       " 'Santa Barbara County',\n",
       " 'Los Angeles County',\n",
       " 'Ventura County',\n",
       " 'Orange County',\n",
       " 'San Diego County',\n",
       " None}"
      ]
     },
     "execution_count": 55,
     "metadata": {},
     "output_type": "execute_result"
    }
   ],
   "source": [
    "region_county = set([region_city_county[k][1] for k in region_city_county.keys()])\n",
    "region_county\n",
    "\n"
   ]
  },
  {
   "cell_type": "code",
   "execution_count": 56,
   "metadata": {
    "collapsed": true
   },
   "outputs": [],
   "source": [
    "region_county_tax_rates = {\"Orange\":0.715, \"Los Angeles\":0.793, \"Santa Barbara\":0.698, \"San Bernardino\":0.92, \"San Diego\":0.781, \"Ventura\":0.801}\n",
    "\n",
    "\n"
   ]
  },
  {
   "cell_type": "code",
   "execution_count": 57,
   "metadata": {
    "collapsed": true
   },
   "outputs": [],
   "source": [
    "zillow_data_preprocessing = zillow_data_feature_removal.copy()"
   ]
  },
  {
   "cell_type": "code",
   "execution_count": 58,
   "metadata": {
    "collapsed": true
   },
   "outputs": [],
   "source": [
    "lat_max = zillow_data_preprocessing.groupby(\"regionidzip\")[\"latitude\"].max().reset_index()"
   ]
  },
  {
   "cell_type": "code",
   "execution_count": 59,
   "metadata": {
    "collapsed": true
   },
   "outputs": [],
   "source": [
    "region_zip_latitude_longitude_ranges = dict()\n",
    "for z in zillow_data_feature_removal[\"regionidzip\"].unique():\n",
    "    region_zip_latitude_longitude_ranges[z] = [[0,0],[0,0]]\n",
    "\n",
    "#Creating a dictionary for latitude and longitude ranges    \n",
    "lat_max = zillow_data_preprocessing.groupby(\"regionidzip\")[\"latitude\"].max().reset_index()\n",
    "for i in range(len(lat_max[\"regionidzip\"])):\n",
    "    region_zip_latitude_longitude_ranges[lat_max[\"regionidzip\"][i]][0][1] = lat_max[\"latitude\"][i]\n",
    "    \n",
    "lat_min = zillow_data_preprocessing.groupby(\"regionidzip\")[\"latitude\"].min().reset_index()\n",
    "for i in range(len(lat_min[\"regionidzip\"])):\n",
    "    region_zip_latitude_longitude_ranges[lat_min[\"regionidzip\"][i]][0][0] = lat_min[\"latitude\"][i]\n",
    "    \n",
    "long_max = zillow_data_preprocessing.groupby(\"regionidzip\")[\"longitude\"].max().reset_index()\n",
    "for i in range(len(long_max[\"regionidzip\"])):\n",
    "    region_zip_latitude_longitude_ranges[long_max[\"regionidzip\"][i]][1][1] = long_max[\"longitude\"][i]\n",
    "\n",
    "long_min = zillow_data_preprocessing.groupby(\"regionidzip\")[\"longitude\"].min().reset_index()\n",
    "for i in range(len(long_min[\"regionidzip\"])):\n",
    "    region_zip_latitude_longitude_ranges[long_min[\"regionidzip\"][i]][1][0] = long_min[\"longitude\"][i]"
   ]
  },
  {
   "cell_type": "code",
   "execution_count": 60,
   "metadata": {
    "scrolled": true
   },
   "outputs": [],
   "source": [
    "def find_region_zip_for_lat_long(region_zip_latitude_longitude_ranges, latitude, longitude):\n",
    "    for k in region_zip_latitude_longitude_ranges.keys():\n",
    "        if latitude<=region_zip_latitude_longitude_ranges[k][0][1] and latitude>=region_zip_latitude_longitude_ranges[k][0][0] and longitude<=region_zip_latitude_longitude_ranges[k][1][1] and longitude>=region_zip_latitude_longitude_ranges[k][1][0]:\n",
    "            return k\n",
    "\n",
    "for i in range(zillow_data_feature_removal.shape[0]):\n",
    "    if np.isnan(zillow_data_feature_removal.iloc[i][\"regionidzip\"]):\n",
    "        zillow_data_feature_removal.at[i,\"regionidzip\"] = find_region_zip_for_lat_long(region_zip_latitude_longitude_ranges, zillow_data_feature_removal.iloc[i][\"latitude\"], zillow_data_feature_removal.iloc[i][\"longitude\"])\n"
   ]
  },
  {
   "cell_type": "code",
   "execution_count": 61,
   "metadata": {
    "collapsed": true
   },
   "outputs": [],
   "source": [
    "zillow_data_feature_removal['regionidzip']=zillow_data_feature_removal['regionidzip'].fillna(zillow_data_feature_removal['regionidzip'].median())"
   ]
  },
  {
   "cell_type": "code",
   "execution_count": 62,
   "metadata": {
    "collapsed": true
   },
   "outputs": [],
   "source": [
    "tax_median = zillow_data_feature_removal.groupby(\"regionidzip\")[\"taxamount\",\"structuretaxvaluedollarcnt\",\"landtaxvaluedollarcnt\"].median().reset_index()"
   ]
  },
  {
   "cell_type": "code",
   "execution_count": 63,
   "metadata": {
    "collapsed": true
   },
   "outputs": [],
   "source": [
    "zipcode_tax = dict()\n",
    "for i in range(tax_median.shape[0]):\n",
    "    zipcode_tax[tax_median.iloc[i][\"regionidzip\"]] = [0,0,0]\n",
    "\n",
    "for i in range(tax_median.shape[0]):\n",
    "    zipcode_tax[tax_median.iloc[i][\"regionidzip\"]][0] = tax_median.iloc[i][\"taxamount\"]\n",
    "    zipcode_tax[tax_median.iloc[i][\"regionidzip\"]][1] = tax_median.iloc[i][\"structuretaxvaluedollarcnt\"]\n",
    "    zipcode_tax[tax_median.iloc[i][\"regionidzip\"]][2] = tax_median.iloc[i][\"landtaxvaluedollarcnt\"]"
   ]
  },
  {
   "cell_type": "code",
   "execution_count": 64,
   "metadata": {
    "scrolled": true
   },
   "outputs": [],
   "source": [
    "for i in range(zillow_data_feature_removal.shape[0]):\n",
    "    if np.isnan(zillow_data_feature_removal.iloc[i][\"taxamount\"]):\n",
    "        zillow_data_feature_removal.at[i,\"taxamount\"] = zipcode_tax[zillow_data_feature_removal.iloc[i][\"regionidzip\"]][0]\n",
    "    if np.isnan(zillow_data_feature_removal.iloc[i][\"structuretaxvaluedollarcnt\"]):\n",
    "        zillow_data_feature_removal.at[i,\"structuretaxvaluedollarcnt\"] = zipcode_tax[zillow_data_feature_removal.iloc[i][\"regionidzip\"]][1]\n",
    "    if np.isnan(zillow_data_feature_removal.iloc[i][\"landtaxvaluedollarcnt\"]):\n",
    "        zillow_data_feature_removal.at[i,\"landtaxvaluedollarcnt\"] = zipcode_tax[zillow_data_feature_removal.iloc[i][\"regionidzip\"]][2] \n",
    "        \n",
    "        "
   ]
  },
  {
   "cell_type": "code",
   "execution_count": 65,
   "metadata": {
    "collapsed": true
   },
   "outputs": [],
   "source": [
    "zillow_data_feature_removal['taxamount']=zillow_data_feature_removal['taxamount'].fillna(zillow_data_feature_removal['taxamount'].median())\n",
    "\n"
   ]
  },
  {
   "cell_type": "code",
   "execution_count": 66,
   "metadata": {},
   "outputs": [
    {
     "name": "stdout",
     "output_type": "stream",
     "text": [
      "403\n"
     ]
    }
   ],
   "source": [
    "# creating a dict with unique region zip ids\n",
    "region_zip_unique = dict()\n",
    "max_zips = len(zillow_data_feature_removal[\"regionidzip\"].unique())\n",
    "row = 0\n",
    "while max_zips:\n",
    "    if (not (zillow_data_feature_removal.get_value(row,\"regionidzip\") in region_zip_unique)) and not np.isnan(zillow_data_feature_removal.get_value(row,\"regionidzip\")):\n",
    "        max_zips -= 1\n",
    "        region_zip_unique[int(zillow_data_feature_removal.get_value(row,\"regionidzip\"))] = [zillow_data_feature_removal.get_value(row,\"latitude\")/1000000.0, zillow_data_feature_removal.get_value(row,\"longitude\")/1000000.0]\n",
    "    row += 1\n",
    "print(len(region_zip_unique))\n",
    "    "
   ]
  },
  {
   "cell_type": "markdown",
   "metadata": {},
   "source": [
    "-----------------ADDITION OF EXTERNAL DATA SET ['city name', 'county name' , actual 'zip code']-----------------------"
   ]
  },
  {
   "cell_type": "markdown",
   "metadata": {},
   "source": [
    "We commented out the google api that we are using for 2016 data and directly used the results that we got from 2016 data, because the results are not dependent on the year.\n",
    "The api is giving is us a map between 'regionidzip' and ['city name', 'county name' , actual 'zip code'].\n",
    "The 'regionidzip' values supplied to us in the data set are not the actual zip code value, therefore we found a map between the values in the data set and the actual values"
   ]
  },
  {
   "cell_type": "code",
   "execution_count": 67,
   "metadata": {},
   "outputs": [],
   "source": [
    "# creating mapping between regionidzip abd city,county,postal code\n",
    "# \n",
    "# from pygeocoder import Geocoder\n",
    "# region_zip_county = dict()\n",
    "# for city in region_zip_unique.keys():\n",
    "#    location = Geocoder.reverse_geocode(region_zip_unique[city][0],region_zip_unique[city][1])\n",
    "#    region_zip_county[city] = [location.city, location.county, location.postal_code]\n",
    "region_zip_county = {96337: ['Calabasas', 'Los Angeles County', '91302'], 96095: ['Culver City', 'Los Angeles County', '90230'], 96424: ['Los Angeles', 'Los Angeles County', '91423'], 96450: ['Los Angeles', 'Los Angeles County', '91605'], 96446: ['Los Angeles', 'Los Angeles County', '91601'], 96049: ['Los Angeles', 'Los Angeles County', '90068'], 96434: ['Burbank', 'Los Angeles County', '91502'], 96436: ['Burbank', 'Los Angeles County', '91504'], 96366: ['San Fernando', 'Los Angeles County', '91340'], 96370: ['Los Angeles', 'Los Angeles County', '91344'], 96377: ['Santa Clarita', 'Los Angeles County', '91354'], 96373: ['Santa Clarita', 'Los Angeles County', '91350'], 97329: ['Palmdale', 'Los Angeles County', '93551'], 97330: ['Palmdale', 'Los Angeles County', '93552'], 97317: ['Lancaster', 'Los Angeles County', '93534'], 97318: ['Lancaster', 'Los Angeles County', '93534'], 96024: ['Los Angeles', 'Los Angeles County', '90043'], 96137: ['Inglewood', 'Los Angeles County', '90305'], 96133: ['Inglewood', 'Los Angeles County', '90301'], 96136: ['Inglewood', 'Los Angeles County', '90304'], 96026: ['Los Angeles', 'Los Angeles County', '90045'], 96124: ['Redondo Beach', 'Los Angeles County', '90278'], 96097: ['Culver City', 'Los Angeles County', '90232'], 96072: ['Los Angeles', 'Los Angeles County', '90094'], 96047: ['Los Angeles', 'Los Angeles County', '90066'], 96149: ['Santa Monica', 'Los Angeles County', '90402'], 96152: ['Santa Monica', 'Los Angeles County', '90405'], 96148: ['Santa Monica', 'Los Angeles County', '90401'], 96045: ['Los Angeles', 'Los Angeles County', '90064'], 96005: ['Los Angeles', 'Los Angeles County', '90024'], 96030: ['Los Angeles', 'Los Angeles County', '90049'], 96043: ['Los Angeles', 'Los Angeles County', '90062'], 95987: ['Los Angeles', 'Los Angeles County', '90007'], 96000: ['Los Angeles', 'Los Angeles County', '90019'], 96017: ['Los Angeles', 'Los Angeles County', '90036'], 96018: ['Los Angeles', 'Los Angeles County', '90037'], 95996: ['Los Angeles', 'Los Angeles County', '90017'], 96038: ['Los Angeles', 'Los Angeles County', '90057'], 96012: ['Los Angeles', 'Los Angeles County', '90031'], 96013: ['Los Angeles', 'Los Angeles County', '90032'], 96044: ['Los Angeles', 'Los Angeles County', '90063'], 96004: ['Los Angeles', 'Los Angeles County', '90023'], 96192: ['Montebello', 'Los Angeles County', '90640'], 96515: ['San Gabriel', 'Los Angeles County', '91776'], 96007: ['Los Angeles', 'Los Angeles County', '90026'], 95993: ['Los Angeles', 'Los Angeles County', '90012'], 96020: ['Los Angeles', 'Los Angeles County', '90039'], 96046: ['Los Angeles', 'Los Angeles County', '90065'], 96023: ['Los Angeles', 'Los Angeles County', '90042'], 96009: ['Los Angeles', 'Los Angeles County', '90028'], 96050: ['West Hollywood', 'Los Angeles County', '90069'], 96008: ['Los Angeles', 'Los Angeles County', '90027'], 96321: ['Glendale', 'Los Angeles County', '91202'], 96325: ['Glendale', 'Los Angeles County', '91206'], 96291: ['Pasadena', 'Los Angeles County', '91103'], 96289: ['Pasadena', 'Los Angeles County', '91101'], 96268: ['Arcadia', 'Los Angeles County', '91007'], 96265: ['Altadena', 'Los Angeles County', '91001'], 96292: ['Pasadena', 'Los Angeles County', '91104'], 95984: ['Los Angeles', 'Los Angeles County', '90003'], 96025: ['Los Angeles', 'Los Angeles County', '90044'], 96028: ['Los Angeles', 'Los Angeles County', '90047'], 96042: ['Los Angeles', 'Los Angeles County', '90061'], 96104: ['Gardena', 'Los Angeles County', '90247'], 96125: ['South Gate', 'Los Angeles County', '90280'], 96220: ['Paramount', 'Los Angeles County', '90723'], 96110: ['Huntington Park', 'Los Angeles County', '90255'], 96083: ['Bell Gardens', 'Los Angeles County', '90201'], 96003: ['East Los Angeles', 'Los Angeles County', '90022'], 96206: ['Cerritos', 'Los Angeles County', '90703'], 96239: ['Long Beach', 'Los Angeles County', '90805'], 96208: ['Bellflower', 'Los Angeles County', '90706'], 96234: ['Signal Hill', 'Los Angeles County', '90755'], 96246: ['Long Beach', 'Los Angeles County', '90814'], 96245: ['Long Beach', 'Los Angeles County', '90813'], 96236: ['Long Beach', 'Los Angeles County', '90802'], 96159: ['Torrance', 'Los Angeles County', '90501'], 96161: ['Torrance', 'Los Angeles County', '90503'], 96217: ['Lomita', 'Los Angeles County', '90717'], 96221: ['Los Angeles', 'Los Angeles County', '90731'], 96123: ['Redondo Beach', 'Los Angeles County', '90277'], 96163: ['Torrance', 'Los Angeles County', '90505'], 96121: ['Palos Verdes Estates', 'Los Angeles County', '90274'], 96201: ['Santa Fe Springs', 'Los Angeles County', '90670'], 96193: ['Norwalk', 'Los Angeles County', '90650'], 96169: ['Whittier', 'Los Angeles County', '90601'], 96488: ['La Puente', 'Los Angeles County', '91744'], 96508: ['Pomona', 'Los Angeles County', '91768'], 96478: ['El Monte', 'Los Angeles County', '91731'], 96486: ['Glendora', 'Los Angeles County', '91741'], 96485: ['Glendora', 'Los Angeles County', '91740'], 96506: ['Pomona', 'Los Angeles County', '91766'], 96128: ['Marina del Rey', 'Los Angeles County', '90292'], 96364: ['Los Angeles', 'Los Angeles County', '91335'], 96415: ['Los Angeles', 'Los Angeles County', '91406'], 96490: ['City of Industry', 'Los Angeles County', '91746'], 96368: ['Los Angeles', 'Los Angeles County', '91342'], 96361: ['Los Angeles', 'Los Angeles County', '91331'], 96371: ['Los Angeles', 'Los Angeles County', '91345'], 96346: ['Los Angeles', 'Los Angeles County', '91311'], 96339: ['Los Angeles', 'Los Angeles County', '91304'], 96354: ['Los Angeles', 'Los Angeles County', '91324'], 96374: ['Santa Clarita', 'Los Angeles County', '91351'], 96352: ['Santa Clarita', 'Los Angeles County', '91321'], 96401: ['Santa Clarita', 'Los Angeles County', '91387'], 97328: ['Palmdale', 'Los Angeles County', '93550'], 97319: ['Lancaster', 'Los Angeles County', '93536'], 96522: ['Diamond Bar', 'Los Angeles County', '91789'], 96197: ['Pico Rivera', 'Los Angeles County', '90660'], 96116: ['Malibu', 'Los Angeles County', '90265'], 96510: ['Rosemead', 'Los Angeles County', '91770'], 96237: ['Long Beach', 'Los Angeles County', '90803'], 96090: ['Compton', 'Los Angeles County', '90220'], 96204: ['Artesia', 'Los Angeles County', '90701'], 96216: ['Hawaiian Gardens', 'Los Angeles County', '90716'], 96091: ['Compton', 'Los Angeles County', '90221'], 96244: ['Long Beach', 'Los Angeles County', '90810'], 96230: ['Carson', 'Los Angeles County', '90746'], 96229: ['Carson', 'Los Angeles County', '90745'], 96160: ['Torrance', 'Los Angeles County', '90502'], 96210: ['West Carson', 'Los Angeles County', '90710'], 96228: ['Los Angeles', 'Los Angeles County', '90744'], 96222: ['Los Angeles', 'Los Angeles County', '90732'], 96492: ['Rowland Heights', 'Los Angeles County', '91748'], 96190: ['La Mirada', 'Los Angeles County', '90638'], 96480: ['South El Monte', 'Los Angeles County', '91733'], 96479: ['El Monte', 'Los Angeles County', '91732'], 96489: ['La Puente', 'Los Angeles County', '91746'], 96507: ['Pomona', 'Los Angeles County', '91767'], 96494: ['La Verne', 'Los Angeles County', '91750'], 96513: ['San Dimas', 'Los Angeles County', '91773'], 96475: ['Glendora', 'Los Angeles County', '91740'], 96473: ['Covina', 'Los Angeles County', '91722'], 96273: ['Monrovia', 'Los Angeles County', '91016'], 96464: ['Azusa', 'Los Angeles County', '91702'], 96040: ['Los Angeles', 'Los Angeles County', '90059'], 97040: ['Fullerton', 'Orange County', '92832'], 96990: ['Westminster', 'Orange County', '92683'], 96954: ['Irvine', 'Orange County', '92620'], 96218: ['Los Alamitos', 'Orange County', '90720'], 96959: ['Costa Mesa', 'Orange County', '92627'], 96947: ['Irvine', 'Orange County', '92612'], 96952: ['Irvine', 'Orange County', '92618'], 96998: ['Ladera Ranch', 'Orange County', '92694'], 97003: ['Santa Ana', 'Orange County', '92703'], 96203: ['Stanton', 'Orange County', '90680'], 97016: ['Tustin', 'Orange County', '92780'], 97023: ['Anaheim', 'Orange County', '92804'], 97068: ['Placentia', 'Orange County', '92870'], 96967: ['Huntington Beach', 'Orange County', '92649'], 97067: ['Irvine', 'Orange County', '92602'], 96962: ['Lake Forest', 'Orange County', '92610'], 96978: ['Newport Beach', 'Orange County', '92660'], 97037: ['Brea', 'Orange County', '92823'], 96951: ['Irvine', 'Orange County', '92617'], 97099: ['Ojai', 'Ventura County', '93023'], 97113: ['Santa Paula', 'Ventura County', '93060'], 97116: ['Simi Valley', 'Ventura County', '93063'], 96385: ['Thousand Oaks', 'Ventura County', '91362'], 97083: ['Ventura', 'Ventura County', '93003'], 97104: ['Oxnard', 'Ventura County', '93033'], 97101: ['Oxnard', 'Ventura County', '93030'], 96351: ['Thousand Oaks', 'Ventura County', '91320'], 97098: ['Ojai', 'Ventura County', '93023'], 97081: ['Ventura', 'Ventura County', '93001'], 97094: ['Fillmore', 'Ventura County', '93015'], 97108: ['Piru', 'Ventura County', '93040'], 97084: ['Ventura', 'Ventura County', '93004'], 97089: ['Camarillo', 'Ventura County', '93010'], 97119: ['Somis', 'Ventura County', '93066'], 97107: ['Oxnard', 'Ventura County', '93036'], 97091: ['Camarillo', 'Ventura County', '93012'], 97106: ['Oxnard', 'Ventura County', '93035'], 97109: ['Port Hueneme', 'Ventura County', '93041'], 97097: ['Moorpark', 'Ventura County', '93021'], 96383: ['Thousand Oaks', 'Ventura County', '91360'], 97118: ['Simi Valley', 'Ventura County', '93065'], 96384: ['Westlake Village', 'Ventura County', '91361'], 96393: ['Oak Park', 'Ventura County', '91377'], 96342: ['Bell Canyon', 'Ventura County', '91307'], 96338: ['Los Angeles', 'Los Angeles County', '91303'], 96389: ['Los Angeles', 'Los Angeles County', '91367'], 96336: ['Agoura Hills', 'Los Angeles County', '91301'], 96387: ['Los Angeles', 'Los Angeles County', '91364'], 96355: ['Los Angeles', 'Los Angeles County', '91325'], 96341: ['Los Angeles', 'Los Angeles County', '91306'], 96349: ['Los Angeles', 'Los Angeles County', '91316'], 96379: ['Los Angeles', 'Los Angeles County', '91356'], 96411: ['Los Angeles', 'Los Angeles County', '91402'], 96414: ['Los Angeles', 'Los Angeles County', '91405'], 96420: ['Los Angeles', 'Los Angeles County', '91411'], 96410: ['Los Angeles', 'Los Angeles County', '91401'], 96412: ['Los Angeles', 'Los Angeles County', '91403'], 96426: ['Los Angeles', 'Los Angeles County', '91436'], 96058: ['Los Angeles', 'Los Angeles County', '90077'], 96375: ['Los Angeles', 'Los Angeles County', '91352'], 96451: ['Los Angeles', 'Los Angeles County', '91606'], 96452: ['Los Angeles', 'Los Angeles County', '91607'], 96447: ['Los Angeles', 'Los Angeles County', '91602'], 96449: ['Los Angeles', 'Los Angeles County', '91604'], 96086: ['Beverly Hills', 'Los Angeles County', '90210'], 96437: ['Burbank', 'Los Angeles County', '91505'], 96027: ['Los Angeles', 'Los Angeles County', '90046'], 96438: ['Burbank', 'Los Angeles County', '91506'], 96433: ['Burbank', 'Los Angeles County', '91501'], 96282: ['Los Angeles', 'Los Angeles County', '91040'], 96284: ['Los Angeles', 'Los Angeles County', '91042'], 96369: ['Los Angeles', 'Los Angeles County', '91345'], 96356: ['Los Angeles', 'Los Angeles County', '91326'], 96403: ['Santa Clarita', 'Los Angeles County', '91390'], 96395: ['Stevenson Ranch', 'Los Angeles County', '91381'], 96378: ['Santa Clarita', 'Los Angeles County', '91355'], 96398: ['Castaic', 'Los Angeles County', '91384'], 97344: ['Palmdale', 'Los Angeles County', '93591'], 97331: ['Pearblossom', 'Los Angeles County', '93553'], 97323: ['Littlerock', 'Los Angeles County', '93543'], 97298: ['Acton', 'Los Angeles County', '93510'], 97324: ['Llano', 'Los Angeles County', '93544'], 97316: ['Lake Hughes', 'Los Angeles County', '93532'], 96037: ['Los Angeles', 'Los Angeles County', '90056'], 96134: ['Inglewood', 'Los Angeles County', '90302'], 96135: ['Inglewood', 'Los Angeles County', '90303'], 96107: ['Hawthorne', 'Los Angeles County', '90250'], 96106: ['Gardena', 'Los Angeles County', '90249'], 96162: ['Torrance', 'Los Angeles County', '90504'], 96111: ['Lawndale', 'Los Angeles County', '90260'], 96105: ['Gardena', 'Los Angeles County', '90248'], 96129: ['Los Angeles', 'Los Angeles County', '90293'], 96103: ['El Segundo', 'Los Angeles County', '90245'], 96117: ['Manhattan Beach', 'Los Angeles County', '90266'], 96109: ['Hermosa Beach', 'Los Angeles County', '90254'], 95997: ['Los Angeles', 'Los Angeles County', '90016'], 96127: ['Los Angeles', 'Los Angeles County', '90291'], 96001: ['Los Angeles', 'Los Angeles County', '90020'], 96015: ['Los Angeles', 'Los Angeles County', '90034'], 96006: ['Los Angeles', 'Los Angeles County', '90025'], 96150: ['Santa Monica', 'Los Angeles County', '90403'], 96151: ['Santa Monica', 'Los Angeles County', '90404'], 96016: ['Los Angeles', 'Los Angeles County', '90035'], 96048: ['Los Angeles', 'Los Angeles County', '90067'], 96088: ['Beverly Hills', 'Los Angeles County', '90212'], 96087: ['Beverly Hills', 'Los Angeles County', '90211'], 96029: ['Los Angeles', 'Los Angeles County', '90048'], 96120: ['Los Angeles', 'Los Angeles County', '90272'], 96126: ['Topanga', 'Los Angeles County', '90290'], 95989: ['Los Angeles', 'Los Angeles County', '90008'], 95999: ['Los Angeles', 'Los Angeles County', '90018'], 95988: ['Los Angeles', 'Los Angeles County', '90007'], 95986: ['Los Angeles', 'Los Angeles County', '90005'], 95991: ['Los Angeles', 'Los Angeles County', '90010'], 95992: ['Los Angeles', 'Los Angeles County', '90011'], 96039: ['Los Angeles', 'Los Angeles County', '90058'], 96002: ['Los Angeles', 'Los Angeles County', '90015'], 95995: ['Los Angeles', 'Los Angeles County', '90014'], 96014: ['Los Angeles', 'Los Angeles County', '90033'], 96496: ['Monterey Park', 'Los Angeles County', '91754'], 96021: ['Commerce', 'Los Angeles County', '90040'], 96497: ['Monterey Park', 'Los Angeles County', '91755'], 96533: ['Alhambra', 'Los Angeles County', '91801'], 96531: ['Alhambra', 'Los Angeles County', '91801'], 96280: ['South Pasadena', 'Los Angeles County', '91030'], 96296: ['San Marino', 'Los Angeles County', '91108'], 96294: ['Pasadena', 'Los Angeles County', '91106'], 96295: ['Pasadena', 'Los Angeles County', '91107'], 96514: ['San Gabriel', 'Los Angeles County', '91775'], 96517: ['Temple City', 'Los Angeles County', '91780'], 96010: ['Los Angeles', 'Los Angeles County', '90029'], 96022: ['Los Angeles', 'Los Angeles County', '90041'], 96293: ['Pasadena', 'Los Angeles County', '91105'], 95985: ['Los Angeles', 'Los Angeles County', '90004'], 96019: ['Los Angeles', 'Los Angeles County', '90038'], 96330: ['Glendale', 'Los Angeles County', '91214'], 96275: ['Glendale', 'Los Angeles County', '91020'], 96327: ['Glendale', 'Los Angeles County', '91208'], 96320: ['Glendale', 'Los Angeles County', '91201'], 96326: ['Glendale', 'Los Angeles County', '91207'], 96322: ['Glendale', 'Los Angeles County', '91203'], 96324: ['Glendale', 'Los Angeles County', '91205'], 96323: ['Glendale', 'Los Angeles County', '91204'], 96278: ['Sierra Madre', 'Los Angeles County', '91024'], 96267: ['Arcadia', 'Los Angeles County', '91006'], 96271: ['La Cañada Flintridge', 'Los Angeles County', '91011'], 95982: ['Los Angeles', 'Los Angeles County', '90001'], 95983: ['Los Angeles', 'Los Angeles County', '90002'], 96092: ['Compton', 'Los Angeles County', '90222'], 96113: ['Lynwood', 'Los Angeles County', '90262'], 96101: ['Downey', 'Los Angeles County', '90241'], 96102: ['Downey', 'Los Angeles County', '90242'], 96119: ['Maywood', 'Los Angeles County', '90270'], 96100: ['Downey', 'Los Angeles County', '90240'], 96213: ['Lakewood', 'Los Angeles County', '90713'], 96215: ['Lakewood', 'Los Angeles County', '90715'], 96242: ['Long Beach', 'Los Angeles County', '90808'], 96241: ['Long Beach', 'Los Angeles County', '90807'], 96212: ['Lakewood', 'Los Angeles County', '90712'], 96240: ['Long Beach', 'Los Angeles County', '90806'], 96247: ['Long Beach', 'Los Angeles County', '90815'], 96238: ['Long Beach', 'Los Angeles County', '90804'], 96207: ['Avalon', 'Los Angeles County', '90704'], 96122: ['Rancho Palos Verdes', 'Los Angeles County', '90275'], 96173: ['Whittier', 'Los Angeles County', '90605'], 96172: ['Whittier', 'Los Angeles County', '90604'], 96174: ['Whittier', 'Los Angeles County', '90606'], 96170: ['Whittier', 'Los Angeles County', '90602'], 96171: ['Whittier', 'Los Angeles County', '90603'], 96186: ['La Habra Heights', 'Los Angeles County', '90631'], 96505: ['Diamond Bar', 'Los Angeles County', '91765'], 96524: ['West Covina', 'Los Angeles County', '91791'], 96469: ['Claremont', 'Los Angeles County', '91711'], 96465: ['Irwindale', 'Los Angeles County', '91706'], 96474: ['Covina', 'Los Angeles County', '91723'], 96523: ['Covina', 'Los Angeles County', '91722'], 96270: ['Duarte', 'Los Angeles County', '91010'], 399675: ['Bradbury', 'Los Angeles County', '91008'], 96467: ['Chino Hills', 'Los Angeles County', '91709'], 96525: ['West Covina', 'Los Angeles County', '91792'], 97006: ['Santa Ana', 'Orange County', '92706'], 97001: ['Santa Ana', 'Orange County', '92701'], 97007: ['Santa Ana', 'Orange County', '92707'], 96966: ['Huntington Beach', 'Orange County', '92648'], 97043: ['Fullerton', 'Orange County', '92835'], 97039: ['Fullerton', 'Orange County', '92831'], 97041: ['Fullerton', 'Orange County', '92833'], 97024: ['Anaheim', 'Orange County', '92805'], 97020: ['Anaheim', 'Orange County', '92801'], 97021: ['Anaheim', 'Orange County', '92802'], 97066: ['Orange', 'Orange County', '92868'], 97064: ['Orange', 'Orange County', '92866'], 97065: ['Orange', 'Orange County', '92867'], 96981: ['Newport Beach', 'Orange County', '92663'], 96979: ['Newport Beach', 'Orange County', '92661'], 96980: ['Newport Beach', 'Orange County', '92662'], 96957: ['Newport Beach', 'Orange County', '92625'], 96969: ['Laguna Beach', 'Orange County', '92651'], 96982: ['San Clemente', 'Orange County', '92672'], 96181: ['Buena Park', 'Orange County', '90621'], 96180: ['Buena Park', 'Orange County', '90620'], 97025: ['Anaheim', 'Orange County', '92806'], 97026: ['Anaheim', 'Orange County', '92807'], 96225: ['Seal Beach', 'Orange County', '90740'], 97047: ['Garden Grove', 'Orange County', '92840'], 97005: ['Santa Ana', 'Orange County', '92705'], 97051: ['Garden Grove', 'Orange County', '92844'], 96973: ['Midway City', 'Orange County', '92655'], 97050: ['Garden Grove', 'Orange County', '92843'], 96986: ['Silverado', 'Orange County', '92676'], 96965: ['Huntington Beach', 'Orange County', '92647'], 97008: ['Fountain Valley', 'Orange County', '92708'], 97004: ['Santa Ana', 'Orange County', '92704'], 96964: ['Huntington Beach', 'Orange County', '92646'], 96985: ['San Juan Capistrano', 'Orange County', '92675'], 96956: ['Dana Point', 'Orange County', '92624'], 97052: ['Garden Grove', 'Orange County', '92845'], 97048: ['Garden Grove', 'Orange County', '92841'], 96185: ['Cypress', 'Orange County', '90630'], 96958: ['Costa Mesa', 'Orange County', '92626'], 96226: ['Huntington Beach', 'Orange County', '92649'], 96183: ['La Palma', 'Orange County', '90623'], 97035: ['Brea', 'Orange County', '92821'], 97078: ['Yorba Linda', 'Orange County', '92886'], 97079: ['Yorba Linda', 'Orange County', '92887'], 97027: ['Anaheim', 'Orange County', '92808'], 97063: ['Orange', 'Orange County', '92865'], 97059: ['Villa Park', 'Orange County', '92861'], 96943: ['Irvine', 'Orange County', '92606'], 96948: ['Irvine', 'Orange County', '92614'], 96941: ['Irvine', 'Orange County', '92604'], 96975: ['Newport Beach', 'Orange County', '92657'], 96940: ['Irvine', 'Orange County', '92603'], 97018: ['Tustin', 'Orange County', '92782'], 96939: ['Irvine', 'Orange County', '92602'], 96946: ['Lake Forest', 'Orange County', '92610'], 96989: ['Trabuco Canyon', 'Orange County', '92679'], 96971: ['Laguna Hills', 'Orange County', '92653'], 96995: ['Mission Viejo', 'Orange County', '92691'], 96974: ['Laguna Hills', 'Orange County', '92656'], 96987: ['Laguna Niguel', 'Orange County', '92677'], 96961: ['San Juan Capistrano', 'Orange County', '92675'], 96983: ['San Clemente', 'Orange County', '92673'], 96996: ['Mission Viejo', 'Orange County', '92692'], 96993: ['Rancho Santa Margarita', 'Orange County', '92688'], 96963: ['Laguna Woods', 'Orange County', '92637'], 95994: ['Los Angeles', 'Los Angeles County', '90013'], 95998: ['Los Angeles', 'Los Angeles County', '90017'], 96329: ['Glendale', 'Los Angeles County', '91204'], 96500: ['Mount Baldy', 'Los Angeles County', '91759'], 97177: ['Lebec', 'Los Angeles County', '93243'], 97111: ['Port Hueneme', 'Ventura County', '93041'], 96859: ['Wrightwood', 'Los Angeles County', '92397'], 97092: [None, 'Ventura County', None], 97336: ['Rosamond', 'Los Angeles County', '93560'], 97164: ['Frazier Park', 'Ventura County', '93225'], 97339: ['Valyermo', 'Los Angeles County', '93563'], 97088: ['Ventura', 'Ventura County', '93001'], 96988: ['Trabuco Canyon', 'Orange County', '92679'], 96068: ['Los Angeles', 'Los Angeles County', '90068'], 96114: ['Malibu', 'Los Angeles County', '90265'], 97185: ['Maricopa', 'Ventura County', '93252'], 96034: ['Los Angeles', 'Los Angeles County', '90272'], 96069: ['Los Angeles', 'Los Angeles County', '90089'], 96258: ['Long Beach', 'Los Angeles County', '90808'], 96953: ['Silverado', 'Orange County', '92676'], 96313: ['Pasadena', 'Los Angeles County', '91105'], 97096: ['Moorpark', 'Ventura County', '93021'], 96453: ['Los Angeles', 'Los Angeles County', '90068']}"
   ]
  },
  {
   "cell_type": "code",
   "execution_count": 68,
   "metadata": {
    "collapsed": true
   },
   "outputs": [],
   "source": [
    "regionidzip_actual_zip= pd.DataFrame.from_dict(region_zip_county,orient='index')"
   ]
  },
  {
   "cell_type": "code",
   "execution_count": 69,
   "metadata": {
    "collapsed": true
   },
   "outputs": [],
   "source": [
    "zillow_final = zillow_data_feature_removal.copy()"
   ]
  },
  {
   "cell_type": "code",
   "execution_count": 70,
   "metadata": {},
   "outputs": [],
   "source": [
    "# adding actual zip in the data set \n",
    "for i in range(zillow_final.shape[0]):\n",
    "    zillow_final.at[i,\"zipcode\"] = region_zip_county[zillow_final.iloc[i][\"regionidzip\"]][2]\n",
    "    "
   ]
  },
  {
   "cell_type": "code",
   "execution_count": 71,
   "metadata": {},
   "outputs": [
    {
     "name": "stderr",
     "output_type": "stream",
     "text": [
      "/Users/selinadeepkaur/anaconda/lib/python3.6/site-packages/bs4/__init__.py:181: UserWarning: No parser was explicitly specified, so I'm using the best available HTML parser for this system (\"lxml\"). This usually isn't a problem, but if you run this code on another system, or in a different virtual environment, it may use a different parser and behave differently.\n",
      "\n",
      "The code that caused this warning is on line 193 of the file /Users/selinadeepkaur/anaconda/lib/python3.6/runpy.py. To get rid of this warning, change code that looks like this:\n",
      "\n",
      " BeautifulSoup(YOUR_MARKUP})\n",
      "\n",
      "to this:\n",
      "\n",
      " BeautifulSoup(YOUR_MARKUP, \"lxml\")\n",
      "\n",
      "  markup_type=markup_type))\n"
     ]
    }
   ],
   "source": [
    "\n",
    "from bs4 import BeautifulSoup\n",
    "import requests\n",
    "\n",
    "zip_income = dict()\n",
    "for i in range(1,18):\n",
    "    web_url = \"http://zipatlas.com/us/ca/zip-code-comparison/average-income-per-person.\"+str(i)+\".htm\"\n",
    "    if i == 1:\n",
    "        web_url = \"http://zipatlas.com/us/ca/zip-code-comparison/average-income-per-person.htm\"\n",
    "    req = requests.get(web_url)\n",
    "    soup = BeautifulSoup(req.text)\n",
    "    zip_table = soup.find_all('table')[12]\n",
    "    zip_rows = zip_table.find_all(\"tr\")[1:]\n",
    "    for row in zip_rows:\n",
    "        col = [c.get_text() for c in row.find_all(\"td\")]\n",
    "        zip_income[int(col[1])] = float(col[5][1:].replace(\",\",\"\"))\n"
   ]
  },
  {
   "cell_type": "code",
   "execution_count": 72,
   "metadata": {},
   "outputs": [],
   "source": [
    "zillow_data_for_modeling = zillow_final.copy()\n"
   ]
  },
  {
   "cell_type": "code",
   "execution_count": 73,
   "metadata": {},
   "outputs": [],
   "source": [
    "region_zip_code_population = dict()\n",
    "zillow_data_for_modeling['zipcode']=zillow_data_for_modeling['zipcode'].fillna(zillow_data_for_modeling['zipcode'].median())\n",
    "for c in zillow_data_for_modeling[\"zipcode\"].unique():\n",
    "    region_zip_code_population[c] = census_2010_data.get_value(census_2010_data.loc[census_2010_data['Zip Code ZCTA'] == int(c)].index[0], '2010 Census Population' ) \n"
   ]
  },
  {
   "cell_type": "code",
   "execution_count": 74,
   "metadata": {
    "collapsed": true
   },
   "outputs": [],
   "source": [
    "region_county_tax_rates = {\"Orange County\":0.715, \"Los Angeles County\":0.793, \"Santa Barbara County\":0.698, \"San Bernardino County\":0.92, \"San Diego County\":0.781, \"Ventura County\":0.801}\n"
   ]
  },
  {
   "cell_type": "code",
   "execution_count": 75,
   "metadata": {
    "collapsed": true
   },
   "outputs": [],
   "source": [
    "population_median = np.median(np.array(list(region_zip_code_population.values())))\n",
    "income_median = np.median(np.array(list(zip_income.values())))\n",
    "missing_population = list()\n",
    "missing_income = list()"
   ]
  },
  {
   "cell_type": "code",
   "execution_count": 76,
   "metadata": {},
   "outputs": [],
   "source": [
    "#zillow_data_for_modeling = zillow_final.copy()\n",
    "\n",
    "\n",
    "for i in range(zillow_data_for_modeling.shape[0]):\n",
    "    try:\n",
    "        zillow_data_for_modeling.at[i, \"population\"] = region_zip_code_population[str(int(zillow_data_for_modeling.iloc[i][\"zipcode\"]))]\n",
    "    except:\n",
    "        missing_population.append(i)\n",
    "        zillow_data_for_modeling.at[i, \"population\"] = population_median\n",
    "        \n",
    "        \n",
    "    try:\n",
    "        zillow_data_for_modeling.at[i, \"income\"] = zip_income[int(zillow_data_for_modeling.iloc[i][\"zipcode\"])]\n",
    "    except:\n",
    "        missing_income.append(i)\n",
    "        zillow_data_for_modeling.at[i, \"income\"] = income_median\n",
    "        \n",
    "        \n",
    "    try:\n",
    "        zillow_data_for_modeling.at[i, \"price\"] = (zillow_data_for_modeling.iloc[i][\"taxamount\"]*100.0) / float(region_county_tax_rates[region_zip_county[int(zillow_data_for_modeling.iloc[i][\"regionidzip\"])][1]])\n",
    "    except:\n",
    "        print(\"price\",i)\n",
    "        break\n"
   ]
  },
  {
   "cell_type": "code",
   "execution_count": 77,
   "metadata": {
    "collapsed": true
   },
   "outputs": [],
   "source": [
    "zillow_df = zillow_data_for_modeling.copy()"
   ]
  },
  {
   "cell_type": "code",
   "execution_count": 78,
   "metadata": {
    "collapsed": true
   },
   "outputs": [],
   "source": [
    "del zillow_df['propertylandusetypeid']\n",
    "del zillow_df['regionidcity']\n",
    "del zillow_df['regionidcounty']\n",
    "del zillow_df['regionidzip']\n",
    "del zillow_df['taxvaluedollarcnt']\n",
    "del zillow_df['taxamount']\n"
   ]
  },
  {
   "cell_type": "code",
   "execution_count": 79,
   "metadata": {
    "collapsed": true
   },
   "outputs": [],
   "source": [
    "zillow_data_linear_reg_copy = zillow_data_for_modeling.copy()"
   ]
  },
  {
   "cell_type": "code",
   "execution_count": 80,
   "metadata": {
    "collapsed": true
   },
   "outputs": [],
   "source": [
    "del zillow_data_linear_reg_copy['propertylandusetypeid']\n",
    "del zillow_data_linear_reg_copy['regionidcity']\n",
    "del zillow_data_linear_reg_copy['regionidcounty']\n",
    "del zillow_data_linear_reg_copy['regionidzip']\n",
    "del zillow_data_linear_reg_copy['taxvaluedollarcnt']\n",
    "del zillow_data_linear_reg_copy['taxamount']\n",
    "del zillow_data_linear_reg_copy['zipcode']\n"
   ]
  },
  {
   "cell_type": "code",
   "execution_count": 81,
   "metadata": {
    "collapsed": true
   },
   "outputs": [],
   "source": [
    "zillow_data_min_max_normalized=zillow_data_linear_reg_copy.copy()"
   ]
  },
  {
   "cell_type": "code",
   "execution_count": 82,
   "metadata": {
    "collapsed": true
   },
   "outputs": [],
   "source": [
    "del zillow_data_min_max_normalized['parcelid']"
   ]
  },
  {
   "cell_type": "code",
   "execution_count": 83,
   "metadata": {},
   "outputs": [
    {
     "data": {
      "text/plain": [
       "bathroomcnt                     0\n",
       "bedroomcnt                      0\n",
       "calculatedfinishedsquarefeet    0\n",
       "latitude                        0\n",
       "longitude                       0\n",
       "lotsizesquarefeet               0\n",
       "yearbuilt                       0\n",
       "structuretaxvaluedollarcnt      0\n",
       "landtaxvaluedollarcnt           0\n",
       "population                      0\n",
       "income                          0\n",
       "price                           0\n",
       "dtype: int64"
      ]
     },
     "execution_count": 83,
     "metadata": {},
     "output_type": "execute_result"
    }
   ],
   "source": [
    "zillow_data_min_max_normalized.isnull().sum()"
   ]
  },
  {
   "cell_type": "code",
   "execution_count": 84,
   "metadata": {},
   "outputs": [
    {
     "name": "stdout",
     "output_type": "stream",
     "text": [
      "MinMaxScaler(copy=True, feature_range=(-100, 100))\n"
     ]
    }
   ],
   "source": [
    "from sklearn.preprocessing import MinMaxScaler\n",
    "scaler = MinMaxScaler(feature_range=(-100, 100))\n",
    "print(scaler.fit(zillow_data_min_max_normalized))"
   ]
  },
  {
   "cell_type": "code",
   "execution_count": 85,
   "metadata": {
    "collapsed": true
   },
   "outputs": [],
   "source": [
    "zillow_data_min_max_normalized=scaler.transform(zillow_data_min_max_normalized)"
   ]
  },
  {
   "cell_type": "code",
   "execution_count": 86,
   "metadata": {
    "collapsed": true
   },
   "outputs": [],
   "source": [
    "zillow_min_max_normalisedd_df=pd.DataFrame(zillow_data_min_max_normalized,columns=['bathroomcnt','bedroomcnt','calculatedfinishedsquarefeet','latitude','longitude','lotsizesquarefeet','yearbuilt', 'structuretaxvaluedollarcnt','landtaxvaluedollarcnt','price','population','income'])\n",
    "\n"
   ]
  },
  {
   "cell_type": "code",
   "execution_count": 87,
   "metadata": {
    "collapsed": true
   },
   "outputs": [],
   "source": [
    "zillow_min_max_normalisedd_df['parcelid']=zillow_data_linear_reg_copy['parcelid']"
   ]
  },
  {
   "cell_type": "code",
   "execution_count": 92,
   "metadata": {},
   "outputs": [],
   "source": [
    "zillow_train_data = pd.read_csv(\"train_2017.csv\", low_memory=False, parse_dates=[\"transactiondate\"]) \n",
    "zillow_test_data = pd.read_csv(\"sample_submission.csv\", low_memory=False)\n",
    "zillow_test_data = zillow_test_data.rename(columns={'ParcelId': 'parcelid'})"
   ]
  },
  {
   "cell_type": "code",
   "execution_count": 93,
   "metadata": {
    "collapsed": true
   },
   "outputs": [],
   "source": [
    "zillow_merged_train_data = zillow_train_data.merge(zillow_min_max_normalisedd_df, how='left', on='parcelid') "
   ]
  },
  {
   "cell_type": "markdown",
   "metadata": {},
   "source": [
    "-----------------------------------------RUNNING THE LINEAR REGRESSOR-------------------------------------------------"
   ]
  },
  {
   "cell_type": "code",
   "execution_count": 94,
   "metadata": {},
   "outputs": [
    {
     "name": "stdout",
     "output_type": "stream",
     "text": [
      "Coefficients (a,b,c,..) :  [('bathroomcnt', 0.00050359400190837591), ('bedroomcnt', 0.0004330703110516029), ('calculatedfinishedsquarefeet', 0.02069702407004927), ('latitude', -6.159232132826192e-05), ('longitude', 4.3341020751557066e-05), ('lotsizesquarefeet', 0.048224056168063384), ('yearbuilt', -1.9222475652516045e-05), ('structuretaxvaluedollarcnt', 0.013918708250375137), ('landtaxvaluedollarcnt', 0.0024006390455005482), ('price', -1.6995640936476319e-05), ('population', -6.8760094843897668e-05), ('income', -0.013858687996860127)]\n",
      "Mean squared error: 0.02637\n",
      "Variance : 0.00038\n"
     ]
    }
   ],
   "source": [
    "from sklearn.model_selection import train_test_split\n",
    "from sklearn.metrics import mean_squared_error, r2_score\n",
    "from sklearn.linear_model import LinearRegression\n",
    "\n",
    "zillow_train_Y = zillow_merged_train_data[\"logerror\"].values\n",
    "zillow_train_X = zillow_merged_train_data.copy()\n",
    "del zillow_train_X[\"logerror\"]\n",
    "del zillow_train_X[\"parcelid\"]\n",
    "del zillow_train_X[\"transactiondate\"]\n",
    "\n",
    "# Spliting the dataset into train and test data\n",
    "linear_reg_train_X, linear_reg_test_X , linear_reg_train_Y, linear_reg_test_Y = train_test_split(zillow_train_X, zillow_train_Y, test_size=0.2, random_state=23)\n",
    "\n",
    "# Linear Regression model initialization (basic)\n",
    "zillow_linear_regression = LinearRegression()\n",
    "\n",
    "# Training the Linear Regression Model\n",
    "zillow_linear_regression.fit(linear_reg_train_X, linear_reg_train_Y)\n",
    "\n",
    "# Using the model to predict the test dataset\n",
    "linear_reg_predicted_Y = zillow_linear_regression.predict(linear_reg_test_X)\n",
    "final_columns = zillow_train_X.columns\n",
    "# The coefficients of the linear equation aX1 + bX2 + cX3 + ... = Y\n",
    "print('Coefficients (a,b,c,..) : ', [(x,y) for x,y in zip(final_columns,zillow_linear_regression.coef_)])\n",
    "\n",
    "# The mean squared error of the linear regression model's predictions\n",
    "print(\"Mean squared error: %.5f\" % mean_squared_error(linear_reg_test_Y, linear_reg_predicted_Y))\n",
    "\n",
    "# Variance of the prediction\n",
    "print('Variance : %.5f' % r2_score(linear_reg_test_Y, linear_reg_predicted_Y))"
   ]
  },
  {
   "cell_type": "code",
   "execution_count": 95,
   "metadata": {
    "collapsed": true
   },
   "outputs": [],
   "source": [
    "zillow_test_data = zillow_test_data.merge(zillow_min_max_normalisedd_df, how='left', on='parcelid') "
   ]
  },
  {
   "cell_type": "code",
   "execution_count": 96,
   "metadata": {
    "collapsed": true
   },
   "outputs": [],
   "source": [
    "zillow_test_data = zillow_test_data[list(zillow_train_X.columns)]"
   ]
  },
  {
   "cell_type": "code",
   "execution_count": 97,
   "metadata": {
    "collapsed": true
   },
   "outputs": [],
   "source": [
    "zillow_test_predicted = zillow_linear_regression.predict(zillow_test_data)\n"
   ]
  },
  {
   "cell_type": "code",
   "execution_count": 98,
   "metadata": {
    "collapsed": true
   },
   "outputs": [],
   "source": [
    "submission_file = pd.read_csv('sample_submission.csv') "
   ]
  },
  {
   "cell_type": "code",
   "execution_count": 99,
   "metadata": {},
   "outputs": [],
   "source": [
    "for cols in submission_file.columns[submission_file.columns != 'ParcelId']:\n",
    "    submission_file[cols] = zillow_test_predicted\n",
    "submission_file.to_csv('lr_2017_results.csv', index=False, float_format='%.6f')"
   ]
  },
  {
   "cell_type": "markdown",
   "metadata": {},
   "source": [
    "----------------------------------------------RUNNING XGBOOST REGRESSOR-----------------------------------------------"
   ]
  },
  {
   "cell_type": "code",
   "execution_count": 106,
   "metadata": {},
   "outputs": [
    {
     "name": "stdout",
     "output_type": "stream",
     "text": [
      "Mean absolute error: 0.070771894415\n",
      "Mean squared error: 0.02744\n",
      "Variance : -0.00100\n"
     ]
    }
   ],
   "source": [
    "train, test = train_test_split(zillow_merged_train_data, test_size=0.2)\n",
    "from xgboost import XGBRegressor\n",
    "from sklearn.metrics import mean_squared_error, r2_score, mean_absolute_error\n",
    "\n",
    "feature_names=['bathroomcnt','bedroomcnt','calculatedfinishedsquarefeet','latitude','longitude','lotsizesquarefeet','yearbuilt','structuretaxvaluedollarcnt','landtaxvaluedollarcnt',\n",
    "              'price','population','income']\n",
    "X_train_XGB = pd.DataFrame(data=train, columns=feature_names)\n",
    "Y_train_XGB = pd.DataFrame(train, columns=[\"logerror\"])\n",
    "x_test_XGB = pd.DataFrame(data=test, columns=feature_names)\n",
    "y_test_XGB = pd.DataFrame(test, columns=[\"logerror\"])\n",
    "model_XGB = XGBRegressor()\n",
    "model_XGB.fit(X_train_XGB,Y_train_XGB)\n",
    "y_pred_XGB = model_XGB.predict(x_test_XGB)\n",
    "print(\"Mean absolute error: %.12f\"\n",
    "      % mean_absolute_error(y_test_XGB, y_pred_XGB))\n",
    "#The mean squared error of the linear regression model's predictions\n",
    "print(\"Mean squared error: %.5f\" % mean_squared_error(y_test_XGB, y_pred_XGB))\n",
    "\n",
    "# Variance of the prediction\n",
    "print('Variance : %.5f' % r2_score(y_test_XGB, y_pred_XGB))"
   ]
  },
  {
   "cell_type": "code",
   "execution_count": 112,
   "metadata": {},
   "outputs": [],
   "source": [
    "# -------------------------------Predicting the logerror with xg boost-------------------------------------------\n",
    "zillow_test_predicted = model_XGB.predict(zillow_test_data)\n",
    "#  creating submission.csv with xgboost\n",
    "xgb_submit_data = pd.DataFrame({'ParcelId': zillow_properties_data_2017['parcelid'],\n",
    "                     '201710':pd.Series(zillow_test_predicted),\n",
    "                     '201711': pd.Series(zillow_test_predicted),\n",
    "                     '201712':pd.Series(zillow_test_predicted)})\n",
    "xgb_submit_data = xgb_submit_data[['ParcelId', '201710','201711','201712']]\n",
    "xgb_submit_data.to_csv(\"xgb_submit_2017.csv\", index=False, float_format='%.5f')"
   ]
  },
  {
   "cell_type": "markdown",
   "metadata": {},
   "source": [
    "--------------------------------Slicing the data for the permutation test---------------------------------------------"
   ]
  },
  {
   "cell_type": "code",
   "execution_count": 108,
   "metadata": {
    "collapsed": true
   },
   "outputs": [],
   "source": [
    "modTrainData = zillow_train_data.copy(deep=True)\n",
    "modTrainData = modTrainData.drop('transactiondate', axis=1)\n",
    "modTrainData = modTrainData.drop('parcelid', axis=1)\n"
   ]
  },
  {
   "cell_type": "code",
   "execution_count": 124,
   "metadata": {
    "collapsed": true
   },
   "outputs": [],
   "source": [
    "slice_untempered_data = zillow_train_data.copy(deep=True)\n",
    "slice_untempered_data = slice_untempered_data.drop('transactiondate', axis=1)\n",
    "slice_untempered_data = slice_untempered_data.loc[20000:30000]"
   ]
  },
  {
   "cell_type": "markdown",
   "metadata": {},
   "source": [
    "sliced_data = modTrainData.loc[20000:30000]\n",
    "sliced_data"
   ]
  },
  {
   "cell_type": "code",
   "execution_count": 121,
   "metadata": {},
   "outputs": [
    {
     "name": "stdout",
     "output_type": "stream",
     "text": [
      "Mean absolute error: 0.071321131102\n"
     ]
    }
   ],
   "source": [
    "mergeTrainDataShuffled = pd.merge(slice_untempered_data,zillow_min_max_normalisedd_df,on='parcelid')\n",
    "train, test = train_test_split(mergeTrainDataShuffled, test_size=0.2)\n",
    "from xgboost import XGBRegressor\n",
    "feature_names=['bathroomcnt','bedroomcnt','calculatedfinishedsquarefeet','latitude','longitude','lotsizesquarefeet','yearbuilt','structuretaxvaluedollarcnt','taxvaluedollarcnt','landtaxvaluedollarcnt',\n",
    "          'price','population','income']\n",
    "X_train_XGB = pd.DataFrame(data=train, columns=feature_names)\n",
    "Y_train_XGB = pd.DataFrame(train, columns=[\"logerror\"])\n",
    "x_test_XGB = pd.DataFrame(data=test, columns=feature_names)\n",
    "y_test_XGB = pd.DataFrame(test, columns=[\"logerror\"])\n",
    "model = XGBRegressor()\n",
    "model.fit(X_train_XGB,Y_train_XGB)\n",
    "y_pred_XGB = model.predict(x_test_XGB)\n",
    "print(\"Mean absolute error: %.12f\"\n",
    "      % mean_absolute_error(y_test_XGB, y_pred_XGB))\n",
    "\n"
   ]
  },
  {
   "cell_type": "markdown",
   "metadata": {},
   "source": [
    "----------------------------------------------------QUESTION 6--------------------------------------------------------"
   ]
  },
  {
   "cell_type": "code",
   "execution_count": 115,
   "metadata": {},
   "outputs": [
    {
     "name": "stdout",
     "output_type": "stream",
     "text": [
      "[0.074399945720045657, 0.07114478758470559, 0.075231922650301319, 0.070537461507450841, 0.075681855961515776, 0.071338827992884199, 0.076203565067100507, 0.070199251773826465, 0.070846689624579379, 0.070342992842525792, 0.073522554019850389, 0.074352003668305772, 0.070458901431952492, 0.070179892400682994, 0.079288412232560002, 0.072809215296437163, 0.069420885241279942, 0.074419936299865819, 0.069958633030916442, 0.068521616442943425, 0.078352986334584512, 0.075656769611995495, 0.070174851611125494, 0.076258700172694677, 0.075695530045649842, 0.070744740234885306, 0.07230741599211625, 0.075803017171356193, 0.07217635479409204, 0.074676829379139983, 0.073288571090336083, 0.076312779414404716, 0.074451329507226327, 0.073525069699003909, 0.081048243659112465, 0.076686335251366464, 0.08299683608312676, 0.076306907333476476, 0.069400096789667631, 0.078539596725159033, 0.07738437844112904, 0.073881895673322234, 0.075155970827557719, 0.072283108510339658, 0.068548091929266225, 0.074724541749280324, 0.080579802767541897, 0.071417696539686562, 0.073092662535772263, 0.072557631897829711, 0.070444560222835254, 0.074535711078188877, 0.073472791705981116, 0.076324183762393819, 0.069593290267935676, 0.074119466863377323, 0.073758206375081986, 0.071726241713715402, 0.077321168586071604, 0.072163520320548402, 0.073417685734120636, 0.074772661164199047, 0.073880847414124942, 0.073545030286847904, 0.075875264613743013, 0.075888573642929183, 0.073285027003062192, 0.070286910932234659, 0.072818403623356273, 0.069382857803030495, 0.072668440703797813, 0.069573115401235494, 0.082971187906341559, 0.071628966787319573, 0.0765763492647797, 0.067615348219682278, 0.074564746883907837, 0.064788556447837972, 0.073668289447444829, 0.073752649582544655, 0.076620709820401631, 0.076164314911256373, 0.073259101241705454, 0.074663115899127858, 0.07837617609578916, 0.076861773170346814, 0.067841962226534866, 0.076033998425079061, 0.071104028277266793, 0.069811573711372629, 0.079505041772404833, 0.074999086847470253, 0.077006134521332328, 0.07000444757436125, 0.074335476456531976, 0.078844623718081333, 0.072718655681243666, 0.078036681850698772, 0.070698780063038383, 0.070022628804789835, 0.072096077693921901, 0.072011321237750087, 0.076983812446229691, 0.071513640259615111, 0.069130496017903748, 0.072397178868111284, 0.076591362187802672, 0.071722191246278821, 0.069057274045432382, 0.073015852806405712, 0.069408246455470834, 0.077732983502670647, 0.079172007858198862, 0.067625517735324422, 0.07540119494260715, 0.075028710640000218, 0.068086185914399647, 0.073068285228056432, 0.071922014754731492, 0.072948748458865842, 0.071774060691624689, 0.079884985998343594, 0.076626488334442577, 0.07748894170846829, 0.072431996576211383, 0.070800305209427039, 0.072420413673346951, 0.073722233389388575, 0.078876331655032716, 0.079838381319797772, 0.073835274620399585, 0.072105979472158827, 0.072489892038053977, 0.076937286352433326, 0.06931952224690005, 0.07473453048561618, 0.073554426809838841, 0.075088424549926092, 0.072849774014850432, 0.071335806991876707, 0.069582554159229773, 0.07946606619224994, 0.077901340865021096, 0.0816580550025955, 0.081292617197778957, 0.075385415197563421, 0.070285759076507123, 0.075206272542101757, 0.078126635614354303, 0.075705598924647843, 0.075282520463617081, 0.075850928899402245, 0.071359797605331302, 0.070715042614193757, 0.076684622083614165, 0.075636673880978722, 0.076529652328363271, 0.070239785456669881, 0.075524833302965999, 0.077353580474312164, 0.071185428964523415, 0.073657403791348663, 0.073737416849702989, 0.078254111838890306, 0.075879293635186543, 0.075026474478885469, 0.070572873941681075, 0.07691479699261812, 0.076438913208203063, 0.079642930961004901, 0.074484393800701848, 0.07504508290277434, 0.071584529846447406, 0.077175789521124083, 0.070836630682561907, 0.07455165073923789, 0.072498118831563096, 0.076280409102317426, 0.07511923428205719, 0.070292126844617109, 0.074888404320052768, 0.072886419037998723, 0.075547563826717692, 0.075185465134938539, 0.080439267373584505, 0.07308360844031829, 0.074667914450527395, 0.076583971246040966, 0.074209139092730636, 0.072041350113563662, 0.074018778464750773, 0.073282181110996047, 0.071362297842129246, 0.071768228576169268, 0.071234391398046257, 0.078464652696420042, 0.08006254751893431, 0.077174411831043122, 0.074976369466686982, 0.072377310570761785, 0.082511797305694703, 0.073493908649552533, 0.074895313928833251, 0.071479528420188579, 0.0752261715074488, 0.072791113087946405, 0.0765684373384794, 0.07274022492655946, 0.070435706097709647, 0.076113626782372032, 0.074783118490308317, 0.076590272817640637, 0.069345096423508432, 0.073416786120296187, 0.079270037800275833, 0.076781262092173314, 0.074113012105491302, 0.070940179182428592, 0.070286004950258732, 0.070346053924286778, 0.076993201337434342, 0.078985473900561473, 0.076044029187401788, 0.070015443063747629, 0.071625155058641879, 0.075693033740121582, 0.076775208778410195, 0.070260985013186006, 0.07568558635825251, 0.077263945025634301, 0.071698801523762179, 0.0789435352036396, 0.080460756024217414, 0.070268719089305112, 0.072389997737561149, 0.074299669466758853, 0.07101090090252539, 0.078853080681277374, 0.072359965173042384, 0.075861986323427041, 0.0750547064013979, 0.071780052040139791, 0.071922658517352384, 0.072866602266501462, 0.071574848444801095, 0.070071085471801381, 0.073452520166779556, 0.074162738221674379, 0.072733602129133934, 0.078919745090532567, 0.077116382979660253, 0.074220406981409748, 0.079376996120020082, 0.076191214766289053, 0.069103531050470623, 0.077474727294678553, 0.07850050365000133, 0.071722577713811478, 0.071214218597994733, 0.073267158237436167, 0.071699115525583446, 0.070911309348025919, 0.069360924610658931, 0.075695609549065165, 0.073256667519283253, 0.071687164088135677, 0.07448714996436237, 0.079328230513595818, 0.075338951609294949, 0.075987302284935651, 0.074403536793981762, 0.077582580370667009, 0.071413117905512011, 0.079654294282453589, 0.073703344557316849, 0.078001154340269718, 0.082971654457161412, 0.077045017392251045, 0.078219876419228673, 0.072568074817993725, 0.082561525662253499, 0.068948057863105733, 0.074021794077119674, 0.070187236264938252, 0.072716169293099986, 0.072746320515839319, 0.073188734832317956, 0.075307619250314886, 0.07625089236944356, 0.068875574536334458, 0.076362792896351922, 0.076792917356497334, 0.069784188869045777, 0.075492884124425022, 0.077199477675331016, 0.073049472208209398, 0.073489994323225227, 0.071285339176644757, 0.073850369652938549, 0.073733391536811174, 0.080334041085310878, 0.073822822135558394, 0.075211505282108071, 0.075396609238503803, 0.075880766099333127, 0.074350175730688098, 0.079315472538256701, 0.072055120827721447, 0.074053091759890569, 0.076751865069002986, 0.071685445010933713, 0.075669319389652087, 0.071754013318311105, 0.075403420486135311, 0.067874861477151521, 0.07325196787004519, 0.076516406717401064, 0.078765218158733677, 0.07686987349495765, 0.078366457556607497, 0.071619827647551329, 0.075802772058896253, 0.074684962641073036, 0.074618468330305915, 0.075158356984878522, 0.075146136671612837, 0.077121065424881965, 0.079158753714060739, 0.072342585869762027, 0.075797534439726685, 0.075171309678289944, 0.073810398319641771, 0.071760763062749353, 0.077381450951901604, 0.075188780856584883, 0.071192225884579366, 0.076160144697706281, 0.077946653522751361, 0.080440197451125531, 0.071122109939527847, 0.076208971962624106, 0.073773430246740213, 0.075926972251035993, 0.078742568832926144, 0.073650776997215187, 0.073265725460842049, 0.077724795727493634, 0.068775226497638411, 0.069044087637473661, 0.076380618903293604, 0.077329455924237678, 0.071842871169493963, 0.073058439521894919, 0.075042921556542158, 0.07133767505980336, 0.077059349586236323, 0.077636777298680459, 0.074913463834112376, 0.076559449306419655, 0.07963389555544402, 0.070598701587917298, 0.070283071178950732, 0.072248776308601645, 0.0725232895544482, 0.074493672169699598, 0.070583729033078843, 0.076787903591641907, 0.077103203905061632, 0.070234655605539639, 0.075605468053443828, 0.070471213939908295, 0.073891712916806199, 0.073940060731731191, 0.076321566382278647, 0.083193736772066734, 0.075102794990349234, 0.072272049805183647, 0.0733896567334483, 0.07519581328024523, 0.075857734000290528, 0.075761169203746384, 0.067734754264492728, 0.075747055720651546, 0.080194999239344034, 0.074138944759028977, 0.073246418328378624, 0.075577862164678683, 0.06869380825032366, 0.069380890905270581, 0.07194242512073025, 0.075518921595903149, 0.070305533654189484, 0.074703758872824738, 0.072268479493909188, 0.072027421027467883, 0.075514112277872636, 0.076134618944646737, 0.073509378664867175, 0.07855137536048902, 0.074231079330807748, 0.070944208180125326, 0.072549053674373198, 0.077423282385526773, 0.076370026447415432, 0.07563678305058967, 0.077610223024936198, 0.072156098964054338, 0.073699387433365834, 0.069289601528702796, 0.074749065182260627, 0.080333650978069063, 0.06753942774753996, 0.075845985892560752, 0.071212760827197435, 0.071028478446083024, 0.074864258593220212, 0.073045544527192072, 0.069612825579167426, 0.073105454045454335, 0.07667813260235036, 0.075987897539009336, 0.072879966249409775, 0.068714763999640868, 0.071030168031143495, 0.075918100430904467, 0.075605692685269191, 0.071869851296611678, 0.072463426723817503, 0.071571914182527077, 0.07826730744271089, 0.071318087944924391, 0.076467812729667572, 0.077538467991280946, 0.079542079247713379, 0.075972561215609843, 0.07256183497943948, 0.076951438999411162, 0.079276175992954515, 0.080703627452238705, 0.079753837962901891, 0.071821188055248661, 0.073930453094620263, 0.072126141656722251, 0.06992513288918363, 0.068584687930056606, 0.072138664771430494, 0.072220869798796605, 0.072891980191605046, 0.074142208147310262, 0.070876985830552228, 0.071570181794722756, 0.079472015506816054, 0.075949231959579339, 0.070444412221677924, 0.070919100832506826, 0.075965565677282396, 0.082054446156293606, 0.077788170415135194, 0.071106951405230628, 0.071376872456267448, 0.07079733361525864, 0.069647259422878305, 0.069232371503791967, 0.074384738956092378, 0.075326264687784833, 0.073636204425476096, 0.070066794639025626, 0.077254564950848675, 0.072788841180990813, 0.071129889802856727, 0.074653800837905349, 0.072301378266802094, 0.077004032160679123, 0.074599461192291702, 0.077769455141895164, 0.078899556851676086, 0.081154919912166709, 0.069916156556076858, 0.073190911521420501, 0.07130507833120435, 0.074360329444850992, 0.076471122668386085, 0.073364641772996939, 0.073194089654208275, 0.068656771872549802, 0.070805016946519556, 0.075207358687258363, 0.071762571969604852, 0.074977781954402328, 0.072039836899246201, 0.074619145870000028, 0.069044787498327292, 0.069189662165129159, 0.07463103655037423, 0.071496311513834246, 0.072476014678963224, 0.072559425976722269, 0.068167221946274115, 0.071609895387153025, 0.076251378643498971]\n"
     ]
    }
   ],
   "source": [
    "m_a_errors = []\n",
    "for i in range(500):\n",
    "    sliced_data = sliced_data.sample(frac=1)\n",
    "    sliced_data.reset_index(inplace=True, drop=True)\n",
    "    sliced_data['parcelid'] = zillow_train_data['parcelid']\n",
    "    mergeTrainDataShuffled = pd.merge(sliced_data,zillow_min_max_normalisedd_df,on='parcelid')\n",
    "    train, test = train_test_split(mergeTrainDataShuffled, test_size=0.2)\n",
    "    from xgboost import XGBRegressor\n",
    "    feature_names=['bathroomcnt','bedroomcnt','calculatedfinishedsquarefeet','latitude','longitude','lotsizesquarefeet','yearbuilt','structuretaxvaluedollarcnt','taxvaluedollarcnt','landtaxvaluedollarcnt',\n",
    "              'price','population','income']\n",
    "    X_train_XGB = pd.DataFrame(data=train, columns=feature_names)\n",
    "    Y_train_XGB = pd.DataFrame(train, columns=[\"logerror\"])\n",
    "    x_test_XGB = pd.DataFrame(data=test, columns=feature_names)\n",
    "    y_test_XGB = pd.DataFrame(test, columns=[\"logerror\"])\n",
    "    model = XGBRegressor()\n",
    "    model.fit(X_train_XGB,Y_train_XGB)\n",
    "    y_pred_XGB = model.predict(x_test_XGB)\n",
    "    m_a_errors.append(mean_absolute_error(y_test_XGB, y_pred_XGB))\n",
    "    #print(\"Mean absolute error: %.12f\"\n",
    "    #      % mean_absolute_error(y_test_XGB, y_pred_XGB))\n",
    "\n",
    "print(m_a_errors)"
   ]
  },
  {
   "cell_type": "code",
   "execution_count": 116,
   "metadata": {
    "scrolled": true
   },
   "outputs": [
    {
     "data": {
      "text/plain": [
       "[0.064788556447837972,\n",
       " 0.06753942774753996,\n",
       " 0.067615348219682278,\n",
       " 0.067625517735324422,\n",
       " 0.067734754264492728,\n",
       " 0.067841962226534866,\n",
       " 0.067874861477151521,\n",
       " 0.068086185914399647,\n",
       " 0.068167221946274115,\n",
       " 0.068521616442943425,\n",
       " 0.068548091929266225,\n",
       " 0.068584687930056606,\n",
       " 0.068656771872549802,\n",
       " 0.06869380825032366,\n",
       " 0.068714763999640868,\n",
       " 0.068775226497638411,\n",
       " 0.068875574536334458,\n",
       " 0.068948057863105733,\n",
       " 0.069044087637473661,\n",
       " 0.069044787498327292,\n",
       " 0.069057274045432382,\n",
       " 0.069103531050470623,\n",
       " 0.069130496017903748,\n",
       " 0.069189662165129159,\n",
       " 0.069232371503791967,\n",
       " 0.069289601528702796,\n",
       " 0.06931952224690005,\n",
       " 0.069345096423508432,\n",
       " 0.069360924610658931,\n",
       " 0.069380890905270581,\n",
       " 0.069382857803030495,\n",
       " 0.069400096789667631,\n",
       " 0.069408246455470834,\n",
       " 0.069420885241279942,\n",
       " 0.069573115401235494,\n",
       " 0.069582554159229773,\n",
       " 0.069593290267935676,\n",
       " 0.069612825579167426,\n",
       " 0.069647259422878305,\n",
       " 0.069784188869045777,\n",
       " 0.069811573711372629,\n",
       " 0.069916156556076858,\n",
       " 0.06992513288918363,\n",
       " 0.069958633030916442,\n",
       " 0.07000444757436125,\n",
       " 0.070015443063747629,\n",
       " 0.070022628804789835,\n",
       " 0.070066794639025626,\n",
       " 0.070071085471801381,\n",
       " 0.070174851611125494,\n",
       " 0.070179892400682994,\n",
       " 0.070187236264938252,\n",
       " 0.070199251773826465,\n",
       " 0.070234655605539639,\n",
       " 0.070239785456669881,\n",
       " 0.070260985013186006,\n",
       " 0.070268719089305112,\n",
       " 0.070283071178950732,\n",
       " 0.070285759076507123,\n",
       " 0.070286004950258732,\n",
       " 0.070286910932234659,\n",
       " 0.070292126844617109,\n",
       " 0.070305533654189484,\n",
       " 0.070342992842525792,\n",
       " 0.070346053924286778,\n",
       " 0.070435706097709647,\n",
       " 0.070444412221677924,\n",
       " 0.070444560222835254,\n",
       " 0.070458901431952492,\n",
       " 0.070471213939908295,\n",
       " 0.070537461507450841,\n",
       " 0.070572873941681075,\n",
       " 0.070583729033078843,\n",
       " 0.070598701587917298,\n",
       " 0.070698780063038383,\n",
       " 0.070715042614193757,\n",
       " 0.070744740234885306,\n",
       " 0.07079733361525864,\n",
       " 0.070800305209427039,\n",
       " 0.070805016946519556,\n",
       " 0.070836630682561907,\n",
       " 0.070846689624579379,\n",
       " 0.070876985830552228,\n",
       " 0.070911309348025919,\n",
       " 0.070919100832506826,\n",
       " 0.070940179182428592,\n",
       " 0.070944208180125326,\n",
       " 0.07101090090252539,\n",
       " 0.071028478446083024,\n",
       " 0.071030168031143495,\n",
       " 0.071104028277266793,\n",
       " 0.071106951405230628,\n",
       " 0.071122109939527847,\n",
       " 0.071129889802856727,\n",
       " 0.07114478758470559,\n",
       " 0.071185428964523415,\n",
       " 0.071192225884579366,\n",
       " 0.071212760827197435,\n",
       " 0.071214218597994733,\n",
       " 0.071234391398046257,\n",
       " 0.071285339176644757,\n",
       " 0.07130507833120435,\n",
       " 0.071318087944924391,\n",
       " 0.071335806991876707,\n",
       " 0.07133767505980336,\n",
       " 0.071338827992884199,\n",
       " 0.071359797605331302,\n",
       " 0.071362297842129246,\n",
       " 0.071376872456267448,\n",
       " 0.071413117905512011,\n",
       " 0.071417696539686562,\n",
       " 0.071479528420188579,\n",
       " 0.071496311513834246,\n",
       " 0.071513640259615111,\n",
       " 0.071570181794722756,\n",
       " 0.071571914182527077,\n",
       " 0.071574848444801095,\n",
       " 0.071584529846447406,\n",
       " 0.071609895387153025,\n",
       " 0.071619827647551329,\n",
       " 0.071625155058641879,\n",
       " 0.071628966787319573,\n",
       " 0.071685445010933713,\n",
       " 0.071687164088135677,\n",
       " 0.071698801523762179,\n",
       " 0.071699115525583446,\n",
       " 0.071722191246278821,\n",
       " 0.071722577713811478,\n",
       " 0.071726241713715402,\n",
       " 0.071754013318311105,\n",
       " 0.071760763062749353,\n",
       " 0.071762571969604852,\n",
       " 0.071768228576169268,\n",
       " 0.071774060691624689,\n",
       " 0.071780052040139791,\n",
       " 0.071821188055248661,\n",
       " 0.071842871169493963,\n",
       " 0.071869851296611678,\n",
       " 0.071922014754731492,\n",
       " 0.071922658517352384,\n",
       " 0.07194242512073025,\n",
       " 0.072011321237750087,\n",
       " 0.072027421027467883,\n",
       " 0.072039836899246201,\n",
       " 0.072041350113563662,\n",
       " 0.072055120827721447,\n",
       " 0.072096077693921901,\n",
       " 0.072105979472158827,\n",
       " 0.072126141656722251,\n",
       " 0.072138664771430494,\n",
       " 0.072156098964054338,\n",
       " 0.072163520320548402,\n",
       " 0.07217635479409204,\n",
       " 0.072220869798796605,\n",
       " 0.072248776308601645,\n",
       " 0.072268479493909188,\n",
       " 0.072272049805183647,\n",
       " 0.072283108510339658,\n",
       " 0.072301378266802094,\n",
       " 0.07230741599211625,\n",
       " 0.072342585869762027,\n",
       " 0.072359965173042384,\n",
       " 0.072377310570761785,\n",
       " 0.072389997737561149,\n",
       " 0.072397178868111284,\n",
       " 0.072420413673346951,\n",
       " 0.072431996576211383,\n",
       " 0.072463426723817503,\n",
       " 0.072476014678963224,\n",
       " 0.072489892038053977,\n",
       " 0.072498118831563096,\n",
       " 0.0725232895544482,\n",
       " 0.072549053674373198,\n",
       " 0.072557631897829711,\n",
       " 0.072559425976722269,\n",
       " 0.07256183497943948,\n",
       " 0.072568074817993725,\n",
       " 0.072668440703797813,\n",
       " 0.072716169293099986,\n",
       " 0.072718655681243666,\n",
       " 0.072733602129133934,\n",
       " 0.07274022492655946,\n",
       " 0.072746320515839319,\n",
       " 0.072788841180990813,\n",
       " 0.072791113087946405,\n",
       " 0.072809215296437163,\n",
       " 0.072818403623356273,\n",
       " 0.072849774014850432,\n",
       " 0.072866602266501462,\n",
       " 0.072879966249409775,\n",
       " 0.072886419037998723,\n",
       " 0.072891980191605046,\n",
       " 0.072948748458865842,\n",
       " 0.073015852806405712,\n",
       " 0.073045544527192072,\n",
       " 0.073049472208209398,\n",
       " 0.073058439521894919,\n",
       " 0.073068285228056432,\n",
       " 0.07308360844031829,\n",
       " 0.073092662535772263,\n",
       " 0.073105454045454335,\n",
       " 0.073188734832317956,\n",
       " 0.073190911521420501,\n",
       " 0.073194089654208275,\n",
       " 0.073246418328378624,\n",
       " 0.07325196787004519,\n",
       " 0.073256667519283253,\n",
       " 0.073259101241705454,\n",
       " 0.073265725460842049,\n",
       " 0.073267158237436167,\n",
       " 0.073282181110996047,\n",
       " 0.073285027003062192,\n",
       " 0.073288571090336083,\n",
       " 0.073364641772996939,\n",
       " 0.0733896567334483,\n",
       " 0.073416786120296187,\n",
       " 0.073417685734120636,\n",
       " 0.073452520166779556,\n",
       " 0.073472791705981116,\n",
       " 0.073489994323225227,\n",
       " 0.073493908649552533,\n",
       " 0.073509378664867175,\n",
       " 0.073522554019850389,\n",
       " 0.073525069699003909,\n",
       " 0.073545030286847904,\n",
       " 0.073554426809838841,\n",
       " 0.073636204425476096,\n",
       " 0.073650776997215187,\n",
       " 0.073657403791348663,\n",
       " 0.073668289447444829,\n",
       " 0.073699387433365834,\n",
       " 0.073703344557316849,\n",
       " 0.073722233389388575,\n",
       " 0.073733391536811174,\n",
       " 0.073737416849702989,\n",
       " 0.073752649582544655,\n",
       " 0.073758206375081986,\n",
       " 0.073773430246740213,\n",
       " 0.073810398319641771,\n",
       " 0.073822822135558394,\n",
       " 0.073835274620399585,\n",
       " 0.073850369652938549,\n",
       " 0.073880847414124942,\n",
       " 0.073881895673322234,\n",
       " 0.073891712916806199,\n",
       " 0.073930453094620263,\n",
       " 0.073940060731731191,\n",
       " 0.074018778464750773,\n",
       " 0.074021794077119674,\n",
       " 0.074053091759890569,\n",
       " 0.074113012105491302,\n",
       " 0.074119466863377323,\n",
       " 0.074138944759028977,\n",
       " 0.074142208147310262,\n",
       " 0.074162738221674379,\n",
       " 0.074209139092730636,\n",
       " 0.074220406981409748,\n",
       " 0.074231079330807748,\n",
       " 0.074299669466758853,\n",
       " 0.074335476456531976,\n",
       " 0.074350175730688098,\n",
       " 0.074352003668305772,\n",
       " 0.074360329444850992,\n",
       " 0.074384738956092378,\n",
       " 0.074399945720045657,\n",
       " 0.074403536793981762,\n",
       " 0.074419936299865819,\n",
       " 0.074451329507226327,\n",
       " 0.074484393800701848,\n",
       " 0.07448714996436237,\n",
       " 0.074493672169699598,\n",
       " 0.074535711078188877,\n",
       " 0.07455165073923789,\n",
       " 0.074564746883907837,\n",
       " 0.074599461192291702,\n",
       " 0.074618468330305915,\n",
       " 0.074619145870000028,\n",
       " 0.07463103655037423,\n",
       " 0.074653800837905349,\n",
       " 0.074663115899127858,\n",
       " 0.074667914450527395,\n",
       " 0.074676829379139983,\n",
       " 0.074684962641073036,\n",
       " 0.074703758872824738,\n",
       " 0.074724541749280324,\n",
       " 0.07473453048561618,\n",
       " 0.074749065182260627,\n",
       " 0.074772661164199047,\n",
       " 0.074783118490308317,\n",
       " 0.074864258593220212,\n",
       " 0.074888404320052768,\n",
       " 0.074895313928833251,\n",
       " 0.074913463834112376,\n",
       " 0.074976369466686982,\n",
       " 0.074977781954402328,\n",
       " 0.074999086847470253,\n",
       " 0.075026474478885469,\n",
       " 0.075028710640000218,\n",
       " 0.075042921556542158,\n",
       " 0.07504508290277434,\n",
       " 0.0750547064013979,\n",
       " 0.075088424549926092,\n",
       " 0.075102794990349234,\n",
       " 0.07511923428205719,\n",
       " 0.075146136671612837,\n",
       " 0.075155970827557719,\n",
       " 0.075158356984878522,\n",
       " 0.075171309678289944,\n",
       " 0.075185465134938539,\n",
       " 0.075188780856584883,\n",
       " 0.07519581328024523,\n",
       " 0.075206272542101757,\n",
       " 0.075207358687258363,\n",
       " 0.075211505282108071,\n",
       " 0.0752261715074488,\n",
       " 0.075231922650301319,\n",
       " 0.075282520463617081,\n",
       " 0.075307619250314886,\n",
       " 0.075326264687784833,\n",
       " 0.075338951609294949,\n",
       " 0.075385415197563421,\n",
       " 0.075396609238503803,\n",
       " 0.07540119494260715,\n",
       " 0.075403420486135311,\n",
       " 0.075492884124425022,\n",
       " 0.075514112277872636,\n",
       " 0.075518921595903149,\n",
       " 0.075524833302965999,\n",
       " 0.075547563826717692,\n",
       " 0.075577862164678683,\n",
       " 0.075605468053443828,\n",
       " 0.075605692685269191,\n",
       " 0.075636673880978722,\n",
       " 0.07563678305058967,\n",
       " 0.075656769611995495,\n",
       " 0.075669319389652087,\n",
       " 0.075681855961515776,\n",
       " 0.07568558635825251,\n",
       " 0.075693033740121582,\n",
       " 0.075695530045649842,\n",
       " 0.075695609549065165,\n",
       " 0.075705598924647843,\n",
       " 0.075747055720651546,\n",
       " 0.075761169203746384,\n",
       " 0.075797534439726685,\n",
       " 0.075802772058896253,\n",
       " 0.075803017171356193,\n",
       " 0.075845985892560752,\n",
       " 0.075850928899402245,\n",
       " 0.075857734000290528,\n",
       " 0.075861986323427041,\n",
       " 0.075875264613743013,\n",
       " 0.075879293635186543,\n",
       " 0.075880766099333127,\n",
       " 0.075888573642929183,\n",
       " 0.075918100430904467,\n",
       " 0.075926972251035993,\n",
       " 0.075949231959579339,\n",
       " 0.075965565677282396,\n",
       " 0.075972561215609843,\n",
       " 0.075987302284935651,\n",
       " 0.075987897539009336,\n",
       " 0.076033998425079061,\n",
       " 0.076044029187401788,\n",
       " 0.076113626782372032,\n",
       " 0.076134618944646737,\n",
       " 0.076160144697706281,\n",
       " 0.076164314911256373,\n",
       " 0.076191214766289053,\n",
       " 0.076203565067100507,\n",
       " 0.076208971962624106,\n",
       " 0.07625089236944356,\n",
       " 0.076251378643498971,\n",
       " 0.076258700172694677,\n",
       " 0.076280409102317426,\n",
       " 0.076306907333476476,\n",
       " 0.076312779414404716,\n",
       " 0.076321566382278647,\n",
       " 0.076324183762393819,\n",
       " 0.076362792896351922,\n",
       " 0.076370026447415432,\n",
       " 0.076380618903293604,\n",
       " 0.076438913208203063,\n",
       " 0.076467812729667572,\n",
       " 0.076471122668386085,\n",
       " 0.076516406717401064,\n",
       " 0.076529652328363271,\n",
       " 0.076559449306419655,\n",
       " 0.0765684373384794,\n",
       " 0.0765763492647797,\n",
       " 0.076583971246040966,\n",
       " 0.076590272817640637,\n",
       " 0.076591362187802672,\n",
       " 0.076620709820401631,\n",
       " 0.076626488334442577,\n",
       " 0.07667813260235036,\n",
       " 0.076684622083614165,\n",
       " 0.076686335251366464,\n",
       " 0.076751865069002986,\n",
       " 0.076775208778410195,\n",
       " 0.076781262092173314,\n",
       " 0.076787903591641907,\n",
       " 0.076792917356497334,\n",
       " 0.076861773170346814,\n",
       " 0.07686987349495765,\n",
       " 0.07691479699261812,\n",
       " 0.076937286352433326,\n",
       " 0.076951438999411162,\n",
       " 0.076983812446229691,\n",
       " 0.076993201337434342,\n",
       " 0.077004032160679123,\n",
       " 0.077006134521332328,\n",
       " 0.077045017392251045,\n",
       " 0.077059349586236323,\n",
       " 0.077103203905061632,\n",
       " 0.077116382979660253,\n",
       " 0.077121065424881965,\n",
       " 0.077174411831043122,\n",
       " 0.077175789521124083,\n",
       " 0.077199477675331016,\n",
       " 0.077254564950848675,\n",
       " 0.077263945025634301,\n",
       " 0.077321168586071604,\n",
       " 0.077329455924237678,\n",
       " 0.077353580474312164,\n",
       " 0.077381450951901604,\n",
       " 0.07738437844112904,\n",
       " 0.077423282385526773,\n",
       " 0.077474727294678553,\n",
       " 0.07748894170846829,\n",
       " 0.077538467991280946,\n",
       " 0.077582580370667009,\n",
       " 0.077610223024936198,\n",
       " 0.077636777298680459,\n",
       " 0.077724795727493634,\n",
       " 0.077732983502670647,\n",
       " 0.077769455141895164,\n",
       " 0.077788170415135194,\n",
       " 0.077901340865021096,\n",
       " 0.077946653522751361,\n",
       " 0.078001154340269718,\n",
       " 0.078036681850698772,\n",
       " 0.078126635614354303,\n",
       " 0.078219876419228673,\n",
       " 0.078254111838890306,\n",
       " 0.07826730744271089,\n",
       " 0.078352986334584512,\n",
       " 0.078366457556607497,\n",
       " 0.07837617609578916,\n",
       " 0.078464652696420042,\n",
       " 0.07850050365000133,\n",
       " 0.078539596725159033,\n",
       " 0.07855137536048902,\n",
       " 0.078742568832926144,\n",
       " 0.078765218158733677,\n",
       " 0.078844623718081333,\n",
       " 0.078853080681277374,\n",
       " 0.078876331655032716,\n",
       " 0.078899556851676086,\n",
       " 0.078919745090532567,\n",
       " 0.0789435352036396,\n",
       " 0.078985473900561473,\n",
       " 0.079158753714060739,\n",
       " 0.079172007858198862,\n",
       " 0.079270037800275833,\n",
       " 0.079276175992954515,\n",
       " 0.079288412232560002,\n",
       " 0.079315472538256701,\n",
       " 0.079328230513595818,\n",
       " 0.079376996120020082,\n",
       " 0.07946606619224994,\n",
       " 0.079472015506816054,\n",
       " 0.079505041772404833,\n",
       " 0.079542079247713379,\n",
       " 0.07963389555544402,\n",
       " 0.079642930961004901,\n",
       " 0.079654294282453589,\n",
       " 0.079753837962901891,\n",
       " 0.079838381319797772,\n",
       " 0.079884985998343594,\n",
       " 0.08006254751893431,\n",
       " 0.080194999239344034,\n",
       " 0.080333650978069063,\n",
       " 0.080334041085310878,\n",
       " 0.080439267373584505,\n",
       " 0.080440197451125531,\n",
       " 0.080460756024217414,\n",
       " 0.080579802767541897,\n",
       " 0.080703627452238705,\n",
       " 0.081048243659112465,\n",
       " 0.081154919912166709,\n",
       " 0.081292617197778957,\n",
       " 0.0816580550025955,\n",
       " 0.082054446156293606,\n",
       " 0.082511797305694703,\n",
       " 0.082561525662253499,\n",
       " 0.082971187906341559,\n",
       " 0.082971654457161412,\n",
       " 0.08299683608312676,\n",
       " 0.083193736772066734]"
      ]
     },
     "execution_count": 116,
     "metadata": {},
     "output_type": "execute_result"
    }
   ],
   "source": [
    "#Sorting the list of 500 mean absolute errors obtained by shuffling the data 500 times.\n",
    "m_a_errors.sort()\n",
    "m_a_errors\n",
    "pd.Dataframe(m_a_errors)\n"
   ]
  },
  {
   "cell_type": "code",
   "execution_count": 130,
   "metadata": {},
   "outputs": [],
   "source": [
    "sorted_permutation_df = pd.DataFrame(m_a_errors)\n"
   ]
  },
  {
   "cell_type": "code",
   "execution_count": 134,
   "metadata": {
    "scrolled": true
   },
   "outputs": [
    {
     "data": {
      "text/html": [
       "<div>\n",
       "<style>\n",
       "    .dataframe thead tr:only-child th {\n",
       "        text-align: right;\n",
       "    }\n",
       "\n",
       "    .dataframe thead th {\n",
       "        text-align: left;\n",
       "    }\n",
       "\n",
       "    .dataframe tbody tr th {\n",
       "        vertical-align: top;\n",
       "    }\n",
       "</style>\n",
       "<table border=\"1\" class=\"dataframe\">\n",
       "  <thead>\n",
       "    <tr style=\"text-align: right;\">\n",
       "      <th></th>\n",
       "      <th>0</th>\n",
       "    </tr>\n",
       "  </thead>\n",
       "  <tbody>\n",
       "    <tr>\n",
       "      <th>90</th>\n",
       "      <td>0.071104</td>\n",
       "    </tr>\n",
       "    <tr>\n",
       "      <th>91</th>\n",
       "      <td>0.071107</td>\n",
       "    </tr>\n",
       "    <tr>\n",
       "      <th>92</th>\n",
       "      <td>0.071122</td>\n",
       "    </tr>\n",
       "    <tr>\n",
       "      <th>93</th>\n",
       "      <td>0.071130</td>\n",
       "    </tr>\n",
       "    <tr>\n",
       "      <th>94</th>\n",
       "      <td>0.071145</td>\n",
       "    </tr>\n",
       "    <tr>\n",
       "      <th>95</th>\n",
       "      <td>0.071185</td>\n",
       "    </tr>\n",
       "    <tr>\n",
       "      <th>96</th>\n",
       "      <td>0.071192</td>\n",
       "    </tr>\n",
       "    <tr>\n",
       "      <th>97</th>\n",
       "      <td>0.071213</td>\n",
       "    </tr>\n",
       "    <tr>\n",
       "      <th>98</th>\n",
       "      <td>0.071214</td>\n",
       "    </tr>\n",
       "    <tr>\n",
       "      <th>99</th>\n",
       "      <td>0.071234</td>\n",
       "    </tr>\n",
       "    <tr>\n",
       "      <th>100</th>\n",
       "      <td>0.071285</td>\n",
       "    </tr>\n",
       "    <tr>\n",
       "      <th>101</th>\n",
       "      <td>0.071305</td>\n",
       "    </tr>\n",
       "    <tr>\n",
       "      <th>102</th>\n",
       "      <td>0.071318</td>\n",
       "    </tr>\n",
       "    <tr>\n",
       "      <th>103</th>\n",
       "      <td>0.071336</td>\n",
       "    </tr>\n",
       "    <tr>\n",
       "      <th>104</th>\n",
       "      <td>0.071338</td>\n",
       "    </tr>\n",
       "    <tr>\n",
       "      <th>105</th>\n",
       "      <td>0.071339</td>\n",
       "    </tr>\n",
       "    <tr>\n",
       "      <th>106</th>\n",
       "      <td>0.071360</td>\n",
       "    </tr>\n",
       "    <tr>\n",
       "      <th>107</th>\n",
       "      <td>0.071362</td>\n",
       "    </tr>\n",
       "    <tr>\n",
       "      <th>108</th>\n",
       "      <td>0.071377</td>\n",
       "    </tr>\n",
       "    <tr>\n",
       "      <th>109</th>\n",
       "      <td>0.071413</td>\n",
       "    </tr>\n",
       "    <tr>\n",
       "      <th>110</th>\n",
       "      <td>0.071418</td>\n",
       "    </tr>\n",
       "    <tr>\n",
       "      <th>111</th>\n",
       "      <td>0.071480</td>\n",
       "    </tr>\n",
       "    <tr>\n",
       "      <th>112</th>\n",
       "      <td>0.071496</td>\n",
       "    </tr>\n",
       "    <tr>\n",
       "      <th>113</th>\n",
       "      <td>0.071514</td>\n",
       "    </tr>\n",
       "    <tr>\n",
       "      <th>114</th>\n",
       "      <td>0.071570</td>\n",
       "    </tr>\n",
       "    <tr>\n",
       "      <th>115</th>\n",
       "      <td>0.071572</td>\n",
       "    </tr>\n",
       "    <tr>\n",
       "      <th>116</th>\n",
       "      <td>0.071575</td>\n",
       "    </tr>\n",
       "    <tr>\n",
       "      <th>117</th>\n",
       "      <td>0.071585</td>\n",
       "    </tr>\n",
       "    <tr>\n",
       "      <th>118</th>\n",
       "      <td>0.071610</td>\n",
       "    </tr>\n",
       "    <tr>\n",
       "      <th>119</th>\n",
       "      <td>0.071620</td>\n",
       "    </tr>\n",
       "    <tr>\n",
       "      <th>...</th>\n",
       "      <td>...</td>\n",
       "    </tr>\n",
       "    <tr>\n",
       "      <th>440</th>\n",
       "      <td>0.078001</td>\n",
       "    </tr>\n",
       "    <tr>\n",
       "      <th>441</th>\n",
       "      <td>0.078037</td>\n",
       "    </tr>\n",
       "    <tr>\n",
       "      <th>442</th>\n",
       "      <td>0.078127</td>\n",
       "    </tr>\n",
       "    <tr>\n",
       "      <th>443</th>\n",
       "      <td>0.078220</td>\n",
       "    </tr>\n",
       "    <tr>\n",
       "      <th>444</th>\n",
       "      <td>0.078254</td>\n",
       "    </tr>\n",
       "    <tr>\n",
       "      <th>445</th>\n",
       "      <td>0.078267</td>\n",
       "    </tr>\n",
       "    <tr>\n",
       "      <th>446</th>\n",
       "      <td>0.078353</td>\n",
       "    </tr>\n",
       "    <tr>\n",
       "      <th>447</th>\n",
       "      <td>0.078366</td>\n",
       "    </tr>\n",
       "    <tr>\n",
       "      <th>448</th>\n",
       "      <td>0.078376</td>\n",
       "    </tr>\n",
       "    <tr>\n",
       "      <th>449</th>\n",
       "      <td>0.078465</td>\n",
       "    </tr>\n",
       "    <tr>\n",
       "      <th>450</th>\n",
       "      <td>0.078501</td>\n",
       "    </tr>\n",
       "    <tr>\n",
       "      <th>451</th>\n",
       "      <td>0.078540</td>\n",
       "    </tr>\n",
       "    <tr>\n",
       "      <th>452</th>\n",
       "      <td>0.078551</td>\n",
       "    </tr>\n",
       "    <tr>\n",
       "      <th>453</th>\n",
       "      <td>0.078743</td>\n",
       "    </tr>\n",
       "    <tr>\n",
       "      <th>454</th>\n",
       "      <td>0.078765</td>\n",
       "    </tr>\n",
       "    <tr>\n",
       "      <th>455</th>\n",
       "      <td>0.078845</td>\n",
       "    </tr>\n",
       "    <tr>\n",
       "      <th>456</th>\n",
       "      <td>0.078853</td>\n",
       "    </tr>\n",
       "    <tr>\n",
       "      <th>457</th>\n",
       "      <td>0.078876</td>\n",
       "    </tr>\n",
       "    <tr>\n",
       "      <th>458</th>\n",
       "      <td>0.078900</td>\n",
       "    </tr>\n",
       "    <tr>\n",
       "      <th>459</th>\n",
       "      <td>0.078920</td>\n",
       "    </tr>\n",
       "    <tr>\n",
       "      <th>460</th>\n",
       "      <td>0.078944</td>\n",
       "    </tr>\n",
       "    <tr>\n",
       "      <th>461</th>\n",
       "      <td>0.078985</td>\n",
       "    </tr>\n",
       "    <tr>\n",
       "      <th>462</th>\n",
       "      <td>0.079159</td>\n",
       "    </tr>\n",
       "    <tr>\n",
       "      <th>463</th>\n",
       "      <td>0.079172</td>\n",
       "    </tr>\n",
       "    <tr>\n",
       "      <th>464</th>\n",
       "      <td>0.079270</td>\n",
       "    </tr>\n",
       "    <tr>\n",
       "      <th>465</th>\n",
       "      <td>0.079276</td>\n",
       "    </tr>\n",
       "    <tr>\n",
       "      <th>466</th>\n",
       "      <td>0.079288</td>\n",
       "    </tr>\n",
       "    <tr>\n",
       "      <th>467</th>\n",
       "      <td>0.079315</td>\n",
       "    </tr>\n",
       "    <tr>\n",
       "      <th>468</th>\n",
       "      <td>0.079328</td>\n",
       "    </tr>\n",
       "    <tr>\n",
       "      <th>469</th>\n",
       "      <td>0.079377</td>\n",
       "    </tr>\n",
       "  </tbody>\n",
       "</table>\n",
       "<p>380 rows × 1 columns</p>\n",
       "</div>"
      ],
      "text/plain": [
       "            0\n",
       "90   0.071104\n",
       "91   0.071107\n",
       "92   0.071122\n",
       "93   0.071130\n",
       "94   0.071145\n",
       "95   0.071185\n",
       "96   0.071192\n",
       "97   0.071213\n",
       "98   0.071214\n",
       "99   0.071234\n",
       "100  0.071285\n",
       "101  0.071305\n",
       "102  0.071318\n",
       "103  0.071336\n",
       "104  0.071338\n",
       "105  0.071339\n",
       "106  0.071360\n",
       "107  0.071362\n",
       "108  0.071377\n",
       "109  0.071413\n",
       "110  0.071418\n",
       "111  0.071480\n",
       "112  0.071496\n",
       "113  0.071514\n",
       "114  0.071570\n",
       "115  0.071572\n",
       "116  0.071575\n",
       "117  0.071585\n",
       "118  0.071610\n",
       "119  0.071620\n",
       "..        ...\n",
       "440  0.078001\n",
       "441  0.078037\n",
       "442  0.078127\n",
       "443  0.078220\n",
       "444  0.078254\n",
       "445  0.078267\n",
       "446  0.078353\n",
       "447  0.078366\n",
       "448  0.078376\n",
       "449  0.078465\n",
       "450  0.078501\n",
       "451  0.078540\n",
       "452  0.078551\n",
       "453  0.078743\n",
       "454  0.078765\n",
       "455  0.078845\n",
       "456  0.078853\n",
       "457  0.078876\n",
       "458  0.078900\n",
       "459  0.078920\n",
       "460  0.078944\n",
       "461  0.078985\n",
       "462  0.079159\n",
       "463  0.079172\n",
       "464  0.079270\n",
       "465  0.079276\n",
       "466  0.079288\n",
       "467  0.079315\n",
       "468  0.079328\n",
       "469  0.079377\n",
       "\n",
       "[380 rows x 1 columns]"
      ]
     },
     "execution_count": 134,
     "metadata": {},
     "output_type": "execute_result"
    }
   ],
   "source": [
    "sorted_permutation_df[90:470]"
   ]
  },
  {
   "cell_type": "code",
   "execution_count": 136,
   "metadata": {
    "collapsed": true
   },
   "outputs": [],
   "source": [
    "#The rank of the test statistic on the real data among the distribution of statistic values from random \n",
    "#permutations determines the significance level or p-value."
   ]
  },
  {
   "cell_type": "markdown",
   "metadata": {},
   "source": [
    "The mean absolute value for our actual data set is 0.07132, which falls on the rank 102 in the dataframe sorted in \n",
    "the order of mean absolute errors for 1 to 500 times shuffled data sets.\n",
    "rank = 102\n",
    "p value = 102/500"
   ]
  },
  {
   "cell_type": "code",
   "execution_count": 137,
   "metadata": {},
   "outputs": [],
   "source": [
    "#The fraction of permutations that produce error at least as good at the real data set\n"
   ]
  },
  {
   "cell_type": "markdown",
   "metadata": {},
   "source": [
    "The number of permutations that produced equal or better results than the real data set = 101\n",
    "fraction = 101/500"
   ]
  },
  {
   "cell_type": "code",
   "execution_count": null,
   "metadata": {
    "collapsed": true
   },
   "outputs": [],
   "source": []
  }
 ],
 "metadata": {
  "kernelspec": {
   "display_name": "Python 3",
   "language": "python",
   "name": "python3"
  },
  "language_info": {
   "codemirror_mode": {
    "name": "ipython",
    "version": 3
   },
   "file_extension": ".py",
   "mimetype": "text/x-python",
   "name": "python",
   "nbconvert_exporter": "python",
   "pygments_lexer": "ipython3",
   "version": "3.6.1"
  }
 },
 "nbformat": 4,
 "nbformat_minor": 2
}
